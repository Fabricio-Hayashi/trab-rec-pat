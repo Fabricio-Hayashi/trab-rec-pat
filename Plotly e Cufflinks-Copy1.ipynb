{
 "cells": [
  {
   "cell_type": "markdown",
   "metadata": {},
   "source": [
    "# Plotly e Cufflinks"
   ]
  },
  {
   "cell_type": "markdown",
   "metadata": {},
   "source": [
    "O Plotly é uma biblioteca que permite criar gráficos interativos que você pode usar em painéis ou sites (você pode salvá-los como arquivos html ou imagens estáticas).\n",
    "\n",
    "## Instalação\n",
    "\n",
    "Para que tudo funcione, você precisará instalar plotly e cufflinks para chamar plots diretamente de um DataFrame pandas. Essas bibliotecas não estão atualmente disponíveis através de ** conda **, mas estão disponíveis através de ** pip **. Instale as bibliotecas em sua linha de comando / terminal usando:\n",
    "\n",
    "    pip install plotly\n",
    "    pip install cufflinks\n",
    "\n",
    "** NOTA: Certifique-se de ter apenas uma instalação do Python no seu computador quando faz isso, caso contrário, a instalação pode não funcionar. **\n",
    "\n",
    "## Importações e Configuração"
   ]
  },
  {
   "cell_type": "code",
   "execution_count": 1,
   "metadata": {},
   "outputs": [],
   "source": [
    "import pandas as pd\n",
    "import numpy as np\n",
    "%matplotlib inline"
   ]
  },
  {
   "cell_type": "code",
   "execution_count": 2,
   "metadata": {},
   "outputs": [
    {
     "name": "stdout",
     "output_type": "stream",
     "text": [
      "4.3.0\n"
     ]
    }
   ],
   "source": [
    "from plotly import __version__\n",
    "from plotly.offline import download_plotlyjs, init_notebook_mode, plot, iplot\n",
    "\n",
    "print(__version__)"
   ]
  },
  {
   "cell_type": "code",
   "execution_count": 3,
   "metadata": {},
   "outputs": [],
   "source": [
    "import cufflinks as cf"
   ]
  },
  {
   "cell_type": "code",
   "execution_count": 4,
   "metadata": {},
   "outputs": [
    {
     "data": {
      "text/html": [
       "        <script type=\"text/javascript\">\n",
       "        window.PlotlyConfig = {MathJaxConfig: 'local'};\n",
       "        if (window.MathJax) {MathJax.Hub.Config({SVG: {font: \"STIX-Web\"}});}\n",
       "        if (typeof require !== 'undefined') {\n",
       "        require.undef(\"plotly\");\n",
       "        requirejs.config({\n",
       "            paths: {\n",
       "                'plotly': ['https://cdn.plot.ly/plotly-latest.min']\n",
       "            }\n",
       "        });\n",
       "        require(['plotly'], function(Plotly) {\n",
       "            window._Plotly = Plotly;\n",
       "        });\n",
       "        }\n",
       "        </script>\n",
       "        "
      ]
     },
     "metadata": {},
     "output_type": "display_data"
    }
   ],
   "source": [
    "# Para Notebooks\n",
    "init_notebook_mode(connected=True)"
   ]
  },
  {
   "cell_type": "code",
   "execution_count": 5,
   "metadata": {},
   "outputs": [
    {
     "data": {
      "text/html": [
       "        <script type=\"text/javascript\">\n",
       "        window.PlotlyConfig = {MathJaxConfig: 'local'};\n",
       "        if (window.MathJax) {MathJax.Hub.Config({SVG: {font: \"STIX-Web\"}});}\n",
       "        if (typeof require !== 'undefined') {\n",
       "        require.undef(\"plotly\");\n",
       "        requirejs.config({\n",
       "            paths: {\n",
       "                'plotly': ['https://cdn.plot.ly/plotly-latest.min']\n",
       "            }\n",
       "        });\n",
       "        require(['plotly'], function(Plotly) {\n",
       "            window._Plotly = Plotly;\n",
       "        });\n",
       "        }\n",
       "        </script>\n",
       "        "
      ]
     },
     "metadata": {},
     "output_type": "display_data"
    }
   ],
   "source": [
    "# For offline use\n",
    "cf.go_offline()"
   ]
  },
  {
   "cell_type": "markdown",
   "metadata": {},
   "source": [
    "### Dados forjados"
   ]
  },
  {
   "cell_type": "code",
   "execution_count": 6,
   "metadata": {},
   "outputs": [],
   "source": [
    "df = pd.DataFrame(np.random.randn(100,4),columns='A B C D'.split())"
   ]
  },
  {
   "cell_type": "code",
   "execution_count": 7,
   "metadata": {},
   "outputs": [
    {
     "data": {
      "text/html": [
       "<div>\n",
       "<style scoped>\n",
       "    .dataframe tbody tr th:only-of-type {\n",
       "        vertical-align: middle;\n",
       "    }\n",
       "\n",
       "    .dataframe tbody tr th {\n",
       "        vertical-align: top;\n",
       "    }\n",
       "\n",
       "    .dataframe thead th {\n",
       "        text-align: right;\n",
       "    }\n",
       "</style>\n",
       "<table border=\"1\" class=\"dataframe\">\n",
       "  <thead>\n",
       "    <tr style=\"text-align: right;\">\n",
       "      <th></th>\n",
       "      <th>A</th>\n",
       "      <th>B</th>\n",
       "      <th>C</th>\n",
       "      <th>D</th>\n",
       "    </tr>\n",
       "  </thead>\n",
       "  <tbody>\n",
       "    <tr>\n",
       "      <th>0</th>\n",
       "      <td>0.091962</td>\n",
       "      <td>-0.335906</td>\n",
       "      <td>-1.253298</td>\n",
       "      <td>1.015067</td>\n",
       "    </tr>\n",
       "    <tr>\n",
       "      <th>1</th>\n",
       "      <td>-0.221433</td>\n",
       "      <td>-0.443370</td>\n",
       "      <td>-1.087285</td>\n",
       "      <td>0.780180</td>\n",
       "    </tr>\n",
       "    <tr>\n",
       "      <th>2</th>\n",
       "      <td>1.692006</td>\n",
       "      <td>0.346536</td>\n",
       "      <td>0.281010</td>\n",
       "      <td>-0.480393</td>\n",
       "    </tr>\n",
       "    <tr>\n",
       "      <th>3</th>\n",
       "      <td>0.943107</td>\n",
       "      <td>0.880317</td>\n",
       "      <td>0.285728</td>\n",
       "      <td>0.605598</td>\n",
       "    </tr>\n",
       "    <tr>\n",
       "      <th>4</th>\n",
       "      <td>0.359442</td>\n",
       "      <td>0.288009</td>\n",
       "      <td>1.469877</td>\n",
       "      <td>1.008787</td>\n",
       "    </tr>\n",
       "  </tbody>\n",
       "</table>\n",
       "</div>"
      ],
      "text/plain": [
       "          A         B         C         D\n",
       "0  0.091962 -0.335906 -1.253298  1.015067\n",
       "1 -0.221433 -0.443370 -1.087285  0.780180\n",
       "2  1.692006  0.346536  0.281010 -0.480393\n",
       "3  0.943107  0.880317  0.285728  0.605598\n",
       "4  0.359442  0.288009  1.469877  1.008787"
      ]
     },
     "execution_count": 7,
     "metadata": {},
     "output_type": "execute_result"
    }
   ],
   "source": [
    "df.head()"
   ]
  },
  {
   "cell_type": "code",
   "execution_count": 8,
   "metadata": {},
   "outputs": [],
   "source": [
    "df2 = pd.DataFrame({'Categoria':['A','B','C'],'Valores':[32,43,50]})"
   ]
  },
  {
   "cell_type": "code",
   "execution_count": 10,
   "metadata": {},
   "outputs": [
    {
     "data": {
      "text/html": [
       "<div>\n",
       "<style scoped>\n",
       "    .dataframe tbody tr th:only-of-type {\n",
       "        vertical-align: middle;\n",
       "    }\n",
       "\n",
       "    .dataframe tbody tr th {\n",
       "        vertical-align: top;\n",
       "    }\n",
       "\n",
       "    .dataframe thead th {\n",
       "        text-align: right;\n",
       "    }\n",
       "</style>\n",
       "<table border=\"1\" class=\"dataframe\">\n",
       "  <thead>\n",
       "    <tr style=\"text-align: right;\">\n",
       "      <th></th>\n",
       "      <th>Categoria</th>\n",
       "      <th>Valores</th>\n",
       "    </tr>\n",
       "  </thead>\n",
       "  <tbody>\n",
       "    <tr>\n",
       "      <th>0</th>\n",
       "      <td>A</td>\n",
       "      <td>32</td>\n",
       "    </tr>\n",
       "    <tr>\n",
       "      <th>1</th>\n",
       "      <td>B</td>\n",
       "      <td>43</td>\n",
       "    </tr>\n",
       "    <tr>\n",
       "      <th>2</th>\n",
       "      <td>C</td>\n",
       "      <td>50</td>\n",
       "    </tr>\n",
       "  </tbody>\n",
       "</table>\n",
       "</div>"
      ],
      "text/plain": [
       "  Categoria  Valores\n",
       "0         A       32\n",
       "1         B       43\n",
       "2         C       50"
      ]
     },
     "execution_count": 10,
     "metadata": {},
     "output_type": "execute_result"
    }
   ],
   "source": [
    "df2.head()"
   ]
  },
  {
   "cell_type": "markdown",
   "metadata": {},
   "source": [
    "## Usando Cufflinks e iplot ()\n",
    "\n",
    "* Dispersão\n",
    "* Barras\n",
    "* BoxPlot\n",
    "* Spreads\n",
    "* Proporção\n",
    "* Mapa de calor\n",
    "* Superfícies 3D\n",
    "* Histograma\n",
    "* Bolha"
   ]
  },
  {
   "cell_type": "markdown",
   "metadata": {},
   "source": [
    "## Dispersão"
   ]
  },
  {
   "cell_type": "code",
   "execution_count": 11,
   "metadata": {},
   "outputs": [
    {
     "data": {
      "application/vnd.plotly.v1+json": {
       "config": {
        "linkText": "Export to plot.ly",
        "plotlyServerURL": "https://plot.ly",
        "showLink": true
       },
       "data": [
        {
         "line": {
          "color": "rgba(255, 153, 51, 1.0)",
          "dash": "solid",
          "shape": "linear",
          "width": 1.3
         },
         "marker": {
          "size": 10,
          "symbol": "circle"
         },
         "mode": "markers",
         "name": "B",
         "text": "",
         "type": "scatter",
         "x": [
          0.0919618728699051,
          -0.22143263970710958,
          1.6920061692431745,
          0.9431067925271498,
          0.3594422328619513,
          -0.6828184970650549,
          1.3477112305154917,
          -0.25654138522913494,
          -0.5500327799891596,
          -1.6427355514887694,
          0.8197944489201987,
          -0.9823742404275926,
          -0.7023441940871719,
          0.3420492232639261,
          0.3614086599960736,
          0.9320266717072684,
          0.24940799365624342,
          0.13501132347356098,
          1.7227186975205464,
          1.3028028631329955,
          1.4192000853142765,
          -1.4513472584243803,
          0.6653115648991531,
          0.6212126195957125,
          0.5203849348742722,
          1.1441801437913968,
          0.26324331968163056,
          0.14411448089116888,
          -0.24946884808245628,
          1.2004322807572958,
          -1.33371999712701,
          -1.303350385254543,
          -1.1923060843464355,
          0.218272069680675,
          1.1314974608828123,
          -0.5806652098094076,
          0.5057921370378858,
          0.6890842185174422,
          -0.8682418939632968,
          -0.9738931790805747,
          0.3024580947453506,
          0.5930160505461489,
          0.012493704873780407,
          0.06709321932891561,
          -0.11492440065381442,
          0.9745729681361173,
          -1.1762691951987503,
          0.8146389350431569,
          -0.12569002261219556,
          1.0119713501641898,
          -0.6321713722281166,
          0.4574766710618231,
          -0.6102904166172508,
          0.31641789575822027,
          0.9950217584217503,
          2.006296936240135,
          0.08490037596601381,
          0.052925187470997954,
          1.6438045388296836,
          0.2102712935016528,
          1.4467467102795866,
          -0.8757944378763092,
          0.15823619400094852,
          -1.417545673023298,
          -0.3400532293623823,
          1.2437715025007023,
          -0.7731750885178242,
          0.10291850051799534,
          -0.4336142340159738,
          1.5203031258436455,
          -0.034733446097376816,
          0.4410345083863978,
          0.3890827268596237,
          -0.8946559623109902,
          -0.003957006038530615,
          -0.27046157935920223,
          -0.35782137473497466,
          -1.729359505511331,
          1.7627956055760405,
          0.6392822708605644,
          0.5287036645533052,
          0.7950519326971078,
          1.5328580862628476,
          -0.5029302998523506,
          -0.7119366297274415,
          -0.7714058757418685,
          -0.7764735112899486,
          0.15235160520180058,
          0.10887281717687264,
          0.7941989455346967,
          0.4285636061112597,
          0.6190583066282419,
          0.91499081947152,
          -0.2932480122438687,
          -1.7409169425200517,
          2.733416114332795,
          -1.1754447067447311,
          -1.3793296225880705,
          -1.079092341670199,
          -0.7963535324749649
         ],
         "y": [
          -0.3359057780033205,
          -0.4433704710462687,
          0.3465360831123125,
          0.8803170742782787,
          0.288009036532479,
          1.8591582085492402,
          -0.5036424328286201,
          0.7731816011892556,
          -0.6592022646641865,
          1.1650207389240208,
          2.145286799985949,
          0.38318041888760507,
          0.3605136490201095,
          1.2879110751310086,
          0.3870941307195677,
          0.5175548648554993,
          0.13156406589182484,
          0.43726067978794136,
          -0.12406077464839853,
          -0.1584521578624045,
          1.8481676984545645,
          -0.6320254001344748,
          -0.547989679256849,
          -0.7345036188124198,
          -0.838599962443122,
          0.30565502397333477,
          -0.39286841571607833,
          0.12866234223048006,
          0.6671029123469577,
          -1.6506221833593462,
          0.4216935614574125,
          -1.2122340200334463,
          -0.11983788140959518,
          1.9826944376135154,
          1.3703099502731115,
          -1.2150177014024568,
          -0.9976729947573217,
          1.1507693794007992,
          1.3037737483808534,
          -0.27076012375835345,
          0.3866071574516572,
          -0.5107511196435172,
          -0.9168898492795453,
          1.1144615030404976,
          1.1470375704065499,
          0.1518813789372889,
          1.198620765530093,
          -1.079485781920071,
          0.7055827854010577,
          1.1297159187985248,
          -0.11696308792520638,
          -0.6076790190270548,
          -0.32567795806579464,
          -0.6659287720474008,
          1.0696737724187175,
          -0.161034988424284,
          1.1563498686847156,
          0.3866021466927583,
          0.272581455665236,
          -0.34368289428306015,
          -0.18384618137722683,
          -0.5012580084782411,
          -0.6724838243629148,
          0.7344331694237937,
          2.318770733800961,
          2.323045264573243,
          -0.5608271207087145,
          -1.184389077151462,
          0.008319037423178726,
          -1.096836380779569,
          -0.2424576969197716,
          0.538243146218403,
          -2.142972574782624,
          0.8974097458335817,
          -0.010318194682662218,
          -0.6581154280755355,
          1.522477800055998,
          -0.7579847427823956,
          0.05924636221836566,
          0.2190915527842804,
          -0.4867693553796768,
          0.3388177539269479,
          -0.8709481281967048,
          0.4532732220093141,
          -0.9850390012649825,
          0.06967424292427568,
          0.9013408725699227,
          -0.8889565263236228,
          -1.4953853400201986,
          1.2332004819013818,
          0.29559298373114473,
          0.997658383035107,
          0.18918967408095885,
          -0.051056244413894794,
          0.28797982555864904,
          0.5610032454866385,
          -1.7120942228348124,
          -1.5117097048745491,
          0.832181129054585,
          1.8344712732316908
         ]
        }
       ],
       "layout": {
        "legend": {
         "bgcolor": "#F5F6F9",
         "font": {
          "color": "#4D5663"
         }
        },
        "paper_bgcolor": "#F5F6F9",
        "plot_bgcolor": "#F5F6F9",
        "template": {
         "data": {
          "bar": [
           {
            "error_x": {
             "color": "#2a3f5f"
            },
            "error_y": {
             "color": "#2a3f5f"
            },
            "marker": {
             "line": {
              "color": "#E5ECF6",
              "width": 0.5
             }
            },
            "type": "bar"
           }
          ],
          "barpolar": [
           {
            "marker": {
             "line": {
              "color": "#E5ECF6",
              "width": 0.5
             }
            },
            "type": "barpolar"
           }
          ],
          "carpet": [
           {
            "aaxis": {
             "endlinecolor": "#2a3f5f",
             "gridcolor": "white",
             "linecolor": "white",
             "minorgridcolor": "white",
             "startlinecolor": "#2a3f5f"
            },
            "baxis": {
             "endlinecolor": "#2a3f5f",
             "gridcolor": "white",
             "linecolor": "white",
             "minorgridcolor": "white",
             "startlinecolor": "#2a3f5f"
            },
            "type": "carpet"
           }
          ],
          "choropleth": [
           {
            "colorbar": {
             "outlinewidth": 0,
             "ticks": ""
            },
            "type": "choropleth"
           }
          ],
          "contour": [
           {
            "colorbar": {
             "outlinewidth": 0,
             "ticks": ""
            },
            "colorscale": [
             [
              0,
              "#0d0887"
             ],
             [
              0.1111111111111111,
              "#46039f"
             ],
             [
              0.2222222222222222,
              "#7201a8"
             ],
             [
              0.3333333333333333,
              "#9c179e"
             ],
             [
              0.4444444444444444,
              "#bd3786"
             ],
             [
              0.5555555555555556,
              "#d8576b"
             ],
             [
              0.6666666666666666,
              "#ed7953"
             ],
             [
              0.7777777777777778,
              "#fb9f3a"
             ],
             [
              0.8888888888888888,
              "#fdca26"
             ],
             [
              1,
              "#f0f921"
             ]
            ],
            "type": "contour"
           }
          ],
          "contourcarpet": [
           {
            "colorbar": {
             "outlinewidth": 0,
             "ticks": ""
            },
            "type": "contourcarpet"
           }
          ],
          "heatmap": [
           {
            "colorbar": {
             "outlinewidth": 0,
             "ticks": ""
            },
            "colorscale": [
             [
              0,
              "#0d0887"
             ],
             [
              0.1111111111111111,
              "#46039f"
             ],
             [
              0.2222222222222222,
              "#7201a8"
             ],
             [
              0.3333333333333333,
              "#9c179e"
             ],
             [
              0.4444444444444444,
              "#bd3786"
             ],
             [
              0.5555555555555556,
              "#d8576b"
             ],
             [
              0.6666666666666666,
              "#ed7953"
             ],
             [
              0.7777777777777778,
              "#fb9f3a"
             ],
             [
              0.8888888888888888,
              "#fdca26"
             ],
             [
              1,
              "#f0f921"
             ]
            ],
            "type": "heatmap"
           }
          ],
          "heatmapgl": [
           {
            "colorbar": {
             "outlinewidth": 0,
             "ticks": ""
            },
            "colorscale": [
             [
              0,
              "#0d0887"
             ],
             [
              0.1111111111111111,
              "#46039f"
             ],
             [
              0.2222222222222222,
              "#7201a8"
             ],
             [
              0.3333333333333333,
              "#9c179e"
             ],
             [
              0.4444444444444444,
              "#bd3786"
             ],
             [
              0.5555555555555556,
              "#d8576b"
             ],
             [
              0.6666666666666666,
              "#ed7953"
             ],
             [
              0.7777777777777778,
              "#fb9f3a"
             ],
             [
              0.8888888888888888,
              "#fdca26"
             ],
             [
              1,
              "#f0f921"
             ]
            ],
            "type": "heatmapgl"
           }
          ],
          "histogram": [
           {
            "marker": {
             "colorbar": {
              "outlinewidth": 0,
              "ticks": ""
             }
            },
            "type": "histogram"
           }
          ],
          "histogram2d": [
           {
            "colorbar": {
             "outlinewidth": 0,
             "ticks": ""
            },
            "colorscale": [
             [
              0,
              "#0d0887"
             ],
             [
              0.1111111111111111,
              "#46039f"
             ],
             [
              0.2222222222222222,
              "#7201a8"
             ],
             [
              0.3333333333333333,
              "#9c179e"
             ],
             [
              0.4444444444444444,
              "#bd3786"
             ],
             [
              0.5555555555555556,
              "#d8576b"
             ],
             [
              0.6666666666666666,
              "#ed7953"
             ],
             [
              0.7777777777777778,
              "#fb9f3a"
             ],
             [
              0.8888888888888888,
              "#fdca26"
             ],
             [
              1,
              "#f0f921"
             ]
            ],
            "type": "histogram2d"
           }
          ],
          "histogram2dcontour": [
           {
            "colorbar": {
             "outlinewidth": 0,
             "ticks": ""
            },
            "colorscale": [
             [
              0,
              "#0d0887"
             ],
             [
              0.1111111111111111,
              "#46039f"
             ],
             [
              0.2222222222222222,
              "#7201a8"
             ],
             [
              0.3333333333333333,
              "#9c179e"
             ],
             [
              0.4444444444444444,
              "#bd3786"
             ],
             [
              0.5555555555555556,
              "#d8576b"
             ],
             [
              0.6666666666666666,
              "#ed7953"
             ],
             [
              0.7777777777777778,
              "#fb9f3a"
             ],
             [
              0.8888888888888888,
              "#fdca26"
             ],
             [
              1,
              "#f0f921"
             ]
            ],
            "type": "histogram2dcontour"
           }
          ],
          "mesh3d": [
           {
            "colorbar": {
             "outlinewidth": 0,
             "ticks": ""
            },
            "type": "mesh3d"
           }
          ],
          "parcoords": [
           {
            "line": {
             "colorbar": {
              "outlinewidth": 0,
              "ticks": ""
             }
            },
            "type": "parcoords"
           }
          ],
          "pie": [
           {
            "automargin": true,
            "type": "pie"
           }
          ],
          "scatter": [
           {
            "marker": {
             "colorbar": {
              "outlinewidth": 0,
              "ticks": ""
             }
            },
            "type": "scatter"
           }
          ],
          "scatter3d": [
           {
            "line": {
             "colorbar": {
              "outlinewidth": 0,
              "ticks": ""
             }
            },
            "marker": {
             "colorbar": {
              "outlinewidth": 0,
              "ticks": ""
             }
            },
            "type": "scatter3d"
           }
          ],
          "scattercarpet": [
           {
            "marker": {
             "colorbar": {
              "outlinewidth": 0,
              "ticks": ""
             }
            },
            "type": "scattercarpet"
           }
          ],
          "scattergeo": [
           {
            "marker": {
             "colorbar": {
              "outlinewidth": 0,
              "ticks": ""
             }
            },
            "type": "scattergeo"
           }
          ],
          "scattergl": [
           {
            "marker": {
             "colorbar": {
              "outlinewidth": 0,
              "ticks": ""
             }
            },
            "type": "scattergl"
           }
          ],
          "scattermapbox": [
           {
            "marker": {
             "colorbar": {
              "outlinewidth": 0,
              "ticks": ""
             }
            },
            "type": "scattermapbox"
           }
          ],
          "scatterpolar": [
           {
            "marker": {
             "colorbar": {
              "outlinewidth": 0,
              "ticks": ""
             }
            },
            "type": "scatterpolar"
           }
          ],
          "scatterpolargl": [
           {
            "marker": {
             "colorbar": {
              "outlinewidth": 0,
              "ticks": ""
             }
            },
            "type": "scatterpolargl"
           }
          ],
          "scatterternary": [
           {
            "marker": {
             "colorbar": {
              "outlinewidth": 0,
              "ticks": ""
             }
            },
            "type": "scatterternary"
           }
          ],
          "surface": [
           {
            "colorbar": {
             "outlinewidth": 0,
             "ticks": ""
            },
            "colorscale": [
             [
              0,
              "#0d0887"
             ],
             [
              0.1111111111111111,
              "#46039f"
             ],
             [
              0.2222222222222222,
              "#7201a8"
             ],
             [
              0.3333333333333333,
              "#9c179e"
             ],
             [
              0.4444444444444444,
              "#bd3786"
             ],
             [
              0.5555555555555556,
              "#d8576b"
             ],
             [
              0.6666666666666666,
              "#ed7953"
             ],
             [
              0.7777777777777778,
              "#fb9f3a"
             ],
             [
              0.8888888888888888,
              "#fdca26"
             ],
             [
              1,
              "#f0f921"
             ]
            ],
            "type": "surface"
           }
          ],
          "table": [
           {
            "cells": {
             "fill": {
              "color": "#EBF0F8"
             },
             "line": {
              "color": "white"
             }
            },
            "header": {
             "fill": {
              "color": "#C8D4E3"
             },
             "line": {
              "color": "white"
             }
            },
            "type": "table"
           }
          ]
         },
         "layout": {
          "annotationdefaults": {
           "arrowcolor": "#2a3f5f",
           "arrowhead": 0,
           "arrowwidth": 1
          },
          "coloraxis": {
           "colorbar": {
            "outlinewidth": 0,
            "ticks": ""
           }
          },
          "colorscale": {
           "diverging": [
            [
             0,
             "#8e0152"
            ],
            [
             0.1,
             "#c51b7d"
            ],
            [
             0.2,
             "#de77ae"
            ],
            [
             0.3,
             "#f1b6da"
            ],
            [
             0.4,
             "#fde0ef"
            ],
            [
             0.5,
             "#f7f7f7"
            ],
            [
             0.6,
             "#e6f5d0"
            ],
            [
             0.7,
             "#b8e186"
            ],
            [
             0.8,
             "#7fbc41"
            ],
            [
             0.9,
             "#4d9221"
            ],
            [
             1,
             "#276419"
            ]
           ],
           "sequential": [
            [
             0,
             "#0d0887"
            ],
            [
             0.1111111111111111,
             "#46039f"
            ],
            [
             0.2222222222222222,
             "#7201a8"
            ],
            [
             0.3333333333333333,
             "#9c179e"
            ],
            [
             0.4444444444444444,
             "#bd3786"
            ],
            [
             0.5555555555555556,
             "#d8576b"
            ],
            [
             0.6666666666666666,
             "#ed7953"
            ],
            [
             0.7777777777777778,
             "#fb9f3a"
            ],
            [
             0.8888888888888888,
             "#fdca26"
            ],
            [
             1,
             "#f0f921"
            ]
           ],
           "sequentialminus": [
            [
             0,
             "#0d0887"
            ],
            [
             0.1111111111111111,
             "#46039f"
            ],
            [
             0.2222222222222222,
             "#7201a8"
            ],
            [
             0.3333333333333333,
             "#9c179e"
            ],
            [
             0.4444444444444444,
             "#bd3786"
            ],
            [
             0.5555555555555556,
             "#d8576b"
            ],
            [
             0.6666666666666666,
             "#ed7953"
            ],
            [
             0.7777777777777778,
             "#fb9f3a"
            ],
            [
             0.8888888888888888,
             "#fdca26"
            ],
            [
             1,
             "#f0f921"
            ]
           ]
          },
          "colorway": [
           "#636efa",
           "#EF553B",
           "#00cc96",
           "#ab63fa",
           "#FFA15A",
           "#19d3f3",
           "#FF6692",
           "#B6E880",
           "#FF97FF",
           "#FECB52"
          ],
          "font": {
           "color": "#2a3f5f"
          },
          "geo": {
           "bgcolor": "white",
           "lakecolor": "white",
           "landcolor": "#E5ECF6",
           "showlakes": true,
           "showland": true,
           "subunitcolor": "white"
          },
          "hoverlabel": {
           "align": "left"
          },
          "hovermode": "closest",
          "mapbox": {
           "style": "light"
          },
          "paper_bgcolor": "white",
          "plot_bgcolor": "#E5ECF6",
          "polar": {
           "angularaxis": {
            "gridcolor": "white",
            "linecolor": "white",
            "ticks": ""
           },
           "bgcolor": "#E5ECF6",
           "radialaxis": {
            "gridcolor": "white",
            "linecolor": "white",
            "ticks": ""
           }
          },
          "scene": {
           "xaxis": {
            "backgroundcolor": "#E5ECF6",
            "gridcolor": "white",
            "gridwidth": 2,
            "linecolor": "white",
            "showbackground": true,
            "ticks": "",
            "zerolinecolor": "white"
           },
           "yaxis": {
            "backgroundcolor": "#E5ECF6",
            "gridcolor": "white",
            "gridwidth": 2,
            "linecolor": "white",
            "showbackground": true,
            "ticks": "",
            "zerolinecolor": "white"
           },
           "zaxis": {
            "backgroundcolor": "#E5ECF6",
            "gridcolor": "white",
            "gridwidth": 2,
            "linecolor": "white",
            "showbackground": true,
            "ticks": "",
            "zerolinecolor": "white"
           }
          },
          "shapedefaults": {
           "line": {
            "color": "#2a3f5f"
           }
          },
          "ternary": {
           "aaxis": {
            "gridcolor": "white",
            "linecolor": "white",
            "ticks": ""
           },
           "baxis": {
            "gridcolor": "white",
            "linecolor": "white",
            "ticks": ""
           },
           "bgcolor": "#E5ECF6",
           "caxis": {
            "gridcolor": "white",
            "linecolor": "white",
            "ticks": ""
           }
          },
          "title": {
           "x": 0.05
          },
          "xaxis": {
           "automargin": true,
           "gridcolor": "white",
           "linecolor": "white",
           "ticks": "",
           "title": {
            "standoff": 15
           },
           "zerolinecolor": "white",
           "zerolinewidth": 2
          },
          "yaxis": {
           "automargin": true,
           "gridcolor": "white",
           "linecolor": "white",
           "ticks": "",
           "title": {
            "standoff": 15
           },
           "zerolinecolor": "white",
           "zerolinewidth": 2
          }
         }
        },
        "title": {
         "font": {
          "color": "#4D5663"
         }
        },
        "xaxis": {
         "gridcolor": "#E1E5ED",
         "showgrid": true,
         "tickfont": {
          "color": "#4D5663"
         },
         "title": {
          "font": {
           "color": "#4D5663"
          },
          "text": ""
         },
         "zerolinecolor": "#E1E5ED"
        },
        "yaxis": {
         "gridcolor": "#E1E5ED",
         "showgrid": true,
         "tickfont": {
          "color": "#4D5663"
         },
         "title": {
          "font": {
           "color": "#4D5663"
          },
          "text": ""
         },
         "zerolinecolor": "#E1E5ED"
        }
       }
      },
      "text/html": [
       "<div>\n",
       "        \n",
       "        \n",
       "            <div id=\"872d6901-9e20-462b-95c0-2842fb9a8f98\" class=\"plotly-graph-div\" style=\"height:525px; width:100%;\"></div>\n",
       "            <script type=\"text/javascript\">\n",
       "                require([\"plotly\"], function(Plotly) {\n",
       "                    window.PLOTLYENV=window.PLOTLYENV || {};\n",
       "                    window.PLOTLYENV.BASE_URL='https://plot.ly';\n",
       "                    \n",
       "                if (document.getElementById(\"872d6901-9e20-462b-95c0-2842fb9a8f98\")) {\n",
       "                    Plotly.newPlot(\n",
       "                        '872d6901-9e20-462b-95c0-2842fb9a8f98',\n",
       "                        [{\"line\": {\"color\": \"rgba(255, 153, 51, 1.0)\", \"dash\": \"solid\", \"shape\": \"linear\", \"width\": 1.3}, \"marker\": {\"size\": 10, \"symbol\": \"circle\"}, \"mode\": \"markers\", \"name\": \"B\", \"text\": \"\", \"type\": \"scatter\", \"x\": [0.0919618728699051, -0.22143263970710958, 1.6920061692431745, 0.9431067925271498, 0.3594422328619513, -0.6828184970650549, 1.3477112305154917, -0.25654138522913494, -0.5500327799891596, -1.6427355514887694, 0.8197944489201987, -0.9823742404275926, -0.7023441940871719, 0.3420492232639261, 0.3614086599960736, 0.9320266717072684, 0.24940799365624342, 0.13501132347356098, 1.7227186975205464, 1.3028028631329955, 1.4192000853142765, -1.4513472584243803, 0.6653115648991531, 0.6212126195957125, 0.5203849348742722, 1.1441801437913968, 0.26324331968163056, 0.14411448089116888, -0.24946884808245628, 1.2004322807572958, -1.33371999712701, -1.303350385254543, -1.1923060843464355, 0.218272069680675, 1.1314974608828123, -0.5806652098094076, 0.5057921370378858, 0.6890842185174422, -0.8682418939632968, -0.9738931790805747, 0.3024580947453506, 0.5930160505461489, 0.012493704873780407, 0.06709321932891561, -0.11492440065381442, 0.9745729681361173, -1.1762691951987503, 0.8146389350431569, -0.12569002261219556, 1.0119713501641898, -0.6321713722281166, 0.4574766710618231, -0.6102904166172508, 0.31641789575822027, 0.9950217584217503, 2.006296936240135, 0.08490037596601381, 0.052925187470997954, 1.6438045388296836, 0.2102712935016528, 1.4467467102795866, -0.8757944378763092, 0.15823619400094852, -1.417545673023298, -0.3400532293623823, 1.2437715025007023, -0.7731750885178242, 0.10291850051799534, -0.4336142340159738, 1.5203031258436455, -0.034733446097376816, 0.4410345083863978, 0.3890827268596237, -0.8946559623109902, -0.003957006038530615, -0.27046157935920223, -0.35782137473497466, -1.729359505511331, 1.7627956055760405, 0.6392822708605644, 0.5287036645533052, 0.7950519326971078, 1.5328580862628476, -0.5029302998523506, -0.7119366297274415, -0.7714058757418685, -0.7764735112899486, 0.15235160520180058, 0.10887281717687264, 0.7941989455346967, 0.4285636061112597, 0.6190583066282419, 0.91499081947152, -0.2932480122438687, -1.7409169425200517, 2.733416114332795, -1.1754447067447311, -1.3793296225880705, -1.079092341670199, -0.7963535324749649], \"y\": [-0.3359057780033205, -0.4433704710462687, 0.3465360831123125, 0.8803170742782787, 0.288009036532479, 1.8591582085492402, -0.5036424328286201, 0.7731816011892556, -0.6592022646641865, 1.1650207389240208, 2.145286799985949, 0.38318041888760507, 0.3605136490201095, 1.2879110751310086, 0.3870941307195677, 0.5175548648554993, 0.13156406589182484, 0.43726067978794136, -0.12406077464839853, -0.1584521578624045, 1.8481676984545645, -0.6320254001344748, -0.547989679256849, -0.7345036188124198, -0.838599962443122, 0.30565502397333477, -0.39286841571607833, 0.12866234223048006, 0.6671029123469577, -1.6506221833593462, 0.4216935614574125, -1.2122340200334463, -0.11983788140959518, 1.9826944376135154, 1.3703099502731115, -1.2150177014024568, -0.9976729947573217, 1.1507693794007992, 1.3037737483808534, -0.27076012375835345, 0.3866071574516572, -0.5107511196435172, -0.9168898492795453, 1.1144615030404976, 1.1470375704065499, 0.1518813789372889, 1.198620765530093, -1.079485781920071, 0.7055827854010577, 1.1297159187985248, -0.11696308792520638, -0.6076790190270548, -0.32567795806579464, -0.6659287720474008, 1.0696737724187175, -0.161034988424284, 1.1563498686847156, 0.3866021466927583, 0.272581455665236, -0.34368289428306015, -0.18384618137722683, -0.5012580084782411, -0.6724838243629148, 0.7344331694237937, 2.318770733800961, 2.323045264573243, -0.5608271207087145, -1.184389077151462, 0.008319037423178726, -1.096836380779569, -0.2424576969197716, 0.538243146218403, -2.142972574782624, 0.8974097458335817, -0.010318194682662218, -0.6581154280755355, 1.522477800055998, -0.7579847427823956, 0.05924636221836566, 0.2190915527842804, -0.4867693553796768, 0.3388177539269479, -0.8709481281967048, 0.4532732220093141, -0.9850390012649825, 0.06967424292427568, 0.9013408725699227, -0.8889565263236228, -1.4953853400201986, 1.2332004819013818, 0.29559298373114473, 0.997658383035107, 0.18918967408095885, -0.051056244413894794, 0.28797982555864904, 0.5610032454866385, -1.7120942228348124, -1.5117097048745491, 0.832181129054585, 1.8344712732316908]}],\n",
       "                        {\"legend\": {\"bgcolor\": \"#F5F6F9\", \"font\": {\"color\": \"#4D5663\"}}, \"paper_bgcolor\": \"#F5F6F9\", \"plot_bgcolor\": \"#F5F6F9\", \"template\": {\"data\": {\"bar\": [{\"error_x\": {\"color\": \"#2a3f5f\"}, \"error_y\": {\"color\": \"#2a3f5f\"}, \"marker\": {\"line\": {\"color\": \"#E5ECF6\", \"width\": 0.5}}, \"type\": \"bar\"}], \"barpolar\": [{\"marker\": {\"line\": {\"color\": \"#E5ECF6\", \"width\": 0.5}}, \"type\": \"barpolar\"}], \"carpet\": [{\"aaxis\": {\"endlinecolor\": \"#2a3f5f\", \"gridcolor\": \"white\", \"linecolor\": \"white\", \"minorgridcolor\": \"white\", \"startlinecolor\": \"#2a3f5f\"}, \"baxis\": {\"endlinecolor\": \"#2a3f5f\", \"gridcolor\": \"white\", \"linecolor\": \"white\", \"minorgridcolor\": \"white\", \"startlinecolor\": \"#2a3f5f\"}, \"type\": \"carpet\"}], \"choropleth\": [{\"colorbar\": {\"outlinewidth\": 0, \"ticks\": \"\"}, \"type\": \"choropleth\"}], \"contour\": [{\"colorbar\": {\"outlinewidth\": 0, \"ticks\": \"\"}, \"colorscale\": [[0.0, \"#0d0887\"], [0.1111111111111111, \"#46039f\"], [0.2222222222222222, \"#7201a8\"], [0.3333333333333333, \"#9c179e\"], [0.4444444444444444, \"#bd3786\"], [0.5555555555555556, \"#d8576b\"], [0.6666666666666666, \"#ed7953\"], [0.7777777777777778, \"#fb9f3a\"], [0.8888888888888888, \"#fdca26\"], [1.0, \"#f0f921\"]], \"type\": \"contour\"}], \"contourcarpet\": [{\"colorbar\": {\"outlinewidth\": 0, \"ticks\": \"\"}, \"type\": \"contourcarpet\"}], \"heatmap\": [{\"colorbar\": {\"outlinewidth\": 0, \"ticks\": \"\"}, \"colorscale\": [[0.0, \"#0d0887\"], [0.1111111111111111, \"#46039f\"], [0.2222222222222222, \"#7201a8\"], [0.3333333333333333, \"#9c179e\"], [0.4444444444444444, \"#bd3786\"], [0.5555555555555556, \"#d8576b\"], [0.6666666666666666, \"#ed7953\"], [0.7777777777777778, \"#fb9f3a\"], [0.8888888888888888, \"#fdca26\"], [1.0, \"#f0f921\"]], \"type\": \"heatmap\"}], \"heatmapgl\": [{\"colorbar\": {\"outlinewidth\": 0, \"ticks\": \"\"}, \"colorscale\": [[0.0, \"#0d0887\"], [0.1111111111111111, \"#46039f\"], [0.2222222222222222, \"#7201a8\"], [0.3333333333333333, \"#9c179e\"], [0.4444444444444444, \"#bd3786\"], [0.5555555555555556, \"#d8576b\"], [0.6666666666666666, \"#ed7953\"], [0.7777777777777778, \"#fb9f3a\"], [0.8888888888888888, \"#fdca26\"], [1.0, \"#f0f921\"]], \"type\": \"heatmapgl\"}], \"histogram\": [{\"marker\": {\"colorbar\": {\"outlinewidth\": 0, \"ticks\": \"\"}}, \"type\": \"histogram\"}], \"histogram2d\": [{\"colorbar\": {\"outlinewidth\": 0, \"ticks\": \"\"}, \"colorscale\": [[0.0, \"#0d0887\"], [0.1111111111111111, \"#46039f\"], [0.2222222222222222, \"#7201a8\"], [0.3333333333333333, \"#9c179e\"], [0.4444444444444444, \"#bd3786\"], [0.5555555555555556, \"#d8576b\"], [0.6666666666666666, \"#ed7953\"], [0.7777777777777778, \"#fb9f3a\"], [0.8888888888888888, \"#fdca26\"], [1.0, \"#f0f921\"]], \"type\": \"histogram2d\"}], \"histogram2dcontour\": [{\"colorbar\": {\"outlinewidth\": 0, \"ticks\": \"\"}, \"colorscale\": [[0.0, \"#0d0887\"], [0.1111111111111111, \"#46039f\"], [0.2222222222222222, \"#7201a8\"], [0.3333333333333333, \"#9c179e\"], [0.4444444444444444, \"#bd3786\"], [0.5555555555555556, \"#d8576b\"], [0.6666666666666666, \"#ed7953\"], [0.7777777777777778, \"#fb9f3a\"], [0.8888888888888888, \"#fdca26\"], [1.0, \"#f0f921\"]], \"type\": \"histogram2dcontour\"}], \"mesh3d\": [{\"colorbar\": {\"outlinewidth\": 0, \"ticks\": \"\"}, \"type\": \"mesh3d\"}], \"parcoords\": [{\"line\": {\"colorbar\": {\"outlinewidth\": 0, \"ticks\": \"\"}}, \"type\": \"parcoords\"}], \"pie\": [{\"automargin\": true, \"type\": \"pie\"}], \"scatter\": [{\"marker\": {\"colorbar\": {\"outlinewidth\": 0, \"ticks\": \"\"}}, \"type\": \"scatter\"}], \"scatter3d\": [{\"line\": {\"colorbar\": {\"outlinewidth\": 0, \"ticks\": \"\"}}, \"marker\": {\"colorbar\": {\"outlinewidth\": 0, \"ticks\": \"\"}}, \"type\": \"scatter3d\"}], \"scattercarpet\": [{\"marker\": {\"colorbar\": {\"outlinewidth\": 0, \"ticks\": \"\"}}, \"type\": \"scattercarpet\"}], \"scattergeo\": [{\"marker\": {\"colorbar\": {\"outlinewidth\": 0, \"ticks\": \"\"}}, \"type\": \"scattergeo\"}], \"scattergl\": [{\"marker\": {\"colorbar\": {\"outlinewidth\": 0, \"ticks\": \"\"}}, \"type\": \"scattergl\"}], \"scattermapbox\": [{\"marker\": {\"colorbar\": {\"outlinewidth\": 0, \"ticks\": \"\"}}, \"type\": \"scattermapbox\"}], \"scatterpolar\": [{\"marker\": {\"colorbar\": {\"outlinewidth\": 0, \"ticks\": \"\"}}, \"type\": \"scatterpolar\"}], \"scatterpolargl\": [{\"marker\": {\"colorbar\": {\"outlinewidth\": 0, \"ticks\": \"\"}}, \"type\": \"scatterpolargl\"}], \"scatterternary\": [{\"marker\": {\"colorbar\": {\"outlinewidth\": 0, \"ticks\": \"\"}}, \"type\": \"scatterternary\"}], \"surface\": [{\"colorbar\": {\"outlinewidth\": 0, \"ticks\": \"\"}, \"colorscale\": [[0.0, \"#0d0887\"], [0.1111111111111111, \"#46039f\"], [0.2222222222222222, \"#7201a8\"], [0.3333333333333333, \"#9c179e\"], [0.4444444444444444, \"#bd3786\"], [0.5555555555555556, \"#d8576b\"], [0.6666666666666666, \"#ed7953\"], [0.7777777777777778, \"#fb9f3a\"], [0.8888888888888888, \"#fdca26\"], [1.0, \"#f0f921\"]], \"type\": \"surface\"}], \"table\": [{\"cells\": {\"fill\": {\"color\": \"#EBF0F8\"}, \"line\": {\"color\": \"white\"}}, \"header\": {\"fill\": {\"color\": \"#C8D4E3\"}, \"line\": {\"color\": \"white\"}}, \"type\": \"table\"}]}, \"layout\": {\"annotationdefaults\": {\"arrowcolor\": \"#2a3f5f\", \"arrowhead\": 0, \"arrowwidth\": 1}, \"coloraxis\": {\"colorbar\": {\"outlinewidth\": 0, \"ticks\": \"\"}}, \"colorscale\": {\"diverging\": [[0, \"#8e0152\"], [0.1, \"#c51b7d\"], [0.2, \"#de77ae\"], [0.3, \"#f1b6da\"], [0.4, \"#fde0ef\"], [0.5, \"#f7f7f7\"], [0.6, \"#e6f5d0\"], [0.7, \"#b8e186\"], [0.8, \"#7fbc41\"], [0.9, \"#4d9221\"], [1, \"#276419\"]], \"sequential\": [[0.0, \"#0d0887\"], [0.1111111111111111, \"#46039f\"], [0.2222222222222222, \"#7201a8\"], [0.3333333333333333, \"#9c179e\"], [0.4444444444444444, \"#bd3786\"], [0.5555555555555556, \"#d8576b\"], [0.6666666666666666, \"#ed7953\"], [0.7777777777777778, \"#fb9f3a\"], [0.8888888888888888, \"#fdca26\"], [1.0, \"#f0f921\"]], \"sequentialminus\": [[0.0, \"#0d0887\"], [0.1111111111111111, \"#46039f\"], [0.2222222222222222, \"#7201a8\"], [0.3333333333333333, \"#9c179e\"], [0.4444444444444444, \"#bd3786\"], [0.5555555555555556, \"#d8576b\"], [0.6666666666666666, \"#ed7953\"], [0.7777777777777778, \"#fb9f3a\"], [0.8888888888888888, \"#fdca26\"], [1.0, \"#f0f921\"]]}, \"colorway\": [\"#636efa\", \"#EF553B\", \"#00cc96\", \"#ab63fa\", \"#FFA15A\", \"#19d3f3\", \"#FF6692\", \"#B6E880\", \"#FF97FF\", \"#FECB52\"], \"font\": {\"color\": \"#2a3f5f\"}, \"geo\": {\"bgcolor\": \"white\", \"lakecolor\": \"white\", \"landcolor\": \"#E5ECF6\", \"showlakes\": true, \"showland\": true, \"subunitcolor\": \"white\"}, \"hoverlabel\": {\"align\": \"left\"}, \"hovermode\": \"closest\", \"mapbox\": {\"style\": \"light\"}, \"paper_bgcolor\": \"white\", \"plot_bgcolor\": \"#E5ECF6\", \"polar\": {\"angularaxis\": {\"gridcolor\": \"white\", \"linecolor\": \"white\", \"ticks\": \"\"}, \"bgcolor\": \"#E5ECF6\", \"radialaxis\": {\"gridcolor\": \"white\", \"linecolor\": \"white\", \"ticks\": \"\"}}, \"scene\": {\"xaxis\": {\"backgroundcolor\": \"#E5ECF6\", \"gridcolor\": \"white\", \"gridwidth\": 2, \"linecolor\": \"white\", \"showbackground\": true, \"ticks\": \"\", \"zerolinecolor\": \"white\"}, \"yaxis\": {\"backgroundcolor\": \"#E5ECF6\", \"gridcolor\": \"white\", \"gridwidth\": 2, \"linecolor\": \"white\", \"showbackground\": true, \"ticks\": \"\", \"zerolinecolor\": \"white\"}, \"zaxis\": {\"backgroundcolor\": \"#E5ECF6\", \"gridcolor\": \"white\", \"gridwidth\": 2, \"linecolor\": \"white\", \"showbackground\": true, \"ticks\": \"\", \"zerolinecolor\": \"white\"}}, \"shapedefaults\": {\"line\": {\"color\": \"#2a3f5f\"}}, \"ternary\": {\"aaxis\": {\"gridcolor\": \"white\", \"linecolor\": \"white\", \"ticks\": \"\"}, \"baxis\": {\"gridcolor\": \"white\", \"linecolor\": \"white\", \"ticks\": \"\"}, \"bgcolor\": \"#E5ECF6\", \"caxis\": {\"gridcolor\": \"white\", \"linecolor\": \"white\", \"ticks\": \"\"}}, \"title\": {\"x\": 0.05}, \"xaxis\": {\"automargin\": true, \"gridcolor\": \"white\", \"linecolor\": \"white\", \"ticks\": \"\", \"title\": {\"standoff\": 15}, \"zerolinecolor\": \"white\", \"zerolinewidth\": 2}, \"yaxis\": {\"automargin\": true, \"gridcolor\": \"white\", \"linecolor\": \"white\", \"ticks\": \"\", \"title\": {\"standoff\": 15}, \"zerolinecolor\": \"white\", \"zerolinewidth\": 2}}}, \"title\": {\"font\": {\"color\": \"#4D5663\"}}, \"xaxis\": {\"gridcolor\": \"#E1E5ED\", \"showgrid\": true, \"tickfont\": {\"color\": \"#4D5663\"}, \"title\": {\"font\": {\"color\": \"#4D5663\"}, \"text\": \"\"}, \"zerolinecolor\": \"#E1E5ED\"}, \"yaxis\": {\"gridcolor\": \"#E1E5ED\", \"showgrid\": true, \"tickfont\": {\"color\": \"#4D5663\"}, \"title\": {\"font\": {\"color\": \"#4D5663\"}, \"text\": \"\"}, \"zerolinecolor\": \"#E1E5ED\"}},\n",
       "                        {\"showLink\": true, \"linkText\": \"Export to plot.ly\", \"plotlyServerURL\": \"https://plot.ly\", \"responsive\": true}\n",
       "                    ).then(function(){\n",
       "                            \n",
       "var gd = document.getElementById('872d6901-9e20-462b-95c0-2842fb9a8f98');\n",
       "var x = new MutationObserver(function (mutations, observer) {{\n",
       "        var display = window.getComputedStyle(gd).display;\n",
       "        if (!display || display === 'none') {{\n",
       "            console.log([gd, 'removed!']);\n",
       "            Plotly.purge(gd);\n",
       "            observer.disconnect();\n",
       "        }}\n",
       "}});\n",
       "\n",
       "// Listen for the removal of the full notebook cells\n",
       "var notebookContainer = gd.closest('#notebook-container');\n",
       "if (notebookContainer) {{\n",
       "    x.observe(notebookContainer, {childList: true});\n",
       "}}\n",
       "\n",
       "// Listen for the clearing of the current output cell\n",
       "var outputEl = gd.closest('.output');\n",
       "if (outputEl) {{\n",
       "    x.observe(outputEl, {childList: true});\n",
       "}}\n",
       "\n",
       "                        })\n",
       "                };\n",
       "                });\n",
       "            </script>\n",
       "        </div>"
      ]
     },
     "metadata": {},
     "output_type": "display_data"
    }
   ],
   "source": [
    "df.iplot(kind='scatter',x='A',y='B',mode='markers',size=10)"
   ]
  },
  {
   "cell_type": "markdown",
   "metadata": {},
   "source": [
    "## Plots de barra"
   ]
  },
  {
   "cell_type": "code",
   "execution_count": 12,
   "metadata": {},
   "outputs": [
    {
     "data": {
      "application/vnd.plotly.v1+json": {
       "config": {
        "linkText": "Export to plot.ly",
        "plotlyServerURL": "https://plot.ly",
        "showLink": true
       },
       "data": [
        {
         "marker": {
          "color": "rgba(255, 153, 51, 0.6)",
          "line": {
           "color": "rgba(255, 153, 51, 1.0)",
           "width": 1
          }
         },
         "name": "Valores",
         "orientation": "v",
         "text": "",
         "type": "bar",
         "x": [
          "A",
          "B",
          "C"
         ],
         "y": [
          32,
          43,
          50
         ]
        }
       ],
       "layout": {
        "legend": {
         "bgcolor": "#F5F6F9",
         "font": {
          "color": "#4D5663"
         }
        },
        "paper_bgcolor": "#F5F6F9",
        "plot_bgcolor": "#F5F6F9",
        "template": {
         "data": {
          "bar": [
           {
            "error_x": {
             "color": "#2a3f5f"
            },
            "error_y": {
             "color": "#2a3f5f"
            },
            "marker": {
             "line": {
              "color": "#E5ECF6",
              "width": 0.5
             }
            },
            "type": "bar"
           }
          ],
          "barpolar": [
           {
            "marker": {
             "line": {
              "color": "#E5ECF6",
              "width": 0.5
             }
            },
            "type": "barpolar"
           }
          ],
          "carpet": [
           {
            "aaxis": {
             "endlinecolor": "#2a3f5f",
             "gridcolor": "white",
             "linecolor": "white",
             "minorgridcolor": "white",
             "startlinecolor": "#2a3f5f"
            },
            "baxis": {
             "endlinecolor": "#2a3f5f",
             "gridcolor": "white",
             "linecolor": "white",
             "minorgridcolor": "white",
             "startlinecolor": "#2a3f5f"
            },
            "type": "carpet"
           }
          ],
          "choropleth": [
           {
            "colorbar": {
             "outlinewidth": 0,
             "ticks": ""
            },
            "type": "choropleth"
           }
          ],
          "contour": [
           {
            "colorbar": {
             "outlinewidth": 0,
             "ticks": ""
            },
            "colorscale": [
             [
              0,
              "#0d0887"
             ],
             [
              0.1111111111111111,
              "#46039f"
             ],
             [
              0.2222222222222222,
              "#7201a8"
             ],
             [
              0.3333333333333333,
              "#9c179e"
             ],
             [
              0.4444444444444444,
              "#bd3786"
             ],
             [
              0.5555555555555556,
              "#d8576b"
             ],
             [
              0.6666666666666666,
              "#ed7953"
             ],
             [
              0.7777777777777778,
              "#fb9f3a"
             ],
             [
              0.8888888888888888,
              "#fdca26"
             ],
             [
              1,
              "#f0f921"
             ]
            ],
            "type": "contour"
           }
          ],
          "contourcarpet": [
           {
            "colorbar": {
             "outlinewidth": 0,
             "ticks": ""
            },
            "type": "contourcarpet"
           }
          ],
          "heatmap": [
           {
            "colorbar": {
             "outlinewidth": 0,
             "ticks": ""
            },
            "colorscale": [
             [
              0,
              "#0d0887"
             ],
             [
              0.1111111111111111,
              "#46039f"
             ],
             [
              0.2222222222222222,
              "#7201a8"
             ],
             [
              0.3333333333333333,
              "#9c179e"
             ],
             [
              0.4444444444444444,
              "#bd3786"
             ],
             [
              0.5555555555555556,
              "#d8576b"
             ],
             [
              0.6666666666666666,
              "#ed7953"
             ],
             [
              0.7777777777777778,
              "#fb9f3a"
             ],
             [
              0.8888888888888888,
              "#fdca26"
             ],
             [
              1,
              "#f0f921"
             ]
            ],
            "type": "heatmap"
           }
          ],
          "heatmapgl": [
           {
            "colorbar": {
             "outlinewidth": 0,
             "ticks": ""
            },
            "colorscale": [
             [
              0,
              "#0d0887"
             ],
             [
              0.1111111111111111,
              "#46039f"
             ],
             [
              0.2222222222222222,
              "#7201a8"
             ],
             [
              0.3333333333333333,
              "#9c179e"
             ],
             [
              0.4444444444444444,
              "#bd3786"
             ],
             [
              0.5555555555555556,
              "#d8576b"
             ],
             [
              0.6666666666666666,
              "#ed7953"
             ],
             [
              0.7777777777777778,
              "#fb9f3a"
             ],
             [
              0.8888888888888888,
              "#fdca26"
             ],
             [
              1,
              "#f0f921"
             ]
            ],
            "type": "heatmapgl"
           }
          ],
          "histogram": [
           {
            "marker": {
             "colorbar": {
              "outlinewidth": 0,
              "ticks": ""
             }
            },
            "type": "histogram"
           }
          ],
          "histogram2d": [
           {
            "colorbar": {
             "outlinewidth": 0,
             "ticks": ""
            },
            "colorscale": [
             [
              0,
              "#0d0887"
             ],
             [
              0.1111111111111111,
              "#46039f"
             ],
             [
              0.2222222222222222,
              "#7201a8"
             ],
             [
              0.3333333333333333,
              "#9c179e"
             ],
             [
              0.4444444444444444,
              "#bd3786"
             ],
             [
              0.5555555555555556,
              "#d8576b"
             ],
             [
              0.6666666666666666,
              "#ed7953"
             ],
             [
              0.7777777777777778,
              "#fb9f3a"
             ],
             [
              0.8888888888888888,
              "#fdca26"
             ],
             [
              1,
              "#f0f921"
             ]
            ],
            "type": "histogram2d"
           }
          ],
          "histogram2dcontour": [
           {
            "colorbar": {
             "outlinewidth": 0,
             "ticks": ""
            },
            "colorscale": [
             [
              0,
              "#0d0887"
             ],
             [
              0.1111111111111111,
              "#46039f"
             ],
             [
              0.2222222222222222,
              "#7201a8"
             ],
             [
              0.3333333333333333,
              "#9c179e"
             ],
             [
              0.4444444444444444,
              "#bd3786"
             ],
             [
              0.5555555555555556,
              "#d8576b"
             ],
             [
              0.6666666666666666,
              "#ed7953"
             ],
             [
              0.7777777777777778,
              "#fb9f3a"
             ],
             [
              0.8888888888888888,
              "#fdca26"
             ],
             [
              1,
              "#f0f921"
             ]
            ],
            "type": "histogram2dcontour"
           }
          ],
          "mesh3d": [
           {
            "colorbar": {
             "outlinewidth": 0,
             "ticks": ""
            },
            "type": "mesh3d"
           }
          ],
          "parcoords": [
           {
            "line": {
             "colorbar": {
              "outlinewidth": 0,
              "ticks": ""
             }
            },
            "type": "parcoords"
           }
          ],
          "pie": [
           {
            "automargin": true,
            "type": "pie"
           }
          ],
          "scatter": [
           {
            "marker": {
             "colorbar": {
              "outlinewidth": 0,
              "ticks": ""
             }
            },
            "type": "scatter"
           }
          ],
          "scatter3d": [
           {
            "line": {
             "colorbar": {
              "outlinewidth": 0,
              "ticks": ""
             }
            },
            "marker": {
             "colorbar": {
              "outlinewidth": 0,
              "ticks": ""
             }
            },
            "type": "scatter3d"
           }
          ],
          "scattercarpet": [
           {
            "marker": {
             "colorbar": {
              "outlinewidth": 0,
              "ticks": ""
             }
            },
            "type": "scattercarpet"
           }
          ],
          "scattergeo": [
           {
            "marker": {
             "colorbar": {
              "outlinewidth": 0,
              "ticks": ""
             }
            },
            "type": "scattergeo"
           }
          ],
          "scattergl": [
           {
            "marker": {
             "colorbar": {
              "outlinewidth": 0,
              "ticks": ""
             }
            },
            "type": "scattergl"
           }
          ],
          "scattermapbox": [
           {
            "marker": {
             "colorbar": {
              "outlinewidth": 0,
              "ticks": ""
             }
            },
            "type": "scattermapbox"
           }
          ],
          "scatterpolar": [
           {
            "marker": {
             "colorbar": {
              "outlinewidth": 0,
              "ticks": ""
             }
            },
            "type": "scatterpolar"
           }
          ],
          "scatterpolargl": [
           {
            "marker": {
             "colorbar": {
              "outlinewidth": 0,
              "ticks": ""
             }
            },
            "type": "scatterpolargl"
           }
          ],
          "scatterternary": [
           {
            "marker": {
             "colorbar": {
              "outlinewidth": 0,
              "ticks": ""
             }
            },
            "type": "scatterternary"
           }
          ],
          "surface": [
           {
            "colorbar": {
             "outlinewidth": 0,
             "ticks": ""
            },
            "colorscale": [
             [
              0,
              "#0d0887"
             ],
             [
              0.1111111111111111,
              "#46039f"
             ],
             [
              0.2222222222222222,
              "#7201a8"
             ],
             [
              0.3333333333333333,
              "#9c179e"
             ],
             [
              0.4444444444444444,
              "#bd3786"
             ],
             [
              0.5555555555555556,
              "#d8576b"
             ],
             [
              0.6666666666666666,
              "#ed7953"
             ],
             [
              0.7777777777777778,
              "#fb9f3a"
             ],
             [
              0.8888888888888888,
              "#fdca26"
             ],
             [
              1,
              "#f0f921"
             ]
            ],
            "type": "surface"
           }
          ],
          "table": [
           {
            "cells": {
             "fill": {
              "color": "#EBF0F8"
             },
             "line": {
              "color": "white"
             }
            },
            "header": {
             "fill": {
              "color": "#C8D4E3"
             },
             "line": {
              "color": "white"
             }
            },
            "type": "table"
           }
          ]
         },
         "layout": {
          "annotationdefaults": {
           "arrowcolor": "#2a3f5f",
           "arrowhead": 0,
           "arrowwidth": 1
          },
          "coloraxis": {
           "colorbar": {
            "outlinewidth": 0,
            "ticks": ""
           }
          },
          "colorscale": {
           "diverging": [
            [
             0,
             "#8e0152"
            ],
            [
             0.1,
             "#c51b7d"
            ],
            [
             0.2,
             "#de77ae"
            ],
            [
             0.3,
             "#f1b6da"
            ],
            [
             0.4,
             "#fde0ef"
            ],
            [
             0.5,
             "#f7f7f7"
            ],
            [
             0.6,
             "#e6f5d0"
            ],
            [
             0.7,
             "#b8e186"
            ],
            [
             0.8,
             "#7fbc41"
            ],
            [
             0.9,
             "#4d9221"
            ],
            [
             1,
             "#276419"
            ]
           ],
           "sequential": [
            [
             0,
             "#0d0887"
            ],
            [
             0.1111111111111111,
             "#46039f"
            ],
            [
             0.2222222222222222,
             "#7201a8"
            ],
            [
             0.3333333333333333,
             "#9c179e"
            ],
            [
             0.4444444444444444,
             "#bd3786"
            ],
            [
             0.5555555555555556,
             "#d8576b"
            ],
            [
             0.6666666666666666,
             "#ed7953"
            ],
            [
             0.7777777777777778,
             "#fb9f3a"
            ],
            [
             0.8888888888888888,
             "#fdca26"
            ],
            [
             1,
             "#f0f921"
            ]
           ],
           "sequentialminus": [
            [
             0,
             "#0d0887"
            ],
            [
             0.1111111111111111,
             "#46039f"
            ],
            [
             0.2222222222222222,
             "#7201a8"
            ],
            [
             0.3333333333333333,
             "#9c179e"
            ],
            [
             0.4444444444444444,
             "#bd3786"
            ],
            [
             0.5555555555555556,
             "#d8576b"
            ],
            [
             0.6666666666666666,
             "#ed7953"
            ],
            [
             0.7777777777777778,
             "#fb9f3a"
            ],
            [
             0.8888888888888888,
             "#fdca26"
            ],
            [
             1,
             "#f0f921"
            ]
           ]
          },
          "colorway": [
           "#636efa",
           "#EF553B",
           "#00cc96",
           "#ab63fa",
           "#FFA15A",
           "#19d3f3",
           "#FF6692",
           "#B6E880",
           "#FF97FF",
           "#FECB52"
          ],
          "font": {
           "color": "#2a3f5f"
          },
          "geo": {
           "bgcolor": "white",
           "lakecolor": "white",
           "landcolor": "#E5ECF6",
           "showlakes": true,
           "showland": true,
           "subunitcolor": "white"
          },
          "hoverlabel": {
           "align": "left"
          },
          "hovermode": "closest",
          "mapbox": {
           "style": "light"
          },
          "paper_bgcolor": "white",
          "plot_bgcolor": "#E5ECF6",
          "polar": {
           "angularaxis": {
            "gridcolor": "white",
            "linecolor": "white",
            "ticks": ""
           },
           "bgcolor": "#E5ECF6",
           "radialaxis": {
            "gridcolor": "white",
            "linecolor": "white",
            "ticks": ""
           }
          },
          "scene": {
           "xaxis": {
            "backgroundcolor": "#E5ECF6",
            "gridcolor": "white",
            "gridwidth": 2,
            "linecolor": "white",
            "showbackground": true,
            "ticks": "",
            "zerolinecolor": "white"
           },
           "yaxis": {
            "backgroundcolor": "#E5ECF6",
            "gridcolor": "white",
            "gridwidth": 2,
            "linecolor": "white",
            "showbackground": true,
            "ticks": "",
            "zerolinecolor": "white"
           },
           "zaxis": {
            "backgroundcolor": "#E5ECF6",
            "gridcolor": "white",
            "gridwidth": 2,
            "linecolor": "white",
            "showbackground": true,
            "ticks": "",
            "zerolinecolor": "white"
           }
          },
          "shapedefaults": {
           "line": {
            "color": "#2a3f5f"
           }
          },
          "ternary": {
           "aaxis": {
            "gridcolor": "white",
            "linecolor": "white",
            "ticks": ""
           },
           "baxis": {
            "gridcolor": "white",
            "linecolor": "white",
            "ticks": ""
           },
           "bgcolor": "#E5ECF6",
           "caxis": {
            "gridcolor": "white",
            "linecolor": "white",
            "ticks": ""
           }
          },
          "title": {
           "x": 0.05
          },
          "xaxis": {
           "automargin": true,
           "gridcolor": "white",
           "linecolor": "white",
           "ticks": "",
           "title": {
            "standoff": 15
           },
           "zerolinecolor": "white",
           "zerolinewidth": 2
          },
          "yaxis": {
           "automargin": true,
           "gridcolor": "white",
           "linecolor": "white",
           "ticks": "",
           "title": {
            "standoff": 15
           },
           "zerolinecolor": "white",
           "zerolinewidth": 2
          }
         }
        },
        "title": {
         "font": {
          "color": "#4D5663"
         }
        },
        "xaxis": {
         "gridcolor": "#E1E5ED",
         "showgrid": true,
         "tickfont": {
          "color": "#4D5663"
         },
         "title": {
          "font": {
           "color": "#4D5663"
          },
          "text": ""
         },
         "zerolinecolor": "#E1E5ED"
        },
        "yaxis": {
         "gridcolor": "#E1E5ED",
         "showgrid": true,
         "tickfont": {
          "color": "#4D5663"
         },
         "title": {
          "font": {
           "color": "#4D5663"
          },
          "text": ""
         },
         "zerolinecolor": "#E1E5ED"
        }
       }
      },
      "text/html": [
       "<div>\n",
       "        \n",
       "        \n",
       "            <div id=\"e64a95e4-0a0d-466e-a9ef-9f23c549e3ba\" class=\"plotly-graph-div\" style=\"height:525px; width:100%;\"></div>\n",
       "            <script type=\"text/javascript\">\n",
       "                require([\"plotly\"], function(Plotly) {\n",
       "                    window.PLOTLYENV=window.PLOTLYENV || {};\n",
       "                    window.PLOTLYENV.BASE_URL='https://plot.ly';\n",
       "                    \n",
       "                if (document.getElementById(\"e64a95e4-0a0d-466e-a9ef-9f23c549e3ba\")) {\n",
       "                    Plotly.newPlot(\n",
       "                        'e64a95e4-0a0d-466e-a9ef-9f23c549e3ba',\n",
       "                        [{\"marker\": {\"color\": \"rgba(255, 153, 51, 0.6)\", \"line\": {\"color\": \"rgba(255, 153, 51, 1.0)\", \"width\": 1}}, \"name\": \"Valores\", \"orientation\": \"v\", \"text\": \"\", \"type\": \"bar\", \"x\": [\"A\", \"B\", \"C\"], \"y\": [32, 43, 50]}],\n",
       "                        {\"legend\": {\"bgcolor\": \"#F5F6F9\", \"font\": {\"color\": \"#4D5663\"}}, \"paper_bgcolor\": \"#F5F6F9\", \"plot_bgcolor\": \"#F5F6F9\", \"template\": {\"data\": {\"bar\": [{\"error_x\": {\"color\": \"#2a3f5f\"}, \"error_y\": {\"color\": \"#2a3f5f\"}, \"marker\": {\"line\": {\"color\": \"#E5ECF6\", \"width\": 0.5}}, \"type\": \"bar\"}], \"barpolar\": [{\"marker\": {\"line\": {\"color\": \"#E5ECF6\", \"width\": 0.5}}, \"type\": \"barpolar\"}], \"carpet\": [{\"aaxis\": {\"endlinecolor\": \"#2a3f5f\", \"gridcolor\": \"white\", \"linecolor\": \"white\", \"minorgridcolor\": \"white\", \"startlinecolor\": \"#2a3f5f\"}, \"baxis\": {\"endlinecolor\": \"#2a3f5f\", \"gridcolor\": \"white\", \"linecolor\": \"white\", \"minorgridcolor\": \"white\", \"startlinecolor\": \"#2a3f5f\"}, \"type\": \"carpet\"}], \"choropleth\": [{\"colorbar\": {\"outlinewidth\": 0, \"ticks\": \"\"}, \"type\": \"choropleth\"}], \"contour\": [{\"colorbar\": {\"outlinewidth\": 0, \"ticks\": \"\"}, \"colorscale\": [[0.0, \"#0d0887\"], [0.1111111111111111, \"#46039f\"], [0.2222222222222222, \"#7201a8\"], [0.3333333333333333, \"#9c179e\"], [0.4444444444444444, \"#bd3786\"], [0.5555555555555556, \"#d8576b\"], [0.6666666666666666, \"#ed7953\"], [0.7777777777777778, \"#fb9f3a\"], [0.8888888888888888, \"#fdca26\"], [1.0, \"#f0f921\"]], \"type\": \"contour\"}], \"contourcarpet\": [{\"colorbar\": {\"outlinewidth\": 0, \"ticks\": \"\"}, \"type\": \"contourcarpet\"}], \"heatmap\": [{\"colorbar\": {\"outlinewidth\": 0, \"ticks\": \"\"}, \"colorscale\": [[0.0, \"#0d0887\"], [0.1111111111111111, \"#46039f\"], [0.2222222222222222, \"#7201a8\"], [0.3333333333333333, \"#9c179e\"], [0.4444444444444444, \"#bd3786\"], [0.5555555555555556, \"#d8576b\"], [0.6666666666666666, \"#ed7953\"], [0.7777777777777778, \"#fb9f3a\"], [0.8888888888888888, \"#fdca26\"], [1.0, \"#f0f921\"]], \"type\": \"heatmap\"}], \"heatmapgl\": [{\"colorbar\": {\"outlinewidth\": 0, \"ticks\": \"\"}, \"colorscale\": [[0.0, \"#0d0887\"], [0.1111111111111111, \"#46039f\"], [0.2222222222222222, \"#7201a8\"], [0.3333333333333333, \"#9c179e\"], [0.4444444444444444, \"#bd3786\"], [0.5555555555555556, \"#d8576b\"], [0.6666666666666666, \"#ed7953\"], [0.7777777777777778, \"#fb9f3a\"], [0.8888888888888888, \"#fdca26\"], [1.0, \"#f0f921\"]], \"type\": \"heatmapgl\"}], \"histogram\": [{\"marker\": {\"colorbar\": {\"outlinewidth\": 0, \"ticks\": \"\"}}, \"type\": \"histogram\"}], \"histogram2d\": [{\"colorbar\": {\"outlinewidth\": 0, \"ticks\": \"\"}, \"colorscale\": [[0.0, \"#0d0887\"], [0.1111111111111111, \"#46039f\"], [0.2222222222222222, \"#7201a8\"], [0.3333333333333333, \"#9c179e\"], [0.4444444444444444, \"#bd3786\"], [0.5555555555555556, \"#d8576b\"], [0.6666666666666666, \"#ed7953\"], [0.7777777777777778, \"#fb9f3a\"], [0.8888888888888888, \"#fdca26\"], [1.0, \"#f0f921\"]], \"type\": \"histogram2d\"}], \"histogram2dcontour\": [{\"colorbar\": {\"outlinewidth\": 0, \"ticks\": \"\"}, \"colorscale\": [[0.0, \"#0d0887\"], [0.1111111111111111, \"#46039f\"], [0.2222222222222222, \"#7201a8\"], [0.3333333333333333, \"#9c179e\"], [0.4444444444444444, \"#bd3786\"], [0.5555555555555556, \"#d8576b\"], [0.6666666666666666, \"#ed7953\"], [0.7777777777777778, \"#fb9f3a\"], [0.8888888888888888, \"#fdca26\"], [1.0, \"#f0f921\"]], \"type\": \"histogram2dcontour\"}], \"mesh3d\": [{\"colorbar\": {\"outlinewidth\": 0, \"ticks\": \"\"}, \"type\": \"mesh3d\"}], \"parcoords\": [{\"line\": {\"colorbar\": {\"outlinewidth\": 0, \"ticks\": \"\"}}, \"type\": \"parcoords\"}], \"pie\": [{\"automargin\": true, \"type\": \"pie\"}], \"scatter\": [{\"marker\": {\"colorbar\": {\"outlinewidth\": 0, \"ticks\": \"\"}}, \"type\": \"scatter\"}], \"scatter3d\": [{\"line\": {\"colorbar\": {\"outlinewidth\": 0, \"ticks\": \"\"}}, \"marker\": {\"colorbar\": {\"outlinewidth\": 0, \"ticks\": \"\"}}, \"type\": \"scatter3d\"}], \"scattercarpet\": [{\"marker\": {\"colorbar\": {\"outlinewidth\": 0, \"ticks\": \"\"}}, \"type\": \"scattercarpet\"}], \"scattergeo\": [{\"marker\": {\"colorbar\": {\"outlinewidth\": 0, \"ticks\": \"\"}}, \"type\": \"scattergeo\"}], \"scattergl\": [{\"marker\": {\"colorbar\": {\"outlinewidth\": 0, \"ticks\": \"\"}}, \"type\": \"scattergl\"}], \"scattermapbox\": [{\"marker\": {\"colorbar\": {\"outlinewidth\": 0, \"ticks\": \"\"}}, \"type\": \"scattermapbox\"}], \"scatterpolar\": [{\"marker\": {\"colorbar\": {\"outlinewidth\": 0, \"ticks\": \"\"}}, \"type\": \"scatterpolar\"}], \"scatterpolargl\": [{\"marker\": {\"colorbar\": {\"outlinewidth\": 0, \"ticks\": \"\"}}, \"type\": \"scatterpolargl\"}], \"scatterternary\": [{\"marker\": {\"colorbar\": {\"outlinewidth\": 0, \"ticks\": \"\"}}, \"type\": \"scatterternary\"}], \"surface\": [{\"colorbar\": {\"outlinewidth\": 0, \"ticks\": \"\"}, \"colorscale\": [[0.0, \"#0d0887\"], [0.1111111111111111, \"#46039f\"], [0.2222222222222222, \"#7201a8\"], [0.3333333333333333, \"#9c179e\"], [0.4444444444444444, \"#bd3786\"], [0.5555555555555556, \"#d8576b\"], [0.6666666666666666, \"#ed7953\"], [0.7777777777777778, \"#fb9f3a\"], [0.8888888888888888, \"#fdca26\"], [1.0, \"#f0f921\"]], \"type\": \"surface\"}], \"table\": [{\"cells\": {\"fill\": {\"color\": \"#EBF0F8\"}, \"line\": {\"color\": \"white\"}}, \"header\": {\"fill\": {\"color\": \"#C8D4E3\"}, \"line\": {\"color\": \"white\"}}, \"type\": \"table\"}]}, \"layout\": {\"annotationdefaults\": {\"arrowcolor\": \"#2a3f5f\", \"arrowhead\": 0, \"arrowwidth\": 1}, \"coloraxis\": {\"colorbar\": {\"outlinewidth\": 0, \"ticks\": \"\"}}, \"colorscale\": {\"diverging\": [[0, \"#8e0152\"], [0.1, \"#c51b7d\"], [0.2, \"#de77ae\"], [0.3, \"#f1b6da\"], [0.4, \"#fde0ef\"], [0.5, \"#f7f7f7\"], [0.6, \"#e6f5d0\"], [0.7, \"#b8e186\"], [0.8, \"#7fbc41\"], [0.9, \"#4d9221\"], [1, \"#276419\"]], \"sequential\": [[0.0, \"#0d0887\"], [0.1111111111111111, \"#46039f\"], [0.2222222222222222, \"#7201a8\"], [0.3333333333333333, \"#9c179e\"], [0.4444444444444444, \"#bd3786\"], [0.5555555555555556, \"#d8576b\"], [0.6666666666666666, \"#ed7953\"], [0.7777777777777778, \"#fb9f3a\"], [0.8888888888888888, \"#fdca26\"], [1.0, \"#f0f921\"]], \"sequentialminus\": [[0.0, \"#0d0887\"], [0.1111111111111111, \"#46039f\"], [0.2222222222222222, \"#7201a8\"], [0.3333333333333333, \"#9c179e\"], [0.4444444444444444, \"#bd3786\"], [0.5555555555555556, \"#d8576b\"], [0.6666666666666666, \"#ed7953\"], [0.7777777777777778, \"#fb9f3a\"], [0.8888888888888888, \"#fdca26\"], [1.0, \"#f0f921\"]]}, \"colorway\": [\"#636efa\", \"#EF553B\", \"#00cc96\", \"#ab63fa\", \"#FFA15A\", \"#19d3f3\", \"#FF6692\", \"#B6E880\", \"#FF97FF\", \"#FECB52\"], \"font\": {\"color\": \"#2a3f5f\"}, \"geo\": {\"bgcolor\": \"white\", \"lakecolor\": \"white\", \"landcolor\": \"#E5ECF6\", \"showlakes\": true, \"showland\": true, \"subunitcolor\": \"white\"}, \"hoverlabel\": {\"align\": \"left\"}, \"hovermode\": \"closest\", \"mapbox\": {\"style\": \"light\"}, \"paper_bgcolor\": \"white\", \"plot_bgcolor\": \"#E5ECF6\", \"polar\": {\"angularaxis\": {\"gridcolor\": \"white\", \"linecolor\": \"white\", \"ticks\": \"\"}, \"bgcolor\": \"#E5ECF6\", \"radialaxis\": {\"gridcolor\": \"white\", \"linecolor\": \"white\", \"ticks\": \"\"}}, \"scene\": {\"xaxis\": {\"backgroundcolor\": \"#E5ECF6\", \"gridcolor\": \"white\", \"gridwidth\": 2, \"linecolor\": \"white\", \"showbackground\": true, \"ticks\": \"\", \"zerolinecolor\": \"white\"}, \"yaxis\": {\"backgroundcolor\": \"#E5ECF6\", \"gridcolor\": \"white\", \"gridwidth\": 2, \"linecolor\": \"white\", \"showbackground\": true, \"ticks\": \"\", \"zerolinecolor\": \"white\"}, \"zaxis\": {\"backgroundcolor\": \"#E5ECF6\", \"gridcolor\": \"white\", \"gridwidth\": 2, \"linecolor\": \"white\", \"showbackground\": true, \"ticks\": \"\", \"zerolinecolor\": \"white\"}}, \"shapedefaults\": {\"line\": {\"color\": \"#2a3f5f\"}}, \"ternary\": {\"aaxis\": {\"gridcolor\": \"white\", \"linecolor\": \"white\", \"ticks\": \"\"}, \"baxis\": {\"gridcolor\": \"white\", \"linecolor\": \"white\", \"ticks\": \"\"}, \"bgcolor\": \"#E5ECF6\", \"caxis\": {\"gridcolor\": \"white\", \"linecolor\": \"white\", \"ticks\": \"\"}}, \"title\": {\"x\": 0.05}, \"xaxis\": {\"automargin\": true, \"gridcolor\": \"white\", \"linecolor\": \"white\", \"ticks\": \"\", \"title\": {\"standoff\": 15}, \"zerolinecolor\": \"white\", \"zerolinewidth\": 2}, \"yaxis\": {\"automargin\": true, \"gridcolor\": \"white\", \"linecolor\": \"white\", \"ticks\": \"\", \"title\": {\"standoff\": 15}, \"zerolinecolor\": \"white\", \"zerolinewidth\": 2}}}, \"title\": {\"font\": {\"color\": \"#4D5663\"}}, \"xaxis\": {\"gridcolor\": \"#E1E5ED\", \"showgrid\": true, \"tickfont\": {\"color\": \"#4D5663\"}, \"title\": {\"font\": {\"color\": \"#4D5663\"}, \"text\": \"\"}, \"zerolinecolor\": \"#E1E5ED\"}, \"yaxis\": {\"gridcolor\": \"#E1E5ED\", \"showgrid\": true, \"tickfont\": {\"color\": \"#4D5663\"}, \"title\": {\"font\": {\"color\": \"#4D5663\"}, \"text\": \"\"}, \"zerolinecolor\": \"#E1E5ED\"}},\n",
       "                        {\"showLink\": true, \"linkText\": \"Export to plot.ly\", \"plotlyServerURL\": \"https://plot.ly\", \"responsive\": true}\n",
       "                    ).then(function(){\n",
       "                            \n",
       "var gd = document.getElementById('e64a95e4-0a0d-466e-a9ef-9f23c549e3ba');\n",
       "var x = new MutationObserver(function (mutations, observer) {{\n",
       "        var display = window.getComputedStyle(gd).display;\n",
       "        if (!display || display === 'none') {{\n",
       "            console.log([gd, 'removed!']);\n",
       "            Plotly.purge(gd);\n",
       "            observer.disconnect();\n",
       "        }}\n",
       "}});\n",
       "\n",
       "// Listen for the removal of the full notebook cells\n",
       "var notebookContainer = gd.closest('#notebook-container');\n",
       "if (notebookContainer) {{\n",
       "    x.observe(notebookContainer, {childList: true});\n",
       "}}\n",
       "\n",
       "// Listen for the clearing of the current output cell\n",
       "var outputEl = gd.closest('.output');\n",
       "if (outputEl) {{\n",
       "    x.observe(outputEl, {childList: true});\n",
       "}}\n",
       "\n",
       "                        })\n",
       "                };\n",
       "                });\n",
       "            </script>\n",
       "        </div>"
      ]
     },
     "metadata": {},
     "output_type": "display_data"
    }
   ],
   "source": [
    "df2.iplot(kind='bar',x='Categoria',y='Valores')"
   ]
  },
  {
   "cell_type": "code",
   "execution_count": 13,
   "metadata": {},
   "outputs": [
    {
     "data": {
      "application/vnd.plotly.v1+json": {
       "config": {
        "linkText": "Export to plot.ly",
        "plotlyServerURL": "https://plot.ly",
        "showLink": true
       },
       "data": [
        {
         "marker": {
          "color": "rgba(255, 153, 51, 0.6)",
          "line": {
           "color": "rgba(255, 153, 51, 1.0)",
           "width": 1
          }
         },
         "name": "None",
         "orientation": "v",
         "text": "",
         "type": "bar",
         "x": [
          "A",
          "B",
          "C",
          "D"
         ],
         "y": [
          100,
          100,
          100,
          100
         ]
        }
       ],
       "layout": {
        "legend": {
         "bgcolor": "#F5F6F9",
         "font": {
          "color": "#4D5663"
         }
        },
        "paper_bgcolor": "#F5F6F9",
        "plot_bgcolor": "#F5F6F9",
        "template": {
         "data": {
          "bar": [
           {
            "error_x": {
             "color": "#2a3f5f"
            },
            "error_y": {
             "color": "#2a3f5f"
            },
            "marker": {
             "line": {
              "color": "#E5ECF6",
              "width": 0.5
             }
            },
            "type": "bar"
           }
          ],
          "barpolar": [
           {
            "marker": {
             "line": {
              "color": "#E5ECF6",
              "width": 0.5
             }
            },
            "type": "barpolar"
           }
          ],
          "carpet": [
           {
            "aaxis": {
             "endlinecolor": "#2a3f5f",
             "gridcolor": "white",
             "linecolor": "white",
             "minorgridcolor": "white",
             "startlinecolor": "#2a3f5f"
            },
            "baxis": {
             "endlinecolor": "#2a3f5f",
             "gridcolor": "white",
             "linecolor": "white",
             "minorgridcolor": "white",
             "startlinecolor": "#2a3f5f"
            },
            "type": "carpet"
           }
          ],
          "choropleth": [
           {
            "colorbar": {
             "outlinewidth": 0,
             "ticks": ""
            },
            "type": "choropleth"
           }
          ],
          "contour": [
           {
            "colorbar": {
             "outlinewidth": 0,
             "ticks": ""
            },
            "colorscale": [
             [
              0,
              "#0d0887"
             ],
             [
              0.1111111111111111,
              "#46039f"
             ],
             [
              0.2222222222222222,
              "#7201a8"
             ],
             [
              0.3333333333333333,
              "#9c179e"
             ],
             [
              0.4444444444444444,
              "#bd3786"
             ],
             [
              0.5555555555555556,
              "#d8576b"
             ],
             [
              0.6666666666666666,
              "#ed7953"
             ],
             [
              0.7777777777777778,
              "#fb9f3a"
             ],
             [
              0.8888888888888888,
              "#fdca26"
             ],
             [
              1,
              "#f0f921"
             ]
            ],
            "type": "contour"
           }
          ],
          "contourcarpet": [
           {
            "colorbar": {
             "outlinewidth": 0,
             "ticks": ""
            },
            "type": "contourcarpet"
           }
          ],
          "heatmap": [
           {
            "colorbar": {
             "outlinewidth": 0,
             "ticks": ""
            },
            "colorscale": [
             [
              0,
              "#0d0887"
             ],
             [
              0.1111111111111111,
              "#46039f"
             ],
             [
              0.2222222222222222,
              "#7201a8"
             ],
             [
              0.3333333333333333,
              "#9c179e"
             ],
             [
              0.4444444444444444,
              "#bd3786"
             ],
             [
              0.5555555555555556,
              "#d8576b"
             ],
             [
              0.6666666666666666,
              "#ed7953"
             ],
             [
              0.7777777777777778,
              "#fb9f3a"
             ],
             [
              0.8888888888888888,
              "#fdca26"
             ],
             [
              1,
              "#f0f921"
             ]
            ],
            "type": "heatmap"
           }
          ],
          "heatmapgl": [
           {
            "colorbar": {
             "outlinewidth": 0,
             "ticks": ""
            },
            "colorscale": [
             [
              0,
              "#0d0887"
             ],
             [
              0.1111111111111111,
              "#46039f"
             ],
             [
              0.2222222222222222,
              "#7201a8"
             ],
             [
              0.3333333333333333,
              "#9c179e"
             ],
             [
              0.4444444444444444,
              "#bd3786"
             ],
             [
              0.5555555555555556,
              "#d8576b"
             ],
             [
              0.6666666666666666,
              "#ed7953"
             ],
             [
              0.7777777777777778,
              "#fb9f3a"
             ],
             [
              0.8888888888888888,
              "#fdca26"
             ],
             [
              1,
              "#f0f921"
             ]
            ],
            "type": "heatmapgl"
           }
          ],
          "histogram": [
           {
            "marker": {
             "colorbar": {
              "outlinewidth": 0,
              "ticks": ""
             }
            },
            "type": "histogram"
           }
          ],
          "histogram2d": [
           {
            "colorbar": {
             "outlinewidth": 0,
             "ticks": ""
            },
            "colorscale": [
             [
              0,
              "#0d0887"
             ],
             [
              0.1111111111111111,
              "#46039f"
             ],
             [
              0.2222222222222222,
              "#7201a8"
             ],
             [
              0.3333333333333333,
              "#9c179e"
             ],
             [
              0.4444444444444444,
              "#bd3786"
             ],
             [
              0.5555555555555556,
              "#d8576b"
             ],
             [
              0.6666666666666666,
              "#ed7953"
             ],
             [
              0.7777777777777778,
              "#fb9f3a"
             ],
             [
              0.8888888888888888,
              "#fdca26"
             ],
             [
              1,
              "#f0f921"
             ]
            ],
            "type": "histogram2d"
           }
          ],
          "histogram2dcontour": [
           {
            "colorbar": {
             "outlinewidth": 0,
             "ticks": ""
            },
            "colorscale": [
             [
              0,
              "#0d0887"
             ],
             [
              0.1111111111111111,
              "#46039f"
             ],
             [
              0.2222222222222222,
              "#7201a8"
             ],
             [
              0.3333333333333333,
              "#9c179e"
             ],
             [
              0.4444444444444444,
              "#bd3786"
             ],
             [
              0.5555555555555556,
              "#d8576b"
             ],
             [
              0.6666666666666666,
              "#ed7953"
             ],
             [
              0.7777777777777778,
              "#fb9f3a"
             ],
             [
              0.8888888888888888,
              "#fdca26"
             ],
             [
              1,
              "#f0f921"
             ]
            ],
            "type": "histogram2dcontour"
           }
          ],
          "mesh3d": [
           {
            "colorbar": {
             "outlinewidth": 0,
             "ticks": ""
            },
            "type": "mesh3d"
           }
          ],
          "parcoords": [
           {
            "line": {
             "colorbar": {
              "outlinewidth": 0,
              "ticks": ""
             }
            },
            "type": "parcoords"
           }
          ],
          "pie": [
           {
            "automargin": true,
            "type": "pie"
           }
          ],
          "scatter": [
           {
            "marker": {
             "colorbar": {
              "outlinewidth": 0,
              "ticks": ""
             }
            },
            "type": "scatter"
           }
          ],
          "scatter3d": [
           {
            "line": {
             "colorbar": {
              "outlinewidth": 0,
              "ticks": ""
             }
            },
            "marker": {
             "colorbar": {
              "outlinewidth": 0,
              "ticks": ""
             }
            },
            "type": "scatter3d"
           }
          ],
          "scattercarpet": [
           {
            "marker": {
             "colorbar": {
              "outlinewidth": 0,
              "ticks": ""
             }
            },
            "type": "scattercarpet"
           }
          ],
          "scattergeo": [
           {
            "marker": {
             "colorbar": {
              "outlinewidth": 0,
              "ticks": ""
             }
            },
            "type": "scattergeo"
           }
          ],
          "scattergl": [
           {
            "marker": {
             "colorbar": {
              "outlinewidth": 0,
              "ticks": ""
             }
            },
            "type": "scattergl"
           }
          ],
          "scattermapbox": [
           {
            "marker": {
             "colorbar": {
              "outlinewidth": 0,
              "ticks": ""
             }
            },
            "type": "scattermapbox"
           }
          ],
          "scatterpolar": [
           {
            "marker": {
             "colorbar": {
              "outlinewidth": 0,
              "ticks": ""
             }
            },
            "type": "scatterpolar"
           }
          ],
          "scatterpolargl": [
           {
            "marker": {
             "colorbar": {
              "outlinewidth": 0,
              "ticks": ""
             }
            },
            "type": "scatterpolargl"
           }
          ],
          "scatterternary": [
           {
            "marker": {
             "colorbar": {
              "outlinewidth": 0,
              "ticks": ""
             }
            },
            "type": "scatterternary"
           }
          ],
          "surface": [
           {
            "colorbar": {
             "outlinewidth": 0,
             "ticks": ""
            },
            "colorscale": [
             [
              0,
              "#0d0887"
             ],
             [
              0.1111111111111111,
              "#46039f"
             ],
             [
              0.2222222222222222,
              "#7201a8"
             ],
             [
              0.3333333333333333,
              "#9c179e"
             ],
             [
              0.4444444444444444,
              "#bd3786"
             ],
             [
              0.5555555555555556,
              "#d8576b"
             ],
             [
              0.6666666666666666,
              "#ed7953"
             ],
             [
              0.7777777777777778,
              "#fb9f3a"
             ],
             [
              0.8888888888888888,
              "#fdca26"
             ],
             [
              1,
              "#f0f921"
             ]
            ],
            "type": "surface"
           }
          ],
          "table": [
           {
            "cells": {
             "fill": {
              "color": "#EBF0F8"
             },
             "line": {
              "color": "white"
             }
            },
            "header": {
             "fill": {
              "color": "#C8D4E3"
             },
             "line": {
              "color": "white"
             }
            },
            "type": "table"
           }
          ]
         },
         "layout": {
          "annotationdefaults": {
           "arrowcolor": "#2a3f5f",
           "arrowhead": 0,
           "arrowwidth": 1
          },
          "coloraxis": {
           "colorbar": {
            "outlinewidth": 0,
            "ticks": ""
           }
          },
          "colorscale": {
           "diverging": [
            [
             0,
             "#8e0152"
            ],
            [
             0.1,
             "#c51b7d"
            ],
            [
             0.2,
             "#de77ae"
            ],
            [
             0.3,
             "#f1b6da"
            ],
            [
             0.4,
             "#fde0ef"
            ],
            [
             0.5,
             "#f7f7f7"
            ],
            [
             0.6,
             "#e6f5d0"
            ],
            [
             0.7,
             "#b8e186"
            ],
            [
             0.8,
             "#7fbc41"
            ],
            [
             0.9,
             "#4d9221"
            ],
            [
             1,
             "#276419"
            ]
           ],
           "sequential": [
            [
             0,
             "#0d0887"
            ],
            [
             0.1111111111111111,
             "#46039f"
            ],
            [
             0.2222222222222222,
             "#7201a8"
            ],
            [
             0.3333333333333333,
             "#9c179e"
            ],
            [
             0.4444444444444444,
             "#bd3786"
            ],
            [
             0.5555555555555556,
             "#d8576b"
            ],
            [
             0.6666666666666666,
             "#ed7953"
            ],
            [
             0.7777777777777778,
             "#fb9f3a"
            ],
            [
             0.8888888888888888,
             "#fdca26"
            ],
            [
             1,
             "#f0f921"
            ]
           ],
           "sequentialminus": [
            [
             0,
             "#0d0887"
            ],
            [
             0.1111111111111111,
             "#46039f"
            ],
            [
             0.2222222222222222,
             "#7201a8"
            ],
            [
             0.3333333333333333,
             "#9c179e"
            ],
            [
             0.4444444444444444,
             "#bd3786"
            ],
            [
             0.5555555555555556,
             "#d8576b"
            ],
            [
             0.6666666666666666,
             "#ed7953"
            ],
            [
             0.7777777777777778,
             "#fb9f3a"
            ],
            [
             0.8888888888888888,
             "#fdca26"
            ],
            [
             1,
             "#f0f921"
            ]
           ]
          },
          "colorway": [
           "#636efa",
           "#EF553B",
           "#00cc96",
           "#ab63fa",
           "#FFA15A",
           "#19d3f3",
           "#FF6692",
           "#B6E880",
           "#FF97FF",
           "#FECB52"
          ],
          "font": {
           "color": "#2a3f5f"
          },
          "geo": {
           "bgcolor": "white",
           "lakecolor": "white",
           "landcolor": "#E5ECF6",
           "showlakes": true,
           "showland": true,
           "subunitcolor": "white"
          },
          "hoverlabel": {
           "align": "left"
          },
          "hovermode": "closest",
          "mapbox": {
           "style": "light"
          },
          "paper_bgcolor": "white",
          "plot_bgcolor": "#E5ECF6",
          "polar": {
           "angularaxis": {
            "gridcolor": "white",
            "linecolor": "white",
            "ticks": ""
           },
           "bgcolor": "#E5ECF6",
           "radialaxis": {
            "gridcolor": "white",
            "linecolor": "white",
            "ticks": ""
           }
          },
          "scene": {
           "xaxis": {
            "backgroundcolor": "#E5ECF6",
            "gridcolor": "white",
            "gridwidth": 2,
            "linecolor": "white",
            "showbackground": true,
            "ticks": "",
            "zerolinecolor": "white"
           },
           "yaxis": {
            "backgroundcolor": "#E5ECF6",
            "gridcolor": "white",
            "gridwidth": 2,
            "linecolor": "white",
            "showbackground": true,
            "ticks": "",
            "zerolinecolor": "white"
           },
           "zaxis": {
            "backgroundcolor": "#E5ECF6",
            "gridcolor": "white",
            "gridwidth": 2,
            "linecolor": "white",
            "showbackground": true,
            "ticks": "",
            "zerolinecolor": "white"
           }
          },
          "shapedefaults": {
           "line": {
            "color": "#2a3f5f"
           }
          },
          "ternary": {
           "aaxis": {
            "gridcolor": "white",
            "linecolor": "white",
            "ticks": ""
           },
           "baxis": {
            "gridcolor": "white",
            "linecolor": "white",
            "ticks": ""
           },
           "bgcolor": "#E5ECF6",
           "caxis": {
            "gridcolor": "white",
            "linecolor": "white",
            "ticks": ""
           }
          },
          "title": {
           "x": 0.05
          },
          "xaxis": {
           "automargin": true,
           "gridcolor": "white",
           "linecolor": "white",
           "ticks": "",
           "title": {
            "standoff": 15
           },
           "zerolinecolor": "white",
           "zerolinewidth": 2
          },
          "yaxis": {
           "automargin": true,
           "gridcolor": "white",
           "linecolor": "white",
           "ticks": "",
           "title": {
            "standoff": 15
           },
           "zerolinecolor": "white",
           "zerolinewidth": 2
          }
         }
        },
        "title": {
         "font": {
          "color": "#4D5663"
         }
        },
        "xaxis": {
         "gridcolor": "#E1E5ED",
         "showgrid": true,
         "tickfont": {
          "color": "#4D5663"
         },
         "title": {
          "font": {
           "color": "#4D5663"
          },
          "text": ""
         },
         "zerolinecolor": "#E1E5ED"
        },
        "yaxis": {
         "gridcolor": "#E1E5ED",
         "showgrid": true,
         "tickfont": {
          "color": "#4D5663"
         },
         "title": {
          "font": {
           "color": "#4D5663"
          },
          "text": ""
         },
         "zerolinecolor": "#E1E5ED"
        }
       }
      },
      "text/html": [
       "<div>\n",
       "        \n",
       "        \n",
       "            <div id=\"4c25bc67-667e-455d-aedc-1e4bc4513f9f\" class=\"plotly-graph-div\" style=\"height:525px; width:100%;\"></div>\n",
       "            <script type=\"text/javascript\">\n",
       "                require([\"plotly\"], function(Plotly) {\n",
       "                    window.PLOTLYENV=window.PLOTLYENV || {};\n",
       "                    window.PLOTLYENV.BASE_URL='https://plot.ly';\n",
       "                    \n",
       "                if (document.getElementById(\"4c25bc67-667e-455d-aedc-1e4bc4513f9f\")) {\n",
       "                    Plotly.newPlot(\n",
       "                        '4c25bc67-667e-455d-aedc-1e4bc4513f9f',\n",
       "                        [{\"marker\": {\"color\": \"rgba(255, 153, 51, 0.6)\", \"line\": {\"color\": \"rgba(255, 153, 51, 1.0)\", \"width\": 1}}, \"name\": \"None\", \"orientation\": \"v\", \"text\": \"\", \"type\": \"bar\", \"x\": [\"A\", \"B\", \"C\", \"D\"], \"y\": [100, 100, 100, 100]}],\n",
       "                        {\"legend\": {\"bgcolor\": \"#F5F6F9\", \"font\": {\"color\": \"#4D5663\"}}, \"paper_bgcolor\": \"#F5F6F9\", \"plot_bgcolor\": \"#F5F6F9\", \"template\": {\"data\": {\"bar\": [{\"error_x\": {\"color\": \"#2a3f5f\"}, \"error_y\": {\"color\": \"#2a3f5f\"}, \"marker\": {\"line\": {\"color\": \"#E5ECF6\", \"width\": 0.5}}, \"type\": \"bar\"}], \"barpolar\": [{\"marker\": {\"line\": {\"color\": \"#E5ECF6\", \"width\": 0.5}}, \"type\": \"barpolar\"}], \"carpet\": [{\"aaxis\": {\"endlinecolor\": \"#2a3f5f\", \"gridcolor\": \"white\", \"linecolor\": \"white\", \"minorgridcolor\": \"white\", \"startlinecolor\": \"#2a3f5f\"}, \"baxis\": {\"endlinecolor\": \"#2a3f5f\", \"gridcolor\": \"white\", \"linecolor\": \"white\", \"minorgridcolor\": \"white\", \"startlinecolor\": \"#2a3f5f\"}, \"type\": \"carpet\"}], \"choropleth\": [{\"colorbar\": {\"outlinewidth\": 0, \"ticks\": \"\"}, \"type\": \"choropleth\"}], \"contour\": [{\"colorbar\": {\"outlinewidth\": 0, \"ticks\": \"\"}, \"colorscale\": [[0.0, \"#0d0887\"], [0.1111111111111111, \"#46039f\"], [0.2222222222222222, \"#7201a8\"], [0.3333333333333333, \"#9c179e\"], [0.4444444444444444, \"#bd3786\"], [0.5555555555555556, \"#d8576b\"], [0.6666666666666666, \"#ed7953\"], [0.7777777777777778, \"#fb9f3a\"], [0.8888888888888888, \"#fdca26\"], [1.0, \"#f0f921\"]], \"type\": \"contour\"}], \"contourcarpet\": [{\"colorbar\": {\"outlinewidth\": 0, \"ticks\": \"\"}, \"type\": \"contourcarpet\"}], \"heatmap\": [{\"colorbar\": {\"outlinewidth\": 0, \"ticks\": \"\"}, \"colorscale\": [[0.0, \"#0d0887\"], [0.1111111111111111, \"#46039f\"], [0.2222222222222222, \"#7201a8\"], [0.3333333333333333, \"#9c179e\"], [0.4444444444444444, \"#bd3786\"], [0.5555555555555556, \"#d8576b\"], [0.6666666666666666, \"#ed7953\"], [0.7777777777777778, \"#fb9f3a\"], [0.8888888888888888, \"#fdca26\"], [1.0, \"#f0f921\"]], \"type\": \"heatmap\"}], \"heatmapgl\": [{\"colorbar\": {\"outlinewidth\": 0, \"ticks\": \"\"}, \"colorscale\": [[0.0, \"#0d0887\"], [0.1111111111111111, \"#46039f\"], [0.2222222222222222, \"#7201a8\"], [0.3333333333333333, \"#9c179e\"], [0.4444444444444444, \"#bd3786\"], [0.5555555555555556, \"#d8576b\"], [0.6666666666666666, \"#ed7953\"], [0.7777777777777778, \"#fb9f3a\"], [0.8888888888888888, \"#fdca26\"], [1.0, \"#f0f921\"]], \"type\": \"heatmapgl\"}], \"histogram\": [{\"marker\": {\"colorbar\": {\"outlinewidth\": 0, \"ticks\": \"\"}}, \"type\": \"histogram\"}], \"histogram2d\": [{\"colorbar\": {\"outlinewidth\": 0, \"ticks\": \"\"}, \"colorscale\": [[0.0, \"#0d0887\"], [0.1111111111111111, \"#46039f\"], [0.2222222222222222, \"#7201a8\"], [0.3333333333333333, \"#9c179e\"], [0.4444444444444444, \"#bd3786\"], [0.5555555555555556, \"#d8576b\"], [0.6666666666666666, \"#ed7953\"], [0.7777777777777778, \"#fb9f3a\"], [0.8888888888888888, \"#fdca26\"], [1.0, \"#f0f921\"]], \"type\": \"histogram2d\"}], \"histogram2dcontour\": [{\"colorbar\": {\"outlinewidth\": 0, \"ticks\": \"\"}, \"colorscale\": [[0.0, \"#0d0887\"], [0.1111111111111111, \"#46039f\"], [0.2222222222222222, \"#7201a8\"], [0.3333333333333333, \"#9c179e\"], [0.4444444444444444, \"#bd3786\"], [0.5555555555555556, \"#d8576b\"], [0.6666666666666666, \"#ed7953\"], [0.7777777777777778, \"#fb9f3a\"], [0.8888888888888888, \"#fdca26\"], [1.0, \"#f0f921\"]], \"type\": \"histogram2dcontour\"}], \"mesh3d\": [{\"colorbar\": {\"outlinewidth\": 0, \"ticks\": \"\"}, \"type\": \"mesh3d\"}], \"parcoords\": [{\"line\": {\"colorbar\": {\"outlinewidth\": 0, \"ticks\": \"\"}}, \"type\": \"parcoords\"}], \"pie\": [{\"automargin\": true, \"type\": \"pie\"}], \"scatter\": [{\"marker\": {\"colorbar\": {\"outlinewidth\": 0, \"ticks\": \"\"}}, \"type\": \"scatter\"}], \"scatter3d\": [{\"line\": {\"colorbar\": {\"outlinewidth\": 0, \"ticks\": \"\"}}, \"marker\": {\"colorbar\": {\"outlinewidth\": 0, \"ticks\": \"\"}}, \"type\": \"scatter3d\"}], \"scattercarpet\": [{\"marker\": {\"colorbar\": {\"outlinewidth\": 0, \"ticks\": \"\"}}, \"type\": \"scattercarpet\"}], \"scattergeo\": [{\"marker\": {\"colorbar\": {\"outlinewidth\": 0, \"ticks\": \"\"}}, \"type\": \"scattergeo\"}], \"scattergl\": [{\"marker\": {\"colorbar\": {\"outlinewidth\": 0, \"ticks\": \"\"}}, \"type\": \"scattergl\"}], \"scattermapbox\": [{\"marker\": {\"colorbar\": {\"outlinewidth\": 0, \"ticks\": \"\"}}, \"type\": \"scattermapbox\"}], \"scatterpolar\": [{\"marker\": {\"colorbar\": {\"outlinewidth\": 0, \"ticks\": \"\"}}, \"type\": \"scatterpolar\"}], \"scatterpolargl\": [{\"marker\": {\"colorbar\": {\"outlinewidth\": 0, \"ticks\": \"\"}}, \"type\": \"scatterpolargl\"}], \"scatterternary\": [{\"marker\": {\"colorbar\": {\"outlinewidth\": 0, \"ticks\": \"\"}}, \"type\": \"scatterternary\"}], \"surface\": [{\"colorbar\": {\"outlinewidth\": 0, \"ticks\": \"\"}, \"colorscale\": [[0.0, \"#0d0887\"], [0.1111111111111111, \"#46039f\"], [0.2222222222222222, \"#7201a8\"], [0.3333333333333333, \"#9c179e\"], [0.4444444444444444, \"#bd3786\"], [0.5555555555555556, \"#d8576b\"], [0.6666666666666666, \"#ed7953\"], [0.7777777777777778, \"#fb9f3a\"], [0.8888888888888888, \"#fdca26\"], [1.0, \"#f0f921\"]], \"type\": \"surface\"}], \"table\": [{\"cells\": {\"fill\": {\"color\": \"#EBF0F8\"}, \"line\": {\"color\": \"white\"}}, \"header\": {\"fill\": {\"color\": \"#C8D4E3\"}, \"line\": {\"color\": \"white\"}}, \"type\": \"table\"}]}, \"layout\": {\"annotationdefaults\": {\"arrowcolor\": \"#2a3f5f\", \"arrowhead\": 0, \"arrowwidth\": 1}, \"coloraxis\": {\"colorbar\": {\"outlinewidth\": 0, \"ticks\": \"\"}}, \"colorscale\": {\"diverging\": [[0, \"#8e0152\"], [0.1, \"#c51b7d\"], [0.2, \"#de77ae\"], [0.3, \"#f1b6da\"], [0.4, \"#fde0ef\"], [0.5, \"#f7f7f7\"], [0.6, \"#e6f5d0\"], [0.7, \"#b8e186\"], [0.8, \"#7fbc41\"], [0.9, \"#4d9221\"], [1, \"#276419\"]], \"sequential\": [[0.0, \"#0d0887\"], [0.1111111111111111, \"#46039f\"], [0.2222222222222222, \"#7201a8\"], [0.3333333333333333, \"#9c179e\"], [0.4444444444444444, \"#bd3786\"], [0.5555555555555556, \"#d8576b\"], [0.6666666666666666, \"#ed7953\"], [0.7777777777777778, \"#fb9f3a\"], [0.8888888888888888, \"#fdca26\"], [1.0, \"#f0f921\"]], \"sequentialminus\": [[0.0, \"#0d0887\"], [0.1111111111111111, \"#46039f\"], [0.2222222222222222, \"#7201a8\"], [0.3333333333333333, \"#9c179e\"], [0.4444444444444444, \"#bd3786\"], [0.5555555555555556, \"#d8576b\"], [0.6666666666666666, \"#ed7953\"], [0.7777777777777778, \"#fb9f3a\"], [0.8888888888888888, \"#fdca26\"], [1.0, \"#f0f921\"]]}, \"colorway\": [\"#636efa\", \"#EF553B\", \"#00cc96\", \"#ab63fa\", \"#FFA15A\", \"#19d3f3\", \"#FF6692\", \"#B6E880\", \"#FF97FF\", \"#FECB52\"], \"font\": {\"color\": \"#2a3f5f\"}, \"geo\": {\"bgcolor\": \"white\", \"lakecolor\": \"white\", \"landcolor\": \"#E5ECF6\", \"showlakes\": true, \"showland\": true, \"subunitcolor\": \"white\"}, \"hoverlabel\": {\"align\": \"left\"}, \"hovermode\": \"closest\", \"mapbox\": {\"style\": \"light\"}, \"paper_bgcolor\": \"white\", \"plot_bgcolor\": \"#E5ECF6\", \"polar\": {\"angularaxis\": {\"gridcolor\": \"white\", \"linecolor\": \"white\", \"ticks\": \"\"}, \"bgcolor\": \"#E5ECF6\", \"radialaxis\": {\"gridcolor\": \"white\", \"linecolor\": \"white\", \"ticks\": \"\"}}, \"scene\": {\"xaxis\": {\"backgroundcolor\": \"#E5ECF6\", \"gridcolor\": \"white\", \"gridwidth\": 2, \"linecolor\": \"white\", \"showbackground\": true, \"ticks\": \"\", \"zerolinecolor\": \"white\"}, \"yaxis\": {\"backgroundcolor\": \"#E5ECF6\", \"gridcolor\": \"white\", \"gridwidth\": 2, \"linecolor\": \"white\", \"showbackground\": true, \"ticks\": \"\", \"zerolinecolor\": \"white\"}, \"zaxis\": {\"backgroundcolor\": \"#E5ECF6\", \"gridcolor\": \"white\", \"gridwidth\": 2, \"linecolor\": \"white\", \"showbackground\": true, \"ticks\": \"\", \"zerolinecolor\": \"white\"}}, \"shapedefaults\": {\"line\": {\"color\": \"#2a3f5f\"}}, \"ternary\": {\"aaxis\": {\"gridcolor\": \"white\", \"linecolor\": \"white\", \"ticks\": \"\"}, \"baxis\": {\"gridcolor\": \"white\", \"linecolor\": \"white\", \"ticks\": \"\"}, \"bgcolor\": \"#E5ECF6\", \"caxis\": {\"gridcolor\": \"white\", \"linecolor\": \"white\", \"ticks\": \"\"}}, \"title\": {\"x\": 0.05}, \"xaxis\": {\"automargin\": true, \"gridcolor\": \"white\", \"linecolor\": \"white\", \"ticks\": \"\", \"title\": {\"standoff\": 15}, \"zerolinecolor\": \"white\", \"zerolinewidth\": 2}, \"yaxis\": {\"automargin\": true, \"gridcolor\": \"white\", \"linecolor\": \"white\", \"ticks\": \"\", \"title\": {\"standoff\": 15}, \"zerolinecolor\": \"white\", \"zerolinewidth\": 2}}}, \"title\": {\"font\": {\"color\": \"#4D5663\"}}, \"xaxis\": {\"gridcolor\": \"#E1E5ED\", \"showgrid\": true, \"tickfont\": {\"color\": \"#4D5663\"}, \"title\": {\"font\": {\"color\": \"#4D5663\"}, \"text\": \"\"}, \"zerolinecolor\": \"#E1E5ED\"}, \"yaxis\": {\"gridcolor\": \"#E1E5ED\", \"showgrid\": true, \"tickfont\": {\"color\": \"#4D5663\"}, \"title\": {\"font\": {\"color\": \"#4D5663\"}, \"text\": \"\"}, \"zerolinecolor\": \"#E1E5ED\"}},\n",
       "                        {\"showLink\": true, \"linkText\": \"Export to plot.ly\", \"plotlyServerURL\": \"https://plot.ly\", \"responsive\": true}\n",
       "                    ).then(function(){\n",
       "                            \n",
       "var gd = document.getElementById('4c25bc67-667e-455d-aedc-1e4bc4513f9f');\n",
       "var x = new MutationObserver(function (mutations, observer) {{\n",
       "        var display = window.getComputedStyle(gd).display;\n",
       "        if (!display || display === 'none') {{\n",
       "            console.log([gd, 'removed!']);\n",
       "            Plotly.purge(gd);\n",
       "            observer.disconnect();\n",
       "        }}\n",
       "}});\n",
       "\n",
       "// Listen for the removal of the full notebook cells\n",
       "var notebookContainer = gd.closest('#notebook-container');\n",
       "if (notebookContainer) {{\n",
       "    x.observe(notebookContainer, {childList: true});\n",
       "}}\n",
       "\n",
       "// Listen for the clearing of the current output cell\n",
       "var outputEl = gd.closest('.output');\n",
       "if (outputEl) {{\n",
       "    x.observe(outputEl, {childList: true});\n",
       "}}\n",
       "\n",
       "                        })\n",
       "                };\n",
       "                });\n",
       "            </script>\n",
       "        </div>"
      ]
     },
     "metadata": {},
     "output_type": "display_data"
    }
   ],
   "source": [
    "df.count().iplot(kind='bar')"
   ]
  },
  {
   "cell_type": "markdown",
   "metadata": {},
   "source": [
    "## Boxplots"
   ]
  },
  {
   "cell_type": "code",
   "execution_count": 14,
   "metadata": {},
   "outputs": [
    {
     "data": {
      "application/vnd.plotly.v1+json": {
       "config": {
        "linkText": "Export to plot.ly",
        "plotlyServerURL": "https://plot.ly",
        "showLink": true
       },
       "data": [
        {
         "boxpoints": false,
         "line": {
          "width": 1.3
         },
         "marker": {
          "color": "rgba(255, 153, 51, 1.0)"
         },
         "name": "A",
         "orientation": "v",
         "type": "box",
         "y": [
          0.0919618728699051,
          -0.22143263970710958,
          1.6920061692431745,
          0.9431067925271498,
          0.3594422328619513,
          -0.6828184970650549,
          1.3477112305154917,
          -0.25654138522913494,
          -0.5500327799891596,
          -1.6427355514887694,
          0.8197944489201987,
          -0.9823742404275926,
          -0.7023441940871719,
          0.3420492232639261,
          0.3614086599960736,
          0.9320266717072684,
          0.24940799365624342,
          0.13501132347356098,
          1.7227186975205464,
          1.3028028631329955,
          1.4192000853142765,
          -1.4513472584243803,
          0.6653115648991531,
          0.6212126195957125,
          0.5203849348742722,
          1.1441801437913968,
          0.26324331968163056,
          0.14411448089116888,
          -0.24946884808245628,
          1.2004322807572958,
          -1.33371999712701,
          -1.303350385254543,
          -1.1923060843464355,
          0.218272069680675,
          1.1314974608828123,
          -0.5806652098094076,
          0.5057921370378858,
          0.6890842185174422,
          -0.8682418939632968,
          -0.9738931790805747,
          0.3024580947453506,
          0.5930160505461489,
          0.012493704873780407,
          0.06709321932891561,
          -0.11492440065381442,
          0.9745729681361173,
          -1.1762691951987503,
          0.8146389350431569,
          -0.12569002261219556,
          1.0119713501641898,
          -0.6321713722281166,
          0.4574766710618231,
          -0.6102904166172508,
          0.31641789575822027,
          0.9950217584217503,
          2.006296936240135,
          0.08490037596601381,
          0.052925187470997954,
          1.6438045388296836,
          0.2102712935016528,
          1.4467467102795866,
          -0.8757944378763092,
          0.15823619400094852,
          -1.417545673023298,
          -0.3400532293623823,
          1.2437715025007023,
          -0.7731750885178242,
          0.10291850051799534,
          -0.4336142340159738,
          1.5203031258436455,
          -0.034733446097376816,
          0.4410345083863978,
          0.3890827268596237,
          -0.8946559623109902,
          -0.003957006038530615,
          -0.27046157935920223,
          -0.35782137473497466,
          -1.729359505511331,
          1.7627956055760405,
          0.6392822708605644,
          0.5287036645533052,
          0.7950519326971078,
          1.5328580862628476,
          -0.5029302998523506,
          -0.7119366297274415,
          -0.7714058757418685,
          -0.7764735112899486,
          0.15235160520180058,
          0.10887281717687264,
          0.7941989455346967,
          0.4285636061112597,
          0.6190583066282419,
          0.91499081947152,
          -0.2932480122438687,
          -1.7409169425200517,
          2.733416114332795,
          -1.1754447067447311,
          -1.3793296225880705,
          -1.079092341670199,
          -0.7963535324749649
         ]
        },
        {
         "boxpoints": false,
         "line": {
          "width": 1.3
         },
         "marker": {
          "color": "rgba(55, 128, 191, 1.0)"
         },
         "name": "B",
         "orientation": "v",
         "type": "box",
         "y": [
          -0.3359057780033205,
          -0.4433704710462687,
          0.3465360831123125,
          0.8803170742782787,
          0.288009036532479,
          1.8591582085492402,
          -0.5036424328286201,
          0.7731816011892556,
          -0.6592022646641865,
          1.1650207389240208,
          2.145286799985949,
          0.38318041888760507,
          0.3605136490201095,
          1.2879110751310086,
          0.3870941307195677,
          0.5175548648554993,
          0.13156406589182484,
          0.43726067978794136,
          -0.12406077464839853,
          -0.1584521578624045,
          1.8481676984545645,
          -0.6320254001344748,
          -0.547989679256849,
          -0.7345036188124198,
          -0.838599962443122,
          0.30565502397333477,
          -0.39286841571607833,
          0.12866234223048006,
          0.6671029123469577,
          -1.6506221833593462,
          0.4216935614574125,
          -1.2122340200334463,
          -0.11983788140959518,
          1.9826944376135154,
          1.3703099502731115,
          -1.2150177014024568,
          -0.9976729947573217,
          1.1507693794007992,
          1.3037737483808534,
          -0.27076012375835345,
          0.3866071574516572,
          -0.5107511196435172,
          -0.9168898492795453,
          1.1144615030404976,
          1.1470375704065499,
          0.1518813789372889,
          1.198620765530093,
          -1.079485781920071,
          0.7055827854010577,
          1.1297159187985248,
          -0.11696308792520638,
          -0.6076790190270548,
          -0.32567795806579464,
          -0.6659287720474008,
          1.0696737724187175,
          -0.161034988424284,
          1.1563498686847156,
          0.3866021466927583,
          0.272581455665236,
          -0.34368289428306015,
          -0.18384618137722683,
          -0.5012580084782411,
          -0.6724838243629148,
          0.7344331694237937,
          2.318770733800961,
          2.323045264573243,
          -0.5608271207087145,
          -1.184389077151462,
          0.008319037423178726,
          -1.096836380779569,
          -0.2424576969197716,
          0.538243146218403,
          -2.142972574782624,
          0.8974097458335817,
          -0.010318194682662218,
          -0.6581154280755355,
          1.522477800055998,
          -0.7579847427823956,
          0.05924636221836566,
          0.2190915527842804,
          -0.4867693553796768,
          0.3388177539269479,
          -0.8709481281967048,
          0.4532732220093141,
          -0.9850390012649825,
          0.06967424292427568,
          0.9013408725699227,
          -0.8889565263236228,
          -1.4953853400201986,
          1.2332004819013818,
          0.29559298373114473,
          0.997658383035107,
          0.18918967408095885,
          -0.051056244413894794,
          0.28797982555864904,
          0.5610032454866385,
          -1.7120942228348124,
          -1.5117097048745491,
          0.832181129054585,
          1.8344712732316908
         ]
        },
        {
         "boxpoints": false,
         "line": {
          "width": 1.3
         },
         "marker": {
          "color": "rgba(50, 171, 96, 1.0)"
         },
         "name": "C",
         "orientation": "v",
         "type": "box",
         "y": [
          -1.2532978730908089,
          -1.08728508653962,
          0.2810099897131669,
          0.28572795234952775,
          1.4698772047722144,
          -0.3963659575006133,
          1.1763989990977648,
          -0.8163377973699925,
          1.0060115012509048,
          -0.7138918482215386,
          0.6883261109468227,
          -1.742345100309127,
          0.3936783289548123,
          -0.04079852372677284,
          -1.295204216076111,
          0.37385297373771775,
          0.6157157548283694,
          -0.4849763251667541,
          -0.15343297260882294,
          0.34269138397285814,
          1.194295529137943,
          0.5492398568004113,
          -0.6810296225613278,
          -1.6128892279741904,
          -0.0850969260195267,
          0.7734544387194928,
          -0.2834480250801903,
          -3.4470712470537705,
          0.611533234516993,
          0.1667170044869415,
          -0.1669329080959966,
          -0.23549689119742387,
          1.2513412638668564,
          0.6553322724200078,
          0.2171135753909595,
          0.09898406341847123,
          -0.979710138570761,
          -1.333036917826404,
          0.03755255988192256,
          0.6197517106433479,
          0.923011595410601,
          -0.009300278132760933,
          1.4332594029791803,
          -0.5453631049824771,
          1.382857862039696,
          1.9219429345949208,
          -0.436247679066393,
          -0.8083398005629527,
          -0.8947731295364745,
          -0.4856216476847417,
          1.7298213424634679,
          -0.17946655423496888,
          1.5056216727737806,
          2.002849273124296,
          0.8711995500748396,
          0.626681330577629,
          1.5403534997575812,
          -0.14073729852183495,
          -0.22267895623511597,
          -0.5069809876965274,
          1.978531085289646,
          -1.4649287871044867,
          0.8298006554947647,
          0.56942109535731,
          -1.4523062524639976,
          -0.5542575579380606,
          0.08435547173343336,
          -1.308971621854254,
          0.8691195603073998,
          0.2724056016445801,
          0.1936264520608121,
          -1.361287805977323,
          0.7369084117743792,
          0.40911372288406445,
          0.5885532117384756,
          -0.6381641206733064,
          -0.8547605483606814,
          0.05416171503795708,
          0.970418851559788,
          1.71582873509031,
          1.881987424509346,
          -0.3218196177359385,
          -1.0513356845480373,
          -0.020927458305802216,
          0.11777114036254806,
          -0.3215908580429141,
          -0.2910104372121669,
          0.8528708676012919,
          -0.27045683020222056,
          1.2347122205541794,
          1.1574086023087558,
          -0.6425492043890059,
          1.3121152909783667,
          -0.7380078566402093,
          0.8868862557471037,
          -0.38973722805242755,
          0.43326203497727445,
          0.7367441266770399,
          1.280134260368342,
          -1.0697350133937478
         ]
        },
        {
         "boxpoints": false,
         "line": {
          "width": 1.3
         },
         "marker": {
          "color": "rgba(128, 0, 128, 1.0)"
         },
         "name": "D",
         "orientation": "v",
         "type": "box",
         "y": [
          1.0150673539653818,
          0.7801797455914745,
          -0.4803927904649368,
          0.6055979848455442,
          1.008786758438709,
          0.023964719652546877,
          -0.34249088232411906,
          -1.5757136841787667,
          -1.2595228196575285,
          1.5479296266426186,
          -1.667891888212835,
          -2.9304707516585533,
          -1.2375725780575295,
          -0.08016118590083993,
          -0.908093799587176,
          1.4262107854511754,
          1.1348372431282665,
          1.7525559804561646,
          -2.2104836006372466,
          -0.7144493819718111,
          0.345186227871036,
          -0.4923342757879569,
          -0.19566336816411614,
          0.5383860212364863,
          -0.7262974683800657,
          0.571457491646246,
          0.40744053585215695,
          -1.4644367633999609,
          0.37677590832931107,
          -0.7797553726140088,
          1.4555215429359187,
          -0.634090861545719,
          -0.13503703689895868,
          0.23922282946463885,
          -0.752849756995442,
          -1.6572083372518116,
          0.2722374988280992,
          -0.9301269524343052,
          -1.3049134458185287,
          -1.0864556357953092,
          -0.5210398084393976,
          -1.2120174320242803,
          -0.49102338758956604,
          1.009452815096525,
          0.08791363844742746,
          0.15825724922493187,
          0.11577812035672147,
          0.3715643270628371,
          3.7543884240576624,
          -0.6052944478302311,
          -0.1057233191798161,
          -1.263792161830712,
          0.40963011032787255,
          -0.31623110375908975,
          -0.906148230957082,
          -1.6795898265689735,
          -0.10452649558706589,
          0.5546020797484007,
          0.39996139495275207,
          0.15442905373088403,
          0.5537410323974221,
          1.443482963625378,
          -0.9292607637673629,
          -0.7803850517054651,
          -0.516535132961495,
          1.2224686540745042,
          -0.9943679282622373,
          -0.4107109809970364,
          0.9893651661469751,
          -0.8308332484795458,
          0.589243504362736,
          -1.8212040247636174,
          -0.48785692626022303,
          0.6760235701657388,
          0.3010632487040836,
          1.2460996350652314,
          -0.3383975356262392,
          -1.03324678467663,
          1.640118425811848,
          1.8021100222559114,
          -0.35153889224171175,
          1.3204298563274208,
          0.34597601293931146,
          -1.032349830563655,
          -0.22306948548415415,
          -1.0613925110075237,
          -1.0934183840406753,
          2.5025672360353175,
          0.5642599570726079,
          1.6406429875583208,
          -1.5621527245615558,
          -1.3018319428684324,
          0.6720889294567994,
          -0.6912888885910656,
          1.083359566279782,
          -0.33688496894435577,
          -0.4095731056501877,
          0.014762255517497424,
          -1.1351676072998083,
          -0.41268142250245066
         ]
        }
       ],
       "layout": {
        "legend": {
         "bgcolor": "#F5F6F9",
         "font": {
          "color": "#4D5663"
         }
        },
        "paper_bgcolor": "#F5F6F9",
        "plot_bgcolor": "#F5F6F9",
        "template": {
         "data": {
          "bar": [
           {
            "error_x": {
             "color": "#2a3f5f"
            },
            "error_y": {
             "color": "#2a3f5f"
            },
            "marker": {
             "line": {
              "color": "#E5ECF6",
              "width": 0.5
             }
            },
            "type": "bar"
           }
          ],
          "barpolar": [
           {
            "marker": {
             "line": {
              "color": "#E5ECF6",
              "width": 0.5
             }
            },
            "type": "barpolar"
           }
          ],
          "carpet": [
           {
            "aaxis": {
             "endlinecolor": "#2a3f5f",
             "gridcolor": "white",
             "linecolor": "white",
             "minorgridcolor": "white",
             "startlinecolor": "#2a3f5f"
            },
            "baxis": {
             "endlinecolor": "#2a3f5f",
             "gridcolor": "white",
             "linecolor": "white",
             "minorgridcolor": "white",
             "startlinecolor": "#2a3f5f"
            },
            "type": "carpet"
           }
          ],
          "choropleth": [
           {
            "colorbar": {
             "outlinewidth": 0,
             "ticks": ""
            },
            "type": "choropleth"
           }
          ],
          "contour": [
           {
            "colorbar": {
             "outlinewidth": 0,
             "ticks": ""
            },
            "colorscale": [
             [
              0,
              "#0d0887"
             ],
             [
              0.1111111111111111,
              "#46039f"
             ],
             [
              0.2222222222222222,
              "#7201a8"
             ],
             [
              0.3333333333333333,
              "#9c179e"
             ],
             [
              0.4444444444444444,
              "#bd3786"
             ],
             [
              0.5555555555555556,
              "#d8576b"
             ],
             [
              0.6666666666666666,
              "#ed7953"
             ],
             [
              0.7777777777777778,
              "#fb9f3a"
             ],
             [
              0.8888888888888888,
              "#fdca26"
             ],
             [
              1,
              "#f0f921"
             ]
            ],
            "type": "contour"
           }
          ],
          "contourcarpet": [
           {
            "colorbar": {
             "outlinewidth": 0,
             "ticks": ""
            },
            "type": "contourcarpet"
           }
          ],
          "heatmap": [
           {
            "colorbar": {
             "outlinewidth": 0,
             "ticks": ""
            },
            "colorscale": [
             [
              0,
              "#0d0887"
             ],
             [
              0.1111111111111111,
              "#46039f"
             ],
             [
              0.2222222222222222,
              "#7201a8"
             ],
             [
              0.3333333333333333,
              "#9c179e"
             ],
             [
              0.4444444444444444,
              "#bd3786"
             ],
             [
              0.5555555555555556,
              "#d8576b"
             ],
             [
              0.6666666666666666,
              "#ed7953"
             ],
             [
              0.7777777777777778,
              "#fb9f3a"
             ],
             [
              0.8888888888888888,
              "#fdca26"
             ],
             [
              1,
              "#f0f921"
             ]
            ],
            "type": "heatmap"
           }
          ],
          "heatmapgl": [
           {
            "colorbar": {
             "outlinewidth": 0,
             "ticks": ""
            },
            "colorscale": [
             [
              0,
              "#0d0887"
             ],
             [
              0.1111111111111111,
              "#46039f"
             ],
             [
              0.2222222222222222,
              "#7201a8"
             ],
             [
              0.3333333333333333,
              "#9c179e"
             ],
             [
              0.4444444444444444,
              "#bd3786"
             ],
             [
              0.5555555555555556,
              "#d8576b"
             ],
             [
              0.6666666666666666,
              "#ed7953"
             ],
             [
              0.7777777777777778,
              "#fb9f3a"
             ],
             [
              0.8888888888888888,
              "#fdca26"
             ],
             [
              1,
              "#f0f921"
             ]
            ],
            "type": "heatmapgl"
           }
          ],
          "histogram": [
           {
            "marker": {
             "colorbar": {
              "outlinewidth": 0,
              "ticks": ""
             }
            },
            "type": "histogram"
           }
          ],
          "histogram2d": [
           {
            "colorbar": {
             "outlinewidth": 0,
             "ticks": ""
            },
            "colorscale": [
             [
              0,
              "#0d0887"
             ],
             [
              0.1111111111111111,
              "#46039f"
             ],
             [
              0.2222222222222222,
              "#7201a8"
             ],
             [
              0.3333333333333333,
              "#9c179e"
             ],
             [
              0.4444444444444444,
              "#bd3786"
             ],
             [
              0.5555555555555556,
              "#d8576b"
             ],
             [
              0.6666666666666666,
              "#ed7953"
             ],
             [
              0.7777777777777778,
              "#fb9f3a"
             ],
             [
              0.8888888888888888,
              "#fdca26"
             ],
             [
              1,
              "#f0f921"
             ]
            ],
            "type": "histogram2d"
           }
          ],
          "histogram2dcontour": [
           {
            "colorbar": {
             "outlinewidth": 0,
             "ticks": ""
            },
            "colorscale": [
             [
              0,
              "#0d0887"
             ],
             [
              0.1111111111111111,
              "#46039f"
             ],
             [
              0.2222222222222222,
              "#7201a8"
             ],
             [
              0.3333333333333333,
              "#9c179e"
             ],
             [
              0.4444444444444444,
              "#bd3786"
             ],
             [
              0.5555555555555556,
              "#d8576b"
             ],
             [
              0.6666666666666666,
              "#ed7953"
             ],
             [
              0.7777777777777778,
              "#fb9f3a"
             ],
             [
              0.8888888888888888,
              "#fdca26"
             ],
             [
              1,
              "#f0f921"
             ]
            ],
            "type": "histogram2dcontour"
           }
          ],
          "mesh3d": [
           {
            "colorbar": {
             "outlinewidth": 0,
             "ticks": ""
            },
            "type": "mesh3d"
           }
          ],
          "parcoords": [
           {
            "line": {
             "colorbar": {
              "outlinewidth": 0,
              "ticks": ""
             }
            },
            "type": "parcoords"
           }
          ],
          "pie": [
           {
            "automargin": true,
            "type": "pie"
           }
          ],
          "scatter": [
           {
            "marker": {
             "colorbar": {
              "outlinewidth": 0,
              "ticks": ""
             }
            },
            "type": "scatter"
           }
          ],
          "scatter3d": [
           {
            "line": {
             "colorbar": {
              "outlinewidth": 0,
              "ticks": ""
             }
            },
            "marker": {
             "colorbar": {
              "outlinewidth": 0,
              "ticks": ""
             }
            },
            "type": "scatter3d"
           }
          ],
          "scattercarpet": [
           {
            "marker": {
             "colorbar": {
              "outlinewidth": 0,
              "ticks": ""
             }
            },
            "type": "scattercarpet"
           }
          ],
          "scattergeo": [
           {
            "marker": {
             "colorbar": {
              "outlinewidth": 0,
              "ticks": ""
             }
            },
            "type": "scattergeo"
           }
          ],
          "scattergl": [
           {
            "marker": {
             "colorbar": {
              "outlinewidth": 0,
              "ticks": ""
             }
            },
            "type": "scattergl"
           }
          ],
          "scattermapbox": [
           {
            "marker": {
             "colorbar": {
              "outlinewidth": 0,
              "ticks": ""
             }
            },
            "type": "scattermapbox"
           }
          ],
          "scatterpolar": [
           {
            "marker": {
             "colorbar": {
              "outlinewidth": 0,
              "ticks": ""
             }
            },
            "type": "scatterpolar"
           }
          ],
          "scatterpolargl": [
           {
            "marker": {
             "colorbar": {
              "outlinewidth": 0,
              "ticks": ""
             }
            },
            "type": "scatterpolargl"
           }
          ],
          "scatterternary": [
           {
            "marker": {
             "colorbar": {
              "outlinewidth": 0,
              "ticks": ""
             }
            },
            "type": "scatterternary"
           }
          ],
          "surface": [
           {
            "colorbar": {
             "outlinewidth": 0,
             "ticks": ""
            },
            "colorscale": [
             [
              0,
              "#0d0887"
             ],
             [
              0.1111111111111111,
              "#46039f"
             ],
             [
              0.2222222222222222,
              "#7201a8"
             ],
             [
              0.3333333333333333,
              "#9c179e"
             ],
             [
              0.4444444444444444,
              "#bd3786"
             ],
             [
              0.5555555555555556,
              "#d8576b"
             ],
             [
              0.6666666666666666,
              "#ed7953"
             ],
             [
              0.7777777777777778,
              "#fb9f3a"
             ],
             [
              0.8888888888888888,
              "#fdca26"
             ],
             [
              1,
              "#f0f921"
             ]
            ],
            "type": "surface"
           }
          ],
          "table": [
           {
            "cells": {
             "fill": {
              "color": "#EBF0F8"
             },
             "line": {
              "color": "white"
             }
            },
            "header": {
             "fill": {
              "color": "#C8D4E3"
             },
             "line": {
              "color": "white"
             }
            },
            "type": "table"
           }
          ]
         },
         "layout": {
          "annotationdefaults": {
           "arrowcolor": "#2a3f5f",
           "arrowhead": 0,
           "arrowwidth": 1
          },
          "coloraxis": {
           "colorbar": {
            "outlinewidth": 0,
            "ticks": ""
           }
          },
          "colorscale": {
           "diverging": [
            [
             0,
             "#8e0152"
            ],
            [
             0.1,
             "#c51b7d"
            ],
            [
             0.2,
             "#de77ae"
            ],
            [
             0.3,
             "#f1b6da"
            ],
            [
             0.4,
             "#fde0ef"
            ],
            [
             0.5,
             "#f7f7f7"
            ],
            [
             0.6,
             "#e6f5d0"
            ],
            [
             0.7,
             "#b8e186"
            ],
            [
             0.8,
             "#7fbc41"
            ],
            [
             0.9,
             "#4d9221"
            ],
            [
             1,
             "#276419"
            ]
           ],
           "sequential": [
            [
             0,
             "#0d0887"
            ],
            [
             0.1111111111111111,
             "#46039f"
            ],
            [
             0.2222222222222222,
             "#7201a8"
            ],
            [
             0.3333333333333333,
             "#9c179e"
            ],
            [
             0.4444444444444444,
             "#bd3786"
            ],
            [
             0.5555555555555556,
             "#d8576b"
            ],
            [
             0.6666666666666666,
             "#ed7953"
            ],
            [
             0.7777777777777778,
             "#fb9f3a"
            ],
            [
             0.8888888888888888,
             "#fdca26"
            ],
            [
             1,
             "#f0f921"
            ]
           ],
           "sequentialminus": [
            [
             0,
             "#0d0887"
            ],
            [
             0.1111111111111111,
             "#46039f"
            ],
            [
             0.2222222222222222,
             "#7201a8"
            ],
            [
             0.3333333333333333,
             "#9c179e"
            ],
            [
             0.4444444444444444,
             "#bd3786"
            ],
            [
             0.5555555555555556,
             "#d8576b"
            ],
            [
             0.6666666666666666,
             "#ed7953"
            ],
            [
             0.7777777777777778,
             "#fb9f3a"
            ],
            [
             0.8888888888888888,
             "#fdca26"
            ],
            [
             1,
             "#f0f921"
            ]
           ]
          },
          "colorway": [
           "#636efa",
           "#EF553B",
           "#00cc96",
           "#ab63fa",
           "#FFA15A",
           "#19d3f3",
           "#FF6692",
           "#B6E880",
           "#FF97FF",
           "#FECB52"
          ],
          "font": {
           "color": "#2a3f5f"
          },
          "geo": {
           "bgcolor": "white",
           "lakecolor": "white",
           "landcolor": "#E5ECF6",
           "showlakes": true,
           "showland": true,
           "subunitcolor": "white"
          },
          "hoverlabel": {
           "align": "left"
          },
          "hovermode": "closest",
          "mapbox": {
           "style": "light"
          },
          "paper_bgcolor": "white",
          "plot_bgcolor": "#E5ECF6",
          "polar": {
           "angularaxis": {
            "gridcolor": "white",
            "linecolor": "white",
            "ticks": ""
           },
           "bgcolor": "#E5ECF6",
           "radialaxis": {
            "gridcolor": "white",
            "linecolor": "white",
            "ticks": ""
           }
          },
          "scene": {
           "xaxis": {
            "backgroundcolor": "#E5ECF6",
            "gridcolor": "white",
            "gridwidth": 2,
            "linecolor": "white",
            "showbackground": true,
            "ticks": "",
            "zerolinecolor": "white"
           },
           "yaxis": {
            "backgroundcolor": "#E5ECF6",
            "gridcolor": "white",
            "gridwidth": 2,
            "linecolor": "white",
            "showbackground": true,
            "ticks": "",
            "zerolinecolor": "white"
           },
           "zaxis": {
            "backgroundcolor": "#E5ECF6",
            "gridcolor": "white",
            "gridwidth": 2,
            "linecolor": "white",
            "showbackground": true,
            "ticks": "",
            "zerolinecolor": "white"
           }
          },
          "shapedefaults": {
           "line": {
            "color": "#2a3f5f"
           }
          },
          "ternary": {
           "aaxis": {
            "gridcolor": "white",
            "linecolor": "white",
            "ticks": ""
           },
           "baxis": {
            "gridcolor": "white",
            "linecolor": "white",
            "ticks": ""
           },
           "bgcolor": "#E5ECF6",
           "caxis": {
            "gridcolor": "white",
            "linecolor": "white",
            "ticks": ""
           }
          },
          "title": {
           "x": 0.05
          },
          "xaxis": {
           "automargin": true,
           "gridcolor": "white",
           "linecolor": "white",
           "ticks": "",
           "title": {
            "standoff": 15
           },
           "zerolinecolor": "white",
           "zerolinewidth": 2
          },
          "yaxis": {
           "automargin": true,
           "gridcolor": "white",
           "linecolor": "white",
           "ticks": "",
           "title": {
            "standoff": 15
           },
           "zerolinecolor": "white",
           "zerolinewidth": 2
          }
         }
        },
        "title": {
         "font": {
          "color": "#4D5663"
         }
        },
        "xaxis": {
         "gridcolor": "#E1E5ED",
         "showgrid": true,
         "tickfont": {
          "color": "#4D5663"
         },
         "title": {
          "font": {
           "color": "#4D5663"
          },
          "text": ""
         },
         "zerolinecolor": "#E1E5ED"
        },
        "yaxis": {
         "gridcolor": "#E1E5ED",
         "showgrid": true,
         "tickfont": {
          "color": "#4D5663"
         },
         "title": {
          "font": {
           "color": "#4D5663"
          },
          "text": ""
         },
         "zerolinecolor": "#E1E5ED"
        }
       }
      },
      "text/html": [
       "<div>\n",
       "        \n",
       "        \n",
       "            <div id=\"58f7cc08-e403-49d7-b2cb-015b760024cf\" class=\"plotly-graph-div\" style=\"height:525px; width:100%;\"></div>\n",
       "            <script type=\"text/javascript\">\n",
       "                require([\"plotly\"], function(Plotly) {\n",
       "                    window.PLOTLYENV=window.PLOTLYENV || {};\n",
       "                    window.PLOTLYENV.BASE_URL='https://plot.ly';\n",
       "                    \n",
       "                if (document.getElementById(\"58f7cc08-e403-49d7-b2cb-015b760024cf\")) {\n",
       "                    Plotly.newPlot(\n",
       "                        '58f7cc08-e403-49d7-b2cb-015b760024cf',\n",
       "                        [{\"boxpoints\": false, \"line\": {\"width\": 1.3}, \"marker\": {\"color\": \"rgba(255, 153, 51, 1.0)\"}, \"name\": \"A\", \"orientation\": \"v\", \"type\": \"box\", \"y\": [0.0919618728699051, -0.22143263970710958, 1.6920061692431745, 0.9431067925271498, 0.3594422328619513, -0.6828184970650549, 1.3477112305154917, -0.25654138522913494, -0.5500327799891596, -1.6427355514887694, 0.8197944489201987, -0.9823742404275926, -0.7023441940871719, 0.3420492232639261, 0.3614086599960736, 0.9320266717072684, 0.24940799365624342, 0.13501132347356098, 1.7227186975205464, 1.3028028631329955, 1.4192000853142765, -1.4513472584243803, 0.6653115648991531, 0.6212126195957125, 0.5203849348742722, 1.1441801437913968, 0.26324331968163056, 0.14411448089116888, -0.24946884808245628, 1.2004322807572958, -1.33371999712701, -1.303350385254543, -1.1923060843464355, 0.218272069680675, 1.1314974608828123, -0.5806652098094076, 0.5057921370378858, 0.6890842185174422, -0.8682418939632968, -0.9738931790805747, 0.3024580947453506, 0.5930160505461489, 0.012493704873780407, 0.06709321932891561, -0.11492440065381442, 0.9745729681361173, -1.1762691951987503, 0.8146389350431569, -0.12569002261219556, 1.0119713501641898, -0.6321713722281166, 0.4574766710618231, -0.6102904166172508, 0.31641789575822027, 0.9950217584217503, 2.006296936240135, 0.08490037596601381, 0.052925187470997954, 1.6438045388296836, 0.2102712935016528, 1.4467467102795866, -0.8757944378763092, 0.15823619400094852, -1.417545673023298, -0.3400532293623823, 1.2437715025007023, -0.7731750885178242, 0.10291850051799534, -0.4336142340159738, 1.5203031258436455, -0.034733446097376816, 0.4410345083863978, 0.3890827268596237, -0.8946559623109902, -0.003957006038530615, -0.27046157935920223, -0.35782137473497466, -1.729359505511331, 1.7627956055760405, 0.6392822708605644, 0.5287036645533052, 0.7950519326971078, 1.5328580862628476, -0.5029302998523506, -0.7119366297274415, -0.7714058757418685, -0.7764735112899486, 0.15235160520180058, 0.10887281717687264, 0.7941989455346967, 0.4285636061112597, 0.6190583066282419, 0.91499081947152, -0.2932480122438687, -1.7409169425200517, 2.733416114332795, -1.1754447067447311, -1.3793296225880705, -1.079092341670199, -0.7963535324749649]}, {\"boxpoints\": false, \"line\": {\"width\": 1.3}, \"marker\": {\"color\": \"rgba(55, 128, 191, 1.0)\"}, \"name\": \"B\", \"orientation\": \"v\", \"type\": \"box\", \"y\": [-0.3359057780033205, -0.4433704710462687, 0.3465360831123125, 0.8803170742782787, 0.288009036532479, 1.8591582085492402, -0.5036424328286201, 0.7731816011892556, -0.6592022646641865, 1.1650207389240208, 2.145286799985949, 0.38318041888760507, 0.3605136490201095, 1.2879110751310086, 0.3870941307195677, 0.5175548648554993, 0.13156406589182484, 0.43726067978794136, -0.12406077464839853, -0.1584521578624045, 1.8481676984545645, -0.6320254001344748, -0.547989679256849, -0.7345036188124198, -0.838599962443122, 0.30565502397333477, -0.39286841571607833, 0.12866234223048006, 0.6671029123469577, -1.6506221833593462, 0.4216935614574125, -1.2122340200334463, -0.11983788140959518, 1.9826944376135154, 1.3703099502731115, -1.2150177014024568, -0.9976729947573217, 1.1507693794007992, 1.3037737483808534, -0.27076012375835345, 0.3866071574516572, -0.5107511196435172, -0.9168898492795453, 1.1144615030404976, 1.1470375704065499, 0.1518813789372889, 1.198620765530093, -1.079485781920071, 0.7055827854010577, 1.1297159187985248, -0.11696308792520638, -0.6076790190270548, -0.32567795806579464, -0.6659287720474008, 1.0696737724187175, -0.161034988424284, 1.1563498686847156, 0.3866021466927583, 0.272581455665236, -0.34368289428306015, -0.18384618137722683, -0.5012580084782411, -0.6724838243629148, 0.7344331694237937, 2.318770733800961, 2.323045264573243, -0.5608271207087145, -1.184389077151462, 0.008319037423178726, -1.096836380779569, -0.2424576969197716, 0.538243146218403, -2.142972574782624, 0.8974097458335817, -0.010318194682662218, -0.6581154280755355, 1.522477800055998, -0.7579847427823956, 0.05924636221836566, 0.2190915527842804, -0.4867693553796768, 0.3388177539269479, -0.8709481281967048, 0.4532732220093141, -0.9850390012649825, 0.06967424292427568, 0.9013408725699227, -0.8889565263236228, -1.4953853400201986, 1.2332004819013818, 0.29559298373114473, 0.997658383035107, 0.18918967408095885, -0.051056244413894794, 0.28797982555864904, 0.5610032454866385, -1.7120942228348124, -1.5117097048745491, 0.832181129054585, 1.8344712732316908]}, {\"boxpoints\": false, \"line\": {\"width\": 1.3}, \"marker\": {\"color\": \"rgba(50, 171, 96, 1.0)\"}, \"name\": \"C\", \"orientation\": \"v\", \"type\": \"box\", \"y\": [-1.2532978730908089, -1.08728508653962, 0.2810099897131669, 0.28572795234952775, 1.4698772047722144, -0.3963659575006133, 1.1763989990977648, -0.8163377973699925, 1.0060115012509048, -0.7138918482215386, 0.6883261109468227, -1.742345100309127, 0.3936783289548123, -0.04079852372677284, -1.295204216076111, 0.37385297373771775, 0.6157157548283694, -0.4849763251667541, -0.15343297260882294, 0.34269138397285814, 1.194295529137943, 0.5492398568004113, -0.6810296225613278, -1.6128892279741904, -0.0850969260195267, 0.7734544387194928, -0.2834480250801903, -3.4470712470537705, 0.611533234516993, 0.1667170044869415, -0.1669329080959966, -0.23549689119742387, 1.2513412638668564, 0.6553322724200078, 0.2171135753909595, 0.09898406341847123, -0.979710138570761, -1.333036917826404, 0.03755255988192256, 0.6197517106433479, 0.923011595410601, -0.009300278132760933, 1.4332594029791803, -0.5453631049824771, 1.382857862039696, 1.9219429345949208, -0.436247679066393, -0.8083398005629527, -0.8947731295364745, -0.4856216476847417, 1.7298213424634679, -0.17946655423496888, 1.5056216727737806, 2.002849273124296, 0.8711995500748396, 0.626681330577629, 1.5403534997575812, -0.14073729852183495, -0.22267895623511597, -0.5069809876965274, 1.978531085289646, -1.4649287871044867, 0.8298006554947647, 0.56942109535731, -1.4523062524639976, -0.5542575579380606, 0.08435547173343336, -1.308971621854254, 0.8691195603073998, 0.2724056016445801, 0.1936264520608121, -1.361287805977323, 0.7369084117743792, 0.40911372288406445, 0.5885532117384756, -0.6381641206733064, -0.8547605483606814, 0.05416171503795708, 0.970418851559788, 1.71582873509031, 1.881987424509346, -0.3218196177359385, -1.0513356845480373, -0.020927458305802216, 0.11777114036254806, -0.3215908580429141, -0.2910104372121669, 0.8528708676012919, -0.27045683020222056, 1.2347122205541794, 1.1574086023087558, -0.6425492043890059, 1.3121152909783667, -0.7380078566402093, 0.8868862557471037, -0.38973722805242755, 0.43326203497727445, 0.7367441266770399, 1.280134260368342, -1.0697350133937478]}, {\"boxpoints\": false, \"line\": {\"width\": 1.3}, \"marker\": {\"color\": \"rgba(128, 0, 128, 1.0)\"}, \"name\": \"D\", \"orientation\": \"v\", \"type\": \"box\", \"y\": [1.0150673539653818, 0.7801797455914745, -0.4803927904649368, 0.6055979848455442, 1.008786758438709, 0.023964719652546877, -0.34249088232411906, -1.5757136841787667, -1.2595228196575285, 1.5479296266426186, -1.667891888212835, -2.9304707516585533, -1.2375725780575295, -0.08016118590083993, -0.908093799587176, 1.4262107854511754, 1.1348372431282665, 1.7525559804561646, -2.2104836006372466, -0.7144493819718111, 0.345186227871036, -0.4923342757879569, -0.19566336816411614, 0.5383860212364863, -0.7262974683800657, 0.571457491646246, 0.40744053585215695, -1.4644367633999609, 0.37677590832931107, -0.7797553726140088, 1.4555215429359187, -0.634090861545719, -0.13503703689895868, 0.23922282946463885, -0.752849756995442, -1.6572083372518116, 0.2722374988280992, -0.9301269524343052, -1.3049134458185287, -1.0864556357953092, -0.5210398084393976, -1.2120174320242803, -0.49102338758956604, 1.009452815096525, 0.08791363844742746, 0.15825724922493187, 0.11577812035672147, 0.3715643270628371, 3.7543884240576624, -0.6052944478302311, -0.1057233191798161, -1.263792161830712, 0.40963011032787255, -0.31623110375908975, -0.906148230957082, -1.6795898265689735, -0.10452649558706589, 0.5546020797484007, 0.39996139495275207, 0.15442905373088403, 0.5537410323974221, 1.443482963625378, -0.9292607637673629, -0.7803850517054651, -0.516535132961495, 1.2224686540745042, -0.9943679282622373, -0.4107109809970364, 0.9893651661469751, -0.8308332484795458, 0.589243504362736, -1.8212040247636174, -0.48785692626022303, 0.6760235701657388, 0.3010632487040836, 1.2460996350652314, -0.3383975356262392, -1.03324678467663, 1.640118425811848, 1.8021100222559114, -0.35153889224171175, 1.3204298563274208, 0.34597601293931146, -1.032349830563655, -0.22306948548415415, -1.0613925110075237, -1.0934183840406753, 2.5025672360353175, 0.5642599570726079, 1.6406429875583208, -1.5621527245615558, -1.3018319428684324, 0.6720889294567994, -0.6912888885910656, 1.083359566279782, -0.33688496894435577, -0.4095731056501877, 0.014762255517497424, -1.1351676072998083, -0.41268142250245066]}],\n",
       "                        {\"legend\": {\"bgcolor\": \"#F5F6F9\", \"font\": {\"color\": \"#4D5663\"}}, \"paper_bgcolor\": \"#F5F6F9\", \"plot_bgcolor\": \"#F5F6F9\", \"template\": {\"data\": {\"bar\": [{\"error_x\": {\"color\": \"#2a3f5f\"}, \"error_y\": {\"color\": \"#2a3f5f\"}, \"marker\": {\"line\": {\"color\": \"#E5ECF6\", \"width\": 0.5}}, \"type\": \"bar\"}], \"barpolar\": [{\"marker\": {\"line\": {\"color\": \"#E5ECF6\", \"width\": 0.5}}, \"type\": \"barpolar\"}], \"carpet\": [{\"aaxis\": {\"endlinecolor\": \"#2a3f5f\", \"gridcolor\": \"white\", \"linecolor\": \"white\", \"minorgridcolor\": \"white\", \"startlinecolor\": \"#2a3f5f\"}, \"baxis\": {\"endlinecolor\": \"#2a3f5f\", \"gridcolor\": \"white\", \"linecolor\": \"white\", \"minorgridcolor\": \"white\", \"startlinecolor\": \"#2a3f5f\"}, \"type\": \"carpet\"}], \"choropleth\": [{\"colorbar\": {\"outlinewidth\": 0, \"ticks\": \"\"}, \"type\": \"choropleth\"}], \"contour\": [{\"colorbar\": {\"outlinewidth\": 0, \"ticks\": \"\"}, \"colorscale\": [[0.0, \"#0d0887\"], [0.1111111111111111, \"#46039f\"], [0.2222222222222222, \"#7201a8\"], [0.3333333333333333, \"#9c179e\"], [0.4444444444444444, \"#bd3786\"], [0.5555555555555556, \"#d8576b\"], [0.6666666666666666, \"#ed7953\"], [0.7777777777777778, \"#fb9f3a\"], [0.8888888888888888, \"#fdca26\"], [1.0, \"#f0f921\"]], \"type\": \"contour\"}], \"contourcarpet\": [{\"colorbar\": {\"outlinewidth\": 0, \"ticks\": \"\"}, \"type\": \"contourcarpet\"}], \"heatmap\": [{\"colorbar\": {\"outlinewidth\": 0, \"ticks\": \"\"}, \"colorscale\": [[0.0, \"#0d0887\"], [0.1111111111111111, \"#46039f\"], [0.2222222222222222, \"#7201a8\"], [0.3333333333333333, \"#9c179e\"], [0.4444444444444444, \"#bd3786\"], [0.5555555555555556, \"#d8576b\"], [0.6666666666666666, \"#ed7953\"], [0.7777777777777778, \"#fb9f3a\"], [0.8888888888888888, \"#fdca26\"], [1.0, \"#f0f921\"]], \"type\": \"heatmap\"}], \"heatmapgl\": [{\"colorbar\": {\"outlinewidth\": 0, \"ticks\": \"\"}, \"colorscale\": [[0.0, \"#0d0887\"], [0.1111111111111111, \"#46039f\"], [0.2222222222222222, \"#7201a8\"], [0.3333333333333333, \"#9c179e\"], [0.4444444444444444, \"#bd3786\"], [0.5555555555555556, \"#d8576b\"], [0.6666666666666666, \"#ed7953\"], [0.7777777777777778, \"#fb9f3a\"], [0.8888888888888888, \"#fdca26\"], [1.0, \"#f0f921\"]], \"type\": \"heatmapgl\"}], \"histogram\": [{\"marker\": {\"colorbar\": {\"outlinewidth\": 0, \"ticks\": \"\"}}, \"type\": \"histogram\"}], \"histogram2d\": [{\"colorbar\": {\"outlinewidth\": 0, \"ticks\": \"\"}, \"colorscale\": [[0.0, \"#0d0887\"], [0.1111111111111111, \"#46039f\"], [0.2222222222222222, \"#7201a8\"], [0.3333333333333333, \"#9c179e\"], [0.4444444444444444, \"#bd3786\"], [0.5555555555555556, \"#d8576b\"], [0.6666666666666666, \"#ed7953\"], [0.7777777777777778, \"#fb9f3a\"], [0.8888888888888888, \"#fdca26\"], [1.0, \"#f0f921\"]], \"type\": \"histogram2d\"}], \"histogram2dcontour\": [{\"colorbar\": {\"outlinewidth\": 0, \"ticks\": \"\"}, \"colorscale\": [[0.0, \"#0d0887\"], [0.1111111111111111, \"#46039f\"], [0.2222222222222222, \"#7201a8\"], [0.3333333333333333, \"#9c179e\"], [0.4444444444444444, \"#bd3786\"], [0.5555555555555556, \"#d8576b\"], [0.6666666666666666, \"#ed7953\"], [0.7777777777777778, \"#fb9f3a\"], [0.8888888888888888, \"#fdca26\"], [1.0, \"#f0f921\"]], \"type\": \"histogram2dcontour\"}], \"mesh3d\": [{\"colorbar\": {\"outlinewidth\": 0, \"ticks\": \"\"}, \"type\": \"mesh3d\"}], \"parcoords\": [{\"line\": {\"colorbar\": {\"outlinewidth\": 0, \"ticks\": \"\"}}, \"type\": \"parcoords\"}], \"pie\": [{\"automargin\": true, \"type\": \"pie\"}], \"scatter\": [{\"marker\": {\"colorbar\": {\"outlinewidth\": 0, \"ticks\": \"\"}}, \"type\": \"scatter\"}], \"scatter3d\": [{\"line\": {\"colorbar\": {\"outlinewidth\": 0, \"ticks\": \"\"}}, \"marker\": {\"colorbar\": {\"outlinewidth\": 0, \"ticks\": \"\"}}, \"type\": \"scatter3d\"}], \"scattercarpet\": [{\"marker\": {\"colorbar\": {\"outlinewidth\": 0, \"ticks\": \"\"}}, \"type\": \"scattercarpet\"}], \"scattergeo\": [{\"marker\": {\"colorbar\": {\"outlinewidth\": 0, \"ticks\": \"\"}}, \"type\": \"scattergeo\"}], \"scattergl\": [{\"marker\": {\"colorbar\": {\"outlinewidth\": 0, \"ticks\": \"\"}}, \"type\": \"scattergl\"}], \"scattermapbox\": [{\"marker\": {\"colorbar\": {\"outlinewidth\": 0, \"ticks\": \"\"}}, \"type\": \"scattermapbox\"}], \"scatterpolar\": [{\"marker\": {\"colorbar\": {\"outlinewidth\": 0, \"ticks\": \"\"}}, \"type\": \"scatterpolar\"}], \"scatterpolargl\": [{\"marker\": {\"colorbar\": {\"outlinewidth\": 0, \"ticks\": \"\"}}, \"type\": \"scatterpolargl\"}], \"scatterternary\": [{\"marker\": {\"colorbar\": {\"outlinewidth\": 0, \"ticks\": \"\"}}, \"type\": \"scatterternary\"}], \"surface\": [{\"colorbar\": {\"outlinewidth\": 0, \"ticks\": \"\"}, \"colorscale\": [[0.0, \"#0d0887\"], [0.1111111111111111, \"#46039f\"], [0.2222222222222222, \"#7201a8\"], [0.3333333333333333, \"#9c179e\"], [0.4444444444444444, \"#bd3786\"], [0.5555555555555556, \"#d8576b\"], [0.6666666666666666, \"#ed7953\"], [0.7777777777777778, \"#fb9f3a\"], [0.8888888888888888, \"#fdca26\"], [1.0, \"#f0f921\"]], \"type\": \"surface\"}], \"table\": [{\"cells\": {\"fill\": {\"color\": \"#EBF0F8\"}, \"line\": {\"color\": \"white\"}}, \"header\": {\"fill\": {\"color\": \"#C8D4E3\"}, \"line\": {\"color\": \"white\"}}, \"type\": \"table\"}]}, \"layout\": {\"annotationdefaults\": {\"arrowcolor\": \"#2a3f5f\", \"arrowhead\": 0, \"arrowwidth\": 1}, \"coloraxis\": {\"colorbar\": {\"outlinewidth\": 0, \"ticks\": \"\"}}, \"colorscale\": {\"diverging\": [[0, \"#8e0152\"], [0.1, \"#c51b7d\"], [0.2, \"#de77ae\"], [0.3, \"#f1b6da\"], [0.4, \"#fde0ef\"], [0.5, \"#f7f7f7\"], [0.6, \"#e6f5d0\"], [0.7, \"#b8e186\"], [0.8, \"#7fbc41\"], [0.9, \"#4d9221\"], [1, \"#276419\"]], \"sequential\": [[0.0, \"#0d0887\"], [0.1111111111111111, \"#46039f\"], [0.2222222222222222, \"#7201a8\"], [0.3333333333333333, \"#9c179e\"], [0.4444444444444444, \"#bd3786\"], [0.5555555555555556, \"#d8576b\"], [0.6666666666666666, \"#ed7953\"], [0.7777777777777778, \"#fb9f3a\"], [0.8888888888888888, \"#fdca26\"], [1.0, \"#f0f921\"]], \"sequentialminus\": [[0.0, \"#0d0887\"], [0.1111111111111111, \"#46039f\"], [0.2222222222222222, \"#7201a8\"], [0.3333333333333333, \"#9c179e\"], [0.4444444444444444, \"#bd3786\"], [0.5555555555555556, \"#d8576b\"], [0.6666666666666666, \"#ed7953\"], [0.7777777777777778, \"#fb9f3a\"], [0.8888888888888888, \"#fdca26\"], [1.0, \"#f0f921\"]]}, \"colorway\": [\"#636efa\", \"#EF553B\", \"#00cc96\", \"#ab63fa\", \"#FFA15A\", \"#19d3f3\", \"#FF6692\", \"#B6E880\", \"#FF97FF\", \"#FECB52\"], \"font\": {\"color\": \"#2a3f5f\"}, \"geo\": {\"bgcolor\": \"white\", \"lakecolor\": \"white\", \"landcolor\": \"#E5ECF6\", \"showlakes\": true, \"showland\": true, \"subunitcolor\": \"white\"}, \"hoverlabel\": {\"align\": \"left\"}, \"hovermode\": \"closest\", \"mapbox\": {\"style\": \"light\"}, \"paper_bgcolor\": \"white\", \"plot_bgcolor\": \"#E5ECF6\", \"polar\": {\"angularaxis\": {\"gridcolor\": \"white\", \"linecolor\": \"white\", \"ticks\": \"\"}, \"bgcolor\": \"#E5ECF6\", \"radialaxis\": {\"gridcolor\": \"white\", \"linecolor\": \"white\", \"ticks\": \"\"}}, \"scene\": {\"xaxis\": {\"backgroundcolor\": \"#E5ECF6\", \"gridcolor\": \"white\", \"gridwidth\": 2, \"linecolor\": \"white\", \"showbackground\": true, \"ticks\": \"\", \"zerolinecolor\": \"white\"}, \"yaxis\": {\"backgroundcolor\": \"#E5ECF6\", \"gridcolor\": \"white\", \"gridwidth\": 2, \"linecolor\": \"white\", \"showbackground\": true, \"ticks\": \"\", \"zerolinecolor\": \"white\"}, \"zaxis\": {\"backgroundcolor\": \"#E5ECF6\", \"gridcolor\": \"white\", \"gridwidth\": 2, \"linecolor\": \"white\", \"showbackground\": true, \"ticks\": \"\", \"zerolinecolor\": \"white\"}}, \"shapedefaults\": {\"line\": {\"color\": \"#2a3f5f\"}}, \"ternary\": {\"aaxis\": {\"gridcolor\": \"white\", \"linecolor\": \"white\", \"ticks\": \"\"}, \"baxis\": {\"gridcolor\": \"white\", \"linecolor\": \"white\", \"ticks\": \"\"}, \"bgcolor\": \"#E5ECF6\", \"caxis\": {\"gridcolor\": \"white\", \"linecolor\": \"white\", \"ticks\": \"\"}}, \"title\": {\"x\": 0.05}, \"xaxis\": {\"automargin\": true, \"gridcolor\": \"white\", \"linecolor\": \"white\", \"ticks\": \"\", \"title\": {\"standoff\": 15}, \"zerolinecolor\": \"white\", \"zerolinewidth\": 2}, \"yaxis\": {\"automargin\": true, \"gridcolor\": \"white\", \"linecolor\": \"white\", \"ticks\": \"\", \"title\": {\"standoff\": 15}, \"zerolinecolor\": \"white\", \"zerolinewidth\": 2}}}, \"title\": {\"font\": {\"color\": \"#4D5663\"}}, \"xaxis\": {\"gridcolor\": \"#E1E5ED\", \"showgrid\": true, \"tickfont\": {\"color\": \"#4D5663\"}, \"title\": {\"font\": {\"color\": \"#4D5663\"}, \"text\": \"\"}, \"zerolinecolor\": \"#E1E5ED\"}, \"yaxis\": {\"gridcolor\": \"#E1E5ED\", \"showgrid\": true, \"tickfont\": {\"color\": \"#4D5663\"}, \"title\": {\"font\": {\"color\": \"#4D5663\"}, \"text\": \"\"}, \"zerolinecolor\": \"#E1E5ED\"}},\n",
       "                        {\"showLink\": true, \"linkText\": \"Export to plot.ly\", \"plotlyServerURL\": \"https://plot.ly\", \"responsive\": true}\n",
       "                    ).then(function(){\n",
       "                            \n",
       "var gd = document.getElementById('58f7cc08-e403-49d7-b2cb-015b760024cf');\n",
       "var x = new MutationObserver(function (mutations, observer) {{\n",
       "        var display = window.getComputedStyle(gd).display;\n",
       "        if (!display || display === 'none') {{\n",
       "            console.log([gd, 'removed!']);\n",
       "            Plotly.purge(gd);\n",
       "            observer.disconnect();\n",
       "        }}\n",
       "}});\n",
       "\n",
       "// Listen for the removal of the full notebook cells\n",
       "var notebookContainer = gd.closest('#notebook-container');\n",
       "if (notebookContainer) {{\n",
       "    x.observe(notebookContainer, {childList: true});\n",
       "}}\n",
       "\n",
       "// Listen for the clearing of the current output cell\n",
       "var outputEl = gd.closest('.output');\n",
       "if (outputEl) {{\n",
       "    x.observe(outputEl, {childList: true});\n",
       "}}\n",
       "\n",
       "                        })\n",
       "                };\n",
       "                });\n",
       "            </script>\n",
       "        </div>"
      ]
     },
     "metadata": {},
     "output_type": "display_data"
    }
   ],
   "source": [
    "df.iplot(kind='box')"
   ]
  },
  {
   "cell_type": "markdown",
   "metadata": {},
   "source": [
    "## Superfícies 3D"
   ]
  },
  {
   "cell_type": "code",
   "execution_count": 15,
   "metadata": {},
   "outputs": [
    {
     "data": {
      "application/vnd.plotly.v1+json": {
       "config": {
        "linkText": "Export to plot.ly",
        "plotlyServerURL": "https://plot.ly",
        "showLink": true
       },
       "data": [
        {
         "colorscale": [
          [
           0,
           "rgb(165,0,38)"
          ],
          [
           0.1,
           "rgb(215,48,39)"
          ],
          [
           0.2,
           "rgb(244,109,67)"
          ],
          [
           0.3,
           "rgb(253,174,97)"
          ],
          [
           0.4,
           "rgb(254,224,144)"
          ],
          [
           0.5,
           "rgb(255,255,191)"
          ],
          [
           0.6,
           "rgb(224,243,248)"
          ],
          [
           0.7,
           "rgb(171,217,233)"
          ],
          [
           0.8,
           "rgb(116,173,209)"
          ],
          [
           0.9,
           "rgb(69,117,180)"
          ],
          [
           1,
           "rgb(49,54,149)"
          ]
         ],
         "type": "surface",
         "x": [
          0,
          1,
          2,
          3,
          4
         ],
         "y": [
          "x",
          "y",
          "z"
         ],
         "z": [
          [
           1,
           2,
           3,
           4,
           5
          ],
          [
           10,
           20,
           30,
           20,
           10
          ],
          [
           5,
           4,
           3,
           2,
           1
          ]
         ]
        }
       ],
       "layout": {
        "legend": {
         "bgcolor": "#F5F6F9",
         "font": {
          "color": "#4D5663"
         }
        },
        "paper_bgcolor": "#F5F6F9",
        "plot_bgcolor": "#F5F6F9",
        "template": {
         "data": {
          "bar": [
           {
            "error_x": {
             "color": "#2a3f5f"
            },
            "error_y": {
             "color": "#2a3f5f"
            },
            "marker": {
             "line": {
              "color": "#E5ECF6",
              "width": 0.5
             }
            },
            "type": "bar"
           }
          ],
          "barpolar": [
           {
            "marker": {
             "line": {
              "color": "#E5ECF6",
              "width": 0.5
             }
            },
            "type": "barpolar"
           }
          ],
          "carpet": [
           {
            "aaxis": {
             "endlinecolor": "#2a3f5f",
             "gridcolor": "white",
             "linecolor": "white",
             "minorgridcolor": "white",
             "startlinecolor": "#2a3f5f"
            },
            "baxis": {
             "endlinecolor": "#2a3f5f",
             "gridcolor": "white",
             "linecolor": "white",
             "minorgridcolor": "white",
             "startlinecolor": "#2a3f5f"
            },
            "type": "carpet"
           }
          ],
          "choropleth": [
           {
            "colorbar": {
             "outlinewidth": 0,
             "ticks": ""
            },
            "type": "choropleth"
           }
          ],
          "contour": [
           {
            "colorbar": {
             "outlinewidth": 0,
             "ticks": ""
            },
            "colorscale": [
             [
              0,
              "#0d0887"
             ],
             [
              0.1111111111111111,
              "#46039f"
             ],
             [
              0.2222222222222222,
              "#7201a8"
             ],
             [
              0.3333333333333333,
              "#9c179e"
             ],
             [
              0.4444444444444444,
              "#bd3786"
             ],
             [
              0.5555555555555556,
              "#d8576b"
             ],
             [
              0.6666666666666666,
              "#ed7953"
             ],
             [
              0.7777777777777778,
              "#fb9f3a"
             ],
             [
              0.8888888888888888,
              "#fdca26"
             ],
             [
              1,
              "#f0f921"
             ]
            ],
            "type": "contour"
           }
          ],
          "contourcarpet": [
           {
            "colorbar": {
             "outlinewidth": 0,
             "ticks": ""
            },
            "type": "contourcarpet"
           }
          ],
          "heatmap": [
           {
            "colorbar": {
             "outlinewidth": 0,
             "ticks": ""
            },
            "colorscale": [
             [
              0,
              "#0d0887"
             ],
             [
              0.1111111111111111,
              "#46039f"
             ],
             [
              0.2222222222222222,
              "#7201a8"
             ],
             [
              0.3333333333333333,
              "#9c179e"
             ],
             [
              0.4444444444444444,
              "#bd3786"
             ],
             [
              0.5555555555555556,
              "#d8576b"
             ],
             [
              0.6666666666666666,
              "#ed7953"
             ],
             [
              0.7777777777777778,
              "#fb9f3a"
             ],
             [
              0.8888888888888888,
              "#fdca26"
             ],
             [
              1,
              "#f0f921"
             ]
            ],
            "type": "heatmap"
           }
          ],
          "heatmapgl": [
           {
            "colorbar": {
             "outlinewidth": 0,
             "ticks": ""
            },
            "colorscale": [
             [
              0,
              "#0d0887"
             ],
             [
              0.1111111111111111,
              "#46039f"
             ],
             [
              0.2222222222222222,
              "#7201a8"
             ],
             [
              0.3333333333333333,
              "#9c179e"
             ],
             [
              0.4444444444444444,
              "#bd3786"
             ],
             [
              0.5555555555555556,
              "#d8576b"
             ],
             [
              0.6666666666666666,
              "#ed7953"
             ],
             [
              0.7777777777777778,
              "#fb9f3a"
             ],
             [
              0.8888888888888888,
              "#fdca26"
             ],
             [
              1,
              "#f0f921"
             ]
            ],
            "type": "heatmapgl"
           }
          ],
          "histogram": [
           {
            "marker": {
             "colorbar": {
              "outlinewidth": 0,
              "ticks": ""
             }
            },
            "type": "histogram"
           }
          ],
          "histogram2d": [
           {
            "colorbar": {
             "outlinewidth": 0,
             "ticks": ""
            },
            "colorscale": [
             [
              0,
              "#0d0887"
             ],
             [
              0.1111111111111111,
              "#46039f"
             ],
             [
              0.2222222222222222,
              "#7201a8"
             ],
             [
              0.3333333333333333,
              "#9c179e"
             ],
             [
              0.4444444444444444,
              "#bd3786"
             ],
             [
              0.5555555555555556,
              "#d8576b"
             ],
             [
              0.6666666666666666,
              "#ed7953"
             ],
             [
              0.7777777777777778,
              "#fb9f3a"
             ],
             [
              0.8888888888888888,
              "#fdca26"
             ],
             [
              1,
              "#f0f921"
             ]
            ],
            "type": "histogram2d"
           }
          ],
          "histogram2dcontour": [
           {
            "colorbar": {
             "outlinewidth": 0,
             "ticks": ""
            },
            "colorscale": [
             [
              0,
              "#0d0887"
             ],
             [
              0.1111111111111111,
              "#46039f"
             ],
             [
              0.2222222222222222,
              "#7201a8"
             ],
             [
              0.3333333333333333,
              "#9c179e"
             ],
             [
              0.4444444444444444,
              "#bd3786"
             ],
             [
              0.5555555555555556,
              "#d8576b"
             ],
             [
              0.6666666666666666,
              "#ed7953"
             ],
             [
              0.7777777777777778,
              "#fb9f3a"
             ],
             [
              0.8888888888888888,
              "#fdca26"
             ],
             [
              1,
              "#f0f921"
             ]
            ],
            "type": "histogram2dcontour"
           }
          ],
          "mesh3d": [
           {
            "colorbar": {
             "outlinewidth": 0,
             "ticks": ""
            },
            "type": "mesh3d"
           }
          ],
          "parcoords": [
           {
            "line": {
             "colorbar": {
              "outlinewidth": 0,
              "ticks": ""
             }
            },
            "type": "parcoords"
           }
          ],
          "pie": [
           {
            "automargin": true,
            "type": "pie"
           }
          ],
          "scatter": [
           {
            "marker": {
             "colorbar": {
              "outlinewidth": 0,
              "ticks": ""
             }
            },
            "type": "scatter"
           }
          ],
          "scatter3d": [
           {
            "line": {
             "colorbar": {
              "outlinewidth": 0,
              "ticks": ""
             }
            },
            "marker": {
             "colorbar": {
              "outlinewidth": 0,
              "ticks": ""
             }
            },
            "type": "scatter3d"
           }
          ],
          "scattercarpet": [
           {
            "marker": {
             "colorbar": {
              "outlinewidth": 0,
              "ticks": ""
             }
            },
            "type": "scattercarpet"
           }
          ],
          "scattergeo": [
           {
            "marker": {
             "colorbar": {
              "outlinewidth": 0,
              "ticks": ""
             }
            },
            "type": "scattergeo"
           }
          ],
          "scattergl": [
           {
            "marker": {
             "colorbar": {
              "outlinewidth": 0,
              "ticks": ""
             }
            },
            "type": "scattergl"
           }
          ],
          "scattermapbox": [
           {
            "marker": {
             "colorbar": {
              "outlinewidth": 0,
              "ticks": ""
             }
            },
            "type": "scattermapbox"
           }
          ],
          "scatterpolar": [
           {
            "marker": {
             "colorbar": {
              "outlinewidth": 0,
              "ticks": ""
             }
            },
            "type": "scatterpolar"
           }
          ],
          "scatterpolargl": [
           {
            "marker": {
             "colorbar": {
              "outlinewidth": 0,
              "ticks": ""
             }
            },
            "type": "scatterpolargl"
           }
          ],
          "scatterternary": [
           {
            "marker": {
             "colorbar": {
              "outlinewidth": 0,
              "ticks": ""
             }
            },
            "type": "scatterternary"
           }
          ],
          "surface": [
           {
            "colorbar": {
             "outlinewidth": 0,
             "ticks": ""
            },
            "colorscale": [
             [
              0,
              "#0d0887"
             ],
             [
              0.1111111111111111,
              "#46039f"
             ],
             [
              0.2222222222222222,
              "#7201a8"
             ],
             [
              0.3333333333333333,
              "#9c179e"
             ],
             [
              0.4444444444444444,
              "#bd3786"
             ],
             [
              0.5555555555555556,
              "#d8576b"
             ],
             [
              0.6666666666666666,
              "#ed7953"
             ],
             [
              0.7777777777777778,
              "#fb9f3a"
             ],
             [
              0.8888888888888888,
              "#fdca26"
             ],
             [
              1,
              "#f0f921"
             ]
            ],
            "type": "surface"
           }
          ],
          "table": [
           {
            "cells": {
             "fill": {
              "color": "#EBF0F8"
             },
             "line": {
              "color": "white"
             }
            },
            "header": {
             "fill": {
              "color": "#C8D4E3"
             },
             "line": {
              "color": "white"
             }
            },
            "type": "table"
           }
          ]
         },
         "layout": {
          "annotationdefaults": {
           "arrowcolor": "#2a3f5f",
           "arrowhead": 0,
           "arrowwidth": 1
          },
          "coloraxis": {
           "colorbar": {
            "outlinewidth": 0,
            "ticks": ""
           }
          },
          "colorscale": {
           "diverging": [
            [
             0,
             "#8e0152"
            ],
            [
             0.1,
             "#c51b7d"
            ],
            [
             0.2,
             "#de77ae"
            ],
            [
             0.3,
             "#f1b6da"
            ],
            [
             0.4,
             "#fde0ef"
            ],
            [
             0.5,
             "#f7f7f7"
            ],
            [
             0.6,
             "#e6f5d0"
            ],
            [
             0.7,
             "#b8e186"
            ],
            [
             0.8,
             "#7fbc41"
            ],
            [
             0.9,
             "#4d9221"
            ],
            [
             1,
             "#276419"
            ]
           ],
           "sequential": [
            [
             0,
             "#0d0887"
            ],
            [
             0.1111111111111111,
             "#46039f"
            ],
            [
             0.2222222222222222,
             "#7201a8"
            ],
            [
             0.3333333333333333,
             "#9c179e"
            ],
            [
             0.4444444444444444,
             "#bd3786"
            ],
            [
             0.5555555555555556,
             "#d8576b"
            ],
            [
             0.6666666666666666,
             "#ed7953"
            ],
            [
             0.7777777777777778,
             "#fb9f3a"
            ],
            [
             0.8888888888888888,
             "#fdca26"
            ],
            [
             1,
             "#f0f921"
            ]
           ],
           "sequentialminus": [
            [
             0,
             "#0d0887"
            ],
            [
             0.1111111111111111,
             "#46039f"
            ],
            [
             0.2222222222222222,
             "#7201a8"
            ],
            [
             0.3333333333333333,
             "#9c179e"
            ],
            [
             0.4444444444444444,
             "#bd3786"
            ],
            [
             0.5555555555555556,
             "#d8576b"
            ],
            [
             0.6666666666666666,
             "#ed7953"
            ],
            [
             0.7777777777777778,
             "#fb9f3a"
            ],
            [
             0.8888888888888888,
             "#fdca26"
            ],
            [
             1,
             "#f0f921"
            ]
           ]
          },
          "colorway": [
           "#636efa",
           "#EF553B",
           "#00cc96",
           "#ab63fa",
           "#FFA15A",
           "#19d3f3",
           "#FF6692",
           "#B6E880",
           "#FF97FF",
           "#FECB52"
          ],
          "font": {
           "color": "#2a3f5f"
          },
          "geo": {
           "bgcolor": "white",
           "lakecolor": "white",
           "landcolor": "#E5ECF6",
           "showlakes": true,
           "showland": true,
           "subunitcolor": "white"
          },
          "hoverlabel": {
           "align": "left"
          },
          "hovermode": "closest",
          "mapbox": {
           "style": "light"
          },
          "paper_bgcolor": "white",
          "plot_bgcolor": "#E5ECF6",
          "polar": {
           "angularaxis": {
            "gridcolor": "white",
            "linecolor": "white",
            "ticks": ""
           },
           "bgcolor": "#E5ECF6",
           "radialaxis": {
            "gridcolor": "white",
            "linecolor": "white",
            "ticks": ""
           }
          },
          "scene": {
           "xaxis": {
            "backgroundcolor": "#E5ECF6",
            "gridcolor": "white",
            "gridwidth": 2,
            "linecolor": "white",
            "showbackground": true,
            "ticks": "",
            "zerolinecolor": "white"
           },
           "yaxis": {
            "backgroundcolor": "#E5ECF6",
            "gridcolor": "white",
            "gridwidth": 2,
            "linecolor": "white",
            "showbackground": true,
            "ticks": "",
            "zerolinecolor": "white"
           },
           "zaxis": {
            "backgroundcolor": "#E5ECF6",
            "gridcolor": "white",
            "gridwidth": 2,
            "linecolor": "white",
            "showbackground": true,
            "ticks": "",
            "zerolinecolor": "white"
           }
          },
          "shapedefaults": {
           "line": {
            "color": "#2a3f5f"
           }
          },
          "ternary": {
           "aaxis": {
            "gridcolor": "white",
            "linecolor": "white",
            "ticks": ""
           },
           "baxis": {
            "gridcolor": "white",
            "linecolor": "white",
            "ticks": ""
           },
           "bgcolor": "#E5ECF6",
           "caxis": {
            "gridcolor": "white",
            "linecolor": "white",
            "ticks": ""
           }
          },
          "title": {
           "x": 0.05
          },
          "xaxis": {
           "automargin": true,
           "gridcolor": "white",
           "linecolor": "white",
           "ticks": "",
           "title": {
            "standoff": 15
           },
           "zerolinecolor": "white",
           "zerolinewidth": 2
          },
          "yaxis": {
           "automargin": true,
           "gridcolor": "white",
           "linecolor": "white",
           "ticks": "",
           "title": {
            "standoff": 15
           },
           "zerolinecolor": "white",
           "zerolinewidth": 2
          }
         }
        },
        "title": {
         "font": {
          "color": "#4D5663"
         }
        },
        "xaxis": {
         "gridcolor": "#E1E5ED",
         "showgrid": true,
         "tickfont": {
          "color": "#4D5663"
         },
         "title": {
          "font": {
           "color": "#4D5663"
          },
          "text": ""
         },
         "zerolinecolor": "#E1E5ED"
        },
        "yaxis": {
         "gridcolor": "#E1E5ED",
         "showgrid": true,
         "tickfont": {
          "color": "#4D5663"
         },
         "title": {
          "font": {
           "color": "#4D5663"
          },
          "text": ""
         },
         "zerolinecolor": "#E1E5ED"
        }
       }
      },
      "text/html": [
       "<div>\n",
       "        \n",
       "        \n",
       "            <div id=\"8a61e37d-504a-406d-a5bf-1bc31b989209\" class=\"plotly-graph-div\" style=\"height:525px; width:100%;\"></div>\n",
       "            <script type=\"text/javascript\">\n",
       "                require([\"plotly\"], function(Plotly) {\n",
       "                    window.PLOTLYENV=window.PLOTLYENV || {};\n",
       "                    window.PLOTLYENV.BASE_URL='https://plot.ly';\n",
       "                    \n",
       "                if (document.getElementById(\"8a61e37d-504a-406d-a5bf-1bc31b989209\")) {\n",
       "                    Plotly.newPlot(\n",
       "                        '8a61e37d-504a-406d-a5bf-1bc31b989209',\n",
       "                        [{\"colorscale\": [[0.0, \"rgb(165,0,38)\"], [0.1, \"rgb(215,48,39)\"], [0.2, \"rgb(244,109,67)\"], [0.3, \"rgb(253,174,97)\"], [0.4, \"rgb(254,224,144)\"], [0.5, \"rgb(255,255,191)\"], [0.6, \"rgb(224,243,248)\"], [0.7, \"rgb(171,217,233)\"], [0.8, \"rgb(116,173,209)\"], [0.9, \"rgb(69,117,180)\"], [1.0, \"rgb(49,54,149)\"]], \"type\": \"surface\", \"x\": [0, 1, 2, 3, 4], \"y\": [\"x\", \"y\", \"z\"], \"z\": [[1, 2, 3, 4, 5], [10, 20, 30, 20, 10], [5, 4, 3, 2, 1]]}],\n",
       "                        {\"legend\": {\"bgcolor\": \"#F5F6F9\", \"font\": {\"color\": \"#4D5663\"}}, \"paper_bgcolor\": \"#F5F6F9\", \"plot_bgcolor\": \"#F5F6F9\", \"template\": {\"data\": {\"bar\": [{\"error_x\": {\"color\": \"#2a3f5f\"}, \"error_y\": {\"color\": \"#2a3f5f\"}, \"marker\": {\"line\": {\"color\": \"#E5ECF6\", \"width\": 0.5}}, \"type\": \"bar\"}], \"barpolar\": [{\"marker\": {\"line\": {\"color\": \"#E5ECF6\", \"width\": 0.5}}, \"type\": \"barpolar\"}], \"carpet\": [{\"aaxis\": {\"endlinecolor\": \"#2a3f5f\", \"gridcolor\": \"white\", \"linecolor\": \"white\", \"minorgridcolor\": \"white\", \"startlinecolor\": \"#2a3f5f\"}, \"baxis\": {\"endlinecolor\": \"#2a3f5f\", \"gridcolor\": \"white\", \"linecolor\": \"white\", \"minorgridcolor\": \"white\", \"startlinecolor\": \"#2a3f5f\"}, \"type\": \"carpet\"}], \"choropleth\": [{\"colorbar\": {\"outlinewidth\": 0, \"ticks\": \"\"}, \"type\": \"choropleth\"}], \"contour\": [{\"colorbar\": {\"outlinewidth\": 0, \"ticks\": \"\"}, \"colorscale\": [[0.0, \"#0d0887\"], [0.1111111111111111, \"#46039f\"], [0.2222222222222222, \"#7201a8\"], [0.3333333333333333, \"#9c179e\"], [0.4444444444444444, \"#bd3786\"], [0.5555555555555556, \"#d8576b\"], [0.6666666666666666, \"#ed7953\"], [0.7777777777777778, \"#fb9f3a\"], [0.8888888888888888, \"#fdca26\"], [1.0, \"#f0f921\"]], \"type\": \"contour\"}], \"contourcarpet\": [{\"colorbar\": {\"outlinewidth\": 0, \"ticks\": \"\"}, \"type\": \"contourcarpet\"}], \"heatmap\": [{\"colorbar\": {\"outlinewidth\": 0, \"ticks\": \"\"}, \"colorscale\": [[0.0, \"#0d0887\"], [0.1111111111111111, \"#46039f\"], [0.2222222222222222, \"#7201a8\"], [0.3333333333333333, \"#9c179e\"], [0.4444444444444444, \"#bd3786\"], [0.5555555555555556, \"#d8576b\"], [0.6666666666666666, \"#ed7953\"], [0.7777777777777778, \"#fb9f3a\"], [0.8888888888888888, \"#fdca26\"], [1.0, \"#f0f921\"]], \"type\": \"heatmap\"}], \"heatmapgl\": [{\"colorbar\": {\"outlinewidth\": 0, \"ticks\": \"\"}, \"colorscale\": [[0.0, \"#0d0887\"], [0.1111111111111111, \"#46039f\"], [0.2222222222222222, \"#7201a8\"], [0.3333333333333333, \"#9c179e\"], [0.4444444444444444, \"#bd3786\"], [0.5555555555555556, \"#d8576b\"], [0.6666666666666666, \"#ed7953\"], [0.7777777777777778, \"#fb9f3a\"], [0.8888888888888888, \"#fdca26\"], [1.0, \"#f0f921\"]], \"type\": \"heatmapgl\"}], \"histogram\": [{\"marker\": {\"colorbar\": {\"outlinewidth\": 0, \"ticks\": \"\"}}, \"type\": \"histogram\"}], \"histogram2d\": [{\"colorbar\": {\"outlinewidth\": 0, \"ticks\": \"\"}, \"colorscale\": [[0.0, \"#0d0887\"], [0.1111111111111111, \"#46039f\"], [0.2222222222222222, \"#7201a8\"], [0.3333333333333333, \"#9c179e\"], [0.4444444444444444, \"#bd3786\"], [0.5555555555555556, \"#d8576b\"], [0.6666666666666666, \"#ed7953\"], [0.7777777777777778, \"#fb9f3a\"], [0.8888888888888888, \"#fdca26\"], [1.0, \"#f0f921\"]], \"type\": \"histogram2d\"}], \"histogram2dcontour\": [{\"colorbar\": {\"outlinewidth\": 0, \"ticks\": \"\"}, \"colorscale\": [[0.0, \"#0d0887\"], [0.1111111111111111, \"#46039f\"], [0.2222222222222222, \"#7201a8\"], [0.3333333333333333, \"#9c179e\"], [0.4444444444444444, \"#bd3786\"], [0.5555555555555556, \"#d8576b\"], [0.6666666666666666, \"#ed7953\"], [0.7777777777777778, \"#fb9f3a\"], [0.8888888888888888, \"#fdca26\"], [1.0, \"#f0f921\"]], \"type\": \"histogram2dcontour\"}], \"mesh3d\": [{\"colorbar\": {\"outlinewidth\": 0, \"ticks\": \"\"}, \"type\": \"mesh3d\"}], \"parcoords\": [{\"line\": {\"colorbar\": {\"outlinewidth\": 0, \"ticks\": \"\"}}, \"type\": \"parcoords\"}], \"pie\": [{\"automargin\": true, \"type\": \"pie\"}], \"scatter\": [{\"marker\": {\"colorbar\": {\"outlinewidth\": 0, \"ticks\": \"\"}}, \"type\": \"scatter\"}], \"scatter3d\": [{\"line\": {\"colorbar\": {\"outlinewidth\": 0, \"ticks\": \"\"}}, \"marker\": {\"colorbar\": {\"outlinewidth\": 0, \"ticks\": \"\"}}, \"type\": \"scatter3d\"}], \"scattercarpet\": [{\"marker\": {\"colorbar\": {\"outlinewidth\": 0, \"ticks\": \"\"}}, \"type\": \"scattercarpet\"}], \"scattergeo\": [{\"marker\": {\"colorbar\": {\"outlinewidth\": 0, \"ticks\": \"\"}}, \"type\": \"scattergeo\"}], \"scattergl\": [{\"marker\": {\"colorbar\": {\"outlinewidth\": 0, \"ticks\": \"\"}}, \"type\": \"scattergl\"}], \"scattermapbox\": [{\"marker\": {\"colorbar\": {\"outlinewidth\": 0, \"ticks\": \"\"}}, \"type\": \"scattermapbox\"}], \"scatterpolar\": [{\"marker\": {\"colorbar\": {\"outlinewidth\": 0, \"ticks\": \"\"}}, \"type\": \"scatterpolar\"}], \"scatterpolargl\": [{\"marker\": {\"colorbar\": {\"outlinewidth\": 0, \"ticks\": \"\"}}, \"type\": \"scatterpolargl\"}], \"scatterternary\": [{\"marker\": {\"colorbar\": {\"outlinewidth\": 0, \"ticks\": \"\"}}, \"type\": \"scatterternary\"}], \"surface\": [{\"colorbar\": {\"outlinewidth\": 0, \"ticks\": \"\"}, \"colorscale\": [[0.0, \"#0d0887\"], [0.1111111111111111, \"#46039f\"], [0.2222222222222222, \"#7201a8\"], [0.3333333333333333, \"#9c179e\"], [0.4444444444444444, \"#bd3786\"], [0.5555555555555556, \"#d8576b\"], [0.6666666666666666, \"#ed7953\"], [0.7777777777777778, \"#fb9f3a\"], [0.8888888888888888, \"#fdca26\"], [1.0, \"#f0f921\"]], \"type\": \"surface\"}], \"table\": [{\"cells\": {\"fill\": {\"color\": \"#EBF0F8\"}, \"line\": {\"color\": \"white\"}}, \"header\": {\"fill\": {\"color\": \"#C8D4E3\"}, \"line\": {\"color\": \"white\"}}, \"type\": \"table\"}]}, \"layout\": {\"annotationdefaults\": {\"arrowcolor\": \"#2a3f5f\", \"arrowhead\": 0, \"arrowwidth\": 1}, \"coloraxis\": {\"colorbar\": {\"outlinewidth\": 0, \"ticks\": \"\"}}, \"colorscale\": {\"diverging\": [[0, \"#8e0152\"], [0.1, \"#c51b7d\"], [0.2, \"#de77ae\"], [0.3, \"#f1b6da\"], [0.4, \"#fde0ef\"], [0.5, \"#f7f7f7\"], [0.6, \"#e6f5d0\"], [0.7, \"#b8e186\"], [0.8, \"#7fbc41\"], [0.9, \"#4d9221\"], [1, \"#276419\"]], \"sequential\": [[0.0, \"#0d0887\"], [0.1111111111111111, \"#46039f\"], [0.2222222222222222, \"#7201a8\"], [0.3333333333333333, \"#9c179e\"], [0.4444444444444444, \"#bd3786\"], [0.5555555555555556, \"#d8576b\"], [0.6666666666666666, \"#ed7953\"], [0.7777777777777778, \"#fb9f3a\"], [0.8888888888888888, \"#fdca26\"], [1.0, \"#f0f921\"]], \"sequentialminus\": [[0.0, \"#0d0887\"], [0.1111111111111111, \"#46039f\"], [0.2222222222222222, \"#7201a8\"], [0.3333333333333333, \"#9c179e\"], [0.4444444444444444, \"#bd3786\"], [0.5555555555555556, \"#d8576b\"], [0.6666666666666666, \"#ed7953\"], [0.7777777777777778, \"#fb9f3a\"], [0.8888888888888888, \"#fdca26\"], [1.0, \"#f0f921\"]]}, \"colorway\": [\"#636efa\", \"#EF553B\", \"#00cc96\", \"#ab63fa\", \"#FFA15A\", \"#19d3f3\", \"#FF6692\", \"#B6E880\", \"#FF97FF\", \"#FECB52\"], \"font\": {\"color\": \"#2a3f5f\"}, \"geo\": {\"bgcolor\": \"white\", \"lakecolor\": \"white\", \"landcolor\": \"#E5ECF6\", \"showlakes\": true, \"showland\": true, \"subunitcolor\": \"white\"}, \"hoverlabel\": {\"align\": \"left\"}, \"hovermode\": \"closest\", \"mapbox\": {\"style\": \"light\"}, \"paper_bgcolor\": \"white\", \"plot_bgcolor\": \"#E5ECF6\", \"polar\": {\"angularaxis\": {\"gridcolor\": \"white\", \"linecolor\": \"white\", \"ticks\": \"\"}, \"bgcolor\": \"#E5ECF6\", \"radialaxis\": {\"gridcolor\": \"white\", \"linecolor\": \"white\", \"ticks\": \"\"}}, \"scene\": {\"xaxis\": {\"backgroundcolor\": \"#E5ECF6\", \"gridcolor\": \"white\", \"gridwidth\": 2, \"linecolor\": \"white\", \"showbackground\": true, \"ticks\": \"\", \"zerolinecolor\": \"white\"}, \"yaxis\": {\"backgroundcolor\": \"#E5ECF6\", \"gridcolor\": \"white\", \"gridwidth\": 2, \"linecolor\": \"white\", \"showbackground\": true, \"ticks\": \"\", \"zerolinecolor\": \"white\"}, \"zaxis\": {\"backgroundcolor\": \"#E5ECF6\", \"gridcolor\": \"white\", \"gridwidth\": 2, \"linecolor\": \"white\", \"showbackground\": true, \"ticks\": \"\", \"zerolinecolor\": \"white\"}}, \"shapedefaults\": {\"line\": {\"color\": \"#2a3f5f\"}}, \"ternary\": {\"aaxis\": {\"gridcolor\": \"white\", \"linecolor\": \"white\", \"ticks\": \"\"}, \"baxis\": {\"gridcolor\": \"white\", \"linecolor\": \"white\", \"ticks\": \"\"}, \"bgcolor\": \"#E5ECF6\", \"caxis\": {\"gridcolor\": \"white\", \"linecolor\": \"white\", \"ticks\": \"\"}}, \"title\": {\"x\": 0.05}, \"xaxis\": {\"automargin\": true, \"gridcolor\": \"white\", \"linecolor\": \"white\", \"ticks\": \"\", \"title\": {\"standoff\": 15}, \"zerolinecolor\": \"white\", \"zerolinewidth\": 2}, \"yaxis\": {\"automargin\": true, \"gridcolor\": \"white\", \"linecolor\": \"white\", \"ticks\": \"\", \"title\": {\"standoff\": 15}, \"zerolinecolor\": \"white\", \"zerolinewidth\": 2}}}, \"title\": {\"font\": {\"color\": \"#4D5663\"}}, \"xaxis\": {\"gridcolor\": \"#E1E5ED\", \"showgrid\": true, \"tickfont\": {\"color\": \"#4D5663\"}, \"title\": {\"font\": {\"color\": \"#4D5663\"}, \"text\": \"\"}, \"zerolinecolor\": \"#E1E5ED\"}, \"yaxis\": {\"gridcolor\": \"#E1E5ED\", \"showgrid\": true, \"tickfont\": {\"color\": \"#4D5663\"}, \"title\": {\"font\": {\"color\": \"#4D5663\"}, \"text\": \"\"}, \"zerolinecolor\": \"#E1E5ED\"}},\n",
       "                        {\"showLink\": true, \"linkText\": \"Export to plot.ly\", \"plotlyServerURL\": \"https://plot.ly\", \"responsive\": true}\n",
       "                    ).then(function(){\n",
       "                            \n",
       "var gd = document.getElementById('8a61e37d-504a-406d-a5bf-1bc31b989209');\n",
       "var x = new MutationObserver(function (mutations, observer) {{\n",
       "        var display = window.getComputedStyle(gd).display;\n",
       "        if (!display || display === 'none') {{\n",
       "            console.log([gd, 'removed!']);\n",
       "            Plotly.purge(gd);\n",
       "            observer.disconnect();\n",
       "        }}\n",
       "}});\n",
       "\n",
       "// Listen for the removal of the full notebook cells\n",
       "var notebookContainer = gd.closest('#notebook-container');\n",
       "if (notebookContainer) {{\n",
       "    x.observe(notebookContainer, {childList: true});\n",
       "}}\n",
       "\n",
       "// Listen for the clearing of the current output cell\n",
       "var outputEl = gd.closest('.output');\n",
       "if (outputEl) {{\n",
       "    x.observe(outputEl, {childList: true});\n",
       "}}\n",
       "\n",
       "                        })\n",
       "                };\n",
       "                });\n",
       "            </script>\n",
       "        </div>"
      ]
     },
     "metadata": {},
     "output_type": "display_data"
    }
   ],
   "source": [
    "df3 = pd.DataFrame({'x':[1,2,3,4,5],'y':[10,20,30,20,10],'z':[5,4,3,2,1]})\n",
    "df3.iplot(kind='surface',colorscale='rdylbu')"
   ]
  },
  {
   "cell_type": "markdown",
   "metadata": {},
   "source": [
    "## Spread"
   ]
  },
  {
   "cell_type": "code",
   "execution_count": 16,
   "metadata": {},
   "outputs": [
    {
     "data": {
      "application/vnd.plotly.v1+json": {
       "config": {
        "linkText": "Export to plot.ly",
        "plotlyServerURL": "https://plot.ly",
        "showLink": true
       },
       "data": [
        {
         "line": {
          "color": "rgba(255, 153, 51, 1.0)",
          "dash": "solid",
          "shape": "linear",
          "width": 1.3
         },
         "mode": "lines",
         "name": "A",
         "text": "",
         "type": "scatter",
         "x": [
          0,
          1,
          2,
          3,
          4,
          5,
          6,
          7,
          8,
          9,
          10,
          11,
          12,
          13,
          14,
          15,
          16,
          17,
          18,
          19,
          20,
          21,
          22,
          23,
          24,
          25,
          26,
          27,
          28,
          29,
          30,
          31,
          32,
          33,
          34,
          35,
          36,
          37,
          38,
          39,
          40,
          41,
          42,
          43,
          44,
          45,
          46,
          47,
          48,
          49,
          50,
          51,
          52,
          53,
          54,
          55,
          56,
          57,
          58,
          59,
          60,
          61,
          62,
          63,
          64,
          65,
          66,
          67,
          68,
          69,
          70,
          71,
          72,
          73,
          74,
          75,
          76,
          77,
          78,
          79,
          80,
          81,
          82,
          83,
          84,
          85,
          86,
          87,
          88,
          89,
          90,
          91,
          92,
          93,
          94,
          95,
          96,
          97,
          98,
          99
         ],
         "y": [
          0.0919618728699051,
          -0.22143263970710958,
          1.6920061692431745,
          0.9431067925271498,
          0.3594422328619513,
          -0.6828184970650549,
          1.3477112305154917,
          -0.25654138522913494,
          -0.5500327799891596,
          -1.6427355514887694,
          0.8197944489201987,
          -0.9823742404275926,
          -0.7023441940871719,
          0.3420492232639261,
          0.3614086599960736,
          0.9320266717072684,
          0.24940799365624342,
          0.13501132347356098,
          1.7227186975205464,
          1.3028028631329955,
          1.4192000853142765,
          -1.4513472584243803,
          0.6653115648991531,
          0.6212126195957125,
          0.5203849348742722,
          1.1441801437913968,
          0.26324331968163056,
          0.14411448089116888,
          -0.24946884808245628,
          1.2004322807572958,
          -1.33371999712701,
          -1.303350385254543,
          -1.1923060843464355,
          0.218272069680675,
          1.1314974608828123,
          -0.5806652098094076,
          0.5057921370378858,
          0.6890842185174422,
          -0.8682418939632968,
          -0.9738931790805747,
          0.3024580947453506,
          0.5930160505461489,
          0.012493704873780407,
          0.06709321932891561,
          -0.11492440065381442,
          0.9745729681361173,
          -1.1762691951987503,
          0.8146389350431569,
          -0.12569002261219556,
          1.0119713501641898,
          -0.6321713722281166,
          0.4574766710618231,
          -0.6102904166172508,
          0.31641789575822027,
          0.9950217584217503,
          2.006296936240135,
          0.08490037596601381,
          0.052925187470997954,
          1.6438045388296836,
          0.2102712935016528,
          1.4467467102795866,
          -0.8757944378763092,
          0.15823619400094852,
          -1.417545673023298,
          -0.3400532293623823,
          1.2437715025007023,
          -0.7731750885178242,
          0.10291850051799534,
          -0.4336142340159738,
          1.5203031258436455,
          -0.034733446097376816,
          0.4410345083863978,
          0.3890827268596237,
          -0.8946559623109902,
          -0.003957006038530615,
          -0.27046157935920223,
          -0.35782137473497466,
          -1.729359505511331,
          1.7627956055760405,
          0.6392822708605644,
          0.5287036645533052,
          0.7950519326971078,
          1.5328580862628476,
          -0.5029302998523506,
          -0.7119366297274415,
          -0.7714058757418685,
          -0.7764735112899486,
          0.15235160520180058,
          0.10887281717687264,
          0.7941989455346967,
          0.4285636061112597,
          0.6190583066282419,
          0.91499081947152,
          -0.2932480122438687,
          -1.7409169425200517,
          2.733416114332795,
          -1.1754447067447311,
          -1.3793296225880705,
          -1.079092341670199,
          -0.7963535324749649
         ]
        },
        {
         "line": {
          "color": "rgba(55, 128, 191, 1.0)",
          "dash": "solid",
          "shape": "linear",
          "width": 1.3
         },
         "mode": "lines",
         "name": "B",
         "text": "",
         "type": "scatter",
         "x": [
          0,
          1,
          2,
          3,
          4,
          5,
          6,
          7,
          8,
          9,
          10,
          11,
          12,
          13,
          14,
          15,
          16,
          17,
          18,
          19,
          20,
          21,
          22,
          23,
          24,
          25,
          26,
          27,
          28,
          29,
          30,
          31,
          32,
          33,
          34,
          35,
          36,
          37,
          38,
          39,
          40,
          41,
          42,
          43,
          44,
          45,
          46,
          47,
          48,
          49,
          50,
          51,
          52,
          53,
          54,
          55,
          56,
          57,
          58,
          59,
          60,
          61,
          62,
          63,
          64,
          65,
          66,
          67,
          68,
          69,
          70,
          71,
          72,
          73,
          74,
          75,
          76,
          77,
          78,
          79,
          80,
          81,
          82,
          83,
          84,
          85,
          86,
          87,
          88,
          89,
          90,
          91,
          92,
          93,
          94,
          95,
          96,
          97,
          98,
          99
         ],
         "y": [
          -0.3359057780033205,
          -0.4433704710462687,
          0.3465360831123125,
          0.8803170742782787,
          0.288009036532479,
          1.8591582085492402,
          -0.5036424328286201,
          0.7731816011892556,
          -0.6592022646641865,
          1.1650207389240208,
          2.145286799985949,
          0.38318041888760507,
          0.3605136490201095,
          1.2879110751310086,
          0.3870941307195677,
          0.5175548648554993,
          0.13156406589182484,
          0.43726067978794136,
          -0.12406077464839853,
          -0.1584521578624045,
          1.8481676984545645,
          -0.6320254001344748,
          -0.547989679256849,
          -0.7345036188124198,
          -0.838599962443122,
          0.30565502397333477,
          -0.39286841571607833,
          0.12866234223048006,
          0.6671029123469577,
          -1.6506221833593462,
          0.4216935614574125,
          -1.2122340200334463,
          -0.11983788140959518,
          1.9826944376135154,
          1.3703099502731115,
          -1.2150177014024568,
          -0.9976729947573217,
          1.1507693794007992,
          1.3037737483808534,
          -0.27076012375835345,
          0.3866071574516572,
          -0.5107511196435172,
          -0.9168898492795453,
          1.1144615030404976,
          1.1470375704065499,
          0.1518813789372889,
          1.198620765530093,
          -1.079485781920071,
          0.7055827854010577,
          1.1297159187985248,
          -0.11696308792520638,
          -0.6076790190270548,
          -0.32567795806579464,
          -0.6659287720474008,
          1.0696737724187175,
          -0.161034988424284,
          1.1563498686847156,
          0.3866021466927583,
          0.272581455665236,
          -0.34368289428306015,
          -0.18384618137722683,
          -0.5012580084782411,
          -0.6724838243629148,
          0.7344331694237937,
          2.318770733800961,
          2.323045264573243,
          -0.5608271207087145,
          -1.184389077151462,
          0.008319037423178726,
          -1.096836380779569,
          -0.2424576969197716,
          0.538243146218403,
          -2.142972574782624,
          0.8974097458335817,
          -0.010318194682662218,
          -0.6581154280755355,
          1.522477800055998,
          -0.7579847427823956,
          0.05924636221836566,
          0.2190915527842804,
          -0.4867693553796768,
          0.3388177539269479,
          -0.8709481281967048,
          0.4532732220093141,
          -0.9850390012649825,
          0.06967424292427568,
          0.9013408725699227,
          -0.8889565263236228,
          -1.4953853400201986,
          1.2332004819013818,
          0.29559298373114473,
          0.997658383035107,
          0.18918967408095885,
          -0.051056244413894794,
          0.28797982555864904,
          0.5610032454866385,
          -1.7120942228348124,
          -1.5117097048745491,
          0.832181129054585,
          1.8344712732316908
         ]
        },
        {
         "connectgaps": false,
         "fill": "tozeroy",
         "line": {
          "color": "green",
          "dash": "solid",
          "shape": "linear",
          "width": 0.5
         },
         "mode": "lines",
         "name": "Spread",
         "showlegend": false,
         "type": "scatter",
         "x": [
          0,
          1,
          2,
          3,
          4,
          5,
          6,
          7,
          8,
          9,
          10,
          11,
          12,
          13,
          14,
          15,
          16,
          17,
          18,
          19,
          20,
          21,
          22,
          23,
          24,
          25,
          26,
          27,
          28,
          29,
          30,
          31,
          32,
          33,
          34,
          35,
          36,
          37,
          38,
          39,
          40,
          41,
          42,
          43,
          44,
          45,
          46,
          47,
          48,
          49,
          50,
          51,
          52,
          53,
          54,
          55,
          56,
          57,
          58,
          59,
          60,
          61,
          62,
          63,
          64,
          65,
          66,
          67,
          68,
          69,
          70,
          71,
          72,
          73,
          74,
          75,
          76,
          77,
          78,
          79,
          80,
          81,
          82,
          83,
          84,
          85,
          86,
          87,
          88,
          89,
          90,
          91,
          92,
          93,
          94,
          95,
          96,
          97,
          98,
          99
         ],
         "xaxis": "x2",
         "y": [
          0.4278676508732256,
          0.22193783133915912,
          1.345470086130862,
          0.06278971824887114,
          0.07143319632947231,
          "",
          1.8513536633441117,
          "",
          0.10916948467502696,
          "",
          "",
          "",
          "",
          "",
          "",
          0.4144718068517691,
          0.11784392776441857,
          "",
          1.846779472168945,
          1.4612550209954,
          "",
          "",
          1.213301244156002,
          1.3557162384081323,
          1.3589848973173941,
          0.838525119818062,
          0.6561117353977088,
          0.015452138660688813,
          "",
          2.851054464116642,
          "",
          "",
          "",
          "",
          "",
          0.6343524915930492,
          1.5034651317952075,
          "",
          "",
          "",
          "",
          1.103767170189666,
          0.9293835541533257,
          "",
          "",
          0.8226915891988283,
          "",
          1.8941247169632278,
          "",
          "",
          "",
          1.065155690088878,
          "",
          0.982346667805621,
          "",
          2.167331924664419,
          "",
          "",
          1.3712230831644476,
          0.553954187784713,
          1.6305928916568133,
          "",
          0.8307200183638632,
          "",
          "",
          "",
          "",
          1.2873075776694574,
          "",
          2.6171395066232144,
          0.20772425082239476,
          "",
          2.532055301642248,
          "",
          0.0063611886441316025,
          0.38765384871633324,
          "",
          "",
          1.7035492433576749,
          0.42019071807628405,
          1.015473019932982,
          0.4562341787701599,
          2.4038062144595522,
          "",
          0.2731023715375409,
          "",
          "",
          1.0413081315254233,
          1.6042581571970713,
          "",
          0.13297062238011498,
          "",
          0.7258011453905611,
          "",
          "",
          2.1724128688461564,
          0.5366495160900813,
          0.13238008228647868,
          "",
          ""
         ],
         "yaxis": "y2"
        },
        {
         "connectgaps": false,
         "fill": "tozeroy",
         "line": {
          "color": "red",
          "dash": "solid",
          "shape": "linear",
          "width": 0.5
         },
         "mode": "lines",
         "name": "Spread",
         "showlegend": false,
         "type": "scatter",
         "x": [
          0,
          1,
          2,
          3,
          4,
          5,
          6,
          7,
          8,
          9,
          10,
          11,
          12,
          13,
          14,
          15,
          16,
          17,
          18,
          19,
          20,
          21,
          22,
          23,
          24,
          25,
          26,
          27,
          28,
          29,
          30,
          31,
          32,
          33,
          34,
          35,
          36,
          37,
          38,
          39,
          40,
          41,
          42,
          43,
          44,
          45,
          46,
          47,
          48,
          49,
          50,
          51,
          52,
          53,
          54,
          55,
          56,
          57,
          58,
          59,
          60,
          61,
          62,
          63,
          64,
          65,
          66,
          67,
          68,
          69,
          70,
          71,
          72,
          73,
          74,
          75,
          76,
          77,
          78,
          79,
          80,
          81,
          82,
          83,
          84,
          85,
          86,
          87,
          88,
          89,
          90,
          91,
          92,
          93,
          94,
          95,
          96,
          97,
          98,
          99
         ],
         "xaxis": "x2",
         "y": [
          "",
          "",
          "",
          "",
          "",
          -2.541976705614295,
          "",
          -1.0297229864183906,
          "",
          -2.80775629041279,
          -1.3254923510657504,
          -1.3655546593151977,
          -1.0628578431072815,
          -0.9458618518670825,
          -0.02568547072349414,
          "",
          "",
          -0.3022493563143804,
          "",
          "",
          -0.428967613140288,
          -0.8193218582899054,
          "",
          "",
          "",
          "",
          "",
          "",
          -0.916571760429414,
          "",
          -1.7554135585844224,
          -0.09111636522109667,
          -1.0724682029368402,
          -1.7644223679328404,
          -0.2388124893902992,
          "",
          "",
          -0.461685160883357,
          -2.1720156423441503,
          -0.7031330553222213,
          -0.08414906270630657,
          "",
          "",
          -1.047368283711582,
          -1.2619619710603642,
          "",
          -2.374889960728843,
          "",
          -0.8312728080132532,
          -0.11774456863433502,
          -0.5152082843029102,
          "",
          -0.28461245855145617,
          "",
          -0.07465201399696719,
          "",
          -1.0714494927187017,
          -0.3336769592217603,
          "",
          "",
          "",
          -0.3745364293980681,
          "",
          -2.151978842447092,
          -2.6588239631633432,
          -1.0792737620725406,
          -0.2123479678091097,
          "",
          -0.44193327143915256,
          "",
          "",
          -0.09720863783200517,
          "",
          -1.792065708144572,
          "",
          "",
          -1.8802991747909727,
          -0.9713747627289355,
          "",
          "",
          "",
          "",
          "",
          -0.9562035218616647,
          "",
          -0.8410801186661442,
          -1.6778143838598711,
          "",
          "",
          -0.43900153636668504,
          "",
          -0.3786000764068651,
          "",
          -0.24219176782997393,
          -2.0288967680787007,
          "",
          "",
          "",
          -1.911273470724784,
          -2.6308248057066557
         ],
         "yaxis": "y2"
        }
       ],
       "layout": {
        "hovermode": "x",
        "legend": {
         "bgcolor": "#F5F6F9",
         "font": {
          "color": "#4D5663"
         }
        },
        "paper_bgcolor": "#F5F6F9",
        "plot_bgcolor": "#F5F6F9",
        "template": {
         "data": {
          "bar": [
           {
            "error_x": {
             "color": "#2a3f5f"
            },
            "error_y": {
             "color": "#2a3f5f"
            },
            "marker": {
             "line": {
              "color": "#E5ECF6",
              "width": 0.5
             }
            },
            "type": "bar"
           }
          ],
          "barpolar": [
           {
            "marker": {
             "line": {
              "color": "#E5ECF6",
              "width": 0.5
             }
            },
            "type": "barpolar"
           }
          ],
          "carpet": [
           {
            "aaxis": {
             "endlinecolor": "#2a3f5f",
             "gridcolor": "white",
             "linecolor": "white",
             "minorgridcolor": "white",
             "startlinecolor": "#2a3f5f"
            },
            "baxis": {
             "endlinecolor": "#2a3f5f",
             "gridcolor": "white",
             "linecolor": "white",
             "minorgridcolor": "white",
             "startlinecolor": "#2a3f5f"
            },
            "type": "carpet"
           }
          ],
          "choropleth": [
           {
            "colorbar": {
             "outlinewidth": 0,
             "ticks": ""
            },
            "type": "choropleth"
           }
          ],
          "contour": [
           {
            "colorbar": {
             "outlinewidth": 0,
             "ticks": ""
            },
            "colorscale": [
             [
              0,
              "#0d0887"
             ],
             [
              0.1111111111111111,
              "#46039f"
             ],
             [
              0.2222222222222222,
              "#7201a8"
             ],
             [
              0.3333333333333333,
              "#9c179e"
             ],
             [
              0.4444444444444444,
              "#bd3786"
             ],
             [
              0.5555555555555556,
              "#d8576b"
             ],
             [
              0.6666666666666666,
              "#ed7953"
             ],
             [
              0.7777777777777778,
              "#fb9f3a"
             ],
             [
              0.8888888888888888,
              "#fdca26"
             ],
             [
              1,
              "#f0f921"
             ]
            ],
            "type": "contour"
           }
          ],
          "contourcarpet": [
           {
            "colorbar": {
             "outlinewidth": 0,
             "ticks": ""
            },
            "type": "contourcarpet"
           }
          ],
          "heatmap": [
           {
            "colorbar": {
             "outlinewidth": 0,
             "ticks": ""
            },
            "colorscale": [
             [
              0,
              "#0d0887"
             ],
             [
              0.1111111111111111,
              "#46039f"
             ],
             [
              0.2222222222222222,
              "#7201a8"
             ],
             [
              0.3333333333333333,
              "#9c179e"
             ],
             [
              0.4444444444444444,
              "#bd3786"
             ],
             [
              0.5555555555555556,
              "#d8576b"
             ],
             [
              0.6666666666666666,
              "#ed7953"
             ],
             [
              0.7777777777777778,
              "#fb9f3a"
             ],
             [
              0.8888888888888888,
              "#fdca26"
             ],
             [
              1,
              "#f0f921"
             ]
            ],
            "type": "heatmap"
           }
          ],
          "heatmapgl": [
           {
            "colorbar": {
             "outlinewidth": 0,
             "ticks": ""
            },
            "colorscale": [
             [
              0,
              "#0d0887"
             ],
             [
              0.1111111111111111,
              "#46039f"
             ],
             [
              0.2222222222222222,
              "#7201a8"
             ],
             [
              0.3333333333333333,
              "#9c179e"
             ],
             [
              0.4444444444444444,
              "#bd3786"
             ],
             [
              0.5555555555555556,
              "#d8576b"
             ],
             [
              0.6666666666666666,
              "#ed7953"
             ],
             [
              0.7777777777777778,
              "#fb9f3a"
             ],
             [
              0.8888888888888888,
              "#fdca26"
             ],
             [
              1,
              "#f0f921"
             ]
            ],
            "type": "heatmapgl"
           }
          ],
          "histogram": [
           {
            "marker": {
             "colorbar": {
              "outlinewidth": 0,
              "ticks": ""
             }
            },
            "type": "histogram"
           }
          ],
          "histogram2d": [
           {
            "colorbar": {
             "outlinewidth": 0,
             "ticks": ""
            },
            "colorscale": [
             [
              0,
              "#0d0887"
             ],
             [
              0.1111111111111111,
              "#46039f"
             ],
             [
              0.2222222222222222,
              "#7201a8"
             ],
             [
              0.3333333333333333,
              "#9c179e"
             ],
             [
              0.4444444444444444,
              "#bd3786"
             ],
             [
              0.5555555555555556,
              "#d8576b"
             ],
             [
              0.6666666666666666,
              "#ed7953"
             ],
             [
              0.7777777777777778,
              "#fb9f3a"
             ],
             [
              0.8888888888888888,
              "#fdca26"
             ],
             [
              1,
              "#f0f921"
             ]
            ],
            "type": "histogram2d"
           }
          ],
          "histogram2dcontour": [
           {
            "colorbar": {
             "outlinewidth": 0,
             "ticks": ""
            },
            "colorscale": [
             [
              0,
              "#0d0887"
             ],
             [
              0.1111111111111111,
              "#46039f"
             ],
             [
              0.2222222222222222,
              "#7201a8"
             ],
             [
              0.3333333333333333,
              "#9c179e"
             ],
             [
              0.4444444444444444,
              "#bd3786"
             ],
             [
              0.5555555555555556,
              "#d8576b"
             ],
             [
              0.6666666666666666,
              "#ed7953"
             ],
             [
              0.7777777777777778,
              "#fb9f3a"
             ],
             [
              0.8888888888888888,
              "#fdca26"
             ],
             [
              1,
              "#f0f921"
             ]
            ],
            "type": "histogram2dcontour"
           }
          ],
          "mesh3d": [
           {
            "colorbar": {
             "outlinewidth": 0,
             "ticks": ""
            },
            "type": "mesh3d"
           }
          ],
          "parcoords": [
           {
            "line": {
             "colorbar": {
              "outlinewidth": 0,
              "ticks": ""
             }
            },
            "type": "parcoords"
           }
          ],
          "pie": [
           {
            "automargin": true,
            "type": "pie"
           }
          ],
          "scatter": [
           {
            "marker": {
             "colorbar": {
              "outlinewidth": 0,
              "ticks": ""
             }
            },
            "type": "scatter"
           }
          ],
          "scatter3d": [
           {
            "line": {
             "colorbar": {
              "outlinewidth": 0,
              "ticks": ""
             }
            },
            "marker": {
             "colorbar": {
              "outlinewidth": 0,
              "ticks": ""
             }
            },
            "type": "scatter3d"
           }
          ],
          "scattercarpet": [
           {
            "marker": {
             "colorbar": {
              "outlinewidth": 0,
              "ticks": ""
             }
            },
            "type": "scattercarpet"
           }
          ],
          "scattergeo": [
           {
            "marker": {
             "colorbar": {
              "outlinewidth": 0,
              "ticks": ""
             }
            },
            "type": "scattergeo"
           }
          ],
          "scattergl": [
           {
            "marker": {
             "colorbar": {
              "outlinewidth": 0,
              "ticks": ""
             }
            },
            "type": "scattergl"
           }
          ],
          "scattermapbox": [
           {
            "marker": {
             "colorbar": {
              "outlinewidth": 0,
              "ticks": ""
             }
            },
            "type": "scattermapbox"
           }
          ],
          "scatterpolar": [
           {
            "marker": {
             "colorbar": {
              "outlinewidth": 0,
              "ticks": ""
             }
            },
            "type": "scatterpolar"
           }
          ],
          "scatterpolargl": [
           {
            "marker": {
             "colorbar": {
              "outlinewidth": 0,
              "ticks": ""
             }
            },
            "type": "scatterpolargl"
           }
          ],
          "scatterternary": [
           {
            "marker": {
             "colorbar": {
              "outlinewidth": 0,
              "ticks": ""
             }
            },
            "type": "scatterternary"
           }
          ],
          "surface": [
           {
            "colorbar": {
             "outlinewidth": 0,
             "ticks": ""
            },
            "colorscale": [
             [
              0,
              "#0d0887"
             ],
             [
              0.1111111111111111,
              "#46039f"
             ],
             [
              0.2222222222222222,
              "#7201a8"
             ],
             [
              0.3333333333333333,
              "#9c179e"
             ],
             [
              0.4444444444444444,
              "#bd3786"
             ],
             [
              0.5555555555555556,
              "#d8576b"
             ],
             [
              0.6666666666666666,
              "#ed7953"
             ],
             [
              0.7777777777777778,
              "#fb9f3a"
             ],
             [
              0.8888888888888888,
              "#fdca26"
             ],
             [
              1,
              "#f0f921"
             ]
            ],
            "type": "surface"
           }
          ],
          "table": [
           {
            "cells": {
             "fill": {
              "color": "#EBF0F8"
             },
             "line": {
              "color": "white"
             }
            },
            "header": {
             "fill": {
              "color": "#C8D4E3"
             },
             "line": {
              "color": "white"
             }
            },
            "type": "table"
           }
          ]
         },
         "layout": {
          "annotationdefaults": {
           "arrowcolor": "#2a3f5f",
           "arrowhead": 0,
           "arrowwidth": 1
          },
          "coloraxis": {
           "colorbar": {
            "outlinewidth": 0,
            "ticks": ""
           }
          },
          "colorscale": {
           "diverging": [
            [
             0,
             "#8e0152"
            ],
            [
             0.1,
             "#c51b7d"
            ],
            [
             0.2,
             "#de77ae"
            ],
            [
             0.3,
             "#f1b6da"
            ],
            [
             0.4,
             "#fde0ef"
            ],
            [
             0.5,
             "#f7f7f7"
            ],
            [
             0.6,
             "#e6f5d0"
            ],
            [
             0.7,
             "#b8e186"
            ],
            [
             0.8,
             "#7fbc41"
            ],
            [
             0.9,
             "#4d9221"
            ],
            [
             1,
             "#276419"
            ]
           ],
           "sequential": [
            [
             0,
             "#0d0887"
            ],
            [
             0.1111111111111111,
             "#46039f"
            ],
            [
             0.2222222222222222,
             "#7201a8"
            ],
            [
             0.3333333333333333,
             "#9c179e"
            ],
            [
             0.4444444444444444,
             "#bd3786"
            ],
            [
             0.5555555555555556,
             "#d8576b"
            ],
            [
             0.6666666666666666,
             "#ed7953"
            ],
            [
             0.7777777777777778,
             "#fb9f3a"
            ],
            [
             0.8888888888888888,
             "#fdca26"
            ],
            [
             1,
             "#f0f921"
            ]
           ],
           "sequentialminus": [
            [
             0,
             "#0d0887"
            ],
            [
             0.1111111111111111,
             "#46039f"
            ],
            [
             0.2222222222222222,
             "#7201a8"
            ],
            [
             0.3333333333333333,
             "#9c179e"
            ],
            [
             0.4444444444444444,
             "#bd3786"
            ],
            [
             0.5555555555555556,
             "#d8576b"
            ],
            [
             0.6666666666666666,
             "#ed7953"
            ],
            [
             0.7777777777777778,
             "#fb9f3a"
            ],
            [
             0.8888888888888888,
             "#fdca26"
            ],
            [
             1,
             "#f0f921"
            ]
           ]
          },
          "colorway": [
           "#636efa",
           "#EF553B",
           "#00cc96",
           "#ab63fa",
           "#FFA15A",
           "#19d3f3",
           "#FF6692",
           "#B6E880",
           "#FF97FF",
           "#FECB52"
          ],
          "font": {
           "color": "#2a3f5f"
          },
          "geo": {
           "bgcolor": "white",
           "lakecolor": "white",
           "landcolor": "#E5ECF6",
           "showlakes": true,
           "showland": true,
           "subunitcolor": "white"
          },
          "hoverlabel": {
           "align": "left"
          },
          "hovermode": "closest",
          "mapbox": {
           "style": "light"
          },
          "paper_bgcolor": "white",
          "plot_bgcolor": "#E5ECF6",
          "polar": {
           "angularaxis": {
            "gridcolor": "white",
            "linecolor": "white",
            "ticks": ""
           },
           "bgcolor": "#E5ECF6",
           "radialaxis": {
            "gridcolor": "white",
            "linecolor": "white",
            "ticks": ""
           }
          },
          "scene": {
           "xaxis": {
            "backgroundcolor": "#E5ECF6",
            "gridcolor": "white",
            "gridwidth": 2,
            "linecolor": "white",
            "showbackground": true,
            "ticks": "",
            "zerolinecolor": "white"
           },
           "yaxis": {
            "backgroundcolor": "#E5ECF6",
            "gridcolor": "white",
            "gridwidth": 2,
            "linecolor": "white",
            "showbackground": true,
            "ticks": "",
            "zerolinecolor": "white"
           },
           "zaxis": {
            "backgroundcolor": "#E5ECF6",
            "gridcolor": "white",
            "gridwidth": 2,
            "linecolor": "white",
            "showbackground": true,
            "ticks": "",
            "zerolinecolor": "white"
           }
          },
          "shapedefaults": {
           "line": {
            "color": "#2a3f5f"
           }
          },
          "ternary": {
           "aaxis": {
            "gridcolor": "white",
            "linecolor": "white",
            "ticks": ""
           },
           "baxis": {
            "gridcolor": "white",
            "linecolor": "white",
            "ticks": ""
           },
           "bgcolor": "#E5ECF6",
           "caxis": {
            "gridcolor": "white",
            "linecolor": "white",
            "ticks": ""
           }
          },
          "title": {
           "x": 0.05
          },
          "xaxis": {
           "automargin": true,
           "gridcolor": "white",
           "linecolor": "white",
           "ticks": "",
           "title": {
            "standoff": 15
           },
           "zerolinecolor": "white",
           "zerolinewidth": 2
          },
          "yaxis": {
           "automargin": true,
           "gridcolor": "white",
           "linecolor": "white",
           "ticks": "",
           "title": {
            "standoff": 15
           },
           "zerolinecolor": "white",
           "zerolinewidth": 2
          }
         }
        },
        "title": {
         "font": {
          "color": "#4D5663"
         }
        },
        "xaxis": {
         "gridcolor": "#E1E5ED",
         "showgrid": true,
         "tickfont": {
          "color": "#4D5663"
         },
         "title": {
          "font": {
           "color": "#4D5663"
          },
          "text": ""
         },
         "zerolinecolor": "#E1E5ED"
        },
        "xaxis2": {
         "anchor": "y2",
         "gridcolor": "#E1E5ED",
         "showgrid": true,
         "showticklabels": false,
         "tickfont": {
          "color": "#4D5663"
         },
         "title": {
          "font": {
           "color": "#4D5663"
          },
          "text": ""
         },
         "zerolinecolor": "#E1E5ED"
        },
        "yaxis": {
         "domain": [
          0.3,
          1
         ],
         "gridcolor": "#E1E5ED",
         "showgrid": true,
         "tickfont": {
          "color": "#4D5663"
         },
         "title": {
          "font": {
           "color": "#4D5663"
          },
          "text": ""
         },
         "zerolinecolor": "#E1E5ED"
        },
        "yaxis2": {
         "domain": [
          0,
          0.25
         ],
         "gridcolor": "#E1E5ED",
         "showgrid": true,
         "tickfont": {
          "color": "#4D5663"
         },
         "title": {
          "font": {
           "color": "#4D5663"
          },
          "text": "Spread"
         },
         "zerolinecolor": "#E1E5ED"
        }
       }
      },
      "text/html": [
       "<div>\n",
       "        \n",
       "        \n",
       "            <div id=\"d471efd5-1848-44cf-8cf8-222a824ff10c\" class=\"plotly-graph-div\" style=\"height:525px; width:100%;\"></div>\n",
       "            <script type=\"text/javascript\">\n",
       "                require([\"plotly\"], function(Plotly) {\n",
       "                    window.PLOTLYENV=window.PLOTLYENV || {};\n",
       "                    window.PLOTLYENV.BASE_URL='https://plot.ly';\n",
       "                    \n",
       "                if (document.getElementById(\"d471efd5-1848-44cf-8cf8-222a824ff10c\")) {\n",
       "                    Plotly.newPlot(\n",
       "                        'd471efd5-1848-44cf-8cf8-222a824ff10c',\n",
       "                        [{\"line\": {\"color\": \"rgba(255, 153, 51, 1.0)\", \"dash\": \"solid\", \"shape\": \"linear\", \"width\": 1.3}, \"mode\": \"lines\", \"name\": \"A\", \"text\": \"\", \"type\": \"scatter\", \"x\": [0, 1, 2, 3, 4, 5, 6, 7, 8, 9, 10, 11, 12, 13, 14, 15, 16, 17, 18, 19, 20, 21, 22, 23, 24, 25, 26, 27, 28, 29, 30, 31, 32, 33, 34, 35, 36, 37, 38, 39, 40, 41, 42, 43, 44, 45, 46, 47, 48, 49, 50, 51, 52, 53, 54, 55, 56, 57, 58, 59, 60, 61, 62, 63, 64, 65, 66, 67, 68, 69, 70, 71, 72, 73, 74, 75, 76, 77, 78, 79, 80, 81, 82, 83, 84, 85, 86, 87, 88, 89, 90, 91, 92, 93, 94, 95, 96, 97, 98, 99], \"y\": [0.0919618728699051, -0.22143263970710958, 1.6920061692431745, 0.9431067925271498, 0.3594422328619513, -0.6828184970650549, 1.3477112305154917, -0.25654138522913494, -0.5500327799891596, -1.6427355514887694, 0.8197944489201987, -0.9823742404275926, -0.7023441940871719, 0.3420492232639261, 0.3614086599960736, 0.9320266717072684, 0.24940799365624342, 0.13501132347356098, 1.7227186975205464, 1.3028028631329955, 1.4192000853142765, -1.4513472584243803, 0.6653115648991531, 0.6212126195957125, 0.5203849348742722, 1.1441801437913968, 0.26324331968163056, 0.14411448089116888, -0.24946884808245628, 1.2004322807572958, -1.33371999712701, -1.303350385254543, -1.1923060843464355, 0.218272069680675, 1.1314974608828123, -0.5806652098094076, 0.5057921370378858, 0.6890842185174422, -0.8682418939632968, -0.9738931790805747, 0.3024580947453506, 0.5930160505461489, 0.012493704873780407, 0.06709321932891561, -0.11492440065381442, 0.9745729681361173, -1.1762691951987503, 0.8146389350431569, -0.12569002261219556, 1.0119713501641898, -0.6321713722281166, 0.4574766710618231, -0.6102904166172508, 0.31641789575822027, 0.9950217584217503, 2.006296936240135, 0.08490037596601381, 0.052925187470997954, 1.6438045388296836, 0.2102712935016528, 1.4467467102795866, -0.8757944378763092, 0.15823619400094852, -1.417545673023298, -0.3400532293623823, 1.2437715025007023, -0.7731750885178242, 0.10291850051799534, -0.4336142340159738, 1.5203031258436455, -0.034733446097376816, 0.4410345083863978, 0.3890827268596237, -0.8946559623109902, -0.003957006038530615, -0.27046157935920223, -0.35782137473497466, -1.729359505511331, 1.7627956055760405, 0.6392822708605644, 0.5287036645533052, 0.7950519326971078, 1.5328580862628476, -0.5029302998523506, -0.7119366297274415, -0.7714058757418685, -0.7764735112899486, 0.15235160520180058, 0.10887281717687264, 0.7941989455346967, 0.4285636061112597, 0.6190583066282419, 0.91499081947152, -0.2932480122438687, -1.7409169425200517, 2.733416114332795, -1.1754447067447311, -1.3793296225880705, -1.079092341670199, -0.7963535324749649]}, {\"line\": {\"color\": \"rgba(55, 128, 191, 1.0)\", \"dash\": \"solid\", \"shape\": \"linear\", \"width\": 1.3}, \"mode\": \"lines\", \"name\": \"B\", \"text\": \"\", \"type\": \"scatter\", \"x\": [0, 1, 2, 3, 4, 5, 6, 7, 8, 9, 10, 11, 12, 13, 14, 15, 16, 17, 18, 19, 20, 21, 22, 23, 24, 25, 26, 27, 28, 29, 30, 31, 32, 33, 34, 35, 36, 37, 38, 39, 40, 41, 42, 43, 44, 45, 46, 47, 48, 49, 50, 51, 52, 53, 54, 55, 56, 57, 58, 59, 60, 61, 62, 63, 64, 65, 66, 67, 68, 69, 70, 71, 72, 73, 74, 75, 76, 77, 78, 79, 80, 81, 82, 83, 84, 85, 86, 87, 88, 89, 90, 91, 92, 93, 94, 95, 96, 97, 98, 99], \"y\": [-0.3359057780033205, -0.4433704710462687, 0.3465360831123125, 0.8803170742782787, 0.288009036532479, 1.8591582085492402, -0.5036424328286201, 0.7731816011892556, -0.6592022646641865, 1.1650207389240208, 2.145286799985949, 0.38318041888760507, 0.3605136490201095, 1.2879110751310086, 0.3870941307195677, 0.5175548648554993, 0.13156406589182484, 0.43726067978794136, -0.12406077464839853, -0.1584521578624045, 1.8481676984545645, -0.6320254001344748, -0.547989679256849, -0.7345036188124198, -0.838599962443122, 0.30565502397333477, -0.39286841571607833, 0.12866234223048006, 0.6671029123469577, -1.6506221833593462, 0.4216935614574125, -1.2122340200334463, -0.11983788140959518, 1.9826944376135154, 1.3703099502731115, -1.2150177014024568, -0.9976729947573217, 1.1507693794007992, 1.3037737483808534, -0.27076012375835345, 0.3866071574516572, -0.5107511196435172, -0.9168898492795453, 1.1144615030404976, 1.1470375704065499, 0.1518813789372889, 1.198620765530093, -1.079485781920071, 0.7055827854010577, 1.1297159187985248, -0.11696308792520638, -0.6076790190270548, -0.32567795806579464, -0.6659287720474008, 1.0696737724187175, -0.161034988424284, 1.1563498686847156, 0.3866021466927583, 0.272581455665236, -0.34368289428306015, -0.18384618137722683, -0.5012580084782411, -0.6724838243629148, 0.7344331694237937, 2.318770733800961, 2.323045264573243, -0.5608271207087145, -1.184389077151462, 0.008319037423178726, -1.096836380779569, -0.2424576969197716, 0.538243146218403, -2.142972574782624, 0.8974097458335817, -0.010318194682662218, -0.6581154280755355, 1.522477800055998, -0.7579847427823956, 0.05924636221836566, 0.2190915527842804, -0.4867693553796768, 0.3388177539269479, -0.8709481281967048, 0.4532732220093141, -0.9850390012649825, 0.06967424292427568, 0.9013408725699227, -0.8889565263236228, -1.4953853400201986, 1.2332004819013818, 0.29559298373114473, 0.997658383035107, 0.18918967408095885, -0.051056244413894794, 0.28797982555864904, 0.5610032454866385, -1.7120942228348124, -1.5117097048745491, 0.832181129054585, 1.8344712732316908]}, {\"connectgaps\": false, \"fill\": \"tozeroy\", \"line\": {\"color\": \"green\", \"dash\": \"solid\", \"shape\": \"linear\", \"width\": 0.5}, \"mode\": \"lines\", \"name\": \"Spread\", \"showlegend\": false, \"type\": \"scatter\", \"x\": [0, 1, 2, 3, 4, 5, 6, 7, 8, 9, 10, 11, 12, 13, 14, 15, 16, 17, 18, 19, 20, 21, 22, 23, 24, 25, 26, 27, 28, 29, 30, 31, 32, 33, 34, 35, 36, 37, 38, 39, 40, 41, 42, 43, 44, 45, 46, 47, 48, 49, 50, 51, 52, 53, 54, 55, 56, 57, 58, 59, 60, 61, 62, 63, 64, 65, 66, 67, 68, 69, 70, 71, 72, 73, 74, 75, 76, 77, 78, 79, 80, 81, 82, 83, 84, 85, 86, 87, 88, 89, 90, 91, 92, 93, 94, 95, 96, 97, 98, 99], \"xaxis\": \"x2\", \"y\": [0.4278676508732256, 0.22193783133915912, 1.345470086130862, 0.06278971824887114, 0.07143319632947231, \"\", 1.8513536633441117, \"\", 0.10916948467502696, \"\", \"\", \"\", \"\", \"\", \"\", 0.4144718068517691, 0.11784392776441857, \"\", 1.846779472168945, 1.4612550209954, \"\", \"\", 1.213301244156002, 1.3557162384081323, 1.3589848973173941, 0.838525119818062, 0.6561117353977088, 0.015452138660688813, \"\", 2.851054464116642, \"\", \"\", \"\", \"\", \"\", 0.6343524915930492, 1.5034651317952075, \"\", \"\", \"\", \"\", 1.103767170189666, 0.9293835541533257, \"\", \"\", 0.8226915891988283, \"\", 1.8941247169632278, \"\", \"\", \"\", 1.065155690088878, \"\", 0.982346667805621, \"\", 2.167331924664419, \"\", \"\", 1.3712230831644476, 0.553954187784713, 1.6305928916568133, \"\", 0.8307200183638632, \"\", \"\", \"\", \"\", 1.2873075776694574, \"\", 2.6171395066232144, 0.20772425082239476, \"\", 2.532055301642248, \"\", 0.0063611886441316025, 0.38765384871633324, \"\", \"\", 1.7035492433576749, 0.42019071807628405, 1.015473019932982, 0.4562341787701599, 2.4038062144595522, \"\", 0.2731023715375409, \"\", \"\", 1.0413081315254233, 1.6042581571970713, \"\", 0.13297062238011498, \"\", 0.7258011453905611, \"\", \"\", 2.1724128688461564, 0.5366495160900813, 0.13238008228647868, \"\", \"\"], \"yaxis\": \"y2\"}, {\"connectgaps\": false, \"fill\": \"tozeroy\", \"line\": {\"color\": \"red\", \"dash\": \"solid\", \"shape\": \"linear\", \"width\": 0.5}, \"mode\": \"lines\", \"name\": \"Spread\", \"showlegend\": false, \"type\": \"scatter\", \"x\": [0, 1, 2, 3, 4, 5, 6, 7, 8, 9, 10, 11, 12, 13, 14, 15, 16, 17, 18, 19, 20, 21, 22, 23, 24, 25, 26, 27, 28, 29, 30, 31, 32, 33, 34, 35, 36, 37, 38, 39, 40, 41, 42, 43, 44, 45, 46, 47, 48, 49, 50, 51, 52, 53, 54, 55, 56, 57, 58, 59, 60, 61, 62, 63, 64, 65, 66, 67, 68, 69, 70, 71, 72, 73, 74, 75, 76, 77, 78, 79, 80, 81, 82, 83, 84, 85, 86, 87, 88, 89, 90, 91, 92, 93, 94, 95, 96, 97, 98, 99], \"xaxis\": \"x2\", \"y\": [\"\", \"\", \"\", \"\", \"\", -2.541976705614295, \"\", -1.0297229864183906, \"\", -2.80775629041279, -1.3254923510657504, -1.3655546593151977, -1.0628578431072815, -0.9458618518670825, -0.02568547072349414, \"\", \"\", -0.3022493563143804, \"\", \"\", -0.428967613140288, -0.8193218582899054, \"\", \"\", \"\", \"\", \"\", \"\", -0.916571760429414, \"\", -1.7554135585844224, -0.09111636522109667, -1.0724682029368402, -1.7644223679328404, -0.2388124893902992, \"\", \"\", -0.461685160883357, -2.1720156423441503, -0.7031330553222213, -0.08414906270630657, \"\", \"\", -1.047368283711582, -1.2619619710603642, \"\", -2.374889960728843, \"\", -0.8312728080132532, -0.11774456863433502, -0.5152082843029102, \"\", -0.28461245855145617, \"\", -0.07465201399696719, \"\", -1.0714494927187017, -0.3336769592217603, \"\", \"\", \"\", -0.3745364293980681, \"\", -2.151978842447092, -2.6588239631633432, -1.0792737620725406, -0.2123479678091097, \"\", -0.44193327143915256, \"\", \"\", -0.09720863783200517, \"\", -1.792065708144572, \"\", \"\", -1.8802991747909727, -0.9713747627289355, \"\", \"\", \"\", \"\", \"\", -0.9562035218616647, \"\", -0.8410801186661442, -1.6778143838598711, \"\", \"\", -0.43900153636668504, \"\", -0.3786000764068651, \"\", -0.24219176782997393, -2.0288967680787007, \"\", \"\", \"\", -1.911273470724784, -2.6308248057066557], \"yaxis\": \"y2\"}],\n",
       "                        {\"hovermode\": \"x\", \"legend\": {\"bgcolor\": \"#F5F6F9\", \"font\": {\"color\": \"#4D5663\"}}, \"paper_bgcolor\": \"#F5F6F9\", \"plot_bgcolor\": \"#F5F6F9\", \"template\": {\"data\": {\"bar\": [{\"error_x\": {\"color\": \"#2a3f5f\"}, \"error_y\": {\"color\": \"#2a3f5f\"}, \"marker\": {\"line\": {\"color\": \"#E5ECF6\", \"width\": 0.5}}, \"type\": \"bar\"}], \"barpolar\": [{\"marker\": {\"line\": {\"color\": \"#E5ECF6\", \"width\": 0.5}}, \"type\": \"barpolar\"}], \"carpet\": [{\"aaxis\": {\"endlinecolor\": \"#2a3f5f\", \"gridcolor\": \"white\", \"linecolor\": \"white\", \"minorgridcolor\": \"white\", \"startlinecolor\": \"#2a3f5f\"}, \"baxis\": {\"endlinecolor\": \"#2a3f5f\", \"gridcolor\": \"white\", \"linecolor\": \"white\", \"minorgridcolor\": \"white\", \"startlinecolor\": \"#2a3f5f\"}, \"type\": \"carpet\"}], \"choropleth\": [{\"colorbar\": {\"outlinewidth\": 0, \"ticks\": \"\"}, \"type\": \"choropleth\"}], \"contour\": [{\"colorbar\": {\"outlinewidth\": 0, \"ticks\": \"\"}, \"colorscale\": [[0.0, \"#0d0887\"], [0.1111111111111111, \"#46039f\"], [0.2222222222222222, \"#7201a8\"], [0.3333333333333333, \"#9c179e\"], [0.4444444444444444, \"#bd3786\"], [0.5555555555555556, \"#d8576b\"], [0.6666666666666666, \"#ed7953\"], [0.7777777777777778, \"#fb9f3a\"], [0.8888888888888888, \"#fdca26\"], [1.0, \"#f0f921\"]], \"type\": \"contour\"}], \"contourcarpet\": [{\"colorbar\": {\"outlinewidth\": 0, \"ticks\": \"\"}, \"type\": \"contourcarpet\"}], \"heatmap\": [{\"colorbar\": {\"outlinewidth\": 0, \"ticks\": \"\"}, \"colorscale\": [[0.0, \"#0d0887\"], [0.1111111111111111, \"#46039f\"], [0.2222222222222222, \"#7201a8\"], [0.3333333333333333, \"#9c179e\"], [0.4444444444444444, \"#bd3786\"], [0.5555555555555556, \"#d8576b\"], [0.6666666666666666, \"#ed7953\"], [0.7777777777777778, \"#fb9f3a\"], [0.8888888888888888, \"#fdca26\"], [1.0, \"#f0f921\"]], \"type\": \"heatmap\"}], \"heatmapgl\": [{\"colorbar\": {\"outlinewidth\": 0, \"ticks\": \"\"}, \"colorscale\": [[0.0, \"#0d0887\"], [0.1111111111111111, \"#46039f\"], [0.2222222222222222, \"#7201a8\"], [0.3333333333333333, \"#9c179e\"], [0.4444444444444444, \"#bd3786\"], [0.5555555555555556, \"#d8576b\"], [0.6666666666666666, \"#ed7953\"], [0.7777777777777778, \"#fb9f3a\"], [0.8888888888888888, \"#fdca26\"], [1.0, \"#f0f921\"]], \"type\": \"heatmapgl\"}], \"histogram\": [{\"marker\": {\"colorbar\": {\"outlinewidth\": 0, \"ticks\": \"\"}}, \"type\": \"histogram\"}], \"histogram2d\": [{\"colorbar\": {\"outlinewidth\": 0, \"ticks\": \"\"}, \"colorscale\": [[0.0, \"#0d0887\"], [0.1111111111111111, \"#46039f\"], [0.2222222222222222, \"#7201a8\"], [0.3333333333333333, \"#9c179e\"], [0.4444444444444444, \"#bd3786\"], [0.5555555555555556, \"#d8576b\"], [0.6666666666666666, \"#ed7953\"], [0.7777777777777778, \"#fb9f3a\"], [0.8888888888888888, \"#fdca26\"], [1.0, \"#f0f921\"]], \"type\": \"histogram2d\"}], \"histogram2dcontour\": [{\"colorbar\": {\"outlinewidth\": 0, \"ticks\": \"\"}, \"colorscale\": [[0.0, \"#0d0887\"], [0.1111111111111111, \"#46039f\"], [0.2222222222222222, \"#7201a8\"], [0.3333333333333333, \"#9c179e\"], [0.4444444444444444, \"#bd3786\"], [0.5555555555555556, \"#d8576b\"], [0.6666666666666666, \"#ed7953\"], [0.7777777777777778, \"#fb9f3a\"], [0.8888888888888888, \"#fdca26\"], [1.0, \"#f0f921\"]], \"type\": \"histogram2dcontour\"}], \"mesh3d\": [{\"colorbar\": {\"outlinewidth\": 0, \"ticks\": \"\"}, \"type\": \"mesh3d\"}], \"parcoords\": [{\"line\": {\"colorbar\": {\"outlinewidth\": 0, \"ticks\": \"\"}}, \"type\": \"parcoords\"}], \"pie\": [{\"automargin\": true, \"type\": \"pie\"}], \"scatter\": [{\"marker\": {\"colorbar\": {\"outlinewidth\": 0, \"ticks\": \"\"}}, \"type\": \"scatter\"}], \"scatter3d\": [{\"line\": {\"colorbar\": {\"outlinewidth\": 0, \"ticks\": \"\"}}, \"marker\": {\"colorbar\": {\"outlinewidth\": 0, \"ticks\": \"\"}}, \"type\": \"scatter3d\"}], \"scattercarpet\": [{\"marker\": {\"colorbar\": {\"outlinewidth\": 0, \"ticks\": \"\"}}, \"type\": \"scattercarpet\"}], \"scattergeo\": [{\"marker\": {\"colorbar\": {\"outlinewidth\": 0, \"ticks\": \"\"}}, \"type\": \"scattergeo\"}], \"scattergl\": [{\"marker\": {\"colorbar\": {\"outlinewidth\": 0, \"ticks\": \"\"}}, \"type\": \"scattergl\"}], \"scattermapbox\": [{\"marker\": {\"colorbar\": {\"outlinewidth\": 0, \"ticks\": \"\"}}, \"type\": \"scattermapbox\"}], \"scatterpolar\": [{\"marker\": {\"colorbar\": {\"outlinewidth\": 0, \"ticks\": \"\"}}, \"type\": \"scatterpolar\"}], \"scatterpolargl\": [{\"marker\": {\"colorbar\": {\"outlinewidth\": 0, \"ticks\": \"\"}}, \"type\": \"scatterpolargl\"}], \"scatterternary\": [{\"marker\": {\"colorbar\": {\"outlinewidth\": 0, \"ticks\": \"\"}}, \"type\": \"scatterternary\"}], \"surface\": [{\"colorbar\": {\"outlinewidth\": 0, \"ticks\": \"\"}, \"colorscale\": [[0.0, \"#0d0887\"], [0.1111111111111111, \"#46039f\"], [0.2222222222222222, \"#7201a8\"], [0.3333333333333333, \"#9c179e\"], [0.4444444444444444, \"#bd3786\"], [0.5555555555555556, \"#d8576b\"], [0.6666666666666666, \"#ed7953\"], [0.7777777777777778, \"#fb9f3a\"], [0.8888888888888888, \"#fdca26\"], [1.0, \"#f0f921\"]], \"type\": \"surface\"}], \"table\": [{\"cells\": {\"fill\": {\"color\": \"#EBF0F8\"}, \"line\": {\"color\": \"white\"}}, \"header\": {\"fill\": {\"color\": \"#C8D4E3\"}, \"line\": {\"color\": \"white\"}}, \"type\": \"table\"}]}, \"layout\": {\"annotationdefaults\": {\"arrowcolor\": \"#2a3f5f\", \"arrowhead\": 0, \"arrowwidth\": 1}, \"coloraxis\": {\"colorbar\": {\"outlinewidth\": 0, \"ticks\": \"\"}}, \"colorscale\": {\"diverging\": [[0, \"#8e0152\"], [0.1, \"#c51b7d\"], [0.2, \"#de77ae\"], [0.3, \"#f1b6da\"], [0.4, \"#fde0ef\"], [0.5, \"#f7f7f7\"], [0.6, \"#e6f5d0\"], [0.7, \"#b8e186\"], [0.8, \"#7fbc41\"], [0.9, \"#4d9221\"], [1, \"#276419\"]], \"sequential\": [[0.0, \"#0d0887\"], [0.1111111111111111, \"#46039f\"], [0.2222222222222222, \"#7201a8\"], [0.3333333333333333, \"#9c179e\"], [0.4444444444444444, \"#bd3786\"], [0.5555555555555556, \"#d8576b\"], [0.6666666666666666, \"#ed7953\"], [0.7777777777777778, \"#fb9f3a\"], [0.8888888888888888, \"#fdca26\"], [1.0, \"#f0f921\"]], \"sequentialminus\": [[0.0, \"#0d0887\"], [0.1111111111111111, \"#46039f\"], [0.2222222222222222, \"#7201a8\"], [0.3333333333333333, \"#9c179e\"], [0.4444444444444444, \"#bd3786\"], [0.5555555555555556, \"#d8576b\"], [0.6666666666666666, \"#ed7953\"], [0.7777777777777778, \"#fb9f3a\"], [0.8888888888888888, \"#fdca26\"], [1.0, \"#f0f921\"]]}, \"colorway\": [\"#636efa\", \"#EF553B\", \"#00cc96\", \"#ab63fa\", \"#FFA15A\", \"#19d3f3\", \"#FF6692\", \"#B6E880\", \"#FF97FF\", \"#FECB52\"], \"font\": {\"color\": \"#2a3f5f\"}, \"geo\": {\"bgcolor\": \"white\", \"lakecolor\": \"white\", \"landcolor\": \"#E5ECF6\", \"showlakes\": true, \"showland\": true, \"subunitcolor\": \"white\"}, \"hoverlabel\": {\"align\": \"left\"}, \"hovermode\": \"closest\", \"mapbox\": {\"style\": \"light\"}, \"paper_bgcolor\": \"white\", \"plot_bgcolor\": \"#E5ECF6\", \"polar\": {\"angularaxis\": {\"gridcolor\": \"white\", \"linecolor\": \"white\", \"ticks\": \"\"}, \"bgcolor\": \"#E5ECF6\", \"radialaxis\": {\"gridcolor\": \"white\", \"linecolor\": \"white\", \"ticks\": \"\"}}, \"scene\": {\"xaxis\": {\"backgroundcolor\": \"#E5ECF6\", \"gridcolor\": \"white\", \"gridwidth\": 2, \"linecolor\": \"white\", \"showbackground\": true, \"ticks\": \"\", \"zerolinecolor\": \"white\"}, \"yaxis\": {\"backgroundcolor\": \"#E5ECF6\", \"gridcolor\": \"white\", \"gridwidth\": 2, \"linecolor\": \"white\", \"showbackground\": true, \"ticks\": \"\", \"zerolinecolor\": \"white\"}, \"zaxis\": {\"backgroundcolor\": \"#E5ECF6\", \"gridcolor\": \"white\", \"gridwidth\": 2, \"linecolor\": \"white\", \"showbackground\": true, \"ticks\": \"\", \"zerolinecolor\": \"white\"}}, \"shapedefaults\": {\"line\": {\"color\": \"#2a3f5f\"}}, \"ternary\": {\"aaxis\": {\"gridcolor\": \"white\", \"linecolor\": \"white\", \"ticks\": \"\"}, \"baxis\": {\"gridcolor\": \"white\", \"linecolor\": \"white\", \"ticks\": \"\"}, \"bgcolor\": \"#E5ECF6\", \"caxis\": {\"gridcolor\": \"white\", \"linecolor\": \"white\", \"ticks\": \"\"}}, \"title\": {\"x\": 0.05}, \"xaxis\": {\"automargin\": true, \"gridcolor\": \"white\", \"linecolor\": \"white\", \"ticks\": \"\", \"title\": {\"standoff\": 15}, \"zerolinecolor\": \"white\", \"zerolinewidth\": 2}, \"yaxis\": {\"automargin\": true, \"gridcolor\": \"white\", \"linecolor\": \"white\", \"ticks\": \"\", \"title\": {\"standoff\": 15}, \"zerolinecolor\": \"white\", \"zerolinewidth\": 2}}}, \"title\": {\"font\": {\"color\": \"#4D5663\"}}, \"xaxis\": {\"gridcolor\": \"#E1E5ED\", \"showgrid\": true, \"tickfont\": {\"color\": \"#4D5663\"}, \"title\": {\"font\": {\"color\": \"#4D5663\"}, \"text\": \"\"}, \"zerolinecolor\": \"#E1E5ED\"}, \"xaxis2\": {\"anchor\": \"y2\", \"gridcolor\": \"#E1E5ED\", \"showgrid\": true, \"showticklabels\": false, \"tickfont\": {\"color\": \"#4D5663\"}, \"title\": {\"font\": {\"color\": \"#4D5663\"}, \"text\": \"\"}, \"zerolinecolor\": \"#E1E5ED\"}, \"yaxis\": {\"domain\": [0.3, 1], \"gridcolor\": \"#E1E5ED\", \"showgrid\": true, \"tickfont\": {\"color\": \"#4D5663\"}, \"title\": {\"font\": {\"color\": \"#4D5663\"}, \"text\": \"\"}, \"zerolinecolor\": \"#E1E5ED\"}, \"yaxis2\": {\"domain\": [0, 0.25], \"gridcolor\": \"#E1E5ED\", \"showgrid\": true, \"tickfont\": {\"color\": \"#4D5663\"}, \"title\": {\"font\": {\"color\": \"#4D5663\"}, \"text\": \"Spread\"}, \"zerolinecolor\": \"#E1E5ED\"}},\n",
       "                        {\"showLink\": true, \"linkText\": \"Export to plot.ly\", \"plotlyServerURL\": \"https://plot.ly\", \"responsive\": true}\n",
       "                    ).then(function(){\n",
       "                            \n",
       "var gd = document.getElementById('d471efd5-1848-44cf-8cf8-222a824ff10c');\n",
       "var x = new MutationObserver(function (mutations, observer) {{\n",
       "        var display = window.getComputedStyle(gd).display;\n",
       "        if (!display || display === 'none') {{\n",
       "            console.log([gd, 'removed!']);\n",
       "            Plotly.purge(gd);\n",
       "            observer.disconnect();\n",
       "        }}\n",
       "}});\n",
       "\n",
       "// Listen for the removal of the full notebook cells\n",
       "var notebookContainer = gd.closest('#notebook-container');\n",
       "if (notebookContainer) {{\n",
       "    x.observe(notebookContainer, {childList: true});\n",
       "}}\n",
       "\n",
       "// Listen for the clearing of the current output cell\n",
       "var outputEl = gd.closest('.output');\n",
       "if (outputEl) {{\n",
       "    x.observe(outputEl, {childList: true});\n",
       "}}\n",
       "\n",
       "                        })\n",
       "                };\n",
       "                });\n",
       "            </script>\n",
       "        </div>"
      ]
     },
     "metadata": {},
     "output_type": "display_data"
    }
   ],
   "source": [
    "df[['A','B']].iplot(kind='spread')"
   ]
  },
  {
   "cell_type": "markdown",
   "metadata": {},
   "source": [
    "## Histograma"
   ]
  },
  {
   "cell_type": "code",
   "execution_count": 17,
   "metadata": {},
   "outputs": [
    {
     "data": {
      "application/vnd.plotly.v1+json": {
       "config": {
        "linkText": "Export to plot.ly",
        "plotlyServerURL": "https://plot.ly",
        "showLink": true
       },
       "data": [
        {
         "histfunc": "count",
         "histnorm": "",
         "marker": {
          "color": "rgba(255, 153, 51, 1.0)",
          "line": {
           "color": "#4D5663",
           "width": 1.3
          }
         },
         "name": "A",
         "nbinsx": 25,
         "opacity": 0.8,
         "orientation": "v",
         "type": "histogram",
         "x": [
          0.0919618728699051,
          -0.22143263970710958,
          1.6920061692431745,
          0.9431067925271498,
          0.3594422328619513,
          -0.6828184970650549,
          1.3477112305154917,
          -0.25654138522913494,
          -0.5500327799891596,
          -1.6427355514887694,
          0.8197944489201987,
          -0.9823742404275926,
          -0.7023441940871719,
          0.3420492232639261,
          0.3614086599960736,
          0.9320266717072684,
          0.24940799365624342,
          0.13501132347356098,
          1.7227186975205464,
          1.3028028631329955,
          1.4192000853142765,
          -1.4513472584243803,
          0.6653115648991531,
          0.6212126195957125,
          0.5203849348742722,
          1.1441801437913968,
          0.26324331968163056,
          0.14411448089116888,
          -0.24946884808245628,
          1.2004322807572958,
          -1.33371999712701,
          -1.303350385254543,
          -1.1923060843464355,
          0.218272069680675,
          1.1314974608828123,
          -0.5806652098094076,
          0.5057921370378858,
          0.6890842185174422,
          -0.8682418939632968,
          -0.9738931790805747,
          0.3024580947453506,
          0.5930160505461489,
          0.012493704873780407,
          0.06709321932891561,
          -0.11492440065381442,
          0.9745729681361173,
          -1.1762691951987503,
          0.8146389350431569,
          -0.12569002261219556,
          1.0119713501641898,
          -0.6321713722281166,
          0.4574766710618231,
          -0.6102904166172508,
          0.31641789575822027,
          0.9950217584217503,
          2.006296936240135,
          0.08490037596601381,
          0.052925187470997954,
          1.6438045388296836,
          0.2102712935016528,
          1.4467467102795866,
          -0.8757944378763092,
          0.15823619400094852,
          -1.417545673023298,
          -0.3400532293623823,
          1.2437715025007023,
          -0.7731750885178242,
          0.10291850051799534,
          -0.4336142340159738,
          1.5203031258436455,
          -0.034733446097376816,
          0.4410345083863978,
          0.3890827268596237,
          -0.8946559623109902,
          -0.003957006038530615,
          -0.27046157935920223,
          -0.35782137473497466,
          -1.729359505511331,
          1.7627956055760405,
          0.6392822708605644,
          0.5287036645533052,
          0.7950519326971078,
          1.5328580862628476,
          -0.5029302998523506,
          -0.7119366297274415,
          -0.7714058757418685,
          -0.7764735112899486,
          0.15235160520180058,
          0.10887281717687264,
          0.7941989455346967,
          0.4285636061112597,
          0.6190583066282419,
          0.91499081947152,
          -0.2932480122438687,
          -1.7409169425200517,
          2.733416114332795,
          -1.1754447067447311,
          -1.3793296225880705,
          -1.079092341670199,
          -0.7963535324749649
         ]
        }
       ],
       "layout": {
        "barmode": "overlay",
        "legend": {
         "bgcolor": "#F5F6F9",
         "font": {
          "color": "#4D5663"
         }
        },
        "paper_bgcolor": "#F5F6F9",
        "plot_bgcolor": "#F5F6F9",
        "template": {
         "data": {
          "bar": [
           {
            "error_x": {
             "color": "#2a3f5f"
            },
            "error_y": {
             "color": "#2a3f5f"
            },
            "marker": {
             "line": {
              "color": "#E5ECF6",
              "width": 0.5
             }
            },
            "type": "bar"
           }
          ],
          "barpolar": [
           {
            "marker": {
             "line": {
              "color": "#E5ECF6",
              "width": 0.5
             }
            },
            "type": "barpolar"
           }
          ],
          "carpet": [
           {
            "aaxis": {
             "endlinecolor": "#2a3f5f",
             "gridcolor": "white",
             "linecolor": "white",
             "minorgridcolor": "white",
             "startlinecolor": "#2a3f5f"
            },
            "baxis": {
             "endlinecolor": "#2a3f5f",
             "gridcolor": "white",
             "linecolor": "white",
             "minorgridcolor": "white",
             "startlinecolor": "#2a3f5f"
            },
            "type": "carpet"
           }
          ],
          "choropleth": [
           {
            "colorbar": {
             "outlinewidth": 0,
             "ticks": ""
            },
            "type": "choropleth"
           }
          ],
          "contour": [
           {
            "colorbar": {
             "outlinewidth": 0,
             "ticks": ""
            },
            "colorscale": [
             [
              0,
              "#0d0887"
             ],
             [
              0.1111111111111111,
              "#46039f"
             ],
             [
              0.2222222222222222,
              "#7201a8"
             ],
             [
              0.3333333333333333,
              "#9c179e"
             ],
             [
              0.4444444444444444,
              "#bd3786"
             ],
             [
              0.5555555555555556,
              "#d8576b"
             ],
             [
              0.6666666666666666,
              "#ed7953"
             ],
             [
              0.7777777777777778,
              "#fb9f3a"
             ],
             [
              0.8888888888888888,
              "#fdca26"
             ],
             [
              1,
              "#f0f921"
             ]
            ],
            "type": "contour"
           }
          ],
          "contourcarpet": [
           {
            "colorbar": {
             "outlinewidth": 0,
             "ticks": ""
            },
            "type": "contourcarpet"
           }
          ],
          "heatmap": [
           {
            "colorbar": {
             "outlinewidth": 0,
             "ticks": ""
            },
            "colorscale": [
             [
              0,
              "#0d0887"
             ],
             [
              0.1111111111111111,
              "#46039f"
             ],
             [
              0.2222222222222222,
              "#7201a8"
             ],
             [
              0.3333333333333333,
              "#9c179e"
             ],
             [
              0.4444444444444444,
              "#bd3786"
             ],
             [
              0.5555555555555556,
              "#d8576b"
             ],
             [
              0.6666666666666666,
              "#ed7953"
             ],
             [
              0.7777777777777778,
              "#fb9f3a"
             ],
             [
              0.8888888888888888,
              "#fdca26"
             ],
             [
              1,
              "#f0f921"
             ]
            ],
            "type": "heatmap"
           }
          ],
          "heatmapgl": [
           {
            "colorbar": {
             "outlinewidth": 0,
             "ticks": ""
            },
            "colorscale": [
             [
              0,
              "#0d0887"
             ],
             [
              0.1111111111111111,
              "#46039f"
             ],
             [
              0.2222222222222222,
              "#7201a8"
             ],
             [
              0.3333333333333333,
              "#9c179e"
             ],
             [
              0.4444444444444444,
              "#bd3786"
             ],
             [
              0.5555555555555556,
              "#d8576b"
             ],
             [
              0.6666666666666666,
              "#ed7953"
             ],
             [
              0.7777777777777778,
              "#fb9f3a"
             ],
             [
              0.8888888888888888,
              "#fdca26"
             ],
             [
              1,
              "#f0f921"
             ]
            ],
            "type": "heatmapgl"
           }
          ],
          "histogram": [
           {
            "marker": {
             "colorbar": {
              "outlinewidth": 0,
              "ticks": ""
             }
            },
            "type": "histogram"
           }
          ],
          "histogram2d": [
           {
            "colorbar": {
             "outlinewidth": 0,
             "ticks": ""
            },
            "colorscale": [
             [
              0,
              "#0d0887"
             ],
             [
              0.1111111111111111,
              "#46039f"
             ],
             [
              0.2222222222222222,
              "#7201a8"
             ],
             [
              0.3333333333333333,
              "#9c179e"
             ],
             [
              0.4444444444444444,
              "#bd3786"
             ],
             [
              0.5555555555555556,
              "#d8576b"
             ],
             [
              0.6666666666666666,
              "#ed7953"
             ],
             [
              0.7777777777777778,
              "#fb9f3a"
             ],
             [
              0.8888888888888888,
              "#fdca26"
             ],
             [
              1,
              "#f0f921"
             ]
            ],
            "type": "histogram2d"
           }
          ],
          "histogram2dcontour": [
           {
            "colorbar": {
             "outlinewidth": 0,
             "ticks": ""
            },
            "colorscale": [
             [
              0,
              "#0d0887"
             ],
             [
              0.1111111111111111,
              "#46039f"
             ],
             [
              0.2222222222222222,
              "#7201a8"
             ],
             [
              0.3333333333333333,
              "#9c179e"
             ],
             [
              0.4444444444444444,
              "#bd3786"
             ],
             [
              0.5555555555555556,
              "#d8576b"
             ],
             [
              0.6666666666666666,
              "#ed7953"
             ],
             [
              0.7777777777777778,
              "#fb9f3a"
             ],
             [
              0.8888888888888888,
              "#fdca26"
             ],
             [
              1,
              "#f0f921"
             ]
            ],
            "type": "histogram2dcontour"
           }
          ],
          "mesh3d": [
           {
            "colorbar": {
             "outlinewidth": 0,
             "ticks": ""
            },
            "type": "mesh3d"
           }
          ],
          "parcoords": [
           {
            "line": {
             "colorbar": {
              "outlinewidth": 0,
              "ticks": ""
             }
            },
            "type": "parcoords"
           }
          ],
          "pie": [
           {
            "automargin": true,
            "type": "pie"
           }
          ],
          "scatter": [
           {
            "marker": {
             "colorbar": {
              "outlinewidth": 0,
              "ticks": ""
             }
            },
            "type": "scatter"
           }
          ],
          "scatter3d": [
           {
            "line": {
             "colorbar": {
              "outlinewidth": 0,
              "ticks": ""
             }
            },
            "marker": {
             "colorbar": {
              "outlinewidth": 0,
              "ticks": ""
             }
            },
            "type": "scatter3d"
           }
          ],
          "scattercarpet": [
           {
            "marker": {
             "colorbar": {
              "outlinewidth": 0,
              "ticks": ""
             }
            },
            "type": "scattercarpet"
           }
          ],
          "scattergeo": [
           {
            "marker": {
             "colorbar": {
              "outlinewidth": 0,
              "ticks": ""
             }
            },
            "type": "scattergeo"
           }
          ],
          "scattergl": [
           {
            "marker": {
             "colorbar": {
              "outlinewidth": 0,
              "ticks": ""
             }
            },
            "type": "scattergl"
           }
          ],
          "scattermapbox": [
           {
            "marker": {
             "colorbar": {
              "outlinewidth": 0,
              "ticks": ""
             }
            },
            "type": "scattermapbox"
           }
          ],
          "scatterpolar": [
           {
            "marker": {
             "colorbar": {
              "outlinewidth": 0,
              "ticks": ""
             }
            },
            "type": "scatterpolar"
           }
          ],
          "scatterpolargl": [
           {
            "marker": {
             "colorbar": {
              "outlinewidth": 0,
              "ticks": ""
             }
            },
            "type": "scatterpolargl"
           }
          ],
          "scatterternary": [
           {
            "marker": {
             "colorbar": {
              "outlinewidth": 0,
              "ticks": ""
             }
            },
            "type": "scatterternary"
           }
          ],
          "surface": [
           {
            "colorbar": {
             "outlinewidth": 0,
             "ticks": ""
            },
            "colorscale": [
             [
              0,
              "#0d0887"
             ],
             [
              0.1111111111111111,
              "#46039f"
             ],
             [
              0.2222222222222222,
              "#7201a8"
             ],
             [
              0.3333333333333333,
              "#9c179e"
             ],
             [
              0.4444444444444444,
              "#bd3786"
             ],
             [
              0.5555555555555556,
              "#d8576b"
             ],
             [
              0.6666666666666666,
              "#ed7953"
             ],
             [
              0.7777777777777778,
              "#fb9f3a"
             ],
             [
              0.8888888888888888,
              "#fdca26"
             ],
             [
              1,
              "#f0f921"
             ]
            ],
            "type": "surface"
           }
          ],
          "table": [
           {
            "cells": {
             "fill": {
              "color": "#EBF0F8"
             },
             "line": {
              "color": "white"
             }
            },
            "header": {
             "fill": {
              "color": "#C8D4E3"
             },
             "line": {
              "color": "white"
             }
            },
            "type": "table"
           }
          ]
         },
         "layout": {
          "annotationdefaults": {
           "arrowcolor": "#2a3f5f",
           "arrowhead": 0,
           "arrowwidth": 1
          },
          "coloraxis": {
           "colorbar": {
            "outlinewidth": 0,
            "ticks": ""
           }
          },
          "colorscale": {
           "diverging": [
            [
             0,
             "#8e0152"
            ],
            [
             0.1,
             "#c51b7d"
            ],
            [
             0.2,
             "#de77ae"
            ],
            [
             0.3,
             "#f1b6da"
            ],
            [
             0.4,
             "#fde0ef"
            ],
            [
             0.5,
             "#f7f7f7"
            ],
            [
             0.6,
             "#e6f5d0"
            ],
            [
             0.7,
             "#b8e186"
            ],
            [
             0.8,
             "#7fbc41"
            ],
            [
             0.9,
             "#4d9221"
            ],
            [
             1,
             "#276419"
            ]
           ],
           "sequential": [
            [
             0,
             "#0d0887"
            ],
            [
             0.1111111111111111,
             "#46039f"
            ],
            [
             0.2222222222222222,
             "#7201a8"
            ],
            [
             0.3333333333333333,
             "#9c179e"
            ],
            [
             0.4444444444444444,
             "#bd3786"
            ],
            [
             0.5555555555555556,
             "#d8576b"
            ],
            [
             0.6666666666666666,
             "#ed7953"
            ],
            [
             0.7777777777777778,
             "#fb9f3a"
            ],
            [
             0.8888888888888888,
             "#fdca26"
            ],
            [
             1,
             "#f0f921"
            ]
           ],
           "sequentialminus": [
            [
             0,
             "#0d0887"
            ],
            [
             0.1111111111111111,
             "#46039f"
            ],
            [
             0.2222222222222222,
             "#7201a8"
            ],
            [
             0.3333333333333333,
             "#9c179e"
            ],
            [
             0.4444444444444444,
             "#bd3786"
            ],
            [
             0.5555555555555556,
             "#d8576b"
            ],
            [
             0.6666666666666666,
             "#ed7953"
            ],
            [
             0.7777777777777778,
             "#fb9f3a"
            ],
            [
             0.8888888888888888,
             "#fdca26"
            ],
            [
             1,
             "#f0f921"
            ]
           ]
          },
          "colorway": [
           "#636efa",
           "#EF553B",
           "#00cc96",
           "#ab63fa",
           "#FFA15A",
           "#19d3f3",
           "#FF6692",
           "#B6E880",
           "#FF97FF",
           "#FECB52"
          ],
          "font": {
           "color": "#2a3f5f"
          },
          "geo": {
           "bgcolor": "white",
           "lakecolor": "white",
           "landcolor": "#E5ECF6",
           "showlakes": true,
           "showland": true,
           "subunitcolor": "white"
          },
          "hoverlabel": {
           "align": "left"
          },
          "hovermode": "closest",
          "mapbox": {
           "style": "light"
          },
          "paper_bgcolor": "white",
          "plot_bgcolor": "#E5ECF6",
          "polar": {
           "angularaxis": {
            "gridcolor": "white",
            "linecolor": "white",
            "ticks": ""
           },
           "bgcolor": "#E5ECF6",
           "radialaxis": {
            "gridcolor": "white",
            "linecolor": "white",
            "ticks": ""
           }
          },
          "scene": {
           "xaxis": {
            "backgroundcolor": "#E5ECF6",
            "gridcolor": "white",
            "gridwidth": 2,
            "linecolor": "white",
            "showbackground": true,
            "ticks": "",
            "zerolinecolor": "white"
           },
           "yaxis": {
            "backgroundcolor": "#E5ECF6",
            "gridcolor": "white",
            "gridwidth": 2,
            "linecolor": "white",
            "showbackground": true,
            "ticks": "",
            "zerolinecolor": "white"
           },
           "zaxis": {
            "backgroundcolor": "#E5ECF6",
            "gridcolor": "white",
            "gridwidth": 2,
            "linecolor": "white",
            "showbackground": true,
            "ticks": "",
            "zerolinecolor": "white"
           }
          },
          "shapedefaults": {
           "line": {
            "color": "#2a3f5f"
           }
          },
          "ternary": {
           "aaxis": {
            "gridcolor": "white",
            "linecolor": "white",
            "ticks": ""
           },
           "baxis": {
            "gridcolor": "white",
            "linecolor": "white",
            "ticks": ""
           },
           "bgcolor": "#E5ECF6",
           "caxis": {
            "gridcolor": "white",
            "linecolor": "white",
            "ticks": ""
           }
          },
          "title": {
           "x": 0.05
          },
          "xaxis": {
           "automargin": true,
           "gridcolor": "white",
           "linecolor": "white",
           "ticks": "",
           "title": {
            "standoff": 15
           },
           "zerolinecolor": "white",
           "zerolinewidth": 2
          },
          "yaxis": {
           "automargin": true,
           "gridcolor": "white",
           "linecolor": "white",
           "ticks": "",
           "title": {
            "standoff": 15
           },
           "zerolinecolor": "white",
           "zerolinewidth": 2
          }
         }
        },
        "title": {
         "font": {
          "color": "#4D5663"
         }
        },
        "xaxis": {
         "gridcolor": "#E1E5ED",
         "showgrid": true,
         "tickfont": {
          "color": "#4D5663"
         },
         "title": {
          "font": {
           "color": "#4D5663"
          },
          "text": ""
         },
         "zerolinecolor": "#E1E5ED"
        },
        "yaxis": {
         "gridcolor": "#E1E5ED",
         "showgrid": true,
         "tickfont": {
          "color": "#4D5663"
         },
         "title": {
          "font": {
           "color": "#4D5663"
          },
          "text": ""
         },
         "zerolinecolor": "#E1E5ED"
        }
       }
      },
      "text/html": [
       "<div>\n",
       "        \n",
       "        \n",
       "            <div id=\"3f6dabb5-9e94-4eb2-a4ad-e71c1baf9dca\" class=\"plotly-graph-div\" style=\"height:525px; width:100%;\"></div>\n",
       "            <script type=\"text/javascript\">\n",
       "                require([\"plotly\"], function(Plotly) {\n",
       "                    window.PLOTLYENV=window.PLOTLYENV || {};\n",
       "                    window.PLOTLYENV.BASE_URL='https://plot.ly';\n",
       "                    \n",
       "                if (document.getElementById(\"3f6dabb5-9e94-4eb2-a4ad-e71c1baf9dca\")) {\n",
       "                    Plotly.newPlot(\n",
       "                        '3f6dabb5-9e94-4eb2-a4ad-e71c1baf9dca',\n",
       "                        [{\"histfunc\": \"count\", \"histnorm\": \"\", \"marker\": {\"color\": \"rgba(255, 153, 51, 1.0)\", \"line\": {\"color\": \"#4D5663\", \"width\": 1.3}}, \"name\": \"A\", \"nbinsx\": 25, \"opacity\": 0.8, \"orientation\": \"v\", \"type\": \"histogram\", \"x\": [0.0919618728699051, -0.22143263970710958, 1.6920061692431745, 0.9431067925271498, 0.3594422328619513, -0.6828184970650549, 1.3477112305154917, -0.25654138522913494, -0.5500327799891596, -1.6427355514887694, 0.8197944489201987, -0.9823742404275926, -0.7023441940871719, 0.3420492232639261, 0.3614086599960736, 0.9320266717072684, 0.24940799365624342, 0.13501132347356098, 1.7227186975205464, 1.3028028631329955, 1.4192000853142765, -1.4513472584243803, 0.6653115648991531, 0.6212126195957125, 0.5203849348742722, 1.1441801437913968, 0.26324331968163056, 0.14411448089116888, -0.24946884808245628, 1.2004322807572958, -1.33371999712701, -1.303350385254543, -1.1923060843464355, 0.218272069680675, 1.1314974608828123, -0.5806652098094076, 0.5057921370378858, 0.6890842185174422, -0.8682418939632968, -0.9738931790805747, 0.3024580947453506, 0.5930160505461489, 0.012493704873780407, 0.06709321932891561, -0.11492440065381442, 0.9745729681361173, -1.1762691951987503, 0.8146389350431569, -0.12569002261219556, 1.0119713501641898, -0.6321713722281166, 0.4574766710618231, -0.6102904166172508, 0.31641789575822027, 0.9950217584217503, 2.006296936240135, 0.08490037596601381, 0.052925187470997954, 1.6438045388296836, 0.2102712935016528, 1.4467467102795866, -0.8757944378763092, 0.15823619400094852, -1.417545673023298, -0.3400532293623823, 1.2437715025007023, -0.7731750885178242, 0.10291850051799534, -0.4336142340159738, 1.5203031258436455, -0.034733446097376816, 0.4410345083863978, 0.3890827268596237, -0.8946559623109902, -0.003957006038530615, -0.27046157935920223, -0.35782137473497466, -1.729359505511331, 1.7627956055760405, 0.6392822708605644, 0.5287036645533052, 0.7950519326971078, 1.5328580862628476, -0.5029302998523506, -0.7119366297274415, -0.7714058757418685, -0.7764735112899486, 0.15235160520180058, 0.10887281717687264, 0.7941989455346967, 0.4285636061112597, 0.6190583066282419, 0.91499081947152, -0.2932480122438687, -1.7409169425200517, 2.733416114332795, -1.1754447067447311, -1.3793296225880705, -1.079092341670199, -0.7963535324749649]}],\n",
       "                        {\"barmode\": \"overlay\", \"legend\": {\"bgcolor\": \"#F5F6F9\", \"font\": {\"color\": \"#4D5663\"}}, \"paper_bgcolor\": \"#F5F6F9\", \"plot_bgcolor\": \"#F5F6F9\", \"template\": {\"data\": {\"bar\": [{\"error_x\": {\"color\": \"#2a3f5f\"}, \"error_y\": {\"color\": \"#2a3f5f\"}, \"marker\": {\"line\": {\"color\": \"#E5ECF6\", \"width\": 0.5}}, \"type\": \"bar\"}], \"barpolar\": [{\"marker\": {\"line\": {\"color\": \"#E5ECF6\", \"width\": 0.5}}, \"type\": \"barpolar\"}], \"carpet\": [{\"aaxis\": {\"endlinecolor\": \"#2a3f5f\", \"gridcolor\": \"white\", \"linecolor\": \"white\", \"minorgridcolor\": \"white\", \"startlinecolor\": \"#2a3f5f\"}, \"baxis\": {\"endlinecolor\": \"#2a3f5f\", \"gridcolor\": \"white\", \"linecolor\": \"white\", \"minorgridcolor\": \"white\", \"startlinecolor\": \"#2a3f5f\"}, \"type\": \"carpet\"}], \"choropleth\": [{\"colorbar\": {\"outlinewidth\": 0, \"ticks\": \"\"}, \"type\": \"choropleth\"}], \"contour\": [{\"colorbar\": {\"outlinewidth\": 0, \"ticks\": \"\"}, \"colorscale\": [[0.0, \"#0d0887\"], [0.1111111111111111, \"#46039f\"], [0.2222222222222222, \"#7201a8\"], [0.3333333333333333, \"#9c179e\"], [0.4444444444444444, \"#bd3786\"], [0.5555555555555556, \"#d8576b\"], [0.6666666666666666, \"#ed7953\"], [0.7777777777777778, \"#fb9f3a\"], [0.8888888888888888, \"#fdca26\"], [1.0, \"#f0f921\"]], \"type\": \"contour\"}], \"contourcarpet\": [{\"colorbar\": {\"outlinewidth\": 0, \"ticks\": \"\"}, \"type\": \"contourcarpet\"}], \"heatmap\": [{\"colorbar\": {\"outlinewidth\": 0, \"ticks\": \"\"}, \"colorscale\": [[0.0, \"#0d0887\"], [0.1111111111111111, \"#46039f\"], [0.2222222222222222, \"#7201a8\"], [0.3333333333333333, \"#9c179e\"], [0.4444444444444444, \"#bd3786\"], [0.5555555555555556, \"#d8576b\"], [0.6666666666666666, \"#ed7953\"], [0.7777777777777778, \"#fb9f3a\"], [0.8888888888888888, \"#fdca26\"], [1.0, \"#f0f921\"]], \"type\": \"heatmap\"}], \"heatmapgl\": [{\"colorbar\": {\"outlinewidth\": 0, \"ticks\": \"\"}, \"colorscale\": [[0.0, \"#0d0887\"], [0.1111111111111111, \"#46039f\"], [0.2222222222222222, \"#7201a8\"], [0.3333333333333333, \"#9c179e\"], [0.4444444444444444, \"#bd3786\"], [0.5555555555555556, \"#d8576b\"], [0.6666666666666666, \"#ed7953\"], [0.7777777777777778, \"#fb9f3a\"], [0.8888888888888888, \"#fdca26\"], [1.0, \"#f0f921\"]], \"type\": \"heatmapgl\"}], \"histogram\": [{\"marker\": {\"colorbar\": {\"outlinewidth\": 0, \"ticks\": \"\"}}, \"type\": \"histogram\"}], \"histogram2d\": [{\"colorbar\": {\"outlinewidth\": 0, \"ticks\": \"\"}, \"colorscale\": [[0.0, \"#0d0887\"], [0.1111111111111111, \"#46039f\"], [0.2222222222222222, \"#7201a8\"], [0.3333333333333333, \"#9c179e\"], [0.4444444444444444, \"#bd3786\"], [0.5555555555555556, \"#d8576b\"], [0.6666666666666666, \"#ed7953\"], [0.7777777777777778, \"#fb9f3a\"], [0.8888888888888888, \"#fdca26\"], [1.0, \"#f0f921\"]], \"type\": \"histogram2d\"}], \"histogram2dcontour\": [{\"colorbar\": {\"outlinewidth\": 0, \"ticks\": \"\"}, \"colorscale\": [[0.0, \"#0d0887\"], [0.1111111111111111, \"#46039f\"], [0.2222222222222222, \"#7201a8\"], [0.3333333333333333, \"#9c179e\"], [0.4444444444444444, \"#bd3786\"], [0.5555555555555556, \"#d8576b\"], [0.6666666666666666, \"#ed7953\"], [0.7777777777777778, \"#fb9f3a\"], [0.8888888888888888, \"#fdca26\"], [1.0, \"#f0f921\"]], \"type\": \"histogram2dcontour\"}], \"mesh3d\": [{\"colorbar\": {\"outlinewidth\": 0, \"ticks\": \"\"}, \"type\": \"mesh3d\"}], \"parcoords\": [{\"line\": {\"colorbar\": {\"outlinewidth\": 0, \"ticks\": \"\"}}, \"type\": \"parcoords\"}], \"pie\": [{\"automargin\": true, \"type\": \"pie\"}], \"scatter\": [{\"marker\": {\"colorbar\": {\"outlinewidth\": 0, \"ticks\": \"\"}}, \"type\": \"scatter\"}], \"scatter3d\": [{\"line\": {\"colorbar\": {\"outlinewidth\": 0, \"ticks\": \"\"}}, \"marker\": {\"colorbar\": {\"outlinewidth\": 0, \"ticks\": \"\"}}, \"type\": \"scatter3d\"}], \"scattercarpet\": [{\"marker\": {\"colorbar\": {\"outlinewidth\": 0, \"ticks\": \"\"}}, \"type\": \"scattercarpet\"}], \"scattergeo\": [{\"marker\": {\"colorbar\": {\"outlinewidth\": 0, \"ticks\": \"\"}}, \"type\": \"scattergeo\"}], \"scattergl\": [{\"marker\": {\"colorbar\": {\"outlinewidth\": 0, \"ticks\": \"\"}}, \"type\": \"scattergl\"}], \"scattermapbox\": [{\"marker\": {\"colorbar\": {\"outlinewidth\": 0, \"ticks\": \"\"}}, \"type\": \"scattermapbox\"}], \"scatterpolar\": [{\"marker\": {\"colorbar\": {\"outlinewidth\": 0, \"ticks\": \"\"}}, \"type\": \"scatterpolar\"}], \"scatterpolargl\": [{\"marker\": {\"colorbar\": {\"outlinewidth\": 0, \"ticks\": \"\"}}, \"type\": \"scatterpolargl\"}], \"scatterternary\": [{\"marker\": {\"colorbar\": {\"outlinewidth\": 0, \"ticks\": \"\"}}, \"type\": \"scatterternary\"}], \"surface\": [{\"colorbar\": {\"outlinewidth\": 0, \"ticks\": \"\"}, \"colorscale\": [[0.0, \"#0d0887\"], [0.1111111111111111, \"#46039f\"], [0.2222222222222222, \"#7201a8\"], [0.3333333333333333, \"#9c179e\"], [0.4444444444444444, \"#bd3786\"], [0.5555555555555556, \"#d8576b\"], [0.6666666666666666, \"#ed7953\"], [0.7777777777777778, \"#fb9f3a\"], [0.8888888888888888, \"#fdca26\"], [1.0, \"#f0f921\"]], \"type\": \"surface\"}], \"table\": [{\"cells\": {\"fill\": {\"color\": \"#EBF0F8\"}, \"line\": {\"color\": \"white\"}}, \"header\": {\"fill\": {\"color\": \"#C8D4E3\"}, \"line\": {\"color\": \"white\"}}, \"type\": \"table\"}]}, \"layout\": {\"annotationdefaults\": {\"arrowcolor\": \"#2a3f5f\", \"arrowhead\": 0, \"arrowwidth\": 1}, \"coloraxis\": {\"colorbar\": {\"outlinewidth\": 0, \"ticks\": \"\"}}, \"colorscale\": {\"diverging\": [[0, \"#8e0152\"], [0.1, \"#c51b7d\"], [0.2, \"#de77ae\"], [0.3, \"#f1b6da\"], [0.4, \"#fde0ef\"], [0.5, \"#f7f7f7\"], [0.6, \"#e6f5d0\"], [0.7, \"#b8e186\"], [0.8, \"#7fbc41\"], [0.9, \"#4d9221\"], [1, \"#276419\"]], \"sequential\": [[0.0, \"#0d0887\"], [0.1111111111111111, \"#46039f\"], [0.2222222222222222, \"#7201a8\"], [0.3333333333333333, \"#9c179e\"], [0.4444444444444444, \"#bd3786\"], [0.5555555555555556, \"#d8576b\"], [0.6666666666666666, \"#ed7953\"], [0.7777777777777778, \"#fb9f3a\"], [0.8888888888888888, \"#fdca26\"], [1.0, \"#f0f921\"]], \"sequentialminus\": [[0.0, \"#0d0887\"], [0.1111111111111111, \"#46039f\"], [0.2222222222222222, \"#7201a8\"], [0.3333333333333333, \"#9c179e\"], [0.4444444444444444, \"#bd3786\"], [0.5555555555555556, \"#d8576b\"], [0.6666666666666666, \"#ed7953\"], [0.7777777777777778, \"#fb9f3a\"], [0.8888888888888888, \"#fdca26\"], [1.0, \"#f0f921\"]]}, \"colorway\": [\"#636efa\", \"#EF553B\", \"#00cc96\", \"#ab63fa\", \"#FFA15A\", \"#19d3f3\", \"#FF6692\", \"#B6E880\", \"#FF97FF\", \"#FECB52\"], \"font\": {\"color\": \"#2a3f5f\"}, \"geo\": {\"bgcolor\": \"white\", \"lakecolor\": \"white\", \"landcolor\": \"#E5ECF6\", \"showlakes\": true, \"showland\": true, \"subunitcolor\": \"white\"}, \"hoverlabel\": {\"align\": \"left\"}, \"hovermode\": \"closest\", \"mapbox\": {\"style\": \"light\"}, \"paper_bgcolor\": \"white\", \"plot_bgcolor\": \"#E5ECF6\", \"polar\": {\"angularaxis\": {\"gridcolor\": \"white\", \"linecolor\": \"white\", \"ticks\": \"\"}, \"bgcolor\": \"#E5ECF6\", \"radialaxis\": {\"gridcolor\": \"white\", \"linecolor\": \"white\", \"ticks\": \"\"}}, \"scene\": {\"xaxis\": {\"backgroundcolor\": \"#E5ECF6\", \"gridcolor\": \"white\", \"gridwidth\": 2, \"linecolor\": \"white\", \"showbackground\": true, \"ticks\": \"\", \"zerolinecolor\": \"white\"}, \"yaxis\": {\"backgroundcolor\": \"#E5ECF6\", \"gridcolor\": \"white\", \"gridwidth\": 2, \"linecolor\": \"white\", \"showbackground\": true, \"ticks\": \"\", \"zerolinecolor\": \"white\"}, \"zaxis\": {\"backgroundcolor\": \"#E5ECF6\", \"gridcolor\": \"white\", \"gridwidth\": 2, \"linecolor\": \"white\", \"showbackground\": true, \"ticks\": \"\", \"zerolinecolor\": \"white\"}}, \"shapedefaults\": {\"line\": {\"color\": \"#2a3f5f\"}}, \"ternary\": {\"aaxis\": {\"gridcolor\": \"white\", \"linecolor\": \"white\", \"ticks\": \"\"}, \"baxis\": {\"gridcolor\": \"white\", \"linecolor\": \"white\", \"ticks\": \"\"}, \"bgcolor\": \"#E5ECF6\", \"caxis\": {\"gridcolor\": \"white\", \"linecolor\": \"white\", \"ticks\": \"\"}}, \"title\": {\"x\": 0.05}, \"xaxis\": {\"automargin\": true, \"gridcolor\": \"white\", \"linecolor\": \"white\", \"ticks\": \"\", \"title\": {\"standoff\": 15}, \"zerolinecolor\": \"white\", \"zerolinewidth\": 2}, \"yaxis\": {\"automargin\": true, \"gridcolor\": \"white\", \"linecolor\": \"white\", \"ticks\": \"\", \"title\": {\"standoff\": 15}, \"zerolinecolor\": \"white\", \"zerolinewidth\": 2}}}, \"title\": {\"font\": {\"color\": \"#4D5663\"}}, \"xaxis\": {\"gridcolor\": \"#E1E5ED\", \"showgrid\": true, \"tickfont\": {\"color\": \"#4D5663\"}, \"title\": {\"font\": {\"color\": \"#4D5663\"}, \"text\": \"\"}, \"zerolinecolor\": \"#E1E5ED\"}, \"yaxis\": {\"gridcolor\": \"#E1E5ED\", \"showgrid\": true, \"tickfont\": {\"color\": \"#4D5663\"}, \"title\": {\"font\": {\"color\": \"#4D5663\"}, \"text\": \"\"}, \"zerolinecolor\": \"#E1E5ED\"}},\n",
       "                        {\"showLink\": true, \"linkText\": \"Export to plot.ly\", \"plotlyServerURL\": \"https://plot.ly\", \"responsive\": true}\n",
       "                    ).then(function(){\n",
       "                            \n",
       "var gd = document.getElementById('3f6dabb5-9e94-4eb2-a4ad-e71c1baf9dca');\n",
       "var x = new MutationObserver(function (mutations, observer) {{\n",
       "        var display = window.getComputedStyle(gd).display;\n",
       "        if (!display || display === 'none') {{\n",
       "            console.log([gd, 'removed!']);\n",
       "            Plotly.purge(gd);\n",
       "            observer.disconnect();\n",
       "        }}\n",
       "}});\n",
       "\n",
       "// Listen for the removal of the full notebook cells\n",
       "var notebookContainer = gd.closest('#notebook-container');\n",
       "if (notebookContainer) {{\n",
       "    x.observe(notebookContainer, {childList: true});\n",
       "}}\n",
       "\n",
       "// Listen for the clearing of the current output cell\n",
       "var outputEl = gd.closest('.output');\n",
       "if (outputEl) {{\n",
       "    x.observe(outputEl, {childList: true});\n",
       "}}\n",
       "\n",
       "                        })\n",
       "                };\n",
       "                });\n",
       "            </script>\n",
       "        </div>"
      ]
     },
     "metadata": {},
     "output_type": "display_data"
    }
   ],
   "source": [
    "df['A'].iplot(kind='hist',bins=25)"
   ]
  },
  {
   "cell_type": "markdown",
   "metadata": {},
   "source": [
    "## Bolha"
   ]
  },
  {
   "cell_type": "code",
   "execution_count": 18,
   "metadata": {},
   "outputs": [
    {
     "data": {
      "application/vnd.plotly.v1+json": {
       "config": {
        "linkText": "Export to plot.ly",
        "plotlyServerURL": "https://plot.ly",
        "showLink": true
       },
       "data": [
        {
         "marker": {
          "color": [
           "rgb(255, 153, 51)",
           "rgb(55, 128, 191)",
           "rgb(50, 171, 96)",
           "rgb(128, 0, 128)",
           "rgb(219, 64, 82)",
           "rgb(0, 128, 128)",
           "rgb(255, 255, 51)",
           "rgb(128, 128, 0)",
           "rgb(251, 128, 114)",
           "rgb(128, 177, 211)"
          ],
          "line": {
           "width": 1.3
          },
          "size": [
           52,
           55,
           80,
           80,
           102,
           67,
           96,
           60,
           93,
           62,
           87,
           43,
           82,
           74,
           51,
           82,
           86,
           66,
           72,
           81,
           97,
           85,
           62,
           45,
           73,
           89,
           70,
           12,
           86,
           78,
           72,
           70,
           98,
           87,
           79,
           77,
           57,
           50,
           75,
           86,
           92,
           75,
           101,
           65,
           100,
           110,
           67,
           60,
           58,
           66,
           106,
           71,
           102,
           111,
           91,
           86,
           103,
           72,
           71,
           65,
           111,
           48,
           90,
           85,
           48,
           65,
           76,
           51,
           91,
           80,
           78,
           50,
           88,
           82,
           86,
           63,
           59,
           76,
           93,
           106,
           109,
           69,
           55,
           74,
           77,
           69,
           69,
           90,
           70,
           97,
           96,
           63,
           99,
           61,
           91,
           68,
           83,
           88,
           98,
           55
          ],
          "symbol": "circle"
         },
         "mode": "markers",
         "text": "",
         "type": "scatter",
         "x": [
          0.0919618728699051,
          -0.22143263970710958,
          1.6920061692431745,
          0.9431067925271498,
          0.3594422328619513,
          -0.6828184970650549,
          1.3477112305154917,
          -0.25654138522913494,
          -0.5500327799891596,
          -1.6427355514887694,
          0.8197944489201987,
          -0.9823742404275926,
          -0.7023441940871719,
          0.3420492232639261,
          0.3614086599960736,
          0.9320266717072684,
          0.24940799365624342,
          0.13501132347356098,
          1.7227186975205464,
          1.3028028631329955,
          1.4192000853142765,
          -1.4513472584243803,
          0.6653115648991531,
          0.6212126195957125,
          0.5203849348742722,
          1.1441801437913968,
          0.26324331968163056,
          0.14411448089116888,
          -0.24946884808245628,
          1.2004322807572958,
          -1.33371999712701,
          -1.303350385254543,
          -1.1923060843464355,
          0.218272069680675,
          1.1314974608828123,
          -0.5806652098094076,
          0.5057921370378858,
          0.6890842185174422,
          -0.8682418939632968,
          -0.9738931790805747,
          0.3024580947453506,
          0.5930160505461489,
          0.012493704873780407,
          0.06709321932891561,
          -0.11492440065381442,
          0.9745729681361173,
          -1.1762691951987503,
          0.8146389350431569,
          -0.12569002261219556,
          1.0119713501641898,
          -0.6321713722281166,
          0.4574766710618231,
          -0.6102904166172508,
          0.31641789575822027,
          0.9950217584217503,
          2.006296936240135,
          0.08490037596601381,
          0.052925187470997954,
          1.6438045388296836,
          0.2102712935016528,
          1.4467467102795866,
          -0.8757944378763092,
          0.15823619400094852,
          -1.417545673023298,
          -0.3400532293623823,
          1.2437715025007023,
          -0.7731750885178242,
          0.10291850051799534,
          -0.4336142340159738,
          1.5203031258436455,
          -0.034733446097376816,
          0.4410345083863978,
          0.3890827268596237,
          -0.8946559623109902,
          -0.003957006038530615,
          -0.27046157935920223,
          -0.35782137473497466,
          -1.729359505511331,
          1.7627956055760405,
          0.6392822708605644,
          0.5287036645533052,
          0.7950519326971078,
          1.5328580862628476,
          -0.5029302998523506,
          -0.7119366297274415,
          -0.7714058757418685,
          -0.7764735112899486,
          0.15235160520180058,
          0.10887281717687264,
          0.7941989455346967,
          0.4285636061112597,
          0.6190583066282419,
          0.91499081947152,
          -0.2932480122438687,
          -1.7409169425200517,
          2.733416114332795,
          -1.1754447067447311,
          -1.3793296225880705,
          -1.079092341670199,
          -0.7963535324749649
         ],
         "y": [
          -0.3359057780033205,
          -0.4433704710462687,
          0.3465360831123125,
          0.8803170742782787,
          0.288009036532479,
          1.8591582085492402,
          -0.5036424328286201,
          0.7731816011892556,
          -0.6592022646641865,
          1.1650207389240208,
          2.145286799985949,
          0.38318041888760507,
          0.3605136490201095,
          1.2879110751310086,
          0.3870941307195677,
          0.5175548648554993,
          0.13156406589182484,
          0.43726067978794136,
          -0.12406077464839853,
          -0.1584521578624045,
          1.8481676984545645,
          -0.6320254001344748,
          -0.547989679256849,
          -0.7345036188124198,
          -0.838599962443122,
          0.30565502397333477,
          -0.39286841571607833,
          0.12866234223048006,
          0.6671029123469577,
          -1.6506221833593462,
          0.4216935614574125,
          -1.2122340200334463,
          -0.11983788140959518,
          1.9826944376135154,
          1.3703099502731115,
          -1.2150177014024568,
          -0.9976729947573217,
          1.1507693794007992,
          1.3037737483808534,
          -0.27076012375835345,
          0.3866071574516572,
          -0.5107511196435172,
          -0.9168898492795453,
          1.1144615030404976,
          1.1470375704065499,
          0.1518813789372889,
          1.198620765530093,
          -1.079485781920071,
          0.7055827854010577,
          1.1297159187985248,
          -0.11696308792520638,
          -0.6076790190270548,
          -0.32567795806579464,
          -0.6659287720474008,
          1.0696737724187175,
          -0.161034988424284,
          1.1563498686847156,
          0.3866021466927583,
          0.272581455665236,
          -0.34368289428306015,
          -0.18384618137722683,
          -0.5012580084782411,
          -0.6724838243629148,
          0.7344331694237937,
          2.318770733800961,
          2.323045264573243,
          -0.5608271207087145,
          -1.184389077151462,
          0.008319037423178726,
          -1.096836380779569,
          -0.2424576969197716,
          0.538243146218403,
          -2.142972574782624,
          0.8974097458335817,
          -0.010318194682662218,
          -0.6581154280755355,
          1.522477800055998,
          -0.7579847427823956,
          0.05924636221836566,
          0.2190915527842804,
          -0.4867693553796768,
          0.3388177539269479,
          -0.8709481281967048,
          0.4532732220093141,
          -0.9850390012649825,
          0.06967424292427568,
          0.9013408725699227,
          -0.8889565263236228,
          -1.4953853400201986,
          1.2332004819013818,
          0.29559298373114473,
          0.997658383035107,
          0.18918967408095885,
          -0.051056244413894794,
          0.28797982555864904,
          0.5610032454866385,
          -1.7120942228348124,
          -1.5117097048745491,
          0.832181129054585,
          1.8344712732316908
         ]
        }
       ],
       "layout": {
        "legend": {
         "bgcolor": "#F5F6F9",
         "font": {
          "color": "#4D5663"
         }
        },
        "paper_bgcolor": "#F5F6F9",
        "plot_bgcolor": "#F5F6F9",
        "template": {
         "data": {
          "bar": [
           {
            "error_x": {
             "color": "#2a3f5f"
            },
            "error_y": {
             "color": "#2a3f5f"
            },
            "marker": {
             "line": {
              "color": "#E5ECF6",
              "width": 0.5
             }
            },
            "type": "bar"
           }
          ],
          "barpolar": [
           {
            "marker": {
             "line": {
              "color": "#E5ECF6",
              "width": 0.5
             }
            },
            "type": "barpolar"
           }
          ],
          "carpet": [
           {
            "aaxis": {
             "endlinecolor": "#2a3f5f",
             "gridcolor": "white",
             "linecolor": "white",
             "minorgridcolor": "white",
             "startlinecolor": "#2a3f5f"
            },
            "baxis": {
             "endlinecolor": "#2a3f5f",
             "gridcolor": "white",
             "linecolor": "white",
             "minorgridcolor": "white",
             "startlinecolor": "#2a3f5f"
            },
            "type": "carpet"
           }
          ],
          "choropleth": [
           {
            "colorbar": {
             "outlinewidth": 0,
             "ticks": ""
            },
            "type": "choropleth"
           }
          ],
          "contour": [
           {
            "colorbar": {
             "outlinewidth": 0,
             "ticks": ""
            },
            "colorscale": [
             [
              0,
              "#0d0887"
             ],
             [
              0.1111111111111111,
              "#46039f"
             ],
             [
              0.2222222222222222,
              "#7201a8"
             ],
             [
              0.3333333333333333,
              "#9c179e"
             ],
             [
              0.4444444444444444,
              "#bd3786"
             ],
             [
              0.5555555555555556,
              "#d8576b"
             ],
             [
              0.6666666666666666,
              "#ed7953"
             ],
             [
              0.7777777777777778,
              "#fb9f3a"
             ],
             [
              0.8888888888888888,
              "#fdca26"
             ],
             [
              1,
              "#f0f921"
             ]
            ],
            "type": "contour"
           }
          ],
          "contourcarpet": [
           {
            "colorbar": {
             "outlinewidth": 0,
             "ticks": ""
            },
            "type": "contourcarpet"
           }
          ],
          "heatmap": [
           {
            "colorbar": {
             "outlinewidth": 0,
             "ticks": ""
            },
            "colorscale": [
             [
              0,
              "#0d0887"
             ],
             [
              0.1111111111111111,
              "#46039f"
             ],
             [
              0.2222222222222222,
              "#7201a8"
             ],
             [
              0.3333333333333333,
              "#9c179e"
             ],
             [
              0.4444444444444444,
              "#bd3786"
             ],
             [
              0.5555555555555556,
              "#d8576b"
             ],
             [
              0.6666666666666666,
              "#ed7953"
             ],
             [
              0.7777777777777778,
              "#fb9f3a"
             ],
             [
              0.8888888888888888,
              "#fdca26"
             ],
             [
              1,
              "#f0f921"
             ]
            ],
            "type": "heatmap"
           }
          ],
          "heatmapgl": [
           {
            "colorbar": {
             "outlinewidth": 0,
             "ticks": ""
            },
            "colorscale": [
             [
              0,
              "#0d0887"
             ],
             [
              0.1111111111111111,
              "#46039f"
             ],
             [
              0.2222222222222222,
              "#7201a8"
             ],
             [
              0.3333333333333333,
              "#9c179e"
             ],
             [
              0.4444444444444444,
              "#bd3786"
             ],
             [
              0.5555555555555556,
              "#d8576b"
             ],
             [
              0.6666666666666666,
              "#ed7953"
             ],
             [
              0.7777777777777778,
              "#fb9f3a"
             ],
             [
              0.8888888888888888,
              "#fdca26"
             ],
             [
              1,
              "#f0f921"
             ]
            ],
            "type": "heatmapgl"
           }
          ],
          "histogram": [
           {
            "marker": {
             "colorbar": {
              "outlinewidth": 0,
              "ticks": ""
             }
            },
            "type": "histogram"
           }
          ],
          "histogram2d": [
           {
            "colorbar": {
             "outlinewidth": 0,
             "ticks": ""
            },
            "colorscale": [
             [
              0,
              "#0d0887"
             ],
             [
              0.1111111111111111,
              "#46039f"
             ],
             [
              0.2222222222222222,
              "#7201a8"
             ],
             [
              0.3333333333333333,
              "#9c179e"
             ],
             [
              0.4444444444444444,
              "#bd3786"
             ],
             [
              0.5555555555555556,
              "#d8576b"
             ],
             [
              0.6666666666666666,
              "#ed7953"
             ],
             [
              0.7777777777777778,
              "#fb9f3a"
             ],
             [
              0.8888888888888888,
              "#fdca26"
             ],
             [
              1,
              "#f0f921"
             ]
            ],
            "type": "histogram2d"
           }
          ],
          "histogram2dcontour": [
           {
            "colorbar": {
             "outlinewidth": 0,
             "ticks": ""
            },
            "colorscale": [
             [
              0,
              "#0d0887"
             ],
             [
              0.1111111111111111,
              "#46039f"
             ],
             [
              0.2222222222222222,
              "#7201a8"
             ],
             [
              0.3333333333333333,
              "#9c179e"
             ],
             [
              0.4444444444444444,
              "#bd3786"
             ],
             [
              0.5555555555555556,
              "#d8576b"
             ],
             [
              0.6666666666666666,
              "#ed7953"
             ],
             [
              0.7777777777777778,
              "#fb9f3a"
             ],
             [
              0.8888888888888888,
              "#fdca26"
             ],
             [
              1,
              "#f0f921"
             ]
            ],
            "type": "histogram2dcontour"
           }
          ],
          "mesh3d": [
           {
            "colorbar": {
             "outlinewidth": 0,
             "ticks": ""
            },
            "type": "mesh3d"
           }
          ],
          "parcoords": [
           {
            "line": {
             "colorbar": {
              "outlinewidth": 0,
              "ticks": ""
             }
            },
            "type": "parcoords"
           }
          ],
          "pie": [
           {
            "automargin": true,
            "type": "pie"
           }
          ],
          "scatter": [
           {
            "marker": {
             "colorbar": {
              "outlinewidth": 0,
              "ticks": ""
             }
            },
            "type": "scatter"
           }
          ],
          "scatter3d": [
           {
            "line": {
             "colorbar": {
              "outlinewidth": 0,
              "ticks": ""
             }
            },
            "marker": {
             "colorbar": {
              "outlinewidth": 0,
              "ticks": ""
             }
            },
            "type": "scatter3d"
           }
          ],
          "scattercarpet": [
           {
            "marker": {
             "colorbar": {
              "outlinewidth": 0,
              "ticks": ""
             }
            },
            "type": "scattercarpet"
           }
          ],
          "scattergeo": [
           {
            "marker": {
             "colorbar": {
              "outlinewidth": 0,
              "ticks": ""
             }
            },
            "type": "scattergeo"
           }
          ],
          "scattergl": [
           {
            "marker": {
             "colorbar": {
              "outlinewidth": 0,
              "ticks": ""
             }
            },
            "type": "scattergl"
           }
          ],
          "scattermapbox": [
           {
            "marker": {
             "colorbar": {
              "outlinewidth": 0,
              "ticks": ""
             }
            },
            "type": "scattermapbox"
           }
          ],
          "scatterpolar": [
           {
            "marker": {
             "colorbar": {
              "outlinewidth": 0,
              "ticks": ""
             }
            },
            "type": "scatterpolar"
           }
          ],
          "scatterpolargl": [
           {
            "marker": {
             "colorbar": {
              "outlinewidth": 0,
              "ticks": ""
             }
            },
            "type": "scatterpolargl"
           }
          ],
          "scatterternary": [
           {
            "marker": {
             "colorbar": {
              "outlinewidth": 0,
              "ticks": ""
             }
            },
            "type": "scatterternary"
           }
          ],
          "surface": [
           {
            "colorbar": {
             "outlinewidth": 0,
             "ticks": ""
            },
            "colorscale": [
             [
              0,
              "#0d0887"
             ],
             [
              0.1111111111111111,
              "#46039f"
             ],
             [
              0.2222222222222222,
              "#7201a8"
             ],
             [
              0.3333333333333333,
              "#9c179e"
             ],
             [
              0.4444444444444444,
              "#bd3786"
             ],
             [
              0.5555555555555556,
              "#d8576b"
             ],
             [
              0.6666666666666666,
              "#ed7953"
             ],
             [
              0.7777777777777778,
              "#fb9f3a"
             ],
             [
              0.8888888888888888,
              "#fdca26"
             ],
             [
              1,
              "#f0f921"
             ]
            ],
            "type": "surface"
           }
          ],
          "table": [
           {
            "cells": {
             "fill": {
              "color": "#EBF0F8"
             },
             "line": {
              "color": "white"
             }
            },
            "header": {
             "fill": {
              "color": "#C8D4E3"
             },
             "line": {
              "color": "white"
             }
            },
            "type": "table"
           }
          ]
         },
         "layout": {
          "annotationdefaults": {
           "arrowcolor": "#2a3f5f",
           "arrowhead": 0,
           "arrowwidth": 1
          },
          "coloraxis": {
           "colorbar": {
            "outlinewidth": 0,
            "ticks": ""
           }
          },
          "colorscale": {
           "diverging": [
            [
             0,
             "#8e0152"
            ],
            [
             0.1,
             "#c51b7d"
            ],
            [
             0.2,
             "#de77ae"
            ],
            [
             0.3,
             "#f1b6da"
            ],
            [
             0.4,
             "#fde0ef"
            ],
            [
             0.5,
             "#f7f7f7"
            ],
            [
             0.6,
             "#e6f5d0"
            ],
            [
             0.7,
             "#b8e186"
            ],
            [
             0.8,
             "#7fbc41"
            ],
            [
             0.9,
             "#4d9221"
            ],
            [
             1,
             "#276419"
            ]
           ],
           "sequential": [
            [
             0,
             "#0d0887"
            ],
            [
             0.1111111111111111,
             "#46039f"
            ],
            [
             0.2222222222222222,
             "#7201a8"
            ],
            [
             0.3333333333333333,
             "#9c179e"
            ],
            [
             0.4444444444444444,
             "#bd3786"
            ],
            [
             0.5555555555555556,
             "#d8576b"
            ],
            [
             0.6666666666666666,
             "#ed7953"
            ],
            [
             0.7777777777777778,
             "#fb9f3a"
            ],
            [
             0.8888888888888888,
             "#fdca26"
            ],
            [
             1,
             "#f0f921"
            ]
           ],
           "sequentialminus": [
            [
             0,
             "#0d0887"
            ],
            [
             0.1111111111111111,
             "#46039f"
            ],
            [
             0.2222222222222222,
             "#7201a8"
            ],
            [
             0.3333333333333333,
             "#9c179e"
            ],
            [
             0.4444444444444444,
             "#bd3786"
            ],
            [
             0.5555555555555556,
             "#d8576b"
            ],
            [
             0.6666666666666666,
             "#ed7953"
            ],
            [
             0.7777777777777778,
             "#fb9f3a"
            ],
            [
             0.8888888888888888,
             "#fdca26"
            ],
            [
             1,
             "#f0f921"
            ]
           ]
          },
          "colorway": [
           "#636efa",
           "#EF553B",
           "#00cc96",
           "#ab63fa",
           "#FFA15A",
           "#19d3f3",
           "#FF6692",
           "#B6E880",
           "#FF97FF",
           "#FECB52"
          ],
          "font": {
           "color": "#2a3f5f"
          },
          "geo": {
           "bgcolor": "white",
           "lakecolor": "white",
           "landcolor": "#E5ECF6",
           "showlakes": true,
           "showland": true,
           "subunitcolor": "white"
          },
          "hoverlabel": {
           "align": "left"
          },
          "hovermode": "closest",
          "mapbox": {
           "style": "light"
          },
          "paper_bgcolor": "white",
          "plot_bgcolor": "#E5ECF6",
          "polar": {
           "angularaxis": {
            "gridcolor": "white",
            "linecolor": "white",
            "ticks": ""
           },
           "bgcolor": "#E5ECF6",
           "radialaxis": {
            "gridcolor": "white",
            "linecolor": "white",
            "ticks": ""
           }
          },
          "scene": {
           "xaxis": {
            "backgroundcolor": "#E5ECF6",
            "gridcolor": "white",
            "gridwidth": 2,
            "linecolor": "white",
            "showbackground": true,
            "ticks": "",
            "zerolinecolor": "white"
           },
           "yaxis": {
            "backgroundcolor": "#E5ECF6",
            "gridcolor": "white",
            "gridwidth": 2,
            "linecolor": "white",
            "showbackground": true,
            "ticks": "",
            "zerolinecolor": "white"
           },
           "zaxis": {
            "backgroundcolor": "#E5ECF6",
            "gridcolor": "white",
            "gridwidth": 2,
            "linecolor": "white",
            "showbackground": true,
            "ticks": "",
            "zerolinecolor": "white"
           }
          },
          "shapedefaults": {
           "line": {
            "color": "#2a3f5f"
           }
          },
          "ternary": {
           "aaxis": {
            "gridcolor": "white",
            "linecolor": "white",
            "ticks": ""
           },
           "baxis": {
            "gridcolor": "white",
            "linecolor": "white",
            "ticks": ""
           },
           "bgcolor": "#E5ECF6",
           "caxis": {
            "gridcolor": "white",
            "linecolor": "white",
            "ticks": ""
           }
          },
          "title": {
           "x": 0.05
          },
          "xaxis": {
           "automargin": true,
           "gridcolor": "white",
           "linecolor": "white",
           "ticks": "",
           "title": {
            "standoff": 15
           },
           "zerolinecolor": "white",
           "zerolinewidth": 2
          },
          "yaxis": {
           "automargin": true,
           "gridcolor": "white",
           "linecolor": "white",
           "ticks": "",
           "title": {
            "standoff": 15
           },
           "zerolinecolor": "white",
           "zerolinewidth": 2
          }
         }
        },
        "title": {
         "font": {
          "color": "#4D5663"
         }
        },
        "xaxis": {
         "gridcolor": "#E1E5ED",
         "showgrid": true,
         "tickfont": {
          "color": "#4D5663"
         },
         "title": {
          "font": {
           "color": "#4D5663"
          },
          "text": ""
         },
         "zerolinecolor": "#E1E5ED"
        },
        "yaxis": {
         "gridcolor": "#E1E5ED",
         "showgrid": true,
         "tickfont": {
          "color": "#4D5663"
         },
         "title": {
          "font": {
           "color": "#4D5663"
          },
          "text": ""
         },
         "zerolinecolor": "#E1E5ED"
        }
       }
      },
      "text/html": [
       "<div>\n",
       "        \n",
       "        \n",
       "            <div id=\"d170d6a8-3758-4c63-ae5c-a0d831d2c2d6\" class=\"plotly-graph-div\" style=\"height:525px; width:100%;\"></div>\n",
       "            <script type=\"text/javascript\">\n",
       "                require([\"plotly\"], function(Plotly) {\n",
       "                    window.PLOTLYENV=window.PLOTLYENV || {};\n",
       "                    window.PLOTLYENV.BASE_URL='https://plot.ly';\n",
       "                    \n",
       "                if (document.getElementById(\"d170d6a8-3758-4c63-ae5c-a0d831d2c2d6\")) {\n",
       "                    Plotly.newPlot(\n",
       "                        'd170d6a8-3758-4c63-ae5c-a0d831d2c2d6',\n",
       "                        [{\"marker\": {\"color\": [\"rgb(255, 153, 51)\", \"rgb(55, 128, 191)\", \"rgb(50, 171, 96)\", \"rgb(128, 0, 128)\", \"rgb(219, 64, 82)\", \"rgb(0, 128, 128)\", \"rgb(255, 255, 51)\", \"rgb(128, 128, 0)\", \"rgb(251, 128, 114)\", \"rgb(128, 177, 211)\"], \"line\": {\"width\": 1.3}, \"size\": [52, 55, 80, 80, 102, 67, 96, 60, 93, 62, 87, 43, 82, 74, 51, 82, 86, 66, 72, 81, 97, 85, 62, 45, 73, 89, 70, 12, 86, 78, 72, 70, 98, 87, 79, 77, 57, 50, 75, 86, 92, 75, 101, 65, 100, 110, 67, 60, 58, 66, 106, 71, 102, 111, 91, 86, 103, 72, 71, 65, 111, 48, 90, 85, 48, 65, 76, 51, 91, 80, 78, 50, 88, 82, 86, 63, 59, 76, 93, 106, 109, 69, 55, 74, 77, 69, 69, 90, 70, 97, 96, 63, 99, 61, 91, 68, 83, 88, 98, 55], \"symbol\": \"circle\"}, \"mode\": \"markers\", \"text\": \"\", \"type\": \"scatter\", \"x\": [0.0919618728699051, -0.22143263970710958, 1.6920061692431745, 0.9431067925271498, 0.3594422328619513, -0.6828184970650549, 1.3477112305154917, -0.25654138522913494, -0.5500327799891596, -1.6427355514887694, 0.8197944489201987, -0.9823742404275926, -0.7023441940871719, 0.3420492232639261, 0.3614086599960736, 0.9320266717072684, 0.24940799365624342, 0.13501132347356098, 1.7227186975205464, 1.3028028631329955, 1.4192000853142765, -1.4513472584243803, 0.6653115648991531, 0.6212126195957125, 0.5203849348742722, 1.1441801437913968, 0.26324331968163056, 0.14411448089116888, -0.24946884808245628, 1.2004322807572958, -1.33371999712701, -1.303350385254543, -1.1923060843464355, 0.218272069680675, 1.1314974608828123, -0.5806652098094076, 0.5057921370378858, 0.6890842185174422, -0.8682418939632968, -0.9738931790805747, 0.3024580947453506, 0.5930160505461489, 0.012493704873780407, 0.06709321932891561, -0.11492440065381442, 0.9745729681361173, -1.1762691951987503, 0.8146389350431569, -0.12569002261219556, 1.0119713501641898, -0.6321713722281166, 0.4574766710618231, -0.6102904166172508, 0.31641789575822027, 0.9950217584217503, 2.006296936240135, 0.08490037596601381, 0.052925187470997954, 1.6438045388296836, 0.2102712935016528, 1.4467467102795866, -0.8757944378763092, 0.15823619400094852, -1.417545673023298, -0.3400532293623823, 1.2437715025007023, -0.7731750885178242, 0.10291850051799534, -0.4336142340159738, 1.5203031258436455, -0.034733446097376816, 0.4410345083863978, 0.3890827268596237, -0.8946559623109902, -0.003957006038530615, -0.27046157935920223, -0.35782137473497466, -1.729359505511331, 1.7627956055760405, 0.6392822708605644, 0.5287036645533052, 0.7950519326971078, 1.5328580862628476, -0.5029302998523506, -0.7119366297274415, -0.7714058757418685, -0.7764735112899486, 0.15235160520180058, 0.10887281717687264, 0.7941989455346967, 0.4285636061112597, 0.6190583066282419, 0.91499081947152, -0.2932480122438687, -1.7409169425200517, 2.733416114332795, -1.1754447067447311, -1.3793296225880705, -1.079092341670199, -0.7963535324749649], \"y\": [-0.3359057780033205, -0.4433704710462687, 0.3465360831123125, 0.8803170742782787, 0.288009036532479, 1.8591582085492402, -0.5036424328286201, 0.7731816011892556, -0.6592022646641865, 1.1650207389240208, 2.145286799985949, 0.38318041888760507, 0.3605136490201095, 1.2879110751310086, 0.3870941307195677, 0.5175548648554993, 0.13156406589182484, 0.43726067978794136, -0.12406077464839853, -0.1584521578624045, 1.8481676984545645, -0.6320254001344748, -0.547989679256849, -0.7345036188124198, -0.838599962443122, 0.30565502397333477, -0.39286841571607833, 0.12866234223048006, 0.6671029123469577, -1.6506221833593462, 0.4216935614574125, -1.2122340200334463, -0.11983788140959518, 1.9826944376135154, 1.3703099502731115, -1.2150177014024568, -0.9976729947573217, 1.1507693794007992, 1.3037737483808534, -0.27076012375835345, 0.3866071574516572, -0.5107511196435172, -0.9168898492795453, 1.1144615030404976, 1.1470375704065499, 0.1518813789372889, 1.198620765530093, -1.079485781920071, 0.7055827854010577, 1.1297159187985248, -0.11696308792520638, -0.6076790190270548, -0.32567795806579464, -0.6659287720474008, 1.0696737724187175, -0.161034988424284, 1.1563498686847156, 0.3866021466927583, 0.272581455665236, -0.34368289428306015, -0.18384618137722683, -0.5012580084782411, -0.6724838243629148, 0.7344331694237937, 2.318770733800961, 2.323045264573243, -0.5608271207087145, -1.184389077151462, 0.008319037423178726, -1.096836380779569, -0.2424576969197716, 0.538243146218403, -2.142972574782624, 0.8974097458335817, -0.010318194682662218, -0.6581154280755355, 1.522477800055998, -0.7579847427823956, 0.05924636221836566, 0.2190915527842804, -0.4867693553796768, 0.3388177539269479, -0.8709481281967048, 0.4532732220093141, -0.9850390012649825, 0.06967424292427568, 0.9013408725699227, -0.8889565263236228, -1.4953853400201986, 1.2332004819013818, 0.29559298373114473, 0.997658383035107, 0.18918967408095885, -0.051056244413894794, 0.28797982555864904, 0.5610032454866385, -1.7120942228348124, -1.5117097048745491, 0.832181129054585, 1.8344712732316908]}],\n",
       "                        {\"legend\": {\"bgcolor\": \"#F5F6F9\", \"font\": {\"color\": \"#4D5663\"}}, \"paper_bgcolor\": \"#F5F6F9\", \"plot_bgcolor\": \"#F5F6F9\", \"template\": {\"data\": {\"bar\": [{\"error_x\": {\"color\": \"#2a3f5f\"}, \"error_y\": {\"color\": \"#2a3f5f\"}, \"marker\": {\"line\": {\"color\": \"#E5ECF6\", \"width\": 0.5}}, \"type\": \"bar\"}], \"barpolar\": [{\"marker\": {\"line\": {\"color\": \"#E5ECF6\", \"width\": 0.5}}, \"type\": \"barpolar\"}], \"carpet\": [{\"aaxis\": {\"endlinecolor\": \"#2a3f5f\", \"gridcolor\": \"white\", \"linecolor\": \"white\", \"minorgridcolor\": \"white\", \"startlinecolor\": \"#2a3f5f\"}, \"baxis\": {\"endlinecolor\": \"#2a3f5f\", \"gridcolor\": \"white\", \"linecolor\": \"white\", \"minorgridcolor\": \"white\", \"startlinecolor\": \"#2a3f5f\"}, \"type\": \"carpet\"}], \"choropleth\": [{\"colorbar\": {\"outlinewidth\": 0, \"ticks\": \"\"}, \"type\": \"choropleth\"}], \"contour\": [{\"colorbar\": {\"outlinewidth\": 0, \"ticks\": \"\"}, \"colorscale\": [[0.0, \"#0d0887\"], [0.1111111111111111, \"#46039f\"], [0.2222222222222222, \"#7201a8\"], [0.3333333333333333, \"#9c179e\"], [0.4444444444444444, \"#bd3786\"], [0.5555555555555556, \"#d8576b\"], [0.6666666666666666, \"#ed7953\"], [0.7777777777777778, \"#fb9f3a\"], [0.8888888888888888, \"#fdca26\"], [1.0, \"#f0f921\"]], \"type\": \"contour\"}], \"contourcarpet\": [{\"colorbar\": {\"outlinewidth\": 0, \"ticks\": \"\"}, \"type\": \"contourcarpet\"}], \"heatmap\": [{\"colorbar\": {\"outlinewidth\": 0, \"ticks\": \"\"}, \"colorscale\": [[0.0, \"#0d0887\"], [0.1111111111111111, \"#46039f\"], [0.2222222222222222, \"#7201a8\"], [0.3333333333333333, \"#9c179e\"], [0.4444444444444444, \"#bd3786\"], [0.5555555555555556, \"#d8576b\"], [0.6666666666666666, \"#ed7953\"], [0.7777777777777778, \"#fb9f3a\"], [0.8888888888888888, \"#fdca26\"], [1.0, \"#f0f921\"]], \"type\": \"heatmap\"}], \"heatmapgl\": [{\"colorbar\": {\"outlinewidth\": 0, \"ticks\": \"\"}, \"colorscale\": [[0.0, \"#0d0887\"], [0.1111111111111111, \"#46039f\"], [0.2222222222222222, \"#7201a8\"], [0.3333333333333333, \"#9c179e\"], [0.4444444444444444, \"#bd3786\"], [0.5555555555555556, \"#d8576b\"], [0.6666666666666666, \"#ed7953\"], [0.7777777777777778, \"#fb9f3a\"], [0.8888888888888888, \"#fdca26\"], [1.0, \"#f0f921\"]], \"type\": \"heatmapgl\"}], \"histogram\": [{\"marker\": {\"colorbar\": {\"outlinewidth\": 0, \"ticks\": \"\"}}, \"type\": \"histogram\"}], \"histogram2d\": [{\"colorbar\": {\"outlinewidth\": 0, \"ticks\": \"\"}, \"colorscale\": [[0.0, \"#0d0887\"], [0.1111111111111111, \"#46039f\"], [0.2222222222222222, \"#7201a8\"], [0.3333333333333333, \"#9c179e\"], [0.4444444444444444, \"#bd3786\"], [0.5555555555555556, \"#d8576b\"], [0.6666666666666666, \"#ed7953\"], [0.7777777777777778, \"#fb9f3a\"], [0.8888888888888888, \"#fdca26\"], [1.0, \"#f0f921\"]], \"type\": \"histogram2d\"}], \"histogram2dcontour\": [{\"colorbar\": {\"outlinewidth\": 0, \"ticks\": \"\"}, \"colorscale\": [[0.0, \"#0d0887\"], [0.1111111111111111, \"#46039f\"], [0.2222222222222222, \"#7201a8\"], [0.3333333333333333, \"#9c179e\"], [0.4444444444444444, \"#bd3786\"], [0.5555555555555556, \"#d8576b\"], [0.6666666666666666, \"#ed7953\"], [0.7777777777777778, \"#fb9f3a\"], [0.8888888888888888, \"#fdca26\"], [1.0, \"#f0f921\"]], \"type\": \"histogram2dcontour\"}], \"mesh3d\": [{\"colorbar\": {\"outlinewidth\": 0, \"ticks\": \"\"}, \"type\": \"mesh3d\"}], \"parcoords\": [{\"line\": {\"colorbar\": {\"outlinewidth\": 0, \"ticks\": \"\"}}, \"type\": \"parcoords\"}], \"pie\": [{\"automargin\": true, \"type\": \"pie\"}], \"scatter\": [{\"marker\": {\"colorbar\": {\"outlinewidth\": 0, \"ticks\": \"\"}}, \"type\": \"scatter\"}], \"scatter3d\": [{\"line\": {\"colorbar\": {\"outlinewidth\": 0, \"ticks\": \"\"}}, \"marker\": {\"colorbar\": {\"outlinewidth\": 0, \"ticks\": \"\"}}, \"type\": \"scatter3d\"}], \"scattercarpet\": [{\"marker\": {\"colorbar\": {\"outlinewidth\": 0, \"ticks\": \"\"}}, \"type\": \"scattercarpet\"}], \"scattergeo\": [{\"marker\": {\"colorbar\": {\"outlinewidth\": 0, \"ticks\": \"\"}}, \"type\": \"scattergeo\"}], \"scattergl\": [{\"marker\": {\"colorbar\": {\"outlinewidth\": 0, \"ticks\": \"\"}}, \"type\": \"scattergl\"}], \"scattermapbox\": [{\"marker\": {\"colorbar\": {\"outlinewidth\": 0, \"ticks\": \"\"}}, \"type\": \"scattermapbox\"}], \"scatterpolar\": [{\"marker\": {\"colorbar\": {\"outlinewidth\": 0, \"ticks\": \"\"}}, \"type\": \"scatterpolar\"}], \"scatterpolargl\": [{\"marker\": {\"colorbar\": {\"outlinewidth\": 0, \"ticks\": \"\"}}, \"type\": \"scatterpolargl\"}], \"scatterternary\": [{\"marker\": {\"colorbar\": {\"outlinewidth\": 0, \"ticks\": \"\"}}, \"type\": \"scatterternary\"}], \"surface\": [{\"colorbar\": {\"outlinewidth\": 0, \"ticks\": \"\"}, \"colorscale\": [[0.0, \"#0d0887\"], [0.1111111111111111, \"#46039f\"], [0.2222222222222222, \"#7201a8\"], [0.3333333333333333, \"#9c179e\"], [0.4444444444444444, \"#bd3786\"], [0.5555555555555556, \"#d8576b\"], [0.6666666666666666, \"#ed7953\"], [0.7777777777777778, \"#fb9f3a\"], [0.8888888888888888, \"#fdca26\"], [1.0, \"#f0f921\"]], \"type\": \"surface\"}], \"table\": [{\"cells\": {\"fill\": {\"color\": \"#EBF0F8\"}, \"line\": {\"color\": \"white\"}}, \"header\": {\"fill\": {\"color\": \"#C8D4E3\"}, \"line\": {\"color\": \"white\"}}, \"type\": \"table\"}]}, \"layout\": {\"annotationdefaults\": {\"arrowcolor\": \"#2a3f5f\", \"arrowhead\": 0, \"arrowwidth\": 1}, \"coloraxis\": {\"colorbar\": {\"outlinewidth\": 0, \"ticks\": \"\"}}, \"colorscale\": {\"diverging\": [[0, \"#8e0152\"], [0.1, \"#c51b7d\"], [0.2, \"#de77ae\"], [0.3, \"#f1b6da\"], [0.4, \"#fde0ef\"], [0.5, \"#f7f7f7\"], [0.6, \"#e6f5d0\"], [0.7, \"#b8e186\"], [0.8, \"#7fbc41\"], [0.9, \"#4d9221\"], [1, \"#276419\"]], \"sequential\": [[0.0, \"#0d0887\"], [0.1111111111111111, \"#46039f\"], [0.2222222222222222, \"#7201a8\"], [0.3333333333333333, \"#9c179e\"], [0.4444444444444444, \"#bd3786\"], [0.5555555555555556, \"#d8576b\"], [0.6666666666666666, \"#ed7953\"], [0.7777777777777778, \"#fb9f3a\"], [0.8888888888888888, \"#fdca26\"], [1.0, \"#f0f921\"]], \"sequentialminus\": [[0.0, \"#0d0887\"], [0.1111111111111111, \"#46039f\"], [0.2222222222222222, \"#7201a8\"], [0.3333333333333333, \"#9c179e\"], [0.4444444444444444, \"#bd3786\"], [0.5555555555555556, \"#d8576b\"], [0.6666666666666666, \"#ed7953\"], [0.7777777777777778, \"#fb9f3a\"], [0.8888888888888888, \"#fdca26\"], [1.0, \"#f0f921\"]]}, \"colorway\": [\"#636efa\", \"#EF553B\", \"#00cc96\", \"#ab63fa\", \"#FFA15A\", \"#19d3f3\", \"#FF6692\", \"#B6E880\", \"#FF97FF\", \"#FECB52\"], \"font\": {\"color\": \"#2a3f5f\"}, \"geo\": {\"bgcolor\": \"white\", \"lakecolor\": \"white\", \"landcolor\": \"#E5ECF6\", \"showlakes\": true, \"showland\": true, \"subunitcolor\": \"white\"}, \"hoverlabel\": {\"align\": \"left\"}, \"hovermode\": \"closest\", \"mapbox\": {\"style\": \"light\"}, \"paper_bgcolor\": \"white\", \"plot_bgcolor\": \"#E5ECF6\", \"polar\": {\"angularaxis\": {\"gridcolor\": \"white\", \"linecolor\": \"white\", \"ticks\": \"\"}, \"bgcolor\": \"#E5ECF6\", \"radialaxis\": {\"gridcolor\": \"white\", \"linecolor\": \"white\", \"ticks\": \"\"}}, \"scene\": {\"xaxis\": {\"backgroundcolor\": \"#E5ECF6\", \"gridcolor\": \"white\", \"gridwidth\": 2, \"linecolor\": \"white\", \"showbackground\": true, \"ticks\": \"\", \"zerolinecolor\": \"white\"}, \"yaxis\": {\"backgroundcolor\": \"#E5ECF6\", \"gridcolor\": \"white\", \"gridwidth\": 2, \"linecolor\": \"white\", \"showbackground\": true, \"ticks\": \"\", \"zerolinecolor\": \"white\"}, \"zaxis\": {\"backgroundcolor\": \"#E5ECF6\", \"gridcolor\": \"white\", \"gridwidth\": 2, \"linecolor\": \"white\", \"showbackground\": true, \"ticks\": \"\", \"zerolinecolor\": \"white\"}}, \"shapedefaults\": {\"line\": {\"color\": \"#2a3f5f\"}}, \"ternary\": {\"aaxis\": {\"gridcolor\": \"white\", \"linecolor\": \"white\", \"ticks\": \"\"}, \"baxis\": {\"gridcolor\": \"white\", \"linecolor\": \"white\", \"ticks\": \"\"}, \"bgcolor\": \"#E5ECF6\", \"caxis\": {\"gridcolor\": \"white\", \"linecolor\": \"white\", \"ticks\": \"\"}}, \"title\": {\"x\": 0.05}, \"xaxis\": {\"automargin\": true, \"gridcolor\": \"white\", \"linecolor\": \"white\", \"ticks\": \"\", \"title\": {\"standoff\": 15}, \"zerolinecolor\": \"white\", \"zerolinewidth\": 2}, \"yaxis\": {\"automargin\": true, \"gridcolor\": \"white\", \"linecolor\": \"white\", \"ticks\": \"\", \"title\": {\"standoff\": 15}, \"zerolinecolor\": \"white\", \"zerolinewidth\": 2}}}, \"title\": {\"font\": {\"color\": \"#4D5663\"}}, \"xaxis\": {\"gridcolor\": \"#E1E5ED\", \"showgrid\": true, \"tickfont\": {\"color\": \"#4D5663\"}, \"title\": {\"font\": {\"color\": \"#4D5663\"}, \"text\": \"\"}, \"zerolinecolor\": \"#E1E5ED\"}, \"yaxis\": {\"gridcolor\": \"#E1E5ED\", \"showgrid\": true, \"tickfont\": {\"color\": \"#4D5663\"}, \"title\": {\"font\": {\"color\": \"#4D5663\"}, \"text\": \"\"}, \"zerolinecolor\": \"#E1E5ED\"}},\n",
       "                        {\"showLink\": true, \"linkText\": \"Export to plot.ly\", \"plotlyServerURL\": \"https://plot.ly\", \"responsive\": true}\n",
       "                    ).then(function(){\n",
       "                            \n",
       "var gd = document.getElementById('d170d6a8-3758-4c63-ae5c-a0d831d2c2d6');\n",
       "var x = new MutationObserver(function (mutations, observer) {{\n",
       "        var display = window.getComputedStyle(gd).display;\n",
       "        if (!display || display === 'none') {{\n",
       "            console.log([gd, 'removed!']);\n",
       "            Plotly.purge(gd);\n",
       "            observer.disconnect();\n",
       "        }}\n",
       "}});\n",
       "\n",
       "// Listen for the removal of the full notebook cells\n",
       "var notebookContainer = gd.closest('#notebook-container');\n",
       "if (notebookContainer) {{\n",
       "    x.observe(notebookContainer, {childList: true});\n",
       "}}\n",
       "\n",
       "// Listen for the clearing of the current output cell\n",
       "var outputEl = gd.closest('.output');\n",
       "if (outputEl) {{\n",
       "    x.observe(outputEl, {childList: true});\n",
       "}}\n",
       "\n",
       "                        })\n",
       "                };\n",
       "                });\n",
       "            </script>\n",
       "        </div>"
      ]
     },
     "metadata": {},
     "output_type": "display_data"
    }
   ],
   "source": [
    "df.iplot(kind='bubble',x='A',y='B',size='C')"
   ]
  },
  {
   "cell_type": "markdown",
   "metadata": {},
   "source": [
    "## scatter_matrix()\n",
    "\n",
    "Similar à sns.pairplot()"
   ]
  },
  {
   "cell_type": "code",
   "execution_count": 21,
   "metadata": {},
   "outputs": [
    {
     "data": {
      "application/vnd.plotly.v1+json": {
       "config": {
        "linkText": "Export to plot.ly",
        "plotlyServerURL": "https://plot.ly",
        "showLink": true
       },
       "data": [
        {
         "histfunc": "count",
         "histnorm": "",
         "marker": {
          "color": "rgba(255, 153, 51, 1.0)",
          "line": {
           "color": "#4D5663",
           "width": 1.3
          }
         },
         "name": "A",
         "nbinsx": 10,
         "opacity": 0.8,
         "orientation": "v",
         "type": "histogram",
         "x": [
          0.0919618728699051,
          -0.22143263970710958,
          1.6920061692431745,
          0.9431067925271498,
          0.3594422328619513,
          -0.6828184970650549,
          1.3477112305154917,
          -0.25654138522913494,
          -0.5500327799891596,
          -1.6427355514887694,
          0.8197944489201987,
          -0.9823742404275926,
          -0.7023441940871719,
          0.3420492232639261,
          0.3614086599960736,
          0.9320266717072684,
          0.24940799365624342,
          0.13501132347356098,
          1.7227186975205464,
          1.3028028631329955,
          1.4192000853142765,
          -1.4513472584243803,
          0.6653115648991531,
          0.6212126195957125,
          0.5203849348742722,
          1.1441801437913968,
          0.26324331968163056,
          0.14411448089116888,
          -0.24946884808245628,
          1.2004322807572958,
          -1.33371999712701,
          -1.303350385254543,
          -1.1923060843464355,
          0.218272069680675,
          1.1314974608828123,
          -0.5806652098094076,
          0.5057921370378858,
          0.6890842185174422,
          -0.8682418939632968,
          -0.9738931790805747,
          0.3024580947453506,
          0.5930160505461489,
          0.012493704873780407,
          0.06709321932891561,
          -0.11492440065381442,
          0.9745729681361173,
          -1.1762691951987503,
          0.8146389350431569,
          -0.12569002261219556,
          1.0119713501641898,
          -0.6321713722281166,
          0.4574766710618231,
          -0.6102904166172508,
          0.31641789575822027,
          0.9950217584217503,
          2.006296936240135,
          0.08490037596601381,
          0.052925187470997954,
          1.6438045388296836,
          0.2102712935016528,
          1.4467467102795866,
          -0.8757944378763092,
          0.15823619400094852,
          -1.417545673023298,
          -0.3400532293623823,
          1.2437715025007023,
          -0.7731750885178242,
          0.10291850051799534,
          -0.4336142340159738,
          1.5203031258436455,
          -0.034733446097376816,
          0.4410345083863978,
          0.3890827268596237,
          -0.8946559623109902,
          -0.003957006038530615,
          -0.27046157935920223,
          -0.35782137473497466,
          -1.729359505511331,
          1.7627956055760405,
          0.6392822708605644,
          0.5287036645533052,
          0.7950519326971078,
          1.5328580862628476,
          -0.5029302998523506,
          -0.7119366297274415,
          -0.7714058757418685,
          -0.7764735112899486,
          0.15235160520180058,
          0.10887281717687264,
          0.7941989455346967,
          0.4285636061112597,
          0.6190583066282419,
          0.91499081947152,
          -0.2932480122438687,
          -1.7409169425200517,
          2.733416114332795,
          -1.1754447067447311,
          -1.3793296225880705,
          -1.079092341670199,
          -0.7963535324749649
         ],
         "xaxis": "x",
         "yaxis": "y"
        },
        {
         "line": {
          "color": "rgba(128, 128, 128, 1.0)",
          "dash": "solid",
          "shape": "linear",
          "width": 1.3
         },
         "marker": {
          "size": 2,
          "symbol": "circle"
         },
         "mode": "markers",
         "name": "A",
         "text": "",
         "type": "scatter",
         "x": [
          -0.3359057780033205,
          -0.4433704710462687,
          0.3465360831123125,
          0.8803170742782787,
          0.288009036532479,
          1.8591582085492402,
          -0.5036424328286201,
          0.7731816011892556,
          -0.6592022646641865,
          1.1650207389240208,
          2.145286799985949,
          0.38318041888760507,
          0.3605136490201095,
          1.2879110751310086,
          0.3870941307195677,
          0.5175548648554993,
          0.13156406589182484,
          0.43726067978794136,
          -0.12406077464839853,
          -0.1584521578624045,
          1.8481676984545645,
          -0.6320254001344748,
          -0.547989679256849,
          -0.7345036188124198,
          -0.838599962443122,
          0.30565502397333477,
          -0.39286841571607833,
          0.12866234223048006,
          0.6671029123469577,
          -1.6506221833593462,
          0.4216935614574125,
          -1.2122340200334463,
          -0.11983788140959518,
          1.9826944376135154,
          1.3703099502731115,
          -1.2150177014024568,
          -0.9976729947573217,
          1.1507693794007992,
          1.3037737483808534,
          -0.27076012375835345,
          0.3866071574516572,
          -0.5107511196435172,
          -0.9168898492795453,
          1.1144615030404976,
          1.1470375704065499,
          0.1518813789372889,
          1.198620765530093,
          -1.079485781920071,
          0.7055827854010577,
          1.1297159187985248,
          -0.11696308792520638,
          -0.6076790190270548,
          -0.32567795806579464,
          -0.6659287720474008,
          1.0696737724187175,
          -0.161034988424284,
          1.1563498686847156,
          0.3866021466927583,
          0.272581455665236,
          -0.34368289428306015,
          -0.18384618137722683,
          -0.5012580084782411,
          -0.6724838243629148,
          0.7344331694237937,
          2.318770733800961,
          2.323045264573243,
          -0.5608271207087145,
          -1.184389077151462,
          0.008319037423178726,
          -1.096836380779569,
          -0.2424576969197716,
          0.538243146218403,
          -2.142972574782624,
          0.8974097458335817,
          -0.010318194682662218,
          -0.6581154280755355,
          1.522477800055998,
          -0.7579847427823956,
          0.05924636221836566,
          0.2190915527842804,
          -0.4867693553796768,
          0.3388177539269479,
          -0.8709481281967048,
          0.4532732220093141,
          -0.9850390012649825,
          0.06967424292427568,
          0.9013408725699227,
          -0.8889565263236228,
          -1.4953853400201986,
          1.2332004819013818,
          0.29559298373114473,
          0.997658383035107,
          0.18918967408095885,
          -0.051056244413894794,
          0.28797982555864904,
          0.5610032454866385,
          -1.7120942228348124,
          -1.5117097048745491,
          0.832181129054585,
          1.8344712732316908
         ],
         "xaxis": "x2",
         "y": [
          0.0919618728699051,
          -0.22143263970710958,
          1.6920061692431745,
          0.9431067925271498,
          0.3594422328619513,
          -0.6828184970650549,
          1.3477112305154917,
          -0.25654138522913494,
          -0.5500327799891596,
          -1.6427355514887694,
          0.8197944489201987,
          -0.9823742404275926,
          -0.7023441940871719,
          0.3420492232639261,
          0.3614086599960736,
          0.9320266717072684,
          0.24940799365624342,
          0.13501132347356098,
          1.7227186975205464,
          1.3028028631329955,
          1.4192000853142765,
          -1.4513472584243803,
          0.6653115648991531,
          0.6212126195957125,
          0.5203849348742722,
          1.1441801437913968,
          0.26324331968163056,
          0.14411448089116888,
          -0.24946884808245628,
          1.2004322807572958,
          -1.33371999712701,
          -1.303350385254543,
          -1.1923060843464355,
          0.218272069680675,
          1.1314974608828123,
          -0.5806652098094076,
          0.5057921370378858,
          0.6890842185174422,
          -0.8682418939632968,
          -0.9738931790805747,
          0.3024580947453506,
          0.5930160505461489,
          0.012493704873780407,
          0.06709321932891561,
          -0.11492440065381442,
          0.9745729681361173,
          -1.1762691951987503,
          0.8146389350431569,
          -0.12569002261219556,
          1.0119713501641898,
          -0.6321713722281166,
          0.4574766710618231,
          -0.6102904166172508,
          0.31641789575822027,
          0.9950217584217503,
          2.006296936240135,
          0.08490037596601381,
          0.052925187470997954,
          1.6438045388296836,
          0.2102712935016528,
          1.4467467102795866,
          -0.8757944378763092,
          0.15823619400094852,
          -1.417545673023298,
          -0.3400532293623823,
          1.2437715025007023,
          -0.7731750885178242,
          0.10291850051799534,
          -0.4336142340159738,
          1.5203031258436455,
          -0.034733446097376816,
          0.4410345083863978,
          0.3890827268596237,
          -0.8946559623109902,
          -0.003957006038530615,
          -0.27046157935920223,
          -0.35782137473497466,
          -1.729359505511331,
          1.7627956055760405,
          0.6392822708605644,
          0.5287036645533052,
          0.7950519326971078,
          1.5328580862628476,
          -0.5029302998523506,
          -0.7119366297274415,
          -0.7714058757418685,
          -0.7764735112899486,
          0.15235160520180058,
          0.10887281717687264,
          0.7941989455346967,
          0.4285636061112597,
          0.6190583066282419,
          0.91499081947152,
          -0.2932480122438687,
          -1.7409169425200517,
          2.733416114332795,
          -1.1754447067447311,
          -1.3793296225880705,
          -1.079092341670199,
          -0.7963535324749649
         ],
         "yaxis": "y2"
        },
        {
         "line": {
          "color": "rgba(128, 128, 128, 1.0)",
          "dash": "solid",
          "shape": "linear",
          "width": 1.3
         },
         "marker": {
          "size": 2,
          "symbol": "circle"
         },
         "mode": "markers",
         "name": "A",
         "text": "",
         "type": "scatter",
         "x": [
          -1.2532978730908089,
          -1.08728508653962,
          0.2810099897131669,
          0.28572795234952775,
          1.4698772047722144,
          -0.3963659575006133,
          1.1763989990977648,
          -0.8163377973699925,
          1.0060115012509048,
          -0.7138918482215386,
          0.6883261109468227,
          -1.742345100309127,
          0.3936783289548123,
          -0.04079852372677284,
          -1.295204216076111,
          0.37385297373771775,
          0.6157157548283694,
          -0.4849763251667541,
          -0.15343297260882294,
          0.34269138397285814,
          1.194295529137943,
          0.5492398568004113,
          -0.6810296225613278,
          -1.6128892279741904,
          -0.0850969260195267,
          0.7734544387194928,
          -0.2834480250801903,
          -3.4470712470537705,
          0.611533234516993,
          0.1667170044869415,
          -0.1669329080959966,
          -0.23549689119742387,
          1.2513412638668564,
          0.6553322724200078,
          0.2171135753909595,
          0.09898406341847123,
          -0.979710138570761,
          -1.333036917826404,
          0.03755255988192256,
          0.6197517106433479,
          0.923011595410601,
          -0.009300278132760933,
          1.4332594029791803,
          -0.5453631049824771,
          1.382857862039696,
          1.9219429345949208,
          -0.436247679066393,
          -0.8083398005629527,
          -0.8947731295364745,
          -0.4856216476847417,
          1.7298213424634679,
          -0.17946655423496888,
          1.5056216727737806,
          2.002849273124296,
          0.8711995500748396,
          0.626681330577629,
          1.5403534997575812,
          -0.14073729852183495,
          -0.22267895623511597,
          -0.5069809876965274,
          1.978531085289646,
          -1.4649287871044867,
          0.8298006554947647,
          0.56942109535731,
          -1.4523062524639976,
          -0.5542575579380606,
          0.08435547173343336,
          -1.308971621854254,
          0.8691195603073998,
          0.2724056016445801,
          0.1936264520608121,
          -1.361287805977323,
          0.7369084117743792,
          0.40911372288406445,
          0.5885532117384756,
          -0.6381641206733064,
          -0.8547605483606814,
          0.05416171503795708,
          0.970418851559788,
          1.71582873509031,
          1.881987424509346,
          -0.3218196177359385,
          -1.0513356845480373,
          -0.020927458305802216,
          0.11777114036254806,
          -0.3215908580429141,
          -0.2910104372121669,
          0.8528708676012919,
          -0.27045683020222056,
          1.2347122205541794,
          1.1574086023087558,
          -0.6425492043890059,
          1.3121152909783667,
          -0.7380078566402093,
          0.8868862557471037,
          -0.38973722805242755,
          0.43326203497727445,
          0.7367441266770399,
          1.280134260368342,
          -1.0697350133937478
         ],
         "xaxis": "x3",
         "y": [
          0.0919618728699051,
          -0.22143263970710958,
          1.6920061692431745,
          0.9431067925271498,
          0.3594422328619513,
          -0.6828184970650549,
          1.3477112305154917,
          -0.25654138522913494,
          -0.5500327799891596,
          -1.6427355514887694,
          0.8197944489201987,
          -0.9823742404275926,
          -0.7023441940871719,
          0.3420492232639261,
          0.3614086599960736,
          0.9320266717072684,
          0.24940799365624342,
          0.13501132347356098,
          1.7227186975205464,
          1.3028028631329955,
          1.4192000853142765,
          -1.4513472584243803,
          0.6653115648991531,
          0.6212126195957125,
          0.5203849348742722,
          1.1441801437913968,
          0.26324331968163056,
          0.14411448089116888,
          -0.24946884808245628,
          1.2004322807572958,
          -1.33371999712701,
          -1.303350385254543,
          -1.1923060843464355,
          0.218272069680675,
          1.1314974608828123,
          -0.5806652098094076,
          0.5057921370378858,
          0.6890842185174422,
          -0.8682418939632968,
          -0.9738931790805747,
          0.3024580947453506,
          0.5930160505461489,
          0.012493704873780407,
          0.06709321932891561,
          -0.11492440065381442,
          0.9745729681361173,
          -1.1762691951987503,
          0.8146389350431569,
          -0.12569002261219556,
          1.0119713501641898,
          -0.6321713722281166,
          0.4574766710618231,
          -0.6102904166172508,
          0.31641789575822027,
          0.9950217584217503,
          2.006296936240135,
          0.08490037596601381,
          0.052925187470997954,
          1.6438045388296836,
          0.2102712935016528,
          1.4467467102795866,
          -0.8757944378763092,
          0.15823619400094852,
          -1.417545673023298,
          -0.3400532293623823,
          1.2437715025007023,
          -0.7731750885178242,
          0.10291850051799534,
          -0.4336142340159738,
          1.5203031258436455,
          -0.034733446097376816,
          0.4410345083863978,
          0.3890827268596237,
          -0.8946559623109902,
          -0.003957006038530615,
          -0.27046157935920223,
          -0.35782137473497466,
          -1.729359505511331,
          1.7627956055760405,
          0.6392822708605644,
          0.5287036645533052,
          0.7950519326971078,
          1.5328580862628476,
          -0.5029302998523506,
          -0.7119366297274415,
          -0.7714058757418685,
          -0.7764735112899486,
          0.15235160520180058,
          0.10887281717687264,
          0.7941989455346967,
          0.4285636061112597,
          0.6190583066282419,
          0.91499081947152,
          -0.2932480122438687,
          -1.7409169425200517,
          2.733416114332795,
          -1.1754447067447311,
          -1.3793296225880705,
          -1.079092341670199,
          -0.7963535324749649
         ],
         "yaxis": "y3"
        },
        {
         "line": {
          "color": "rgba(128, 128, 128, 1.0)",
          "dash": "solid",
          "shape": "linear",
          "width": 1.3
         },
         "marker": {
          "size": 2,
          "symbol": "circle"
         },
         "mode": "markers",
         "name": "A",
         "text": "",
         "type": "scatter",
         "x": [
          1.0150673539653818,
          0.7801797455914745,
          -0.4803927904649368,
          0.6055979848455442,
          1.008786758438709,
          0.023964719652546877,
          -0.34249088232411906,
          -1.5757136841787667,
          -1.2595228196575285,
          1.5479296266426186,
          -1.667891888212835,
          -2.9304707516585533,
          -1.2375725780575295,
          -0.08016118590083993,
          -0.908093799587176,
          1.4262107854511754,
          1.1348372431282665,
          1.7525559804561646,
          -2.2104836006372466,
          -0.7144493819718111,
          0.345186227871036,
          -0.4923342757879569,
          -0.19566336816411614,
          0.5383860212364863,
          -0.7262974683800657,
          0.571457491646246,
          0.40744053585215695,
          -1.4644367633999609,
          0.37677590832931107,
          -0.7797553726140088,
          1.4555215429359187,
          -0.634090861545719,
          -0.13503703689895868,
          0.23922282946463885,
          -0.752849756995442,
          -1.6572083372518116,
          0.2722374988280992,
          -0.9301269524343052,
          -1.3049134458185287,
          -1.0864556357953092,
          -0.5210398084393976,
          -1.2120174320242803,
          -0.49102338758956604,
          1.009452815096525,
          0.08791363844742746,
          0.15825724922493187,
          0.11577812035672147,
          0.3715643270628371,
          3.7543884240576624,
          -0.6052944478302311,
          -0.1057233191798161,
          -1.263792161830712,
          0.40963011032787255,
          -0.31623110375908975,
          -0.906148230957082,
          -1.6795898265689735,
          -0.10452649558706589,
          0.5546020797484007,
          0.39996139495275207,
          0.15442905373088403,
          0.5537410323974221,
          1.443482963625378,
          -0.9292607637673629,
          -0.7803850517054651,
          -0.516535132961495,
          1.2224686540745042,
          -0.9943679282622373,
          -0.4107109809970364,
          0.9893651661469751,
          -0.8308332484795458,
          0.589243504362736,
          -1.8212040247636174,
          -0.48785692626022303,
          0.6760235701657388,
          0.3010632487040836,
          1.2460996350652314,
          -0.3383975356262392,
          -1.03324678467663,
          1.640118425811848,
          1.8021100222559114,
          -0.35153889224171175,
          1.3204298563274208,
          0.34597601293931146,
          -1.032349830563655,
          -0.22306948548415415,
          -1.0613925110075237,
          -1.0934183840406753,
          2.5025672360353175,
          0.5642599570726079,
          1.6406429875583208,
          -1.5621527245615558,
          -1.3018319428684324,
          0.6720889294567994,
          -0.6912888885910656,
          1.083359566279782,
          -0.33688496894435577,
          -0.4095731056501877,
          0.014762255517497424,
          -1.1351676072998083,
          -0.41268142250245066
         ],
         "xaxis": "x4",
         "y": [
          0.0919618728699051,
          -0.22143263970710958,
          1.6920061692431745,
          0.9431067925271498,
          0.3594422328619513,
          -0.6828184970650549,
          1.3477112305154917,
          -0.25654138522913494,
          -0.5500327799891596,
          -1.6427355514887694,
          0.8197944489201987,
          -0.9823742404275926,
          -0.7023441940871719,
          0.3420492232639261,
          0.3614086599960736,
          0.9320266717072684,
          0.24940799365624342,
          0.13501132347356098,
          1.7227186975205464,
          1.3028028631329955,
          1.4192000853142765,
          -1.4513472584243803,
          0.6653115648991531,
          0.6212126195957125,
          0.5203849348742722,
          1.1441801437913968,
          0.26324331968163056,
          0.14411448089116888,
          -0.24946884808245628,
          1.2004322807572958,
          -1.33371999712701,
          -1.303350385254543,
          -1.1923060843464355,
          0.218272069680675,
          1.1314974608828123,
          -0.5806652098094076,
          0.5057921370378858,
          0.6890842185174422,
          -0.8682418939632968,
          -0.9738931790805747,
          0.3024580947453506,
          0.5930160505461489,
          0.012493704873780407,
          0.06709321932891561,
          -0.11492440065381442,
          0.9745729681361173,
          -1.1762691951987503,
          0.8146389350431569,
          -0.12569002261219556,
          1.0119713501641898,
          -0.6321713722281166,
          0.4574766710618231,
          -0.6102904166172508,
          0.31641789575822027,
          0.9950217584217503,
          2.006296936240135,
          0.08490037596601381,
          0.052925187470997954,
          1.6438045388296836,
          0.2102712935016528,
          1.4467467102795866,
          -0.8757944378763092,
          0.15823619400094852,
          -1.417545673023298,
          -0.3400532293623823,
          1.2437715025007023,
          -0.7731750885178242,
          0.10291850051799534,
          -0.4336142340159738,
          1.5203031258436455,
          -0.034733446097376816,
          0.4410345083863978,
          0.3890827268596237,
          -0.8946559623109902,
          -0.003957006038530615,
          -0.27046157935920223,
          -0.35782137473497466,
          -1.729359505511331,
          1.7627956055760405,
          0.6392822708605644,
          0.5287036645533052,
          0.7950519326971078,
          1.5328580862628476,
          -0.5029302998523506,
          -0.7119366297274415,
          -0.7714058757418685,
          -0.7764735112899486,
          0.15235160520180058,
          0.10887281717687264,
          0.7941989455346967,
          0.4285636061112597,
          0.6190583066282419,
          0.91499081947152,
          -0.2932480122438687,
          -1.7409169425200517,
          2.733416114332795,
          -1.1754447067447311,
          -1.3793296225880705,
          -1.079092341670199,
          -0.7963535324749649
         ],
         "yaxis": "y4"
        },
        {
         "line": {
          "color": "rgba(128, 128, 128, 1.0)",
          "dash": "solid",
          "shape": "linear",
          "width": 1.3
         },
         "marker": {
          "size": 2,
          "symbol": "circle"
         },
         "mode": "markers",
         "name": "B",
         "text": "",
         "type": "scatter",
         "x": [
          0.0919618728699051,
          -0.22143263970710958,
          1.6920061692431745,
          0.9431067925271498,
          0.3594422328619513,
          -0.6828184970650549,
          1.3477112305154917,
          -0.25654138522913494,
          -0.5500327799891596,
          -1.6427355514887694,
          0.8197944489201987,
          -0.9823742404275926,
          -0.7023441940871719,
          0.3420492232639261,
          0.3614086599960736,
          0.9320266717072684,
          0.24940799365624342,
          0.13501132347356098,
          1.7227186975205464,
          1.3028028631329955,
          1.4192000853142765,
          -1.4513472584243803,
          0.6653115648991531,
          0.6212126195957125,
          0.5203849348742722,
          1.1441801437913968,
          0.26324331968163056,
          0.14411448089116888,
          -0.24946884808245628,
          1.2004322807572958,
          -1.33371999712701,
          -1.303350385254543,
          -1.1923060843464355,
          0.218272069680675,
          1.1314974608828123,
          -0.5806652098094076,
          0.5057921370378858,
          0.6890842185174422,
          -0.8682418939632968,
          -0.9738931790805747,
          0.3024580947453506,
          0.5930160505461489,
          0.012493704873780407,
          0.06709321932891561,
          -0.11492440065381442,
          0.9745729681361173,
          -1.1762691951987503,
          0.8146389350431569,
          -0.12569002261219556,
          1.0119713501641898,
          -0.6321713722281166,
          0.4574766710618231,
          -0.6102904166172508,
          0.31641789575822027,
          0.9950217584217503,
          2.006296936240135,
          0.08490037596601381,
          0.052925187470997954,
          1.6438045388296836,
          0.2102712935016528,
          1.4467467102795866,
          -0.8757944378763092,
          0.15823619400094852,
          -1.417545673023298,
          -0.3400532293623823,
          1.2437715025007023,
          -0.7731750885178242,
          0.10291850051799534,
          -0.4336142340159738,
          1.5203031258436455,
          -0.034733446097376816,
          0.4410345083863978,
          0.3890827268596237,
          -0.8946559623109902,
          -0.003957006038530615,
          -0.27046157935920223,
          -0.35782137473497466,
          -1.729359505511331,
          1.7627956055760405,
          0.6392822708605644,
          0.5287036645533052,
          0.7950519326971078,
          1.5328580862628476,
          -0.5029302998523506,
          -0.7119366297274415,
          -0.7714058757418685,
          -0.7764735112899486,
          0.15235160520180058,
          0.10887281717687264,
          0.7941989455346967,
          0.4285636061112597,
          0.6190583066282419,
          0.91499081947152,
          -0.2932480122438687,
          -1.7409169425200517,
          2.733416114332795,
          -1.1754447067447311,
          -1.3793296225880705,
          -1.079092341670199,
          -0.7963535324749649
         ],
         "xaxis": "x5",
         "y": [
          -0.3359057780033205,
          -0.4433704710462687,
          0.3465360831123125,
          0.8803170742782787,
          0.288009036532479,
          1.8591582085492402,
          -0.5036424328286201,
          0.7731816011892556,
          -0.6592022646641865,
          1.1650207389240208,
          2.145286799985949,
          0.38318041888760507,
          0.3605136490201095,
          1.2879110751310086,
          0.3870941307195677,
          0.5175548648554993,
          0.13156406589182484,
          0.43726067978794136,
          -0.12406077464839853,
          -0.1584521578624045,
          1.8481676984545645,
          -0.6320254001344748,
          -0.547989679256849,
          -0.7345036188124198,
          -0.838599962443122,
          0.30565502397333477,
          -0.39286841571607833,
          0.12866234223048006,
          0.6671029123469577,
          -1.6506221833593462,
          0.4216935614574125,
          -1.2122340200334463,
          -0.11983788140959518,
          1.9826944376135154,
          1.3703099502731115,
          -1.2150177014024568,
          -0.9976729947573217,
          1.1507693794007992,
          1.3037737483808534,
          -0.27076012375835345,
          0.3866071574516572,
          -0.5107511196435172,
          -0.9168898492795453,
          1.1144615030404976,
          1.1470375704065499,
          0.1518813789372889,
          1.198620765530093,
          -1.079485781920071,
          0.7055827854010577,
          1.1297159187985248,
          -0.11696308792520638,
          -0.6076790190270548,
          -0.32567795806579464,
          -0.6659287720474008,
          1.0696737724187175,
          -0.161034988424284,
          1.1563498686847156,
          0.3866021466927583,
          0.272581455665236,
          -0.34368289428306015,
          -0.18384618137722683,
          -0.5012580084782411,
          -0.6724838243629148,
          0.7344331694237937,
          2.318770733800961,
          2.323045264573243,
          -0.5608271207087145,
          -1.184389077151462,
          0.008319037423178726,
          -1.096836380779569,
          -0.2424576969197716,
          0.538243146218403,
          -2.142972574782624,
          0.8974097458335817,
          -0.010318194682662218,
          -0.6581154280755355,
          1.522477800055998,
          -0.7579847427823956,
          0.05924636221836566,
          0.2190915527842804,
          -0.4867693553796768,
          0.3388177539269479,
          -0.8709481281967048,
          0.4532732220093141,
          -0.9850390012649825,
          0.06967424292427568,
          0.9013408725699227,
          -0.8889565263236228,
          -1.4953853400201986,
          1.2332004819013818,
          0.29559298373114473,
          0.997658383035107,
          0.18918967408095885,
          -0.051056244413894794,
          0.28797982555864904,
          0.5610032454866385,
          -1.7120942228348124,
          -1.5117097048745491,
          0.832181129054585,
          1.8344712732316908
         ],
         "yaxis": "y5"
        },
        {
         "histfunc": "count",
         "histnorm": "",
         "marker": {
          "color": "rgba(55, 128, 191, 1.0)",
          "line": {
           "color": "#4D5663",
           "width": 1.3
          }
         },
         "name": "B",
         "nbinsx": 10,
         "opacity": 0.8,
         "orientation": "v",
         "type": "histogram",
         "x": [
          -0.3359057780033205,
          -0.4433704710462687,
          0.3465360831123125,
          0.8803170742782787,
          0.288009036532479,
          1.8591582085492402,
          -0.5036424328286201,
          0.7731816011892556,
          -0.6592022646641865,
          1.1650207389240208,
          2.145286799985949,
          0.38318041888760507,
          0.3605136490201095,
          1.2879110751310086,
          0.3870941307195677,
          0.5175548648554993,
          0.13156406589182484,
          0.43726067978794136,
          -0.12406077464839853,
          -0.1584521578624045,
          1.8481676984545645,
          -0.6320254001344748,
          -0.547989679256849,
          -0.7345036188124198,
          -0.838599962443122,
          0.30565502397333477,
          -0.39286841571607833,
          0.12866234223048006,
          0.6671029123469577,
          -1.6506221833593462,
          0.4216935614574125,
          -1.2122340200334463,
          -0.11983788140959518,
          1.9826944376135154,
          1.3703099502731115,
          -1.2150177014024568,
          -0.9976729947573217,
          1.1507693794007992,
          1.3037737483808534,
          -0.27076012375835345,
          0.3866071574516572,
          -0.5107511196435172,
          -0.9168898492795453,
          1.1144615030404976,
          1.1470375704065499,
          0.1518813789372889,
          1.198620765530093,
          -1.079485781920071,
          0.7055827854010577,
          1.1297159187985248,
          -0.11696308792520638,
          -0.6076790190270548,
          -0.32567795806579464,
          -0.6659287720474008,
          1.0696737724187175,
          -0.161034988424284,
          1.1563498686847156,
          0.3866021466927583,
          0.272581455665236,
          -0.34368289428306015,
          -0.18384618137722683,
          -0.5012580084782411,
          -0.6724838243629148,
          0.7344331694237937,
          2.318770733800961,
          2.323045264573243,
          -0.5608271207087145,
          -1.184389077151462,
          0.008319037423178726,
          -1.096836380779569,
          -0.2424576969197716,
          0.538243146218403,
          -2.142972574782624,
          0.8974097458335817,
          -0.010318194682662218,
          -0.6581154280755355,
          1.522477800055998,
          -0.7579847427823956,
          0.05924636221836566,
          0.2190915527842804,
          -0.4867693553796768,
          0.3388177539269479,
          -0.8709481281967048,
          0.4532732220093141,
          -0.9850390012649825,
          0.06967424292427568,
          0.9013408725699227,
          -0.8889565263236228,
          -1.4953853400201986,
          1.2332004819013818,
          0.29559298373114473,
          0.997658383035107,
          0.18918967408095885,
          -0.051056244413894794,
          0.28797982555864904,
          0.5610032454866385,
          -1.7120942228348124,
          -1.5117097048745491,
          0.832181129054585,
          1.8344712732316908
         ],
         "xaxis": "x6",
         "yaxis": "y6"
        },
        {
         "line": {
          "color": "rgba(128, 128, 128, 1.0)",
          "dash": "solid",
          "shape": "linear",
          "width": 1.3
         },
         "marker": {
          "size": 2,
          "symbol": "circle"
         },
         "mode": "markers",
         "name": "B",
         "text": "",
         "type": "scatter",
         "x": [
          -1.2532978730908089,
          -1.08728508653962,
          0.2810099897131669,
          0.28572795234952775,
          1.4698772047722144,
          -0.3963659575006133,
          1.1763989990977648,
          -0.8163377973699925,
          1.0060115012509048,
          -0.7138918482215386,
          0.6883261109468227,
          -1.742345100309127,
          0.3936783289548123,
          -0.04079852372677284,
          -1.295204216076111,
          0.37385297373771775,
          0.6157157548283694,
          -0.4849763251667541,
          -0.15343297260882294,
          0.34269138397285814,
          1.194295529137943,
          0.5492398568004113,
          -0.6810296225613278,
          -1.6128892279741904,
          -0.0850969260195267,
          0.7734544387194928,
          -0.2834480250801903,
          -3.4470712470537705,
          0.611533234516993,
          0.1667170044869415,
          -0.1669329080959966,
          -0.23549689119742387,
          1.2513412638668564,
          0.6553322724200078,
          0.2171135753909595,
          0.09898406341847123,
          -0.979710138570761,
          -1.333036917826404,
          0.03755255988192256,
          0.6197517106433479,
          0.923011595410601,
          -0.009300278132760933,
          1.4332594029791803,
          -0.5453631049824771,
          1.382857862039696,
          1.9219429345949208,
          -0.436247679066393,
          -0.8083398005629527,
          -0.8947731295364745,
          -0.4856216476847417,
          1.7298213424634679,
          -0.17946655423496888,
          1.5056216727737806,
          2.002849273124296,
          0.8711995500748396,
          0.626681330577629,
          1.5403534997575812,
          -0.14073729852183495,
          -0.22267895623511597,
          -0.5069809876965274,
          1.978531085289646,
          -1.4649287871044867,
          0.8298006554947647,
          0.56942109535731,
          -1.4523062524639976,
          -0.5542575579380606,
          0.08435547173343336,
          -1.308971621854254,
          0.8691195603073998,
          0.2724056016445801,
          0.1936264520608121,
          -1.361287805977323,
          0.7369084117743792,
          0.40911372288406445,
          0.5885532117384756,
          -0.6381641206733064,
          -0.8547605483606814,
          0.05416171503795708,
          0.970418851559788,
          1.71582873509031,
          1.881987424509346,
          -0.3218196177359385,
          -1.0513356845480373,
          -0.020927458305802216,
          0.11777114036254806,
          -0.3215908580429141,
          -0.2910104372121669,
          0.8528708676012919,
          -0.27045683020222056,
          1.2347122205541794,
          1.1574086023087558,
          -0.6425492043890059,
          1.3121152909783667,
          -0.7380078566402093,
          0.8868862557471037,
          -0.38973722805242755,
          0.43326203497727445,
          0.7367441266770399,
          1.280134260368342,
          -1.0697350133937478
         ],
         "xaxis": "x7",
         "y": [
          -0.3359057780033205,
          -0.4433704710462687,
          0.3465360831123125,
          0.8803170742782787,
          0.288009036532479,
          1.8591582085492402,
          -0.5036424328286201,
          0.7731816011892556,
          -0.6592022646641865,
          1.1650207389240208,
          2.145286799985949,
          0.38318041888760507,
          0.3605136490201095,
          1.2879110751310086,
          0.3870941307195677,
          0.5175548648554993,
          0.13156406589182484,
          0.43726067978794136,
          -0.12406077464839853,
          -0.1584521578624045,
          1.8481676984545645,
          -0.6320254001344748,
          -0.547989679256849,
          -0.7345036188124198,
          -0.838599962443122,
          0.30565502397333477,
          -0.39286841571607833,
          0.12866234223048006,
          0.6671029123469577,
          -1.6506221833593462,
          0.4216935614574125,
          -1.2122340200334463,
          -0.11983788140959518,
          1.9826944376135154,
          1.3703099502731115,
          -1.2150177014024568,
          -0.9976729947573217,
          1.1507693794007992,
          1.3037737483808534,
          -0.27076012375835345,
          0.3866071574516572,
          -0.5107511196435172,
          -0.9168898492795453,
          1.1144615030404976,
          1.1470375704065499,
          0.1518813789372889,
          1.198620765530093,
          -1.079485781920071,
          0.7055827854010577,
          1.1297159187985248,
          -0.11696308792520638,
          -0.6076790190270548,
          -0.32567795806579464,
          -0.6659287720474008,
          1.0696737724187175,
          -0.161034988424284,
          1.1563498686847156,
          0.3866021466927583,
          0.272581455665236,
          -0.34368289428306015,
          -0.18384618137722683,
          -0.5012580084782411,
          -0.6724838243629148,
          0.7344331694237937,
          2.318770733800961,
          2.323045264573243,
          -0.5608271207087145,
          -1.184389077151462,
          0.008319037423178726,
          -1.096836380779569,
          -0.2424576969197716,
          0.538243146218403,
          -2.142972574782624,
          0.8974097458335817,
          -0.010318194682662218,
          -0.6581154280755355,
          1.522477800055998,
          -0.7579847427823956,
          0.05924636221836566,
          0.2190915527842804,
          -0.4867693553796768,
          0.3388177539269479,
          -0.8709481281967048,
          0.4532732220093141,
          -0.9850390012649825,
          0.06967424292427568,
          0.9013408725699227,
          -0.8889565263236228,
          -1.4953853400201986,
          1.2332004819013818,
          0.29559298373114473,
          0.997658383035107,
          0.18918967408095885,
          -0.051056244413894794,
          0.28797982555864904,
          0.5610032454866385,
          -1.7120942228348124,
          -1.5117097048745491,
          0.832181129054585,
          1.8344712732316908
         ],
         "yaxis": "y7"
        },
        {
         "line": {
          "color": "rgba(128, 128, 128, 1.0)",
          "dash": "solid",
          "shape": "linear",
          "width": 1.3
         },
         "marker": {
          "size": 2,
          "symbol": "circle"
         },
         "mode": "markers",
         "name": "B",
         "text": "",
         "type": "scatter",
         "x": [
          1.0150673539653818,
          0.7801797455914745,
          -0.4803927904649368,
          0.6055979848455442,
          1.008786758438709,
          0.023964719652546877,
          -0.34249088232411906,
          -1.5757136841787667,
          -1.2595228196575285,
          1.5479296266426186,
          -1.667891888212835,
          -2.9304707516585533,
          -1.2375725780575295,
          -0.08016118590083993,
          -0.908093799587176,
          1.4262107854511754,
          1.1348372431282665,
          1.7525559804561646,
          -2.2104836006372466,
          -0.7144493819718111,
          0.345186227871036,
          -0.4923342757879569,
          -0.19566336816411614,
          0.5383860212364863,
          -0.7262974683800657,
          0.571457491646246,
          0.40744053585215695,
          -1.4644367633999609,
          0.37677590832931107,
          -0.7797553726140088,
          1.4555215429359187,
          -0.634090861545719,
          -0.13503703689895868,
          0.23922282946463885,
          -0.752849756995442,
          -1.6572083372518116,
          0.2722374988280992,
          -0.9301269524343052,
          -1.3049134458185287,
          -1.0864556357953092,
          -0.5210398084393976,
          -1.2120174320242803,
          -0.49102338758956604,
          1.009452815096525,
          0.08791363844742746,
          0.15825724922493187,
          0.11577812035672147,
          0.3715643270628371,
          3.7543884240576624,
          -0.6052944478302311,
          -0.1057233191798161,
          -1.263792161830712,
          0.40963011032787255,
          -0.31623110375908975,
          -0.906148230957082,
          -1.6795898265689735,
          -0.10452649558706589,
          0.5546020797484007,
          0.39996139495275207,
          0.15442905373088403,
          0.5537410323974221,
          1.443482963625378,
          -0.9292607637673629,
          -0.7803850517054651,
          -0.516535132961495,
          1.2224686540745042,
          -0.9943679282622373,
          -0.4107109809970364,
          0.9893651661469751,
          -0.8308332484795458,
          0.589243504362736,
          -1.8212040247636174,
          -0.48785692626022303,
          0.6760235701657388,
          0.3010632487040836,
          1.2460996350652314,
          -0.3383975356262392,
          -1.03324678467663,
          1.640118425811848,
          1.8021100222559114,
          -0.35153889224171175,
          1.3204298563274208,
          0.34597601293931146,
          -1.032349830563655,
          -0.22306948548415415,
          -1.0613925110075237,
          -1.0934183840406753,
          2.5025672360353175,
          0.5642599570726079,
          1.6406429875583208,
          -1.5621527245615558,
          -1.3018319428684324,
          0.6720889294567994,
          -0.6912888885910656,
          1.083359566279782,
          -0.33688496894435577,
          -0.4095731056501877,
          0.014762255517497424,
          -1.1351676072998083,
          -0.41268142250245066
         ],
         "xaxis": "x8",
         "y": [
          -0.3359057780033205,
          -0.4433704710462687,
          0.3465360831123125,
          0.8803170742782787,
          0.288009036532479,
          1.8591582085492402,
          -0.5036424328286201,
          0.7731816011892556,
          -0.6592022646641865,
          1.1650207389240208,
          2.145286799985949,
          0.38318041888760507,
          0.3605136490201095,
          1.2879110751310086,
          0.3870941307195677,
          0.5175548648554993,
          0.13156406589182484,
          0.43726067978794136,
          -0.12406077464839853,
          -0.1584521578624045,
          1.8481676984545645,
          -0.6320254001344748,
          -0.547989679256849,
          -0.7345036188124198,
          -0.838599962443122,
          0.30565502397333477,
          -0.39286841571607833,
          0.12866234223048006,
          0.6671029123469577,
          -1.6506221833593462,
          0.4216935614574125,
          -1.2122340200334463,
          -0.11983788140959518,
          1.9826944376135154,
          1.3703099502731115,
          -1.2150177014024568,
          -0.9976729947573217,
          1.1507693794007992,
          1.3037737483808534,
          -0.27076012375835345,
          0.3866071574516572,
          -0.5107511196435172,
          -0.9168898492795453,
          1.1144615030404976,
          1.1470375704065499,
          0.1518813789372889,
          1.198620765530093,
          -1.079485781920071,
          0.7055827854010577,
          1.1297159187985248,
          -0.11696308792520638,
          -0.6076790190270548,
          -0.32567795806579464,
          -0.6659287720474008,
          1.0696737724187175,
          -0.161034988424284,
          1.1563498686847156,
          0.3866021466927583,
          0.272581455665236,
          -0.34368289428306015,
          -0.18384618137722683,
          -0.5012580084782411,
          -0.6724838243629148,
          0.7344331694237937,
          2.318770733800961,
          2.323045264573243,
          -0.5608271207087145,
          -1.184389077151462,
          0.008319037423178726,
          -1.096836380779569,
          -0.2424576969197716,
          0.538243146218403,
          -2.142972574782624,
          0.8974097458335817,
          -0.010318194682662218,
          -0.6581154280755355,
          1.522477800055998,
          -0.7579847427823956,
          0.05924636221836566,
          0.2190915527842804,
          -0.4867693553796768,
          0.3388177539269479,
          -0.8709481281967048,
          0.4532732220093141,
          -0.9850390012649825,
          0.06967424292427568,
          0.9013408725699227,
          -0.8889565263236228,
          -1.4953853400201986,
          1.2332004819013818,
          0.29559298373114473,
          0.997658383035107,
          0.18918967408095885,
          -0.051056244413894794,
          0.28797982555864904,
          0.5610032454866385,
          -1.7120942228348124,
          -1.5117097048745491,
          0.832181129054585,
          1.8344712732316908
         ],
         "yaxis": "y8"
        },
        {
         "line": {
          "color": "rgba(128, 128, 128, 1.0)",
          "dash": "solid",
          "shape": "linear",
          "width": 1.3
         },
         "marker": {
          "size": 2,
          "symbol": "circle"
         },
         "mode": "markers",
         "name": "C",
         "text": "",
         "type": "scatter",
         "x": [
          0.0919618728699051,
          -0.22143263970710958,
          1.6920061692431745,
          0.9431067925271498,
          0.3594422328619513,
          -0.6828184970650549,
          1.3477112305154917,
          -0.25654138522913494,
          -0.5500327799891596,
          -1.6427355514887694,
          0.8197944489201987,
          -0.9823742404275926,
          -0.7023441940871719,
          0.3420492232639261,
          0.3614086599960736,
          0.9320266717072684,
          0.24940799365624342,
          0.13501132347356098,
          1.7227186975205464,
          1.3028028631329955,
          1.4192000853142765,
          -1.4513472584243803,
          0.6653115648991531,
          0.6212126195957125,
          0.5203849348742722,
          1.1441801437913968,
          0.26324331968163056,
          0.14411448089116888,
          -0.24946884808245628,
          1.2004322807572958,
          -1.33371999712701,
          -1.303350385254543,
          -1.1923060843464355,
          0.218272069680675,
          1.1314974608828123,
          -0.5806652098094076,
          0.5057921370378858,
          0.6890842185174422,
          -0.8682418939632968,
          -0.9738931790805747,
          0.3024580947453506,
          0.5930160505461489,
          0.012493704873780407,
          0.06709321932891561,
          -0.11492440065381442,
          0.9745729681361173,
          -1.1762691951987503,
          0.8146389350431569,
          -0.12569002261219556,
          1.0119713501641898,
          -0.6321713722281166,
          0.4574766710618231,
          -0.6102904166172508,
          0.31641789575822027,
          0.9950217584217503,
          2.006296936240135,
          0.08490037596601381,
          0.052925187470997954,
          1.6438045388296836,
          0.2102712935016528,
          1.4467467102795866,
          -0.8757944378763092,
          0.15823619400094852,
          -1.417545673023298,
          -0.3400532293623823,
          1.2437715025007023,
          -0.7731750885178242,
          0.10291850051799534,
          -0.4336142340159738,
          1.5203031258436455,
          -0.034733446097376816,
          0.4410345083863978,
          0.3890827268596237,
          -0.8946559623109902,
          -0.003957006038530615,
          -0.27046157935920223,
          -0.35782137473497466,
          -1.729359505511331,
          1.7627956055760405,
          0.6392822708605644,
          0.5287036645533052,
          0.7950519326971078,
          1.5328580862628476,
          -0.5029302998523506,
          -0.7119366297274415,
          -0.7714058757418685,
          -0.7764735112899486,
          0.15235160520180058,
          0.10887281717687264,
          0.7941989455346967,
          0.4285636061112597,
          0.6190583066282419,
          0.91499081947152,
          -0.2932480122438687,
          -1.7409169425200517,
          2.733416114332795,
          -1.1754447067447311,
          -1.3793296225880705,
          -1.079092341670199,
          -0.7963535324749649
         ],
         "xaxis": "x9",
         "y": [
          -1.2532978730908089,
          -1.08728508653962,
          0.2810099897131669,
          0.28572795234952775,
          1.4698772047722144,
          -0.3963659575006133,
          1.1763989990977648,
          -0.8163377973699925,
          1.0060115012509048,
          -0.7138918482215386,
          0.6883261109468227,
          -1.742345100309127,
          0.3936783289548123,
          -0.04079852372677284,
          -1.295204216076111,
          0.37385297373771775,
          0.6157157548283694,
          -0.4849763251667541,
          -0.15343297260882294,
          0.34269138397285814,
          1.194295529137943,
          0.5492398568004113,
          -0.6810296225613278,
          -1.6128892279741904,
          -0.0850969260195267,
          0.7734544387194928,
          -0.2834480250801903,
          -3.4470712470537705,
          0.611533234516993,
          0.1667170044869415,
          -0.1669329080959966,
          -0.23549689119742387,
          1.2513412638668564,
          0.6553322724200078,
          0.2171135753909595,
          0.09898406341847123,
          -0.979710138570761,
          -1.333036917826404,
          0.03755255988192256,
          0.6197517106433479,
          0.923011595410601,
          -0.009300278132760933,
          1.4332594029791803,
          -0.5453631049824771,
          1.382857862039696,
          1.9219429345949208,
          -0.436247679066393,
          -0.8083398005629527,
          -0.8947731295364745,
          -0.4856216476847417,
          1.7298213424634679,
          -0.17946655423496888,
          1.5056216727737806,
          2.002849273124296,
          0.8711995500748396,
          0.626681330577629,
          1.5403534997575812,
          -0.14073729852183495,
          -0.22267895623511597,
          -0.5069809876965274,
          1.978531085289646,
          -1.4649287871044867,
          0.8298006554947647,
          0.56942109535731,
          -1.4523062524639976,
          -0.5542575579380606,
          0.08435547173343336,
          -1.308971621854254,
          0.8691195603073998,
          0.2724056016445801,
          0.1936264520608121,
          -1.361287805977323,
          0.7369084117743792,
          0.40911372288406445,
          0.5885532117384756,
          -0.6381641206733064,
          -0.8547605483606814,
          0.05416171503795708,
          0.970418851559788,
          1.71582873509031,
          1.881987424509346,
          -0.3218196177359385,
          -1.0513356845480373,
          -0.020927458305802216,
          0.11777114036254806,
          -0.3215908580429141,
          -0.2910104372121669,
          0.8528708676012919,
          -0.27045683020222056,
          1.2347122205541794,
          1.1574086023087558,
          -0.6425492043890059,
          1.3121152909783667,
          -0.7380078566402093,
          0.8868862557471037,
          -0.38973722805242755,
          0.43326203497727445,
          0.7367441266770399,
          1.280134260368342,
          -1.0697350133937478
         ],
         "yaxis": "y9"
        },
        {
         "line": {
          "color": "rgba(128, 128, 128, 1.0)",
          "dash": "solid",
          "shape": "linear",
          "width": 1.3
         },
         "marker": {
          "size": 2,
          "symbol": "circle"
         },
         "mode": "markers",
         "name": "C",
         "text": "",
         "type": "scatter",
         "x": [
          -0.3359057780033205,
          -0.4433704710462687,
          0.3465360831123125,
          0.8803170742782787,
          0.288009036532479,
          1.8591582085492402,
          -0.5036424328286201,
          0.7731816011892556,
          -0.6592022646641865,
          1.1650207389240208,
          2.145286799985949,
          0.38318041888760507,
          0.3605136490201095,
          1.2879110751310086,
          0.3870941307195677,
          0.5175548648554993,
          0.13156406589182484,
          0.43726067978794136,
          -0.12406077464839853,
          -0.1584521578624045,
          1.8481676984545645,
          -0.6320254001344748,
          -0.547989679256849,
          -0.7345036188124198,
          -0.838599962443122,
          0.30565502397333477,
          -0.39286841571607833,
          0.12866234223048006,
          0.6671029123469577,
          -1.6506221833593462,
          0.4216935614574125,
          -1.2122340200334463,
          -0.11983788140959518,
          1.9826944376135154,
          1.3703099502731115,
          -1.2150177014024568,
          -0.9976729947573217,
          1.1507693794007992,
          1.3037737483808534,
          -0.27076012375835345,
          0.3866071574516572,
          -0.5107511196435172,
          -0.9168898492795453,
          1.1144615030404976,
          1.1470375704065499,
          0.1518813789372889,
          1.198620765530093,
          -1.079485781920071,
          0.7055827854010577,
          1.1297159187985248,
          -0.11696308792520638,
          -0.6076790190270548,
          -0.32567795806579464,
          -0.6659287720474008,
          1.0696737724187175,
          -0.161034988424284,
          1.1563498686847156,
          0.3866021466927583,
          0.272581455665236,
          -0.34368289428306015,
          -0.18384618137722683,
          -0.5012580084782411,
          -0.6724838243629148,
          0.7344331694237937,
          2.318770733800961,
          2.323045264573243,
          -0.5608271207087145,
          -1.184389077151462,
          0.008319037423178726,
          -1.096836380779569,
          -0.2424576969197716,
          0.538243146218403,
          -2.142972574782624,
          0.8974097458335817,
          -0.010318194682662218,
          -0.6581154280755355,
          1.522477800055998,
          -0.7579847427823956,
          0.05924636221836566,
          0.2190915527842804,
          -0.4867693553796768,
          0.3388177539269479,
          -0.8709481281967048,
          0.4532732220093141,
          -0.9850390012649825,
          0.06967424292427568,
          0.9013408725699227,
          -0.8889565263236228,
          -1.4953853400201986,
          1.2332004819013818,
          0.29559298373114473,
          0.997658383035107,
          0.18918967408095885,
          -0.051056244413894794,
          0.28797982555864904,
          0.5610032454866385,
          -1.7120942228348124,
          -1.5117097048745491,
          0.832181129054585,
          1.8344712732316908
         ],
         "xaxis": "x10",
         "y": [
          -1.2532978730908089,
          -1.08728508653962,
          0.2810099897131669,
          0.28572795234952775,
          1.4698772047722144,
          -0.3963659575006133,
          1.1763989990977648,
          -0.8163377973699925,
          1.0060115012509048,
          -0.7138918482215386,
          0.6883261109468227,
          -1.742345100309127,
          0.3936783289548123,
          -0.04079852372677284,
          -1.295204216076111,
          0.37385297373771775,
          0.6157157548283694,
          -0.4849763251667541,
          -0.15343297260882294,
          0.34269138397285814,
          1.194295529137943,
          0.5492398568004113,
          -0.6810296225613278,
          -1.6128892279741904,
          -0.0850969260195267,
          0.7734544387194928,
          -0.2834480250801903,
          -3.4470712470537705,
          0.611533234516993,
          0.1667170044869415,
          -0.1669329080959966,
          -0.23549689119742387,
          1.2513412638668564,
          0.6553322724200078,
          0.2171135753909595,
          0.09898406341847123,
          -0.979710138570761,
          -1.333036917826404,
          0.03755255988192256,
          0.6197517106433479,
          0.923011595410601,
          -0.009300278132760933,
          1.4332594029791803,
          -0.5453631049824771,
          1.382857862039696,
          1.9219429345949208,
          -0.436247679066393,
          -0.8083398005629527,
          -0.8947731295364745,
          -0.4856216476847417,
          1.7298213424634679,
          -0.17946655423496888,
          1.5056216727737806,
          2.002849273124296,
          0.8711995500748396,
          0.626681330577629,
          1.5403534997575812,
          -0.14073729852183495,
          -0.22267895623511597,
          -0.5069809876965274,
          1.978531085289646,
          -1.4649287871044867,
          0.8298006554947647,
          0.56942109535731,
          -1.4523062524639976,
          -0.5542575579380606,
          0.08435547173343336,
          -1.308971621854254,
          0.8691195603073998,
          0.2724056016445801,
          0.1936264520608121,
          -1.361287805977323,
          0.7369084117743792,
          0.40911372288406445,
          0.5885532117384756,
          -0.6381641206733064,
          -0.8547605483606814,
          0.05416171503795708,
          0.970418851559788,
          1.71582873509031,
          1.881987424509346,
          -0.3218196177359385,
          -1.0513356845480373,
          -0.020927458305802216,
          0.11777114036254806,
          -0.3215908580429141,
          -0.2910104372121669,
          0.8528708676012919,
          -0.27045683020222056,
          1.2347122205541794,
          1.1574086023087558,
          -0.6425492043890059,
          1.3121152909783667,
          -0.7380078566402093,
          0.8868862557471037,
          -0.38973722805242755,
          0.43326203497727445,
          0.7367441266770399,
          1.280134260368342,
          -1.0697350133937478
         ],
         "yaxis": "y10"
        },
        {
         "histfunc": "count",
         "histnorm": "",
         "marker": {
          "color": "rgba(50, 171, 96, 1.0)",
          "line": {
           "color": "#4D5663",
           "width": 1.3
          }
         },
         "name": "C",
         "nbinsx": 10,
         "opacity": 0.8,
         "orientation": "v",
         "type": "histogram",
         "x": [
          -1.2532978730908089,
          -1.08728508653962,
          0.2810099897131669,
          0.28572795234952775,
          1.4698772047722144,
          -0.3963659575006133,
          1.1763989990977648,
          -0.8163377973699925,
          1.0060115012509048,
          -0.7138918482215386,
          0.6883261109468227,
          -1.742345100309127,
          0.3936783289548123,
          -0.04079852372677284,
          -1.295204216076111,
          0.37385297373771775,
          0.6157157548283694,
          -0.4849763251667541,
          -0.15343297260882294,
          0.34269138397285814,
          1.194295529137943,
          0.5492398568004113,
          -0.6810296225613278,
          -1.6128892279741904,
          -0.0850969260195267,
          0.7734544387194928,
          -0.2834480250801903,
          -3.4470712470537705,
          0.611533234516993,
          0.1667170044869415,
          -0.1669329080959966,
          -0.23549689119742387,
          1.2513412638668564,
          0.6553322724200078,
          0.2171135753909595,
          0.09898406341847123,
          -0.979710138570761,
          -1.333036917826404,
          0.03755255988192256,
          0.6197517106433479,
          0.923011595410601,
          -0.009300278132760933,
          1.4332594029791803,
          -0.5453631049824771,
          1.382857862039696,
          1.9219429345949208,
          -0.436247679066393,
          -0.8083398005629527,
          -0.8947731295364745,
          -0.4856216476847417,
          1.7298213424634679,
          -0.17946655423496888,
          1.5056216727737806,
          2.002849273124296,
          0.8711995500748396,
          0.626681330577629,
          1.5403534997575812,
          -0.14073729852183495,
          -0.22267895623511597,
          -0.5069809876965274,
          1.978531085289646,
          -1.4649287871044867,
          0.8298006554947647,
          0.56942109535731,
          -1.4523062524639976,
          -0.5542575579380606,
          0.08435547173343336,
          -1.308971621854254,
          0.8691195603073998,
          0.2724056016445801,
          0.1936264520608121,
          -1.361287805977323,
          0.7369084117743792,
          0.40911372288406445,
          0.5885532117384756,
          -0.6381641206733064,
          -0.8547605483606814,
          0.05416171503795708,
          0.970418851559788,
          1.71582873509031,
          1.881987424509346,
          -0.3218196177359385,
          -1.0513356845480373,
          -0.020927458305802216,
          0.11777114036254806,
          -0.3215908580429141,
          -0.2910104372121669,
          0.8528708676012919,
          -0.27045683020222056,
          1.2347122205541794,
          1.1574086023087558,
          -0.6425492043890059,
          1.3121152909783667,
          -0.7380078566402093,
          0.8868862557471037,
          -0.38973722805242755,
          0.43326203497727445,
          0.7367441266770399,
          1.280134260368342,
          -1.0697350133937478
         ],
         "xaxis": "x11",
         "yaxis": "y11"
        },
        {
         "line": {
          "color": "rgba(128, 128, 128, 1.0)",
          "dash": "solid",
          "shape": "linear",
          "width": 1.3
         },
         "marker": {
          "size": 2,
          "symbol": "circle"
         },
         "mode": "markers",
         "name": "C",
         "text": "",
         "type": "scatter",
         "x": [
          1.0150673539653818,
          0.7801797455914745,
          -0.4803927904649368,
          0.6055979848455442,
          1.008786758438709,
          0.023964719652546877,
          -0.34249088232411906,
          -1.5757136841787667,
          -1.2595228196575285,
          1.5479296266426186,
          -1.667891888212835,
          -2.9304707516585533,
          -1.2375725780575295,
          -0.08016118590083993,
          -0.908093799587176,
          1.4262107854511754,
          1.1348372431282665,
          1.7525559804561646,
          -2.2104836006372466,
          -0.7144493819718111,
          0.345186227871036,
          -0.4923342757879569,
          -0.19566336816411614,
          0.5383860212364863,
          -0.7262974683800657,
          0.571457491646246,
          0.40744053585215695,
          -1.4644367633999609,
          0.37677590832931107,
          -0.7797553726140088,
          1.4555215429359187,
          -0.634090861545719,
          -0.13503703689895868,
          0.23922282946463885,
          -0.752849756995442,
          -1.6572083372518116,
          0.2722374988280992,
          -0.9301269524343052,
          -1.3049134458185287,
          -1.0864556357953092,
          -0.5210398084393976,
          -1.2120174320242803,
          -0.49102338758956604,
          1.009452815096525,
          0.08791363844742746,
          0.15825724922493187,
          0.11577812035672147,
          0.3715643270628371,
          3.7543884240576624,
          -0.6052944478302311,
          -0.1057233191798161,
          -1.263792161830712,
          0.40963011032787255,
          -0.31623110375908975,
          -0.906148230957082,
          -1.6795898265689735,
          -0.10452649558706589,
          0.5546020797484007,
          0.39996139495275207,
          0.15442905373088403,
          0.5537410323974221,
          1.443482963625378,
          -0.9292607637673629,
          -0.7803850517054651,
          -0.516535132961495,
          1.2224686540745042,
          -0.9943679282622373,
          -0.4107109809970364,
          0.9893651661469751,
          -0.8308332484795458,
          0.589243504362736,
          -1.8212040247636174,
          -0.48785692626022303,
          0.6760235701657388,
          0.3010632487040836,
          1.2460996350652314,
          -0.3383975356262392,
          -1.03324678467663,
          1.640118425811848,
          1.8021100222559114,
          -0.35153889224171175,
          1.3204298563274208,
          0.34597601293931146,
          -1.032349830563655,
          -0.22306948548415415,
          -1.0613925110075237,
          -1.0934183840406753,
          2.5025672360353175,
          0.5642599570726079,
          1.6406429875583208,
          -1.5621527245615558,
          -1.3018319428684324,
          0.6720889294567994,
          -0.6912888885910656,
          1.083359566279782,
          -0.33688496894435577,
          -0.4095731056501877,
          0.014762255517497424,
          -1.1351676072998083,
          -0.41268142250245066
         ],
         "xaxis": "x12",
         "y": [
          -1.2532978730908089,
          -1.08728508653962,
          0.2810099897131669,
          0.28572795234952775,
          1.4698772047722144,
          -0.3963659575006133,
          1.1763989990977648,
          -0.8163377973699925,
          1.0060115012509048,
          -0.7138918482215386,
          0.6883261109468227,
          -1.742345100309127,
          0.3936783289548123,
          -0.04079852372677284,
          -1.295204216076111,
          0.37385297373771775,
          0.6157157548283694,
          -0.4849763251667541,
          -0.15343297260882294,
          0.34269138397285814,
          1.194295529137943,
          0.5492398568004113,
          -0.6810296225613278,
          -1.6128892279741904,
          -0.0850969260195267,
          0.7734544387194928,
          -0.2834480250801903,
          -3.4470712470537705,
          0.611533234516993,
          0.1667170044869415,
          -0.1669329080959966,
          -0.23549689119742387,
          1.2513412638668564,
          0.6553322724200078,
          0.2171135753909595,
          0.09898406341847123,
          -0.979710138570761,
          -1.333036917826404,
          0.03755255988192256,
          0.6197517106433479,
          0.923011595410601,
          -0.009300278132760933,
          1.4332594029791803,
          -0.5453631049824771,
          1.382857862039696,
          1.9219429345949208,
          -0.436247679066393,
          -0.8083398005629527,
          -0.8947731295364745,
          -0.4856216476847417,
          1.7298213424634679,
          -0.17946655423496888,
          1.5056216727737806,
          2.002849273124296,
          0.8711995500748396,
          0.626681330577629,
          1.5403534997575812,
          -0.14073729852183495,
          -0.22267895623511597,
          -0.5069809876965274,
          1.978531085289646,
          -1.4649287871044867,
          0.8298006554947647,
          0.56942109535731,
          -1.4523062524639976,
          -0.5542575579380606,
          0.08435547173343336,
          -1.308971621854254,
          0.8691195603073998,
          0.2724056016445801,
          0.1936264520608121,
          -1.361287805977323,
          0.7369084117743792,
          0.40911372288406445,
          0.5885532117384756,
          -0.6381641206733064,
          -0.8547605483606814,
          0.05416171503795708,
          0.970418851559788,
          1.71582873509031,
          1.881987424509346,
          -0.3218196177359385,
          -1.0513356845480373,
          -0.020927458305802216,
          0.11777114036254806,
          -0.3215908580429141,
          -0.2910104372121669,
          0.8528708676012919,
          -0.27045683020222056,
          1.2347122205541794,
          1.1574086023087558,
          -0.6425492043890059,
          1.3121152909783667,
          -0.7380078566402093,
          0.8868862557471037,
          -0.38973722805242755,
          0.43326203497727445,
          0.7367441266770399,
          1.280134260368342,
          -1.0697350133937478
         ],
         "yaxis": "y12"
        },
        {
         "line": {
          "color": "rgba(128, 128, 128, 1.0)",
          "dash": "solid",
          "shape": "linear",
          "width": 1.3
         },
         "marker": {
          "size": 2,
          "symbol": "circle"
         },
         "mode": "markers",
         "name": "D",
         "text": "",
         "type": "scatter",
         "x": [
          0.0919618728699051,
          -0.22143263970710958,
          1.6920061692431745,
          0.9431067925271498,
          0.3594422328619513,
          -0.6828184970650549,
          1.3477112305154917,
          -0.25654138522913494,
          -0.5500327799891596,
          -1.6427355514887694,
          0.8197944489201987,
          -0.9823742404275926,
          -0.7023441940871719,
          0.3420492232639261,
          0.3614086599960736,
          0.9320266717072684,
          0.24940799365624342,
          0.13501132347356098,
          1.7227186975205464,
          1.3028028631329955,
          1.4192000853142765,
          -1.4513472584243803,
          0.6653115648991531,
          0.6212126195957125,
          0.5203849348742722,
          1.1441801437913968,
          0.26324331968163056,
          0.14411448089116888,
          -0.24946884808245628,
          1.2004322807572958,
          -1.33371999712701,
          -1.303350385254543,
          -1.1923060843464355,
          0.218272069680675,
          1.1314974608828123,
          -0.5806652098094076,
          0.5057921370378858,
          0.6890842185174422,
          -0.8682418939632968,
          -0.9738931790805747,
          0.3024580947453506,
          0.5930160505461489,
          0.012493704873780407,
          0.06709321932891561,
          -0.11492440065381442,
          0.9745729681361173,
          -1.1762691951987503,
          0.8146389350431569,
          -0.12569002261219556,
          1.0119713501641898,
          -0.6321713722281166,
          0.4574766710618231,
          -0.6102904166172508,
          0.31641789575822027,
          0.9950217584217503,
          2.006296936240135,
          0.08490037596601381,
          0.052925187470997954,
          1.6438045388296836,
          0.2102712935016528,
          1.4467467102795866,
          -0.8757944378763092,
          0.15823619400094852,
          -1.417545673023298,
          -0.3400532293623823,
          1.2437715025007023,
          -0.7731750885178242,
          0.10291850051799534,
          -0.4336142340159738,
          1.5203031258436455,
          -0.034733446097376816,
          0.4410345083863978,
          0.3890827268596237,
          -0.8946559623109902,
          -0.003957006038530615,
          -0.27046157935920223,
          -0.35782137473497466,
          -1.729359505511331,
          1.7627956055760405,
          0.6392822708605644,
          0.5287036645533052,
          0.7950519326971078,
          1.5328580862628476,
          -0.5029302998523506,
          -0.7119366297274415,
          -0.7714058757418685,
          -0.7764735112899486,
          0.15235160520180058,
          0.10887281717687264,
          0.7941989455346967,
          0.4285636061112597,
          0.6190583066282419,
          0.91499081947152,
          -0.2932480122438687,
          -1.7409169425200517,
          2.733416114332795,
          -1.1754447067447311,
          -1.3793296225880705,
          -1.079092341670199,
          -0.7963535324749649
         ],
         "xaxis": "x13",
         "y": [
          1.0150673539653818,
          0.7801797455914745,
          -0.4803927904649368,
          0.6055979848455442,
          1.008786758438709,
          0.023964719652546877,
          -0.34249088232411906,
          -1.5757136841787667,
          -1.2595228196575285,
          1.5479296266426186,
          -1.667891888212835,
          -2.9304707516585533,
          -1.2375725780575295,
          -0.08016118590083993,
          -0.908093799587176,
          1.4262107854511754,
          1.1348372431282665,
          1.7525559804561646,
          -2.2104836006372466,
          -0.7144493819718111,
          0.345186227871036,
          -0.4923342757879569,
          -0.19566336816411614,
          0.5383860212364863,
          -0.7262974683800657,
          0.571457491646246,
          0.40744053585215695,
          -1.4644367633999609,
          0.37677590832931107,
          -0.7797553726140088,
          1.4555215429359187,
          -0.634090861545719,
          -0.13503703689895868,
          0.23922282946463885,
          -0.752849756995442,
          -1.6572083372518116,
          0.2722374988280992,
          -0.9301269524343052,
          -1.3049134458185287,
          -1.0864556357953092,
          -0.5210398084393976,
          -1.2120174320242803,
          -0.49102338758956604,
          1.009452815096525,
          0.08791363844742746,
          0.15825724922493187,
          0.11577812035672147,
          0.3715643270628371,
          3.7543884240576624,
          -0.6052944478302311,
          -0.1057233191798161,
          -1.263792161830712,
          0.40963011032787255,
          -0.31623110375908975,
          -0.906148230957082,
          -1.6795898265689735,
          -0.10452649558706589,
          0.5546020797484007,
          0.39996139495275207,
          0.15442905373088403,
          0.5537410323974221,
          1.443482963625378,
          -0.9292607637673629,
          -0.7803850517054651,
          -0.516535132961495,
          1.2224686540745042,
          -0.9943679282622373,
          -0.4107109809970364,
          0.9893651661469751,
          -0.8308332484795458,
          0.589243504362736,
          -1.8212040247636174,
          -0.48785692626022303,
          0.6760235701657388,
          0.3010632487040836,
          1.2460996350652314,
          -0.3383975356262392,
          -1.03324678467663,
          1.640118425811848,
          1.8021100222559114,
          -0.35153889224171175,
          1.3204298563274208,
          0.34597601293931146,
          -1.032349830563655,
          -0.22306948548415415,
          -1.0613925110075237,
          -1.0934183840406753,
          2.5025672360353175,
          0.5642599570726079,
          1.6406429875583208,
          -1.5621527245615558,
          -1.3018319428684324,
          0.6720889294567994,
          -0.6912888885910656,
          1.083359566279782,
          -0.33688496894435577,
          -0.4095731056501877,
          0.014762255517497424,
          -1.1351676072998083,
          -0.41268142250245066
         ],
         "yaxis": "y13"
        },
        {
         "line": {
          "color": "rgba(128, 128, 128, 1.0)",
          "dash": "solid",
          "shape": "linear",
          "width": 1.3
         },
         "marker": {
          "size": 2,
          "symbol": "circle"
         },
         "mode": "markers",
         "name": "D",
         "text": "",
         "type": "scatter",
         "x": [
          -0.3359057780033205,
          -0.4433704710462687,
          0.3465360831123125,
          0.8803170742782787,
          0.288009036532479,
          1.8591582085492402,
          -0.5036424328286201,
          0.7731816011892556,
          -0.6592022646641865,
          1.1650207389240208,
          2.145286799985949,
          0.38318041888760507,
          0.3605136490201095,
          1.2879110751310086,
          0.3870941307195677,
          0.5175548648554993,
          0.13156406589182484,
          0.43726067978794136,
          -0.12406077464839853,
          -0.1584521578624045,
          1.8481676984545645,
          -0.6320254001344748,
          -0.547989679256849,
          -0.7345036188124198,
          -0.838599962443122,
          0.30565502397333477,
          -0.39286841571607833,
          0.12866234223048006,
          0.6671029123469577,
          -1.6506221833593462,
          0.4216935614574125,
          -1.2122340200334463,
          -0.11983788140959518,
          1.9826944376135154,
          1.3703099502731115,
          -1.2150177014024568,
          -0.9976729947573217,
          1.1507693794007992,
          1.3037737483808534,
          -0.27076012375835345,
          0.3866071574516572,
          -0.5107511196435172,
          -0.9168898492795453,
          1.1144615030404976,
          1.1470375704065499,
          0.1518813789372889,
          1.198620765530093,
          -1.079485781920071,
          0.7055827854010577,
          1.1297159187985248,
          -0.11696308792520638,
          -0.6076790190270548,
          -0.32567795806579464,
          -0.6659287720474008,
          1.0696737724187175,
          -0.161034988424284,
          1.1563498686847156,
          0.3866021466927583,
          0.272581455665236,
          -0.34368289428306015,
          -0.18384618137722683,
          -0.5012580084782411,
          -0.6724838243629148,
          0.7344331694237937,
          2.318770733800961,
          2.323045264573243,
          -0.5608271207087145,
          -1.184389077151462,
          0.008319037423178726,
          -1.096836380779569,
          -0.2424576969197716,
          0.538243146218403,
          -2.142972574782624,
          0.8974097458335817,
          -0.010318194682662218,
          -0.6581154280755355,
          1.522477800055998,
          -0.7579847427823956,
          0.05924636221836566,
          0.2190915527842804,
          -0.4867693553796768,
          0.3388177539269479,
          -0.8709481281967048,
          0.4532732220093141,
          -0.9850390012649825,
          0.06967424292427568,
          0.9013408725699227,
          -0.8889565263236228,
          -1.4953853400201986,
          1.2332004819013818,
          0.29559298373114473,
          0.997658383035107,
          0.18918967408095885,
          -0.051056244413894794,
          0.28797982555864904,
          0.5610032454866385,
          -1.7120942228348124,
          -1.5117097048745491,
          0.832181129054585,
          1.8344712732316908
         ],
         "xaxis": "x14",
         "y": [
          1.0150673539653818,
          0.7801797455914745,
          -0.4803927904649368,
          0.6055979848455442,
          1.008786758438709,
          0.023964719652546877,
          -0.34249088232411906,
          -1.5757136841787667,
          -1.2595228196575285,
          1.5479296266426186,
          -1.667891888212835,
          -2.9304707516585533,
          -1.2375725780575295,
          -0.08016118590083993,
          -0.908093799587176,
          1.4262107854511754,
          1.1348372431282665,
          1.7525559804561646,
          -2.2104836006372466,
          -0.7144493819718111,
          0.345186227871036,
          -0.4923342757879569,
          -0.19566336816411614,
          0.5383860212364863,
          -0.7262974683800657,
          0.571457491646246,
          0.40744053585215695,
          -1.4644367633999609,
          0.37677590832931107,
          -0.7797553726140088,
          1.4555215429359187,
          -0.634090861545719,
          -0.13503703689895868,
          0.23922282946463885,
          -0.752849756995442,
          -1.6572083372518116,
          0.2722374988280992,
          -0.9301269524343052,
          -1.3049134458185287,
          -1.0864556357953092,
          -0.5210398084393976,
          -1.2120174320242803,
          -0.49102338758956604,
          1.009452815096525,
          0.08791363844742746,
          0.15825724922493187,
          0.11577812035672147,
          0.3715643270628371,
          3.7543884240576624,
          -0.6052944478302311,
          -0.1057233191798161,
          -1.263792161830712,
          0.40963011032787255,
          -0.31623110375908975,
          -0.906148230957082,
          -1.6795898265689735,
          -0.10452649558706589,
          0.5546020797484007,
          0.39996139495275207,
          0.15442905373088403,
          0.5537410323974221,
          1.443482963625378,
          -0.9292607637673629,
          -0.7803850517054651,
          -0.516535132961495,
          1.2224686540745042,
          -0.9943679282622373,
          -0.4107109809970364,
          0.9893651661469751,
          -0.8308332484795458,
          0.589243504362736,
          -1.8212040247636174,
          -0.48785692626022303,
          0.6760235701657388,
          0.3010632487040836,
          1.2460996350652314,
          -0.3383975356262392,
          -1.03324678467663,
          1.640118425811848,
          1.8021100222559114,
          -0.35153889224171175,
          1.3204298563274208,
          0.34597601293931146,
          -1.032349830563655,
          -0.22306948548415415,
          -1.0613925110075237,
          -1.0934183840406753,
          2.5025672360353175,
          0.5642599570726079,
          1.6406429875583208,
          -1.5621527245615558,
          -1.3018319428684324,
          0.6720889294567994,
          -0.6912888885910656,
          1.083359566279782,
          -0.33688496894435577,
          -0.4095731056501877,
          0.014762255517497424,
          -1.1351676072998083,
          -0.41268142250245066
         ],
         "yaxis": "y14"
        },
        {
         "line": {
          "color": "rgba(128, 128, 128, 1.0)",
          "dash": "solid",
          "shape": "linear",
          "width": 1.3
         },
         "marker": {
          "size": 2,
          "symbol": "circle"
         },
         "mode": "markers",
         "name": "D",
         "text": "",
         "type": "scatter",
         "x": [
          -1.2532978730908089,
          -1.08728508653962,
          0.2810099897131669,
          0.28572795234952775,
          1.4698772047722144,
          -0.3963659575006133,
          1.1763989990977648,
          -0.8163377973699925,
          1.0060115012509048,
          -0.7138918482215386,
          0.6883261109468227,
          -1.742345100309127,
          0.3936783289548123,
          -0.04079852372677284,
          -1.295204216076111,
          0.37385297373771775,
          0.6157157548283694,
          -0.4849763251667541,
          -0.15343297260882294,
          0.34269138397285814,
          1.194295529137943,
          0.5492398568004113,
          -0.6810296225613278,
          -1.6128892279741904,
          -0.0850969260195267,
          0.7734544387194928,
          -0.2834480250801903,
          -3.4470712470537705,
          0.611533234516993,
          0.1667170044869415,
          -0.1669329080959966,
          -0.23549689119742387,
          1.2513412638668564,
          0.6553322724200078,
          0.2171135753909595,
          0.09898406341847123,
          -0.979710138570761,
          -1.333036917826404,
          0.03755255988192256,
          0.6197517106433479,
          0.923011595410601,
          -0.009300278132760933,
          1.4332594029791803,
          -0.5453631049824771,
          1.382857862039696,
          1.9219429345949208,
          -0.436247679066393,
          -0.8083398005629527,
          -0.8947731295364745,
          -0.4856216476847417,
          1.7298213424634679,
          -0.17946655423496888,
          1.5056216727737806,
          2.002849273124296,
          0.8711995500748396,
          0.626681330577629,
          1.5403534997575812,
          -0.14073729852183495,
          -0.22267895623511597,
          -0.5069809876965274,
          1.978531085289646,
          -1.4649287871044867,
          0.8298006554947647,
          0.56942109535731,
          -1.4523062524639976,
          -0.5542575579380606,
          0.08435547173343336,
          -1.308971621854254,
          0.8691195603073998,
          0.2724056016445801,
          0.1936264520608121,
          -1.361287805977323,
          0.7369084117743792,
          0.40911372288406445,
          0.5885532117384756,
          -0.6381641206733064,
          -0.8547605483606814,
          0.05416171503795708,
          0.970418851559788,
          1.71582873509031,
          1.881987424509346,
          -0.3218196177359385,
          -1.0513356845480373,
          -0.020927458305802216,
          0.11777114036254806,
          -0.3215908580429141,
          -0.2910104372121669,
          0.8528708676012919,
          -0.27045683020222056,
          1.2347122205541794,
          1.1574086023087558,
          -0.6425492043890059,
          1.3121152909783667,
          -0.7380078566402093,
          0.8868862557471037,
          -0.38973722805242755,
          0.43326203497727445,
          0.7367441266770399,
          1.280134260368342,
          -1.0697350133937478
         ],
         "xaxis": "x15",
         "y": [
          1.0150673539653818,
          0.7801797455914745,
          -0.4803927904649368,
          0.6055979848455442,
          1.008786758438709,
          0.023964719652546877,
          -0.34249088232411906,
          -1.5757136841787667,
          -1.2595228196575285,
          1.5479296266426186,
          -1.667891888212835,
          -2.9304707516585533,
          -1.2375725780575295,
          -0.08016118590083993,
          -0.908093799587176,
          1.4262107854511754,
          1.1348372431282665,
          1.7525559804561646,
          -2.2104836006372466,
          -0.7144493819718111,
          0.345186227871036,
          -0.4923342757879569,
          -0.19566336816411614,
          0.5383860212364863,
          -0.7262974683800657,
          0.571457491646246,
          0.40744053585215695,
          -1.4644367633999609,
          0.37677590832931107,
          -0.7797553726140088,
          1.4555215429359187,
          -0.634090861545719,
          -0.13503703689895868,
          0.23922282946463885,
          -0.752849756995442,
          -1.6572083372518116,
          0.2722374988280992,
          -0.9301269524343052,
          -1.3049134458185287,
          -1.0864556357953092,
          -0.5210398084393976,
          -1.2120174320242803,
          -0.49102338758956604,
          1.009452815096525,
          0.08791363844742746,
          0.15825724922493187,
          0.11577812035672147,
          0.3715643270628371,
          3.7543884240576624,
          -0.6052944478302311,
          -0.1057233191798161,
          -1.263792161830712,
          0.40963011032787255,
          -0.31623110375908975,
          -0.906148230957082,
          -1.6795898265689735,
          -0.10452649558706589,
          0.5546020797484007,
          0.39996139495275207,
          0.15442905373088403,
          0.5537410323974221,
          1.443482963625378,
          -0.9292607637673629,
          -0.7803850517054651,
          -0.516535132961495,
          1.2224686540745042,
          -0.9943679282622373,
          -0.4107109809970364,
          0.9893651661469751,
          -0.8308332484795458,
          0.589243504362736,
          -1.8212040247636174,
          -0.48785692626022303,
          0.6760235701657388,
          0.3010632487040836,
          1.2460996350652314,
          -0.3383975356262392,
          -1.03324678467663,
          1.640118425811848,
          1.8021100222559114,
          -0.35153889224171175,
          1.3204298563274208,
          0.34597601293931146,
          -1.032349830563655,
          -0.22306948548415415,
          -1.0613925110075237,
          -1.0934183840406753,
          2.5025672360353175,
          0.5642599570726079,
          1.6406429875583208,
          -1.5621527245615558,
          -1.3018319428684324,
          0.6720889294567994,
          -0.6912888885910656,
          1.083359566279782,
          -0.33688496894435577,
          -0.4095731056501877,
          0.014762255517497424,
          -1.1351676072998083,
          -0.41268142250245066
         ],
         "yaxis": "y15"
        },
        {
         "histfunc": "count",
         "histnorm": "",
         "marker": {
          "color": "rgba(128, 0, 128, 1.0)",
          "line": {
           "color": "#4D5663",
           "width": 1.3
          }
         },
         "name": "D",
         "nbinsx": 10,
         "opacity": 0.8,
         "orientation": "v",
         "type": "histogram",
         "x": [
          1.0150673539653818,
          0.7801797455914745,
          -0.4803927904649368,
          0.6055979848455442,
          1.008786758438709,
          0.023964719652546877,
          -0.34249088232411906,
          -1.5757136841787667,
          -1.2595228196575285,
          1.5479296266426186,
          -1.667891888212835,
          -2.9304707516585533,
          -1.2375725780575295,
          -0.08016118590083993,
          -0.908093799587176,
          1.4262107854511754,
          1.1348372431282665,
          1.7525559804561646,
          -2.2104836006372466,
          -0.7144493819718111,
          0.345186227871036,
          -0.4923342757879569,
          -0.19566336816411614,
          0.5383860212364863,
          -0.7262974683800657,
          0.571457491646246,
          0.40744053585215695,
          -1.4644367633999609,
          0.37677590832931107,
          -0.7797553726140088,
          1.4555215429359187,
          -0.634090861545719,
          -0.13503703689895868,
          0.23922282946463885,
          -0.752849756995442,
          -1.6572083372518116,
          0.2722374988280992,
          -0.9301269524343052,
          -1.3049134458185287,
          -1.0864556357953092,
          -0.5210398084393976,
          -1.2120174320242803,
          -0.49102338758956604,
          1.009452815096525,
          0.08791363844742746,
          0.15825724922493187,
          0.11577812035672147,
          0.3715643270628371,
          3.7543884240576624,
          -0.6052944478302311,
          -0.1057233191798161,
          -1.263792161830712,
          0.40963011032787255,
          -0.31623110375908975,
          -0.906148230957082,
          -1.6795898265689735,
          -0.10452649558706589,
          0.5546020797484007,
          0.39996139495275207,
          0.15442905373088403,
          0.5537410323974221,
          1.443482963625378,
          -0.9292607637673629,
          -0.7803850517054651,
          -0.516535132961495,
          1.2224686540745042,
          -0.9943679282622373,
          -0.4107109809970364,
          0.9893651661469751,
          -0.8308332484795458,
          0.589243504362736,
          -1.8212040247636174,
          -0.48785692626022303,
          0.6760235701657388,
          0.3010632487040836,
          1.2460996350652314,
          -0.3383975356262392,
          -1.03324678467663,
          1.640118425811848,
          1.8021100222559114,
          -0.35153889224171175,
          1.3204298563274208,
          0.34597601293931146,
          -1.032349830563655,
          -0.22306948548415415,
          -1.0613925110075237,
          -1.0934183840406753,
          2.5025672360353175,
          0.5642599570726079,
          1.6406429875583208,
          -1.5621527245615558,
          -1.3018319428684324,
          0.6720889294567994,
          -0.6912888885910656,
          1.083359566279782,
          -0.33688496894435577,
          -0.4095731056501877,
          0.014762255517497424,
          -1.1351676072998083,
          -0.41268142250245066
         ],
         "xaxis": "x16",
         "yaxis": "y16"
        }
       ],
       "layout": {
        "bargap": 0.02,
        "legend": {
         "bgcolor": "#F5F6F9",
         "font": {
          "color": "#4D5663"
         }
        },
        "paper_bgcolor": "#F5F6F9",
        "plot_bgcolor": "#F5F6F9",
        "showlegend": false,
        "template": {
         "data": {
          "bar": [
           {
            "error_x": {
             "color": "#2a3f5f"
            },
            "error_y": {
             "color": "#2a3f5f"
            },
            "marker": {
             "line": {
              "color": "#E5ECF6",
              "width": 0.5
             }
            },
            "type": "bar"
           }
          ],
          "barpolar": [
           {
            "marker": {
             "line": {
              "color": "#E5ECF6",
              "width": 0.5
             }
            },
            "type": "barpolar"
           }
          ],
          "carpet": [
           {
            "aaxis": {
             "endlinecolor": "#2a3f5f",
             "gridcolor": "white",
             "linecolor": "white",
             "minorgridcolor": "white",
             "startlinecolor": "#2a3f5f"
            },
            "baxis": {
             "endlinecolor": "#2a3f5f",
             "gridcolor": "white",
             "linecolor": "white",
             "minorgridcolor": "white",
             "startlinecolor": "#2a3f5f"
            },
            "type": "carpet"
           }
          ],
          "choropleth": [
           {
            "colorbar": {
             "outlinewidth": 0,
             "ticks": ""
            },
            "type": "choropleth"
           }
          ],
          "contour": [
           {
            "colorbar": {
             "outlinewidth": 0,
             "ticks": ""
            },
            "colorscale": [
             [
              0,
              "#0d0887"
             ],
             [
              0.1111111111111111,
              "#46039f"
             ],
             [
              0.2222222222222222,
              "#7201a8"
             ],
             [
              0.3333333333333333,
              "#9c179e"
             ],
             [
              0.4444444444444444,
              "#bd3786"
             ],
             [
              0.5555555555555556,
              "#d8576b"
             ],
             [
              0.6666666666666666,
              "#ed7953"
             ],
             [
              0.7777777777777778,
              "#fb9f3a"
             ],
             [
              0.8888888888888888,
              "#fdca26"
             ],
             [
              1,
              "#f0f921"
             ]
            ],
            "type": "contour"
           }
          ],
          "contourcarpet": [
           {
            "colorbar": {
             "outlinewidth": 0,
             "ticks": ""
            },
            "type": "contourcarpet"
           }
          ],
          "heatmap": [
           {
            "colorbar": {
             "outlinewidth": 0,
             "ticks": ""
            },
            "colorscale": [
             [
              0,
              "#0d0887"
             ],
             [
              0.1111111111111111,
              "#46039f"
             ],
             [
              0.2222222222222222,
              "#7201a8"
             ],
             [
              0.3333333333333333,
              "#9c179e"
             ],
             [
              0.4444444444444444,
              "#bd3786"
             ],
             [
              0.5555555555555556,
              "#d8576b"
             ],
             [
              0.6666666666666666,
              "#ed7953"
             ],
             [
              0.7777777777777778,
              "#fb9f3a"
             ],
             [
              0.8888888888888888,
              "#fdca26"
             ],
             [
              1,
              "#f0f921"
             ]
            ],
            "type": "heatmap"
           }
          ],
          "heatmapgl": [
           {
            "colorbar": {
             "outlinewidth": 0,
             "ticks": ""
            },
            "colorscale": [
             [
              0,
              "#0d0887"
             ],
             [
              0.1111111111111111,
              "#46039f"
             ],
             [
              0.2222222222222222,
              "#7201a8"
             ],
             [
              0.3333333333333333,
              "#9c179e"
             ],
             [
              0.4444444444444444,
              "#bd3786"
             ],
             [
              0.5555555555555556,
              "#d8576b"
             ],
             [
              0.6666666666666666,
              "#ed7953"
             ],
             [
              0.7777777777777778,
              "#fb9f3a"
             ],
             [
              0.8888888888888888,
              "#fdca26"
             ],
             [
              1,
              "#f0f921"
             ]
            ],
            "type": "heatmapgl"
           }
          ],
          "histogram": [
           {
            "marker": {
             "colorbar": {
              "outlinewidth": 0,
              "ticks": ""
             }
            },
            "type": "histogram"
           }
          ],
          "histogram2d": [
           {
            "colorbar": {
             "outlinewidth": 0,
             "ticks": ""
            },
            "colorscale": [
             [
              0,
              "#0d0887"
             ],
             [
              0.1111111111111111,
              "#46039f"
             ],
             [
              0.2222222222222222,
              "#7201a8"
             ],
             [
              0.3333333333333333,
              "#9c179e"
             ],
             [
              0.4444444444444444,
              "#bd3786"
             ],
             [
              0.5555555555555556,
              "#d8576b"
             ],
             [
              0.6666666666666666,
              "#ed7953"
             ],
             [
              0.7777777777777778,
              "#fb9f3a"
             ],
             [
              0.8888888888888888,
              "#fdca26"
             ],
             [
              1,
              "#f0f921"
             ]
            ],
            "type": "histogram2d"
           }
          ],
          "histogram2dcontour": [
           {
            "colorbar": {
             "outlinewidth": 0,
             "ticks": ""
            },
            "colorscale": [
             [
              0,
              "#0d0887"
             ],
             [
              0.1111111111111111,
              "#46039f"
             ],
             [
              0.2222222222222222,
              "#7201a8"
             ],
             [
              0.3333333333333333,
              "#9c179e"
             ],
             [
              0.4444444444444444,
              "#bd3786"
             ],
             [
              0.5555555555555556,
              "#d8576b"
             ],
             [
              0.6666666666666666,
              "#ed7953"
             ],
             [
              0.7777777777777778,
              "#fb9f3a"
             ],
             [
              0.8888888888888888,
              "#fdca26"
             ],
             [
              1,
              "#f0f921"
             ]
            ],
            "type": "histogram2dcontour"
           }
          ],
          "mesh3d": [
           {
            "colorbar": {
             "outlinewidth": 0,
             "ticks": ""
            },
            "type": "mesh3d"
           }
          ],
          "parcoords": [
           {
            "line": {
             "colorbar": {
              "outlinewidth": 0,
              "ticks": ""
             }
            },
            "type": "parcoords"
           }
          ],
          "pie": [
           {
            "automargin": true,
            "type": "pie"
           }
          ],
          "scatter": [
           {
            "marker": {
             "colorbar": {
              "outlinewidth": 0,
              "ticks": ""
             }
            },
            "type": "scatter"
           }
          ],
          "scatter3d": [
           {
            "line": {
             "colorbar": {
              "outlinewidth": 0,
              "ticks": ""
             }
            },
            "marker": {
             "colorbar": {
              "outlinewidth": 0,
              "ticks": ""
             }
            },
            "type": "scatter3d"
           }
          ],
          "scattercarpet": [
           {
            "marker": {
             "colorbar": {
              "outlinewidth": 0,
              "ticks": ""
             }
            },
            "type": "scattercarpet"
           }
          ],
          "scattergeo": [
           {
            "marker": {
             "colorbar": {
              "outlinewidth": 0,
              "ticks": ""
             }
            },
            "type": "scattergeo"
           }
          ],
          "scattergl": [
           {
            "marker": {
             "colorbar": {
              "outlinewidth": 0,
              "ticks": ""
             }
            },
            "type": "scattergl"
           }
          ],
          "scattermapbox": [
           {
            "marker": {
             "colorbar": {
              "outlinewidth": 0,
              "ticks": ""
             }
            },
            "type": "scattermapbox"
           }
          ],
          "scatterpolar": [
           {
            "marker": {
             "colorbar": {
              "outlinewidth": 0,
              "ticks": ""
             }
            },
            "type": "scatterpolar"
           }
          ],
          "scatterpolargl": [
           {
            "marker": {
             "colorbar": {
              "outlinewidth": 0,
              "ticks": ""
             }
            },
            "type": "scatterpolargl"
           }
          ],
          "scatterternary": [
           {
            "marker": {
             "colorbar": {
              "outlinewidth": 0,
              "ticks": ""
             }
            },
            "type": "scatterternary"
           }
          ],
          "surface": [
           {
            "colorbar": {
             "outlinewidth": 0,
             "ticks": ""
            },
            "colorscale": [
             [
              0,
              "#0d0887"
             ],
             [
              0.1111111111111111,
              "#46039f"
             ],
             [
              0.2222222222222222,
              "#7201a8"
             ],
             [
              0.3333333333333333,
              "#9c179e"
             ],
             [
              0.4444444444444444,
              "#bd3786"
             ],
             [
              0.5555555555555556,
              "#d8576b"
             ],
             [
              0.6666666666666666,
              "#ed7953"
             ],
             [
              0.7777777777777778,
              "#fb9f3a"
             ],
             [
              0.8888888888888888,
              "#fdca26"
             ],
             [
              1,
              "#f0f921"
             ]
            ],
            "type": "surface"
           }
          ],
          "table": [
           {
            "cells": {
             "fill": {
              "color": "#EBF0F8"
             },
             "line": {
              "color": "white"
             }
            },
            "header": {
             "fill": {
              "color": "#C8D4E3"
             },
             "line": {
              "color": "white"
             }
            },
            "type": "table"
           }
          ]
         },
         "layout": {
          "annotationdefaults": {
           "arrowcolor": "#2a3f5f",
           "arrowhead": 0,
           "arrowwidth": 1
          },
          "coloraxis": {
           "colorbar": {
            "outlinewidth": 0,
            "ticks": ""
           }
          },
          "colorscale": {
           "diverging": [
            [
             0,
             "#8e0152"
            ],
            [
             0.1,
             "#c51b7d"
            ],
            [
             0.2,
             "#de77ae"
            ],
            [
             0.3,
             "#f1b6da"
            ],
            [
             0.4,
             "#fde0ef"
            ],
            [
             0.5,
             "#f7f7f7"
            ],
            [
             0.6,
             "#e6f5d0"
            ],
            [
             0.7,
             "#b8e186"
            ],
            [
             0.8,
             "#7fbc41"
            ],
            [
             0.9,
             "#4d9221"
            ],
            [
             1,
             "#276419"
            ]
           ],
           "sequential": [
            [
             0,
             "#0d0887"
            ],
            [
             0.1111111111111111,
             "#46039f"
            ],
            [
             0.2222222222222222,
             "#7201a8"
            ],
            [
             0.3333333333333333,
             "#9c179e"
            ],
            [
             0.4444444444444444,
             "#bd3786"
            ],
            [
             0.5555555555555556,
             "#d8576b"
            ],
            [
             0.6666666666666666,
             "#ed7953"
            ],
            [
             0.7777777777777778,
             "#fb9f3a"
            ],
            [
             0.8888888888888888,
             "#fdca26"
            ],
            [
             1,
             "#f0f921"
            ]
           ],
           "sequentialminus": [
            [
             0,
             "#0d0887"
            ],
            [
             0.1111111111111111,
             "#46039f"
            ],
            [
             0.2222222222222222,
             "#7201a8"
            ],
            [
             0.3333333333333333,
             "#9c179e"
            ],
            [
             0.4444444444444444,
             "#bd3786"
            ],
            [
             0.5555555555555556,
             "#d8576b"
            ],
            [
             0.6666666666666666,
             "#ed7953"
            ],
            [
             0.7777777777777778,
             "#fb9f3a"
            ],
            [
             0.8888888888888888,
             "#fdca26"
            ],
            [
             1,
             "#f0f921"
            ]
           ]
          },
          "colorway": [
           "#636efa",
           "#EF553B",
           "#00cc96",
           "#ab63fa",
           "#FFA15A",
           "#19d3f3",
           "#FF6692",
           "#B6E880",
           "#FF97FF",
           "#FECB52"
          ],
          "font": {
           "color": "#2a3f5f"
          },
          "geo": {
           "bgcolor": "white",
           "lakecolor": "white",
           "landcolor": "#E5ECF6",
           "showlakes": true,
           "showland": true,
           "subunitcolor": "white"
          },
          "hoverlabel": {
           "align": "left"
          },
          "hovermode": "closest",
          "mapbox": {
           "style": "light"
          },
          "paper_bgcolor": "white",
          "plot_bgcolor": "#E5ECF6",
          "polar": {
           "angularaxis": {
            "gridcolor": "white",
            "linecolor": "white",
            "ticks": ""
           },
           "bgcolor": "#E5ECF6",
           "radialaxis": {
            "gridcolor": "white",
            "linecolor": "white",
            "ticks": ""
           }
          },
          "scene": {
           "xaxis": {
            "backgroundcolor": "#E5ECF6",
            "gridcolor": "white",
            "gridwidth": 2,
            "linecolor": "white",
            "showbackground": true,
            "ticks": "",
            "zerolinecolor": "white"
           },
           "yaxis": {
            "backgroundcolor": "#E5ECF6",
            "gridcolor": "white",
            "gridwidth": 2,
            "linecolor": "white",
            "showbackground": true,
            "ticks": "",
            "zerolinecolor": "white"
           },
           "zaxis": {
            "backgroundcolor": "#E5ECF6",
            "gridcolor": "white",
            "gridwidth": 2,
            "linecolor": "white",
            "showbackground": true,
            "ticks": "",
            "zerolinecolor": "white"
           }
          },
          "shapedefaults": {
           "line": {
            "color": "#2a3f5f"
           }
          },
          "ternary": {
           "aaxis": {
            "gridcolor": "white",
            "linecolor": "white",
            "ticks": ""
           },
           "baxis": {
            "gridcolor": "white",
            "linecolor": "white",
            "ticks": ""
           },
           "bgcolor": "#E5ECF6",
           "caxis": {
            "gridcolor": "white",
            "linecolor": "white",
            "ticks": ""
           }
          },
          "title": {
           "x": 0.05
          },
          "xaxis": {
           "automargin": true,
           "gridcolor": "white",
           "linecolor": "white",
           "ticks": "",
           "title": {
            "standoff": 15
           },
           "zerolinecolor": "white",
           "zerolinewidth": 2
          },
          "yaxis": {
           "automargin": true,
           "gridcolor": "white",
           "linecolor": "white",
           "ticks": "",
           "title": {
            "standoff": 15
           },
           "zerolinecolor": "white",
           "zerolinewidth": 2
          }
         }
        },
        "title": {
         "font": {
          "color": "#4D5663"
         }
        },
        "xaxis": {
         "anchor": "y",
         "domain": [
          0,
          0.2125
         ],
         "gridcolor": "#E1E5ED",
         "showgrid": false,
         "tickfont": {
          "color": "#4D5663"
         },
         "title": {
          "font": {
           "color": "#4D5663"
          },
          "text": ""
         },
         "zerolinecolor": "#E1E5ED"
        },
        "xaxis10": {
         "anchor": "y10",
         "domain": [
          0.2625,
          0.475
         ],
         "gridcolor": "#E1E5ED",
         "showgrid": false,
         "tickfont": {
          "color": "#4D5663"
         },
         "title": {
          "font": {
           "color": "#4D5663"
          },
          "text": ""
         },
         "zerolinecolor": "#E1E5ED"
        },
        "xaxis11": {
         "anchor": "y11",
         "domain": [
          0.525,
          0.7375
         ],
         "gridcolor": "#E1E5ED",
         "showgrid": false,
         "tickfont": {
          "color": "#4D5663"
         },
         "title": {
          "font": {
           "color": "#4D5663"
          },
          "text": ""
         },
         "zerolinecolor": "#E1E5ED"
        },
        "xaxis12": {
         "anchor": "y12",
         "domain": [
          0.7875,
          1
         ],
         "gridcolor": "#E1E5ED",
         "showgrid": false,
         "tickfont": {
          "color": "#4D5663"
         },
         "title": {
          "font": {
           "color": "#4D5663"
          },
          "text": ""
         },
         "zerolinecolor": "#E1E5ED"
        },
        "xaxis13": {
         "anchor": "y13",
         "domain": [
          0,
          0.2125
         ],
         "gridcolor": "#E1E5ED",
         "showgrid": false,
         "tickfont": {
          "color": "#4D5663"
         },
         "title": {
          "font": {
           "color": "#4D5663"
          },
          "text": ""
         },
         "zerolinecolor": "#E1E5ED"
        },
        "xaxis14": {
         "anchor": "y14",
         "domain": [
          0.2625,
          0.475
         ],
         "gridcolor": "#E1E5ED",
         "showgrid": false,
         "tickfont": {
          "color": "#4D5663"
         },
         "title": {
          "font": {
           "color": "#4D5663"
          },
          "text": ""
         },
         "zerolinecolor": "#E1E5ED"
        },
        "xaxis15": {
         "anchor": "y15",
         "domain": [
          0.525,
          0.7375
         ],
         "gridcolor": "#E1E5ED",
         "showgrid": false,
         "tickfont": {
          "color": "#4D5663"
         },
         "title": {
          "font": {
           "color": "#4D5663"
          },
          "text": ""
         },
         "zerolinecolor": "#E1E5ED"
        },
        "xaxis16": {
         "anchor": "y16",
         "domain": [
          0.7875,
          1
         ],
         "gridcolor": "#E1E5ED",
         "showgrid": false,
         "tickfont": {
          "color": "#4D5663"
         },
         "title": {
          "font": {
           "color": "#4D5663"
          },
          "text": ""
         },
         "zerolinecolor": "#E1E5ED"
        },
        "xaxis2": {
         "anchor": "y2",
         "domain": [
          0.2625,
          0.475
         ],
         "gridcolor": "#E1E5ED",
         "showgrid": false,
         "tickfont": {
          "color": "#4D5663"
         },
         "title": {
          "font": {
           "color": "#4D5663"
          },
          "text": ""
         },
         "zerolinecolor": "#E1E5ED"
        },
        "xaxis3": {
         "anchor": "y3",
         "domain": [
          0.525,
          0.7375
         ],
         "gridcolor": "#E1E5ED",
         "showgrid": false,
         "tickfont": {
          "color": "#4D5663"
         },
         "title": {
          "font": {
           "color": "#4D5663"
          },
          "text": ""
         },
         "zerolinecolor": "#E1E5ED"
        },
        "xaxis4": {
         "anchor": "y4",
         "domain": [
          0.7875,
          1
         ],
         "gridcolor": "#E1E5ED",
         "showgrid": false,
         "tickfont": {
          "color": "#4D5663"
         },
         "title": {
          "font": {
           "color": "#4D5663"
          },
          "text": ""
         },
         "zerolinecolor": "#E1E5ED"
        },
        "xaxis5": {
         "anchor": "y5",
         "domain": [
          0,
          0.2125
         ],
         "gridcolor": "#E1E5ED",
         "showgrid": false,
         "tickfont": {
          "color": "#4D5663"
         },
         "title": {
          "font": {
           "color": "#4D5663"
          },
          "text": ""
         },
         "zerolinecolor": "#E1E5ED"
        },
        "xaxis6": {
         "anchor": "y6",
         "domain": [
          0.2625,
          0.475
         ],
         "gridcolor": "#E1E5ED",
         "showgrid": false,
         "tickfont": {
          "color": "#4D5663"
         },
         "title": {
          "font": {
           "color": "#4D5663"
          },
          "text": ""
         },
         "zerolinecolor": "#E1E5ED"
        },
        "xaxis7": {
         "anchor": "y7",
         "domain": [
          0.525,
          0.7375
         ],
         "gridcolor": "#E1E5ED",
         "showgrid": false,
         "tickfont": {
          "color": "#4D5663"
         },
         "title": {
          "font": {
           "color": "#4D5663"
          },
          "text": ""
         },
         "zerolinecolor": "#E1E5ED"
        },
        "xaxis8": {
         "anchor": "y8",
         "domain": [
          0.7875,
          1
         ],
         "gridcolor": "#E1E5ED",
         "showgrid": false,
         "tickfont": {
          "color": "#4D5663"
         },
         "title": {
          "font": {
           "color": "#4D5663"
          },
          "text": ""
         },
         "zerolinecolor": "#E1E5ED"
        },
        "xaxis9": {
         "anchor": "y9",
         "domain": [
          0,
          0.2125
         ],
         "gridcolor": "#E1E5ED",
         "showgrid": false,
         "tickfont": {
          "color": "#4D5663"
         },
         "title": {
          "font": {
           "color": "#4D5663"
          },
          "text": ""
         },
         "zerolinecolor": "#E1E5ED"
        },
        "yaxis": {
         "anchor": "x",
         "domain": [
          0.8025,
          1
         ],
         "gridcolor": "#E1E5ED",
         "showgrid": false,
         "tickfont": {
          "color": "#4D5663"
         },
         "title": {
          "font": {
           "color": "#4D5663"
          },
          "text": ""
         },
         "zerolinecolor": "#E1E5ED"
        },
        "yaxis10": {
         "anchor": "x10",
         "domain": [
          0.2675,
          0.465
         ],
         "gridcolor": "#E1E5ED",
         "showgrid": false,
         "tickfont": {
          "color": "#4D5663"
         },
         "title": {
          "font": {
           "color": "#4D5663"
          },
          "text": ""
         },
         "zerolinecolor": "#E1E5ED"
        },
        "yaxis11": {
         "anchor": "x11",
         "domain": [
          0.2675,
          0.465
         ],
         "gridcolor": "#E1E5ED",
         "showgrid": false,
         "tickfont": {
          "color": "#4D5663"
         },
         "title": {
          "font": {
           "color": "#4D5663"
          },
          "text": ""
         },
         "zerolinecolor": "#E1E5ED"
        },
        "yaxis12": {
         "anchor": "x12",
         "domain": [
          0.2675,
          0.465
         ],
         "gridcolor": "#E1E5ED",
         "showgrid": false,
         "tickfont": {
          "color": "#4D5663"
         },
         "title": {
          "font": {
           "color": "#4D5663"
          },
          "text": ""
         },
         "zerolinecolor": "#E1E5ED"
        },
        "yaxis13": {
         "anchor": "x13",
         "domain": [
          0,
          0.1975
         ],
         "gridcolor": "#E1E5ED",
         "showgrid": false,
         "tickfont": {
          "color": "#4D5663"
         },
         "title": {
          "font": {
           "color": "#4D5663"
          },
          "text": ""
         },
         "zerolinecolor": "#E1E5ED"
        },
        "yaxis14": {
         "anchor": "x14",
         "domain": [
          0,
          0.1975
         ],
         "gridcolor": "#E1E5ED",
         "showgrid": false,
         "tickfont": {
          "color": "#4D5663"
         },
         "title": {
          "font": {
           "color": "#4D5663"
          },
          "text": ""
         },
         "zerolinecolor": "#E1E5ED"
        },
        "yaxis15": {
         "anchor": "x15",
         "domain": [
          0,
          0.1975
         ],
         "gridcolor": "#E1E5ED",
         "showgrid": false,
         "tickfont": {
          "color": "#4D5663"
         },
         "title": {
          "font": {
           "color": "#4D5663"
          },
          "text": ""
         },
         "zerolinecolor": "#E1E5ED"
        },
        "yaxis16": {
         "anchor": "x16",
         "domain": [
          0,
          0.1975
         ],
         "gridcolor": "#E1E5ED",
         "showgrid": false,
         "tickfont": {
          "color": "#4D5663"
         },
         "title": {
          "font": {
           "color": "#4D5663"
          },
          "text": ""
         },
         "zerolinecolor": "#E1E5ED"
        },
        "yaxis2": {
         "anchor": "x2",
         "domain": [
          0.8025,
          1
         ],
         "gridcolor": "#E1E5ED",
         "showgrid": false,
         "tickfont": {
          "color": "#4D5663"
         },
         "title": {
          "font": {
           "color": "#4D5663"
          },
          "text": ""
         },
         "zerolinecolor": "#E1E5ED"
        },
        "yaxis3": {
         "anchor": "x3",
         "domain": [
          0.8025,
          1
         ],
         "gridcolor": "#E1E5ED",
         "showgrid": false,
         "tickfont": {
          "color": "#4D5663"
         },
         "title": {
          "font": {
           "color": "#4D5663"
          },
          "text": ""
         },
         "zerolinecolor": "#E1E5ED"
        },
        "yaxis4": {
         "anchor": "x4",
         "domain": [
          0.8025,
          1
         ],
         "gridcolor": "#E1E5ED",
         "showgrid": false,
         "tickfont": {
          "color": "#4D5663"
         },
         "title": {
          "font": {
           "color": "#4D5663"
          },
          "text": ""
         },
         "zerolinecolor": "#E1E5ED"
        },
        "yaxis5": {
         "anchor": "x5",
         "domain": [
          0.535,
          0.7325
         ],
         "gridcolor": "#E1E5ED",
         "showgrid": false,
         "tickfont": {
          "color": "#4D5663"
         },
         "title": {
          "font": {
           "color": "#4D5663"
          },
          "text": ""
         },
         "zerolinecolor": "#E1E5ED"
        },
        "yaxis6": {
         "anchor": "x6",
         "domain": [
          0.535,
          0.7325
         ],
         "gridcolor": "#E1E5ED",
         "showgrid": false,
         "tickfont": {
          "color": "#4D5663"
         },
         "title": {
          "font": {
           "color": "#4D5663"
          },
          "text": ""
         },
         "zerolinecolor": "#E1E5ED"
        },
        "yaxis7": {
         "anchor": "x7",
         "domain": [
          0.535,
          0.7325
         ],
         "gridcolor": "#E1E5ED",
         "showgrid": false,
         "tickfont": {
          "color": "#4D5663"
         },
         "title": {
          "font": {
           "color": "#4D5663"
          },
          "text": ""
         },
         "zerolinecolor": "#E1E5ED"
        },
        "yaxis8": {
         "anchor": "x8",
         "domain": [
          0.535,
          0.7325
         ],
         "gridcolor": "#E1E5ED",
         "showgrid": false,
         "tickfont": {
          "color": "#4D5663"
         },
         "title": {
          "font": {
           "color": "#4D5663"
          },
          "text": ""
         },
         "zerolinecolor": "#E1E5ED"
        },
        "yaxis9": {
         "anchor": "x9",
         "domain": [
          0.2675,
          0.465
         ],
         "gridcolor": "#E1E5ED",
         "showgrid": false,
         "tickfont": {
          "color": "#4D5663"
         },
         "title": {
          "font": {
           "color": "#4D5663"
          },
          "text": ""
         },
         "zerolinecolor": "#E1E5ED"
        }
       }
      },
      "text/html": [
       "<div>\n",
       "        \n",
       "        \n",
       "            <div id=\"bc7a4c24-a8e0-434e-9d2a-21bb3cffd43f\" class=\"plotly-graph-div\" style=\"height:525px; width:100%;\"></div>\n",
       "            <script type=\"text/javascript\">\n",
       "                require([\"plotly\"], function(Plotly) {\n",
       "                    window.PLOTLYENV=window.PLOTLYENV || {};\n",
       "                    window.PLOTLYENV.BASE_URL='https://plot.ly';\n",
       "                    \n",
       "                if (document.getElementById(\"bc7a4c24-a8e0-434e-9d2a-21bb3cffd43f\")) {\n",
       "                    Plotly.newPlot(\n",
       "                        'bc7a4c24-a8e0-434e-9d2a-21bb3cffd43f',\n",
       "                        [{\"histfunc\": \"count\", \"histnorm\": \"\", \"marker\": {\"color\": \"rgba(255, 153, 51, 1.0)\", \"line\": {\"color\": \"#4D5663\", \"width\": 1.3}}, \"name\": \"A\", \"nbinsx\": 10, \"opacity\": 0.8, \"orientation\": \"v\", \"type\": \"histogram\", \"x\": [0.0919618728699051, -0.22143263970710958, 1.6920061692431745, 0.9431067925271498, 0.3594422328619513, -0.6828184970650549, 1.3477112305154917, -0.25654138522913494, -0.5500327799891596, -1.6427355514887694, 0.8197944489201987, -0.9823742404275926, -0.7023441940871719, 0.3420492232639261, 0.3614086599960736, 0.9320266717072684, 0.24940799365624342, 0.13501132347356098, 1.7227186975205464, 1.3028028631329955, 1.4192000853142765, -1.4513472584243803, 0.6653115648991531, 0.6212126195957125, 0.5203849348742722, 1.1441801437913968, 0.26324331968163056, 0.14411448089116888, -0.24946884808245628, 1.2004322807572958, -1.33371999712701, -1.303350385254543, -1.1923060843464355, 0.218272069680675, 1.1314974608828123, -0.5806652098094076, 0.5057921370378858, 0.6890842185174422, -0.8682418939632968, -0.9738931790805747, 0.3024580947453506, 0.5930160505461489, 0.012493704873780407, 0.06709321932891561, -0.11492440065381442, 0.9745729681361173, -1.1762691951987503, 0.8146389350431569, -0.12569002261219556, 1.0119713501641898, -0.6321713722281166, 0.4574766710618231, -0.6102904166172508, 0.31641789575822027, 0.9950217584217503, 2.006296936240135, 0.08490037596601381, 0.052925187470997954, 1.6438045388296836, 0.2102712935016528, 1.4467467102795866, -0.8757944378763092, 0.15823619400094852, -1.417545673023298, -0.3400532293623823, 1.2437715025007023, -0.7731750885178242, 0.10291850051799534, -0.4336142340159738, 1.5203031258436455, -0.034733446097376816, 0.4410345083863978, 0.3890827268596237, -0.8946559623109902, -0.003957006038530615, -0.27046157935920223, -0.35782137473497466, -1.729359505511331, 1.7627956055760405, 0.6392822708605644, 0.5287036645533052, 0.7950519326971078, 1.5328580862628476, -0.5029302998523506, -0.7119366297274415, -0.7714058757418685, -0.7764735112899486, 0.15235160520180058, 0.10887281717687264, 0.7941989455346967, 0.4285636061112597, 0.6190583066282419, 0.91499081947152, -0.2932480122438687, -1.7409169425200517, 2.733416114332795, -1.1754447067447311, -1.3793296225880705, -1.079092341670199, -0.7963535324749649], \"xaxis\": \"x\", \"yaxis\": \"y\"}, {\"line\": {\"color\": \"rgba(128, 128, 128, 1.0)\", \"dash\": \"solid\", \"shape\": \"linear\", \"width\": 1.3}, \"marker\": {\"size\": 2, \"symbol\": \"circle\"}, \"mode\": \"markers\", \"name\": \"A\", \"text\": \"\", \"type\": \"scatter\", \"x\": [-0.3359057780033205, -0.4433704710462687, 0.3465360831123125, 0.8803170742782787, 0.288009036532479, 1.8591582085492402, -0.5036424328286201, 0.7731816011892556, -0.6592022646641865, 1.1650207389240208, 2.145286799985949, 0.38318041888760507, 0.3605136490201095, 1.2879110751310086, 0.3870941307195677, 0.5175548648554993, 0.13156406589182484, 0.43726067978794136, -0.12406077464839853, -0.1584521578624045, 1.8481676984545645, -0.6320254001344748, -0.547989679256849, -0.7345036188124198, -0.838599962443122, 0.30565502397333477, -0.39286841571607833, 0.12866234223048006, 0.6671029123469577, -1.6506221833593462, 0.4216935614574125, -1.2122340200334463, -0.11983788140959518, 1.9826944376135154, 1.3703099502731115, -1.2150177014024568, -0.9976729947573217, 1.1507693794007992, 1.3037737483808534, -0.27076012375835345, 0.3866071574516572, -0.5107511196435172, -0.9168898492795453, 1.1144615030404976, 1.1470375704065499, 0.1518813789372889, 1.198620765530093, -1.079485781920071, 0.7055827854010577, 1.1297159187985248, -0.11696308792520638, -0.6076790190270548, -0.32567795806579464, -0.6659287720474008, 1.0696737724187175, -0.161034988424284, 1.1563498686847156, 0.3866021466927583, 0.272581455665236, -0.34368289428306015, -0.18384618137722683, -0.5012580084782411, -0.6724838243629148, 0.7344331694237937, 2.318770733800961, 2.323045264573243, -0.5608271207087145, -1.184389077151462, 0.008319037423178726, -1.096836380779569, -0.2424576969197716, 0.538243146218403, -2.142972574782624, 0.8974097458335817, -0.010318194682662218, -0.6581154280755355, 1.522477800055998, -0.7579847427823956, 0.05924636221836566, 0.2190915527842804, -0.4867693553796768, 0.3388177539269479, -0.8709481281967048, 0.4532732220093141, -0.9850390012649825, 0.06967424292427568, 0.9013408725699227, -0.8889565263236228, -1.4953853400201986, 1.2332004819013818, 0.29559298373114473, 0.997658383035107, 0.18918967408095885, -0.051056244413894794, 0.28797982555864904, 0.5610032454866385, -1.7120942228348124, -1.5117097048745491, 0.832181129054585, 1.8344712732316908], \"xaxis\": \"x2\", \"y\": [0.0919618728699051, -0.22143263970710958, 1.6920061692431745, 0.9431067925271498, 0.3594422328619513, -0.6828184970650549, 1.3477112305154917, -0.25654138522913494, -0.5500327799891596, -1.6427355514887694, 0.8197944489201987, -0.9823742404275926, -0.7023441940871719, 0.3420492232639261, 0.3614086599960736, 0.9320266717072684, 0.24940799365624342, 0.13501132347356098, 1.7227186975205464, 1.3028028631329955, 1.4192000853142765, -1.4513472584243803, 0.6653115648991531, 0.6212126195957125, 0.5203849348742722, 1.1441801437913968, 0.26324331968163056, 0.14411448089116888, -0.24946884808245628, 1.2004322807572958, -1.33371999712701, -1.303350385254543, -1.1923060843464355, 0.218272069680675, 1.1314974608828123, -0.5806652098094076, 0.5057921370378858, 0.6890842185174422, -0.8682418939632968, -0.9738931790805747, 0.3024580947453506, 0.5930160505461489, 0.012493704873780407, 0.06709321932891561, -0.11492440065381442, 0.9745729681361173, -1.1762691951987503, 0.8146389350431569, -0.12569002261219556, 1.0119713501641898, -0.6321713722281166, 0.4574766710618231, -0.6102904166172508, 0.31641789575822027, 0.9950217584217503, 2.006296936240135, 0.08490037596601381, 0.052925187470997954, 1.6438045388296836, 0.2102712935016528, 1.4467467102795866, -0.8757944378763092, 0.15823619400094852, -1.417545673023298, -0.3400532293623823, 1.2437715025007023, -0.7731750885178242, 0.10291850051799534, -0.4336142340159738, 1.5203031258436455, -0.034733446097376816, 0.4410345083863978, 0.3890827268596237, -0.8946559623109902, -0.003957006038530615, -0.27046157935920223, -0.35782137473497466, -1.729359505511331, 1.7627956055760405, 0.6392822708605644, 0.5287036645533052, 0.7950519326971078, 1.5328580862628476, -0.5029302998523506, -0.7119366297274415, -0.7714058757418685, -0.7764735112899486, 0.15235160520180058, 0.10887281717687264, 0.7941989455346967, 0.4285636061112597, 0.6190583066282419, 0.91499081947152, -0.2932480122438687, -1.7409169425200517, 2.733416114332795, -1.1754447067447311, -1.3793296225880705, -1.079092341670199, -0.7963535324749649], \"yaxis\": \"y2\"}, {\"line\": {\"color\": \"rgba(128, 128, 128, 1.0)\", \"dash\": \"solid\", \"shape\": \"linear\", \"width\": 1.3}, \"marker\": {\"size\": 2, \"symbol\": \"circle\"}, \"mode\": \"markers\", \"name\": \"A\", \"text\": \"\", \"type\": \"scatter\", \"x\": [-1.2532978730908089, -1.08728508653962, 0.2810099897131669, 0.28572795234952775, 1.4698772047722144, -0.3963659575006133, 1.1763989990977648, -0.8163377973699925, 1.0060115012509048, -0.7138918482215386, 0.6883261109468227, -1.742345100309127, 0.3936783289548123, -0.04079852372677284, -1.295204216076111, 0.37385297373771775, 0.6157157548283694, -0.4849763251667541, -0.15343297260882294, 0.34269138397285814, 1.194295529137943, 0.5492398568004113, -0.6810296225613278, -1.6128892279741904, -0.0850969260195267, 0.7734544387194928, -0.2834480250801903, -3.4470712470537705, 0.611533234516993, 0.1667170044869415, -0.1669329080959966, -0.23549689119742387, 1.2513412638668564, 0.6553322724200078, 0.2171135753909595, 0.09898406341847123, -0.979710138570761, -1.333036917826404, 0.03755255988192256, 0.6197517106433479, 0.923011595410601, -0.009300278132760933, 1.4332594029791803, -0.5453631049824771, 1.382857862039696, 1.9219429345949208, -0.436247679066393, -0.8083398005629527, -0.8947731295364745, -0.4856216476847417, 1.7298213424634679, -0.17946655423496888, 1.5056216727737806, 2.002849273124296, 0.8711995500748396, 0.626681330577629, 1.5403534997575812, -0.14073729852183495, -0.22267895623511597, -0.5069809876965274, 1.978531085289646, -1.4649287871044867, 0.8298006554947647, 0.56942109535731, -1.4523062524639976, -0.5542575579380606, 0.08435547173343336, -1.308971621854254, 0.8691195603073998, 0.2724056016445801, 0.1936264520608121, -1.361287805977323, 0.7369084117743792, 0.40911372288406445, 0.5885532117384756, -0.6381641206733064, -0.8547605483606814, 0.05416171503795708, 0.970418851559788, 1.71582873509031, 1.881987424509346, -0.3218196177359385, -1.0513356845480373, -0.020927458305802216, 0.11777114036254806, -0.3215908580429141, -0.2910104372121669, 0.8528708676012919, -0.27045683020222056, 1.2347122205541794, 1.1574086023087558, -0.6425492043890059, 1.3121152909783667, -0.7380078566402093, 0.8868862557471037, -0.38973722805242755, 0.43326203497727445, 0.7367441266770399, 1.280134260368342, -1.0697350133937478], \"xaxis\": \"x3\", \"y\": [0.0919618728699051, -0.22143263970710958, 1.6920061692431745, 0.9431067925271498, 0.3594422328619513, -0.6828184970650549, 1.3477112305154917, -0.25654138522913494, -0.5500327799891596, -1.6427355514887694, 0.8197944489201987, -0.9823742404275926, -0.7023441940871719, 0.3420492232639261, 0.3614086599960736, 0.9320266717072684, 0.24940799365624342, 0.13501132347356098, 1.7227186975205464, 1.3028028631329955, 1.4192000853142765, -1.4513472584243803, 0.6653115648991531, 0.6212126195957125, 0.5203849348742722, 1.1441801437913968, 0.26324331968163056, 0.14411448089116888, -0.24946884808245628, 1.2004322807572958, -1.33371999712701, -1.303350385254543, -1.1923060843464355, 0.218272069680675, 1.1314974608828123, -0.5806652098094076, 0.5057921370378858, 0.6890842185174422, -0.8682418939632968, -0.9738931790805747, 0.3024580947453506, 0.5930160505461489, 0.012493704873780407, 0.06709321932891561, -0.11492440065381442, 0.9745729681361173, -1.1762691951987503, 0.8146389350431569, -0.12569002261219556, 1.0119713501641898, -0.6321713722281166, 0.4574766710618231, -0.6102904166172508, 0.31641789575822027, 0.9950217584217503, 2.006296936240135, 0.08490037596601381, 0.052925187470997954, 1.6438045388296836, 0.2102712935016528, 1.4467467102795866, -0.8757944378763092, 0.15823619400094852, -1.417545673023298, -0.3400532293623823, 1.2437715025007023, -0.7731750885178242, 0.10291850051799534, -0.4336142340159738, 1.5203031258436455, -0.034733446097376816, 0.4410345083863978, 0.3890827268596237, -0.8946559623109902, -0.003957006038530615, -0.27046157935920223, -0.35782137473497466, -1.729359505511331, 1.7627956055760405, 0.6392822708605644, 0.5287036645533052, 0.7950519326971078, 1.5328580862628476, -0.5029302998523506, -0.7119366297274415, -0.7714058757418685, -0.7764735112899486, 0.15235160520180058, 0.10887281717687264, 0.7941989455346967, 0.4285636061112597, 0.6190583066282419, 0.91499081947152, -0.2932480122438687, -1.7409169425200517, 2.733416114332795, -1.1754447067447311, -1.3793296225880705, -1.079092341670199, -0.7963535324749649], \"yaxis\": \"y3\"}, {\"line\": {\"color\": \"rgba(128, 128, 128, 1.0)\", \"dash\": \"solid\", \"shape\": \"linear\", \"width\": 1.3}, \"marker\": {\"size\": 2, \"symbol\": \"circle\"}, \"mode\": \"markers\", \"name\": \"A\", \"text\": \"\", \"type\": \"scatter\", \"x\": [1.0150673539653818, 0.7801797455914745, -0.4803927904649368, 0.6055979848455442, 1.008786758438709, 0.023964719652546877, -0.34249088232411906, -1.5757136841787667, -1.2595228196575285, 1.5479296266426186, -1.667891888212835, -2.9304707516585533, -1.2375725780575295, -0.08016118590083993, -0.908093799587176, 1.4262107854511754, 1.1348372431282665, 1.7525559804561646, -2.2104836006372466, -0.7144493819718111, 0.345186227871036, -0.4923342757879569, -0.19566336816411614, 0.5383860212364863, -0.7262974683800657, 0.571457491646246, 0.40744053585215695, -1.4644367633999609, 0.37677590832931107, -0.7797553726140088, 1.4555215429359187, -0.634090861545719, -0.13503703689895868, 0.23922282946463885, -0.752849756995442, -1.6572083372518116, 0.2722374988280992, -0.9301269524343052, -1.3049134458185287, -1.0864556357953092, -0.5210398084393976, -1.2120174320242803, -0.49102338758956604, 1.009452815096525, 0.08791363844742746, 0.15825724922493187, 0.11577812035672147, 0.3715643270628371, 3.7543884240576624, -0.6052944478302311, -0.1057233191798161, -1.263792161830712, 0.40963011032787255, -0.31623110375908975, -0.906148230957082, -1.6795898265689735, -0.10452649558706589, 0.5546020797484007, 0.39996139495275207, 0.15442905373088403, 0.5537410323974221, 1.443482963625378, -0.9292607637673629, -0.7803850517054651, -0.516535132961495, 1.2224686540745042, -0.9943679282622373, -0.4107109809970364, 0.9893651661469751, -0.8308332484795458, 0.589243504362736, -1.8212040247636174, -0.48785692626022303, 0.6760235701657388, 0.3010632487040836, 1.2460996350652314, -0.3383975356262392, -1.03324678467663, 1.640118425811848, 1.8021100222559114, -0.35153889224171175, 1.3204298563274208, 0.34597601293931146, -1.032349830563655, -0.22306948548415415, -1.0613925110075237, -1.0934183840406753, 2.5025672360353175, 0.5642599570726079, 1.6406429875583208, -1.5621527245615558, -1.3018319428684324, 0.6720889294567994, -0.6912888885910656, 1.083359566279782, -0.33688496894435577, -0.4095731056501877, 0.014762255517497424, -1.1351676072998083, -0.41268142250245066], \"xaxis\": \"x4\", \"y\": [0.0919618728699051, -0.22143263970710958, 1.6920061692431745, 0.9431067925271498, 0.3594422328619513, -0.6828184970650549, 1.3477112305154917, -0.25654138522913494, -0.5500327799891596, -1.6427355514887694, 0.8197944489201987, -0.9823742404275926, -0.7023441940871719, 0.3420492232639261, 0.3614086599960736, 0.9320266717072684, 0.24940799365624342, 0.13501132347356098, 1.7227186975205464, 1.3028028631329955, 1.4192000853142765, -1.4513472584243803, 0.6653115648991531, 0.6212126195957125, 0.5203849348742722, 1.1441801437913968, 0.26324331968163056, 0.14411448089116888, -0.24946884808245628, 1.2004322807572958, -1.33371999712701, -1.303350385254543, -1.1923060843464355, 0.218272069680675, 1.1314974608828123, -0.5806652098094076, 0.5057921370378858, 0.6890842185174422, -0.8682418939632968, -0.9738931790805747, 0.3024580947453506, 0.5930160505461489, 0.012493704873780407, 0.06709321932891561, -0.11492440065381442, 0.9745729681361173, -1.1762691951987503, 0.8146389350431569, -0.12569002261219556, 1.0119713501641898, -0.6321713722281166, 0.4574766710618231, -0.6102904166172508, 0.31641789575822027, 0.9950217584217503, 2.006296936240135, 0.08490037596601381, 0.052925187470997954, 1.6438045388296836, 0.2102712935016528, 1.4467467102795866, -0.8757944378763092, 0.15823619400094852, -1.417545673023298, -0.3400532293623823, 1.2437715025007023, -0.7731750885178242, 0.10291850051799534, -0.4336142340159738, 1.5203031258436455, -0.034733446097376816, 0.4410345083863978, 0.3890827268596237, -0.8946559623109902, -0.003957006038530615, -0.27046157935920223, -0.35782137473497466, -1.729359505511331, 1.7627956055760405, 0.6392822708605644, 0.5287036645533052, 0.7950519326971078, 1.5328580862628476, -0.5029302998523506, -0.7119366297274415, -0.7714058757418685, -0.7764735112899486, 0.15235160520180058, 0.10887281717687264, 0.7941989455346967, 0.4285636061112597, 0.6190583066282419, 0.91499081947152, -0.2932480122438687, -1.7409169425200517, 2.733416114332795, -1.1754447067447311, -1.3793296225880705, -1.079092341670199, -0.7963535324749649], \"yaxis\": \"y4\"}, {\"line\": {\"color\": \"rgba(128, 128, 128, 1.0)\", \"dash\": \"solid\", \"shape\": \"linear\", \"width\": 1.3}, \"marker\": {\"size\": 2, \"symbol\": \"circle\"}, \"mode\": \"markers\", \"name\": \"B\", \"text\": \"\", \"type\": \"scatter\", \"x\": [0.0919618728699051, -0.22143263970710958, 1.6920061692431745, 0.9431067925271498, 0.3594422328619513, -0.6828184970650549, 1.3477112305154917, -0.25654138522913494, -0.5500327799891596, -1.6427355514887694, 0.8197944489201987, -0.9823742404275926, -0.7023441940871719, 0.3420492232639261, 0.3614086599960736, 0.9320266717072684, 0.24940799365624342, 0.13501132347356098, 1.7227186975205464, 1.3028028631329955, 1.4192000853142765, -1.4513472584243803, 0.6653115648991531, 0.6212126195957125, 0.5203849348742722, 1.1441801437913968, 0.26324331968163056, 0.14411448089116888, -0.24946884808245628, 1.2004322807572958, -1.33371999712701, -1.303350385254543, -1.1923060843464355, 0.218272069680675, 1.1314974608828123, -0.5806652098094076, 0.5057921370378858, 0.6890842185174422, -0.8682418939632968, -0.9738931790805747, 0.3024580947453506, 0.5930160505461489, 0.012493704873780407, 0.06709321932891561, -0.11492440065381442, 0.9745729681361173, -1.1762691951987503, 0.8146389350431569, -0.12569002261219556, 1.0119713501641898, -0.6321713722281166, 0.4574766710618231, -0.6102904166172508, 0.31641789575822027, 0.9950217584217503, 2.006296936240135, 0.08490037596601381, 0.052925187470997954, 1.6438045388296836, 0.2102712935016528, 1.4467467102795866, -0.8757944378763092, 0.15823619400094852, -1.417545673023298, -0.3400532293623823, 1.2437715025007023, -0.7731750885178242, 0.10291850051799534, -0.4336142340159738, 1.5203031258436455, -0.034733446097376816, 0.4410345083863978, 0.3890827268596237, -0.8946559623109902, -0.003957006038530615, -0.27046157935920223, -0.35782137473497466, -1.729359505511331, 1.7627956055760405, 0.6392822708605644, 0.5287036645533052, 0.7950519326971078, 1.5328580862628476, -0.5029302998523506, -0.7119366297274415, -0.7714058757418685, -0.7764735112899486, 0.15235160520180058, 0.10887281717687264, 0.7941989455346967, 0.4285636061112597, 0.6190583066282419, 0.91499081947152, -0.2932480122438687, -1.7409169425200517, 2.733416114332795, -1.1754447067447311, -1.3793296225880705, -1.079092341670199, -0.7963535324749649], \"xaxis\": \"x5\", \"y\": [-0.3359057780033205, -0.4433704710462687, 0.3465360831123125, 0.8803170742782787, 0.288009036532479, 1.8591582085492402, -0.5036424328286201, 0.7731816011892556, -0.6592022646641865, 1.1650207389240208, 2.145286799985949, 0.38318041888760507, 0.3605136490201095, 1.2879110751310086, 0.3870941307195677, 0.5175548648554993, 0.13156406589182484, 0.43726067978794136, -0.12406077464839853, -0.1584521578624045, 1.8481676984545645, -0.6320254001344748, -0.547989679256849, -0.7345036188124198, -0.838599962443122, 0.30565502397333477, -0.39286841571607833, 0.12866234223048006, 0.6671029123469577, -1.6506221833593462, 0.4216935614574125, -1.2122340200334463, -0.11983788140959518, 1.9826944376135154, 1.3703099502731115, -1.2150177014024568, -0.9976729947573217, 1.1507693794007992, 1.3037737483808534, -0.27076012375835345, 0.3866071574516572, -0.5107511196435172, -0.9168898492795453, 1.1144615030404976, 1.1470375704065499, 0.1518813789372889, 1.198620765530093, -1.079485781920071, 0.7055827854010577, 1.1297159187985248, -0.11696308792520638, -0.6076790190270548, -0.32567795806579464, -0.6659287720474008, 1.0696737724187175, -0.161034988424284, 1.1563498686847156, 0.3866021466927583, 0.272581455665236, -0.34368289428306015, -0.18384618137722683, -0.5012580084782411, -0.6724838243629148, 0.7344331694237937, 2.318770733800961, 2.323045264573243, -0.5608271207087145, -1.184389077151462, 0.008319037423178726, -1.096836380779569, -0.2424576969197716, 0.538243146218403, -2.142972574782624, 0.8974097458335817, -0.010318194682662218, -0.6581154280755355, 1.522477800055998, -0.7579847427823956, 0.05924636221836566, 0.2190915527842804, -0.4867693553796768, 0.3388177539269479, -0.8709481281967048, 0.4532732220093141, -0.9850390012649825, 0.06967424292427568, 0.9013408725699227, -0.8889565263236228, -1.4953853400201986, 1.2332004819013818, 0.29559298373114473, 0.997658383035107, 0.18918967408095885, -0.051056244413894794, 0.28797982555864904, 0.5610032454866385, -1.7120942228348124, -1.5117097048745491, 0.832181129054585, 1.8344712732316908], \"yaxis\": \"y5\"}, {\"histfunc\": \"count\", \"histnorm\": \"\", \"marker\": {\"color\": \"rgba(55, 128, 191, 1.0)\", \"line\": {\"color\": \"#4D5663\", \"width\": 1.3}}, \"name\": \"B\", \"nbinsx\": 10, \"opacity\": 0.8, \"orientation\": \"v\", \"type\": \"histogram\", \"x\": [-0.3359057780033205, -0.4433704710462687, 0.3465360831123125, 0.8803170742782787, 0.288009036532479, 1.8591582085492402, -0.5036424328286201, 0.7731816011892556, -0.6592022646641865, 1.1650207389240208, 2.145286799985949, 0.38318041888760507, 0.3605136490201095, 1.2879110751310086, 0.3870941307195677, 0.5175548648554993, 0.13156406589182484, 0.43726067978794136, -0.12406077464839853, -0.1584521578624045, 1.8481676984545645, -0.6320254001344748, -0.547989679256849, -0.7345036188124198, -0.838599962443122, 0.30565502397333477, -0.39286841571607833, 0.12866234223048006, 0.6671029123469577, -1.6506221833593462, 0.4216935614574125, -1.2122340200334463, -0.11983788140959518, 1.9826944376135154, 1.3703099502731115, -1.2150177014024568, -0.9976729947573217, 1.1507693794007992, 1.3037737483808534, -0.27076012375835345, 0.3866071574516572, -0.5107511196435172, -0.9168898492795453, 1.1144615030404976, 1.1470375704065499, 0.1518813789372889, 1.198620765530093, -1.079485781920071, 0.7055827854010577, 1.1297159187985248, -0.11696308792520638, -0.6076790190270548, -0.32567795806579464, -0.6659287720474008, 1.0696737724187175, -0.161034988424284, 1.1563498686847156, 0.3866021466927583, 0.272581455665236, -0.34368289428306015, -0.18384618137722683, -0.5012580084782411, -0.6724838243629148, 0.7344331694237937, 2.318770733800961, 2.323045264573243, -0.5608271207087145, -1.184389077151462, 0.008319037423178726, -1.096836380779569, -0.2424576969197716, 0.538243146218403, -2.142972574782624, 0.8974097458335817, -0.010318194682662218, -0.6581154280755355, 1.522477800055998, -0.7579847427823956, 0.05924636221836566, 0.2190915527842804, -0.4867693553796768, 0.3388177539269479, -0.8709481281967048, 0.4532732220093141, -0.9850390012649825, 0.06967424292427568, 0.9013408725699227, -0.8889565263236228, -1.4953853400201986, 1.2332004819013818, 0.29559298373114473, 0.997658383035107, 0.18918967408095885, -0.051056244413894794, 0.28797982555864904, 0.5610032454866385, -1.7120942228348124, -1.5117097048745491, 0.832181129054585, 1.8344712732316908], \"xaxis\": \"x6\", \"yaxis\": \"y6\"}, {\"line\": {\"color\": \"rgba(128, 128, 128, 1.0)\", \"dash\": \"solid\", \"shape\": \"linear\", \"width\": 1.3}, \"marker\": {\"size\": 2, \"symbol\": \"circle\"}, \"mode\": \"markers\", \"name\": \"B\", \"text\": \"\", \"type\": \"scatter\", \"x\": [-1.2532978730908089, -1.08728508653962, 0.2810099897131669, 0.28572795234952775, 1.4698772047722144, -0.3963659575006133, 1.1763989990977648, -0.8163377973699925, 1.0060115012509048, -0.7138918482215386, 0.6883261109468227, -1.742345100309127, 0.3936783289548123, -0.04079852372677284, -1.295204216076111, 0.37385297373771775, 0.6157157548283694, -0.4849763251667541, -0.15343297260882294, 0.34269138397285814, 1.194295529137943, 0.5492398568004113, -0.6810296225613278, -1.6128892279741904, -0.0850969260195267, 0.7734544387194928, -0.2834480250801903, -3.4470712470537705, 0.611533234516993, 0.1667170044869415, -0.1669329080959966, -0.23549689119742387, 1.2513412638668564, 0.6553322724200078, 0.2171135753909595, 0.09898406341847123, -0.979710138570761, -1.333036917826404, 0.03755255988192256, 0.6197517106433479, 0.923011595410601, -0.009300278132760933, 1.4332594029791803, -0.5453631049824771, 1.382857862039696, 1.9219429345949208, -0.436247679066393, -0.8083398005629527, -0.8947731295364745, -0.4856216476847417, 1.7298213424634679, -0.17946655423496888, 1.5056216727737806, 2.002849273124296, 0.8711995500748396, 0.626681330577629, 1.5403534997575812, -0.14073729852183495, -0.22267895623511597, -0.5069809876965274, 1.978531085289646, -1.4649287871044867, 0.8298006554947647, 0.56942109535731, -1.4523062524639976, -0.5542575579380606, 0.08435547173343336, -1.308971621854254, 0.8691195603073998, 0.2724056016445801, 0.1936264520608121, -1.361287805977323, 0.7369084117743792, 0.40911372288406445, 0.5885532117384756, -0.6381641206733064, -0.8547605483606814, 0.05416171503795708, 0.970418851559788, 1.71582873509031, 1.881987424509346, -0.3218196177359385, -1.0513356845480373, -0.020927458305802216, 0.11777114036254806, -0.3215908580429141, -0.2910104372121669, 0.8528708676012919, -0.27045683020222056, 1.2347122205541794, 1.1574086023087558, -0.6425492043890059, 1.3121152909783667, -0.7380078566402093, 0.8868862557471037, -0.38973722805242755, 0.43326203497727445, 0.7367441266770399, 1.280134260368342, -1.0697350133937478], \"xaxis\": \"x7\", \"y\": [-0.3359057780033205, -0.4433704710462687, 0.3465360831123125, 0.8803170742782787, 0.288009036532479, 1.8591582085492402, -0.5036424328286201, 0.7731816011892556, -0.6592022646641865, 1.1650207389240208, 2.145286799985949, 0.38318041888760507, 0.3605136490201095, 1.2879110751310086, 0.3870941307195677, 0.5175548648554993, 0.13156406589182484, 0.43726067978794136, -0.12406077464839853, -0.1584521578624045, 1.8481676984545645, -0.6320254001344748, -0.547989679256849, -0.7345036188124198, -0.838599962443122, 0.30565502397333477, -0.39286841571607833, 0.12866234223048006, 0.6671029123469577, -1.6506221833593462, 0.4216935614574125, -1.2122340200334463, -0.11983788140959518, 1.9826944376135154, 1.3703099502731115, -1.2150177014024568, -0.9976729947573217, 1.1507693794007992, 1.3037737483808534, -0.27076012375835345, 0.3866071574516572, -0.5107511196435172, -0.9168898492795453, 1.1144615030404976, 1.1470375704065499, 0.1518813789372889, 1.198620765530093, -1.079485781920071, 0.7055827854010577, 1.1297159187985248, -0.11696308792520638, -0.6076790190270548, -0.32567795806579464, -0.6659287720474008, 1.0696737724187175, -0.161034988424284, 1.1563498686847156, 0.3866021466927583, 0.272581455665236, -0.34368289428306015, -0.18384618137722683, -0.5012580084782411, -0.6724838243629148, 0.7344331694237937, 2.318770733800961, 2.323045264573243, -0.5608271207087145, -1.184389077151462, 0.008319037423178726, -1.096836380779569, -0.2424576969197716, 0.538243146218403, -2.142972574782624, 0.8974097458335817, -0.010318194682662218, -0.6581154280755355, 1.522477800055998, -0.7579847427823956, 0.05924636221836566, 0.2190915527842804, -0.4867693553796768, 0.3388177539269479, -0.8709481281967048, 0.4532732220093141, -0.9850390012649825, 0.06967424292427568, 0.9013408725699227, -0.8889565263236228, -1.4953853400201986, 1.2332004819013818, 0.29559298373114473, 0.997658383035107, 0.18918967408095885, -0.051056244413894794, 0.28797982555864904, 0.5610032454866385, -1.7120942228348124, -1.5117097048745491, 0.832181129054585, 1.8344712732316908], \"yaxis\": \"y7\"}, {\"line\": {\"color\": \"rgba(128, 128, 128, 1.0)\", \"dash\": \"solid\", \"shape\": \"linear\", \"width\": 1.3}, \"marker\": {\"size\": 2, \"symbol\": \"circle\"}, \"mode\": \"markers\", \"name\": \"B\", \"text\": \"\", \"type\": \"scatter\", \"x\": [1.0150673539653818, 0.7801797455914745, -0.4803927904649368, 0.6055979848455442, 1.008786758438709, 0.023964719652546877, -0.34249088232411906, -1.5757136841787667, -1.2595228196575285, 1.5479296266426186, -1.667891888212835, -2.9304707516585533, -1.2375725780575295, -0.08016118590083993, -0.908093799587176, 1.4262107854511754, 1.1348372431282665, 1.7525559804561646, -2.2104836006372466, -0.7144493819718111, 0.345186227871036, -0.4923342757879569, -0.19566336816411614, 0.5383860212364863, -0.7262974683800657, 0.571457491646246, 0.40744053585215695, -1.4644367633999609, 0.37677590832931107, -0.7797553726140088, 1.4555215429359187, -0.634090861545719, -0.13503703689895868, 0.23922282946463885, -0.752849756995442, -1.6572083372518116, 0.2722374988280992, -0.9301269524343052, -1.3049134458185287, -1.0864556357953092, -0.5210398084393976, -1.2120174320242803, -0.49102338758956604, 1.009452815096525, 0.08791363844742746, 0.15825724922493187, 0.11577812035672147, 0.3715643270628371, 3.7543884240576624, -0.6052944478302311, -0.1057233191798161, -1.263792161830712, 0.40963011032787255, -0.31623110375908975, -0.906148230957082, -1.6795898265689735, -0.10452649558706589, 0.5546020797484007, 0.39996139495275207, 0.15442905373088403, 0.5537410323974221, 1.443482963625378, -0.9292607637673629, -0.7803850517054651, -0.516535132961495, 1.2224686540745042, -0.9943679282622373, -0.4107109809970364, 0.9893651661469751, -0.8308332484795458, 0.589243504362736, -1.8212040247636174, -0.48785692626022303, 0.6760235701657388, 0.3010632487040836, 1.2460996350652314, -0.3383975356262392, -1.03324678467663, 1.640118425811848, 1.8021100222559114, -0.35153889224171175, 1.3204298563274208, 0.34597601293931146, -1.032349830563655, -0.22306948548415415, -1.0613925110075237, -1.0934183840406753, 2.5025672360353175, 0.5642599570726079, 1.6406429875583208, -1.5621527245615558, -1.3018319428684324, 0.6720889294567994, -0.6912888885910656, 1.083359566279782, -0.33688496894435577, -0.4095731056501877, 0.014762255517497424, -1.1351676072998083, -0.41268142250245066], \"xaxis\": \"x8\", \"y\": [-0.3359057780033205, -0.4433704710462687, 0.3465360831123125, 0.8803170742782787, 0.288009036532479, 1.8591582085492402, -0.5036424328286201, 0.7731816011892556, -0.6592022646641865, 1.1650207389240208, 2.145286799985949, 0.38318041888760507, 0.3605136490201095, 1.2879110751310086, 0.3870941307195677, 0.5175548648554993, 0.13156406589182484, 0.43726067978794136, -0.12406077464839853, -0.1584521578624045, 1.8481676984545645, -0.6320254001344748, -0.547989679256849, -0.7345036188124198, -0.838599962443122, 0.30565502397333477, -0.39286841571607833, 0.12866234223048006, 0.6671029123469577, -1.6506221833593462, 0.4216935614574125, -1.2122340200334463, -0.11983788140959518, 1.9826944376135154, 1.3703099502731115, -1.2150177014024568, -0.9976729947573217, 1.1507693794007992, 1.3037737483808534, -0.27076012375835345, 0.3866071574516572, -0.5107511196435172, -0.9168898492795453, 1.1144615030404976, 1.1470375704065499, 0.1518813789372889, 1.198620765530093, -1.079485781920071, 0.7055827854010577, 1.1297159187985248, -0.11696308792520638, -0.6076790190270548, -0.32567795806579464, -0.6659287720474008, 1.0696737724187175, -0.161034988424284, 1.1563498686847156, 0.3866021466927583, 0.272581455665236, -0.34368289428306015, -0.18384618137722683, -0.5012580084782411, -0.6724838243629148, 0.7344331694237937, 2.318770733800961, 2.323045264573243, -0.5608271207087145, -1.184389077151462, 0.008319037423178726, -1.096836380779569, -0.2424576969197716, 0.538243146218403, -2.142972574782624, 0.8974097458335817, -0.010318194682662218, -0.6581154280755355, 1.522477800055998, -0.7579847427823956, 0.05924636221836566, 0.2190915527842804, -0.4867693553796768, 0.3388177539269479, -0.8709481281967048, 0.4532732220093141, -0.9850390012649825, 0.06967424292427568, 0.9013408725699227, -0.8889565263236228, -1.4953853400201986, 1.2332004819013818, 0.29559298373114473, 0.997658383035107, 0.18918967408095885, -0.051056244413894794, 0.28797982555864904, 0.5610032454866385, -1.7120942228348124, -1.5117097048745491, 0.832181129054585, 1.8344712732316908], \"yaxis\": \"y8\"}, {\"line\": {\"color\": \"rgba(128, 128, 128, 1.0)\", \"dash\": \"solid\", \"shape\": \"linear\", \"width\": 1.3}, \"marker\": {\"size\": 2, \"symbol\": \"circle\"}, \"mode\": \"markers\", \"name\": \"C\", \"text\": \"\", \"type\": \"scatter\", \"x\": [0.0919618728699051, -0.22143263970710958, 1.6920061692431745, 0.9431067925271498, 0.3594422328619513, -0.6828184970650549, 1.3477112305154917, -0.25654138522913494, -0.5500327799891596, -1.6427355514887694, 0.8197944489201987, -0.9823742404275926, -0.7023441940871719, 0.3420492232639261, 0.3614086599960736, 0.9320266717072684, 0.24940799365624342, 0.13501132347356098, 1.7227186975205464, 1.3028028631329955, 1.4192000853142765, -1.4513472584243803, 0.6653115648991531, 0.6212126195957125, 0.5203849348742722, 1.1441801437913968, 0.26324331968163056, 0.14411448089116888, -0.24946884808245628, 1.2004322807572958, -1.33371999712701, -1.303350385254543, -1.1923060843464355, 0.218272069680675, 1.1314974608828123, -0.5806652098094076, 0.5057921370378858, 0.6890842185174422, -0.8682418939632968, -0.9738931790805747, 0.3024580947453506, 0.5930160505461489, 0.012493704873780407, 0.06709321932891561, -0.11492440065381442, 0.9745729681361173, -1.1762691951987503, 0.8146389350431569, -0.12569002261219556, 1.0119713501641898, -0.6321713722281166, 0.4574766710618231, -0.6102904166172508, 0.31641789575822027, 0.9950217584217503, 2.006296936240135, 0.08490037596601381, 0.052925187470997954, 1.6438045388296836, 0.2102712935016528, 1.4467467102795866, -0.8757944378763092, 0.15823619400094852, -1.417545673023298, -0.3400532293623823, 1.2437715025007023, -0.7731750885178242, 0.10291850051799534, -0.4336142340159738, 1.5203031258436455, -0.034733446097376816, 0.4410345083863978, 0.3890827268596237, -0.8946559623109902, -0.003957006038530615, -0.27046157935920223, -0.35782137473497466, -1.729359505511331, 1.7627956055760405, 0.6392822708605644, 0.5287036645533052, 0.7950519326971078, 1.5328580862628476, -0.5029302998523506, -0.7119366297274415, -0.7714058757418685, -0.7764735112899486, 0.15235160520180058, 0.10887281717687264, 0.7941989455346967, 0.4285636061112597, 0.6190583066282419, 0.91499081947152, -0.2932480122438687, -1.7409169425200517, 2.733416114332795, -1.1754447067447311, -1.3793296225880705, -1.079092341670199, -0.7963535324749649], \"xaxis\": \"x9\", \"y\": [-1.2532978730908089, -1.08728508653962, 0.2810099897131669, 0.28572795234952775, 1.4698772047722144, -0.3963659575006133, 1.1763989990977648, -0.8163377973699925, 1.0060115012509048, -0.7138918482215386, 0.6883261109468227, -1.742345100309127, 0.3936783289548123, -0.04079852372677284, -1.295204216076111, 0.37385297373771775, 0.6157157548283694, -0.4849763251667541, -0.15343297260882294, 0.34269138397285814, 1.194295529137943, 0.5492398568004113, -0.6810296225613278, -1.6128892279741904, -0.0850969260195267, 0.7734544387194928, -0.2834480250801903, -3.4470712470537705, 0.611533234516993, 0.1667170044869415, -0.1669329080959966, -0.23549689119742387, 1.2513412638668564, 0.6553322724200078, 0.2171135753909595, 0.09898406341847123, -0.979710138570761, -1.333036917826404, 0.03755255988192256, 0.6197517106433479, 0.923011595410601, -0.009300278132760933, 1.4332594029791803, -0.5453631049824771, 1.382857862039696, 1.9219429345949208, -0.436247679066393, -0.8083398005629527, -0.8947731295364745, -0.4856216476847417, 1.7298213424634679, -0.17946655423496888, 1.5056216727737806, 2.002849273124296, 0.8711995500748396, 0.626681330577629, 1.5403534997575812, -0.14073729852183495, -0.22267895623511597, -0.5069809876965274, 1.978531085289646, -1.4649287871044867, 0.8298006554947647, 0.56942109535731, -1.4523062524639976, -0.5542575579380606, 0.08435547173343336, -1.308971621854254, 0.8691195603073998, 0.2724056016445801, 0.1936264520608121, -1.361287805977323, 0.7369084117743792, 0.40911372288406445, 0.5885532117384756, -0.6381641206733064, -0.8547605483606814, 0.05416171503795708, 0.970418851559788, 1.71582873509031, 1.881987424509346, -0.3218196177359385, -1.0513356845480373, -0.020927458305802216, 0.11777114036254806, -0.3215908580429141, -0.2910104372121669, 0.8528708676012919, -0.27045683020222056, 1.2347122205541794, 1.1574086023087558, -0.6425492043890059, 1.3121152909783667, -0.7380078566402093, 0.8868862557471037, -0.38973722805242755, 0.43326203497727445, 0.7367441266770399, 1.280134260368342, -1.0697350133937478], \"yaxis\": \"y9\"}, {\"line\": {\"color\": \"rgba(128, 128, 128, 1.0)\", \"dash\": \"solid\", \"shape\": \"linear\", \"width\": 1.3}, \"marker\": {\"size\": 2, \"symbol\": \"circle\"}, \"mode\": \"markers\", \"name\": \"C\", \"text\": \"\", \"type\": \"scatter\", \"x\": [-0.3359057780033205, -0.4433704710462687, 0.3465360831123125, 0.8803170742782787, 0.288009036532479, 1.8591582085492402, -0.5036424328286201, 0.7731816011892556, -0.6592022646641865, 1.1650207389240208, 2.145286799985949, 0.38318041888760507, 0.3605136490201095, 1.2879110751310086, 0.3870941307195677, 0.5175548648554993, 0.13156406589182484, 0.43726067978794136, -0.12406077464839853, -0.1584521578624045, 1.8481676984545645, -0.6320254001344748, -0.547989679256849, -0.7345036188124198, -0.838599962443122, 0.30565502397333477, -0.39286841571607833, 0.12866234223048006, 0.6671029123469577, -1.6506221833593462, 0.4216935614574125, -1.2122340200334463, -0.11983788140959518, 1.9826944376135154, 1.3703099502731115, -1.2150177014024568, -0.9976729947573217, 1.1507693794007992, 1.3037737483808534, -0.27076012375835345, 0.3866071574516572, -0.5107511196435172, -0.9168898492795453, 1.1144615030404976, 1.1470375704065499, 0.1518813789372889, 1.198620765530093, -1.079485781920071, 0.7055827854010577, 1.1297159187985248, -0.11696308792520638, -0.6076790190270548, -0.32567795806579464, -0.6659287720474008, 1.0696737724187175, -0.161034988424284, 1.1563498686847156, 0.3866021466927583, 0.272581455665236, -0.34368289428306015, -0.18384618137722683, -0.5012580084782411, -0.6724838243629148, 0.7344331694237937, 2.318770733800961, 2.323045264573243, -0.5608271207087145, -1.184389077151462, 0.008319037423178726, -1.096836380779569, -0.2424576969197716, 0.538243146218403, -2.142972574782624, 0.8974097458335817, -0.010318194682662218, -0.6581154280755355, 1.522477800055998, -0.7579847427823956, 0.05924636221836566, 0.2190915527842804, -0.4867693553796768, 0.3388177539269479, -0.8709481281967048, 0.4532732220093141, -0.9850390012649825, 0.06967424292427568, 0.9013408725699227, -0.8889565263236228, -1.4953853400201986, 1.2332004819013818, 0.29559298373114473, 0.997658383035107, 0.18918967408095885, -0.051056244413894794, 0.28797982555864904, 0.5610032454866385, -1.7120942228348124, -1.5117097048745491, 0.832181129054585, 1.8344712732316908], \"xaxis\": \"x10\", \"y\": [-1.2532978730908089, -1.08728508653962, 0.2810099897131669, 0.28572795234952775, 1.4698772047722144, -0.3963659575006133, 1.1763989990977648, -0.8163377973699925, 1.0060115012509048, -0.7138918482215386, 0.6883261109468227, -1.742345100309127, 0.3936783289548123, -0.04079852372677284, -1.295204216076111, 0.37385297373771775, 0.6157157548283694, -0.4849763251667541, -0.15343297260882294, 0.34269138397285814, 1.194295529137943, 0.5492398568004113, -0.6810296225613278, -1.6128892279741904, -0.0850969260195267, 0.7734544387194928, -0.2834480250801903, -3.4470712470537705, 0.611533234516993, 0.1667170044869415, -0.1669329080959966, -0.23549689119742387, 1.2513412638668564, 0.6553322724200078, 0.2171135753909595, 0.09898406341847123, -0.979710138570761, -1.333036917826404, 0.03755255988192256, 0.6197517106433479, 0.923011595410601, -0.009300278132760933, 1.4332594029791803, -0.5453631049824771, 1.382857862039696, 1.9219429345949208, -0.436247679066393, -0.8083398005629527, -0.8947731295364745, -0.4856216476847417, 1.7298213424634679, -0.17946655423496888, 1.5056216727737806, 2.002849273124296, 0.8711995500748396, 0.626681330577629, 1.5403534997575812, -0.14073729852183495, -0.22267895623511597, -0.5069809876965274, 1.978531085289646, -1.4649287871044867, 0.8298006554947647, 0.56942109535731, -1.4523062524639976, -0.5542575579380606, 0.08435547173343336, -1.308971621854254, 0.8691195603073998, 0.2724056016445801, 0.1936264520608121, -1.361287805977323, 0.7369084117743792, 0.40911372288406445, 0.5885532117384756, -0.6381641206733064, -0.8547605483606814, 0.05416171503795708, 0.970418851559788, 1.71582873509031, 1.881987424509346, -0.3218196177359385, -1.0513356845480373, -0.020927458305802216, 0.11777114036254806, -0.3215908580429141, -0.2910104372121669, 0.8528708676012919, -0.27045683020222056, 1.2347122205541794, 1.1574086023087558, -0.6425492043890059, 1.3121152909783667, -0.7380078566402093, 0.8868862557471037, -0.38973722805242755, 0.43326203497727445, 0.7367441266770399, 1.280134260368342, -1.0697350133937478], \"yaxis\": \"y10\"}, {\"histfunc\": \"count\", \"histnorm\": \"\", \"marker\": {\"color\": \"rgba(50, 171, 96, 1.0)\", \"line\": {\"color\": \"#4D5663\", \"width\": 1.3}}, \"name\": \"C\", \"nbinsx\": 10, \"opacity\": 0.8, \"orientation\": \"v\", \"type\": \"histogram\", \"x\": [-1.2532978730908089, -1.08728508653962, 0.2810099897131669, 0.28572795234952775, 1.4698772047722144, -0.3963659575006133, 1.1763989990977648, -0.8163377973699925, 1.0060115012509048, -0.7138918482215386, 0.6883261109468227, -1.742345100309127, 0.3936783289548123, -0.04079852372677284, -1.295204216076111, 0.37385297373771775, 0.6157157548283694, -0.4849763251667541, -0.15343297260882294, 0.34269138397285814, 1.194295529137943, 0.5492398568004113, -0.6810296225613278, -1.6128892279741904, -0.0850969260195267, 0.7734544387194928, -0.2834480250801903, -3.4470712470537705, 0.611533234516993, 0.1667170044869415, -0.1669329080959966, -0.23549689119742387, 1.2513412638668564, 0.6553322724200078, 0.2171135753909595, 0.09898406341847123, -0.979710138570761, -1.333036917826404, 0.03755255988192256, 0.6197517106433479, 0.923011595410601, -0.009300278132760933, 1.4332594029791803, -0.5453631049824771, 1.382857862039696, 1.9219429345949208, -0.436247679066393, -0.8083398005629527, -0.8947731295364745, -0.4856216476847417, 1.7298213424634679, -0.17946655423496888, 1.5056216727737806, 2.002849273124296, 0.8711995500748396, 0.626681330577629, 1.5403534997575812, -0.14073729852183495, -0.22267895623511597, -0.5069809876965274, 1.978531085289646, -1.4649287871044867, 0.8298006554947647, 0.56942109535731, -1.4523062524639976, -0.5542575579380606, 0.08435547173343336, -1.308971621854254, 0.8691195603073998, 0.2724056016445801, 0.1936264520608121, -1.361287805977323, 0.7369084117743792, 0.40911372288406445, 0.5885532117384756, -0.6381641206733064, -0.8547605483606814, 0.05416171503795708, 0.970418851559788, 1.71582873509031, 1.881987424509346, -0.3218196177359385, -1.0513356845480373, -0.020927458305802216, 0.11777114036254806, -0.3215908580429141, -0.2910104372121669, 0.8528708676012919, -0.27045683020222056, 1.2347122205541794, 1.1574086023087558, -0.6425492043890059, 1.3121152909783667, -0.7380078566402093, 0.8868862557471037, -0.38973722805242755, 0.43326203497727445, 0.7367441266770399, 1.280134260368342, -1.0697350133937478], \"xaxis\": \"x11\", \"yaxis\": \"y11\"}, {\"line\": {\"color\": \"rgba(128, 128, 128, 1.0)\", \"dash\": \"solid\", \"shape\": \"linear\", \"width\": 1.3}, \"marker\": {\"size\": 2, \"symbol\": \"circle\"}, \"mode\": \"markers\", \"name\": \"C\", \"text\": \"\", \"type\": \"scatter\", \"x\": [1.0150673539653818, 0.7801797455914745, -0.4803927904649368, 0.6055979848455442, 1.008786758438709, 0.023964719652546877, -0.34249088232411906, -1.5757136841787667, -1.2595228196575285, 1.5479296266426186, -1.667891888212835, -2.9304707516585533, -1.2375725780575295, -0.08016118590083993, -0.908093799587176, 1.4262107854511754, 1.1348372431282665, 1.7525559804561646, -2.2104836006372466, -0.7144493819718111, 0.345186227871036, -0.4923342757879569, -0.19566336816411614, 0.5383860212364863, -0.7262974683800657, 0.571457491646246, 0.40744053585215695, -1.4644367633999609, 0.37677590832931107, -0.7797553726140088, 1.4555215429359187, -0.634090861545719, -0.13503703689895868, 0.23922282946463885, -0.752849756995442, -1.6572083372518116, 0.2722374988280992, -0.9301269524343052, -1.3049134458185287, -1.0864556357953092, -0.5210398084393976, -1.2120174320242803, -0.49102338758956604, 1.009452815096525, 0.08791363844742746, 0.15825724922493187, 0.11577812035672147, 0.3715643270628371, 3.7543884240576624, -0.6052944478302311, -0.1057233191798161, -1.263792161830712, 0.40963011032787255, -0.31623110375908975, -0.906148230957082, -1.6795898265689735, -0.10452649558706589, 0.5546020797484007, 0.39996139495275207, 0.15442905373088403, 0.5537410323974221, 1.443482963625378, -0.9292607637673629, -0.7803850517054651, -0.516535132961495, 1.2224686540745042, -0.9943679282622373, -0.4107109809970364, 0.9893651661469751, -0.8308332484795458, 0.589243504362736, -1.8212040247636174, -0.48785692626022303, 0.6760235701657388, 0.3010632487040836, 1.2460996350652314, -0.3383975356262392, -1.03324678467663, 1.640118425811848, 1.8021100222559114, -0.35153889224171175, 1.3204298563274208, 0.34597601293931146, -1.032349830563655, -0.22306948548415415, -1.0613925110075237, -1.0934183840406753, 2.5025672360353175, 0.5642599570726079, 1.6406429875583208, -1.5621527245615558, -1.3018319428684324, 0.6720889294567994, -0.6912888885910656, 1.083359566279782, -0.33688496894435577, -0.4095731056501877, 0.014762255517497424, -1.1351676072998083, -0.41268142250245066], \"xaxis\": \"x12\", \"y\": [-1.2532978730908089, -1.08728508653962, 0.2810099897131669, 0.28572795234952775, 1.4698772047722144, -0.3963659575006133, 1.1763989990977648, -0.8163377973699925, 1.0060115012509048, -0.7138918482215386, 0.6883261109468227, -1.742345100309127, 0.3936783289548123, -0.04079852372677284, -1.295204216076111, 0.37385297373771775, 0.6157157548283694, -0.4849763251667541, -0.15343297260882294, 0.34269138397285814, 1.194295529137943, 0.5492398568004113, -0.6810296225613278, -1.6128892279741904, -0.0850969260195267, 0.7734544387194928, -0.2834480250801903, -3.4470712470537705, 0.611533234516993, 0.1667170044869415, -0.1669329080959966, -0.23549689119742387, 1.2513412638668564, 0.6553322724200078, 0.2171135753909595, 0.09898406341847123, -0.979710138570761, -1.333036917826404, 0.03755255988192256, 0.6197517106433479, 0.923011595410601, -0.009300278132760933, 1.4332594029791803, -0.5453631049824771, 1.382857862039696, 1.9219429345949208, -0.436247679066393, -0.8083398005629527, -0.8947731295364745, -0.4856216476847417, 1.7298213424634679, -0.17946655423496888, 1.5056216727737806, 2.002849273124296, 0.8711995500748396, 0.626681330577629, 1.5403534997575812, -0.14073729852183495, -0.22267895623511597, -0.5069809876965274, 1.978531085289646, -1.4649287871044867, 0.8298006554947647, 0.56942109535731, -1.4523062524639976, -0.5542575579380606, 0.08435547173343336, -1.308971621854254, 0.8691195603073998, 0.2724056016445801, 0.1936264520608121, -1.361287805977323, 0.7369084117743792, 0.40911372288406445, 0.5885532117384756, -0.6381641206733064, -0.8547605483606814, 0.05416171503795708, 0.970418851559788, 1.71582873509031, 1.881987424509346, -0.3218196177359385, -1.0513356845480373, -0.020927458305802216, 0.11777114036254806, -0.3215908580429141, -0.2910104372121669, 0.8528708676012919, -0.27045683020222056, 1.2347122205541794, 1.1574086023087558, -0.6425492043890059, 1.3121152909783667, -0.7380078566402093, 0.8868862557471037, -0.38973722805242755, 0.43326203497727445, 0.7367441266770399, 1.280134260368342, -1.0697350133937478], \"yaxis\": \"y12\"}, {\"line\": {\"color\": \"rgba(128, 128, 128, 1.0)\", \"dash\": \"solid\", \"shape\": \"linear\", \"width\": 1.3}, \"marker\": {\"size\": 2, \"symbol\": \"circle\"}, \"mode\": \"markers\", \"name\": \"D\", \"text\": \"\", \"type\": \"scatter\", \"x\": [0.0919618728699051, -0.22143263970710958, 1.6920061692431745, 0.9431067925271498, 0.3594422328619513, -0.6828184970650549, 1.3477112305154917, -0.25654138522913494, -0.5500327799891596, -1.6427355514887694, 0.8197944489201987, -0.9823742404275926, -0.7023441940871719, 0.3420492232639261, 0.3614086599960736, 0.9320266717072684, 0.24940799365624342, 0.13501132347356098, 1.7227186975205464, 1.3028028631329955, 1.4192000853142765, -1.4513472584243803, 0.6653115648991531, 0.6212126195957125, 0.5203849348742722, 1.1441801437913968, 0.26324331968163056, 0.14411448089116888, -0.24946884808245628, 1.2004322807572958, -1.33371999712701, -1.303350385254543, -1.1923060843464355, 0.218272069680675, 1.1314974608828123, -0.5806652098094076, 0.5057921370378858, 0.6890842185174422, -0.8682418939632968, -0.9738931790805747, 0.3024580947453506, 0.5930160505461489, 0.012493704873780407, 0.06709321932891561, -0.11492440065381442, 0.9745729681361173, -1.1762691951987503, 0.8146389350431569, -0.12569002261219556, 1.0119713501641898, -0.6321713722281166, 0.4574766710618231, -0.6102904166172508, 0.31641789575822027, 0.9950217584217503, 2.006296936240135, 0.08490037596601381, 0.052925187470997954, 1.6438045388296836, 0.2102712935016528, 1.4467467102795866, -0.8757944378763092, 0.15823619400094852, -1.417545673023298, -0.3400532293623823, 1.2437715025007023, -0.7731750885178242, 0.10291850051799534, -0.4336142340159738, 1.5203031258436455, -0.034733446097376816, 0.4410345083863978, 0.3890827268596237, -0.8946559623109902, -0.003957006038530615, -0.27046157935920223, -0.35782137473497466, -1.729359505511331, 1.7627956055760405, 0.6392822708605644, 0.5287036645533052, 0.7950519326971078, 1.5328580862628476, -0.5029302998523506, -0.7119366297274415, -0.7714058757418685, -0.7764735112899486, 0.15235160520180058, 0.10887281717687264, 0.7941989455346967, 0.4285636061112597, 0.6190583066282419, 0.91499081947152, -0.2932480122438687, -1.7409169425200517, 2.733416114332795, -1.1754447067447311, -1.3793296225880705, -1.079092341670199, -0.7963535324749649], \"xaxis\": \"x13\", \"y\": [1.0150673539653818, 0.7801797455914745, -0.4803927904649368, 0.6055979848455442, 1.008786758438709, 0.023964719652546877, -0.34249088232411906, -1.5757136841787667, -1.2595228196575285, 1.5479296266426186, -1.667891888212835, -2.9304707516585533, -1.2375725780575295, -0.08016118590083993, -0.908093799587176, 1.4262107854511754, 1.1348372431282665, 1.7525559804561646, -2.2104836006372466, -0.7144493819718111, 0.345186227871036, -0.4923342757879569, -0.19566336816411614, 0.5383860212364863, -0.7262974683800657, 0.571457491646246, 0.40744053585215695, -1.4644367633999609, 0.37677590832931107, -0.7797553726140088, 1.4555215429359187, -0.634090861545719, -0.13503703689895868, 0.23922282946463885, -0.752849756995442, -1.6572083372518116, 0.2722374988280992, -0.9301269524343052, -1.3049134458185287, -1.0864556357953092, -0.5210398084393976, -1.2120174320242803, -0.49102338758956604, 1.009452815096525, 0.08791363844742746, 0.15825724922493187, 0.11577812035672147, 0.3715643270628371, 3.7543884240576624, -0.6052944478302311, -0.1057233191798161, -1.263792161830712, 0.40963011032787255, -0.31623110375908975, -0.906148230957082, -1.6795898265689735, -0.10452649558706589, 0.5546020797484007, 0.39996139495275207, 0.15442905373088403, 0.5537410323974221, 1.443482963625378, -0.9292607637673629, -0.7803850517054651, -0.516535132961495, 1.2224686540745042, -0.9943679282622373, -0.4107109809970364, 0.9893651661469751, -0.8308332484795458, 0.589243504362736, -1.8212040247636174, -0.48785692626022303, 0.6760235701657388, 0.3010632487040836, 1.2460996350652314, -0.3383975356262392, -1.03324678467663, 1.640118425811848, 1.8021100222559114, -0.35153889224171175, 1.3204298563274208, 0.34597601293931146, -1.032349830563655, -0.22306948548415415, -1.0613925110075237, -1.0934183840406753, 2.5025672360353175, 0.5642599570726079, 1.6406429875583208, -1.5621527245615558, -1.3018319428684324, 0.6720889294567994, -0.6912888885910656, 1.083359566279782, -0.33688496894435577, -0.4095731056501877, 0.014762255517497424, -1.1351676072998083, -0.41268142250245066], \"yaxis\": \"y13\"}, {\"line\": {\"color\": \"rgba(128, 128, 128, 1.0)\", \"dash\": \"solid\", \"shape\": \"linear\", \"width\": 1.3}, \"marker\": {\"size\": 2, \"symbol\": \"circle\"}, \"mode\": \"markers\", \"name\": \"D\", \"text\": \"\", \"type\": \"scatter\", \"x\": [-0.3359057780033205, -0.4433704710462687, 0.3465360831123125, 0.8803170742782787, 0.288009036532479, 1.8591582085492402, -0.5036424328286201, 0.7731816011892556, -0.6592022646641865, 1.1650207389240208, 2.145286799985949, 0.38318041888760507, 0.3605136490201095, 1.2879110751310086, 0.3870941307195677, 0.5175548648554993, 0.13156406589182484, 0.43726067978794136, -0.12406077464839853, -0.1584521578624045, 1.8481676984545645, -0.6320254001344748, -0.547989679256849, -0.7345036188124198, -0.838599962443122, 0.30565502397333477, -0.39286841571607833, 0.12866234223048006, 0.6671029123469577, -1.6506221833593462, 0.4216935614574125, -1.2122340200334463, -0.11983788140959518, 1.9826944376135154, 1.3703099502731115, -1.2150177014024568, -0.9976729947573217, 1.1507693794007992, 1.3037737483808534, -0.27076012375835345, 0.3866071574516572, -0.5107511196435172, -0.9168898492795453, 1.1144615030404976, 1.1470375704065499, 0.1518813789372889, 1.198620765530093, -1.079485781920071, 0.7055827854010577, 1.1297159187985248, -0.11696308792520638, -0.6076790190270548, -0.32567795806579464, -0.6659287720474008, 1.0696737724187175, -0.161034988424284, 1.1563498686847156, 0.3866021466927583, 0.272581455665236, -0.34368289428306015, -0.18384618137722683, -0.5012580084782411, -0.6724838243629148, 0.7344331694237937, 2.318770733800961, 2.323045264573243, -0.5608271207087145, -1.184389077151462, 0.008319037423178726, -1.096836380779569, -0.2424576969197716, 0.538243146218403, -2.142972574782624, 0.8974097458335817, -0.010318194682662218, -0.6581154280755355, 1.522477800055998, -0.7579847427823956, 0.05924636221836566, 0.2190915527842804, -0.4867693553796768, 0.3388177539269479, -0.8709481281967048, 0.4532732220093141, -0.9850390012649825, 0.06967424292427568, 0.9013408725699227, -0.8889565263236228, -1.4953853400201986, 1.2332004819013818, 0.29559298373114473, 0.997658383035107, 0.18918967408095885, -0.051056244413894794, 0.28797982555864904, 0.5610032454866385, -1.7120942228348124, -1.5117097048745491, 0.832181129054585, 1.8344712732316908], \"xaxis\": \"x14\", \"y\": [1.0150673539653818, 0.7801797455914745, -0.4803927904649368, 0.6055979848455442, 1.008786758438709, 0.023964719652546877, -0.34249088232411906, -1.5757136841787667, -1.2595228196575285, 1.5479296266426186, -1.667891888212835, -2.9304707516585533, -1.2375725780575295, -0.08016118590083993, -0.908093799587176, 1.4262107854511754, 1.1348372431282665, 1.7525559804561646, -2.2104836006372466, -0.7144493819718111, 0.345186227871036, -0.4923342757879569, -0.19566336816411614, 0.5383860212364863, -0.7262974683800657, 0.571457491646246, 0.40744053585215695, -1.4644367633999609, 0.37677590832931107, -0.7797553726140088, 1.4555215429359187, -0.634090861545719, -0.13503703689895868, 0.23922282946463885, -0.752849756995442, -1.6572083372518116, 0.2722374988280992, -0.9301269524343052, -1.3049134458185287, -1.0864556357953092, -0.5210398084393976, -1.2120174320242803, -0.49102338758956604, 1.009452815096525, 0.08791363844742746, 0.15825724922493187, 0.11577812035672147, 0.3715643270628371, 3.7543884240576624, -0.6052944478302311, -0.1057233191798161, -1.263792161830712, 0.40963011032787255, -0.31623110375908975, -0.906148230957082, -1.6795898265689735, -0.10452649558706589, 0.5546020797484007, 0.39996139495275207, 0.15442905373088403, 0.5537410323974221, 1.443482963625378, -0.9292607637673629, -0.7803850517054651, -0.516535132961495, 1.2224686540745042, -0.9943679282622373, -0.4107109809970364, 0.9893651661469751, -0.8308332484795458, 0.589243504362736, -1.8212040247636174, -0.48785692626022303, 0.6760235701657388, 0.3010632487040836, 1.2460996350652314, -0.3383975356262392, -1.03324678467663, 1.640118425811848, 1.8021100222559114, -0.35153889224171175, 1.3204298563274208, 0.34597601293931146, -1.032349830563655, -0.22306948548415415, -1.0613925110075237, -1.0934183840406753, 2.5025672360353175, 0.5642599570726079, 1.6406429875583208, -1.5621527245615558, -1.3018319428684324, 0.6720889294567994, -0.6912888885910656, 1.083359566279782, -0.33688496894435577, -0.4095731056501877, 0.014762255517497424, -1.1351676072998083, -0.41268142250245066], \"yaxis\": \"y14\"}, {\"line\": {\"color\": \"rgba(128, 128, 128, 1.0)\", \"dash\": \"solid\", \"shape\": \"linear\", \"width\": 1.3}, \"marker\": {\"size\": 2, \"symbol\": \"circle\"}, \"mode\": \"markers\", \"name\": \"D\", \"text\": \"\", \"type\": \"scatter\", \"x\": [-1.2532978730908089, -1.08728508653962, 0.2810099897131669, 0.28572795234952775, 1.4698772047722144, -0.3963659575006133, 1.1763989990977648, -0.8163377973699925, 1.0060115012509048, -0.7138918482215386, 0.6883261109468227, -1.742345100309127, 0.3936783289548123, -0.04079852372677284, -1.295204216076111, 0.37385297373771775, 0.6157157548283694, -0.4849763251667541, -0.15343297260882294, 0.34269138397285814, 1.194295529137943, 0.5492398568004113, -0.6810296225613278, -1.6128892279741904, -0.0850969260195267, 0.7734544387194928, -0.2834480250801903, -3.4470712470537705, 0.611533234516993, 0.1667170044869415, -0.1669329080959966, -0.23549689119742387, 1.2513412638668564, 0.6553322724200078, 0.2171135753909595, 0.09898406341847123, -0.979710138570761, -1.333036917826404, 0.03755255988192256, 0.6197517106433479, 0.923011595410601, -0.009300278132760933, 1.4332594029791803, -0.5453631049824771, 1.382857862039696, 1.9219429345949208, -0.436247679066393, -0.8083398005629527, -0.8947731295364745, -0.4856216476847417, 1.7298213424634679, -0.17946655423496888, 1.5056216727737806, 2.002849273124296, 0.8711995500748396, 0.626681330577629, 1.5403534997575812, -0.14073729852183495, -0.22267895623511597, -0.5069809876965274, 1.978531085289646, -1.4649287871044867, 0.8298006554947647, 0.56942109535731, -1.4523062524639976, -0.5542575579380606, 0.08435547173343336, -1.308971621854254, 0.8691195603073998, 0.2724056016445801, 0.1936264520608121, -1.361287805977323, 0.7369084117743792, 0.40911372288406445, 0.5885532117384756, -0.6381641206733064, -0.8547605483606814, 0.05416171503795708, 0.970418851559788, 1.71582873509031, 1.881987424509346, -0.3218196177359385, -1.0513356845480373, -0.020927458305802216, 0.11777114036254806, -0.3215908580429141, -0.2910104372121669, 0.8528708676012919, -0.27045683020222056, 1.2347122205541794, 1.1574086023087558, -0.6425492043890059, 1.3121152909783667, -0.7380078566402093, 0.8868862557471037, -0.38973722805242755, 0.43326203497727445, 0.7367441266770399, 1.280134260368342, -1.0697350133937478], \"xaxis\": \"x15\", \"y\": [1.0150673539653818, 0.7801797455914745, -0.4803927904649368, 0.6055979848455442, 1.008786758438709, 0.023964719652546877, -0.34249088232411906, -1.5757136841787667, -1.2595228196575285, 1.5479296266426186, -1.667891888212835, -2.9304707516585533, -1.2375725780575295, -0.08016118590083993, -0.908093799587176, 1.4262107854511754, 1.1348372431282665, 1.7525559804561646, -2.2104836006372466, -0.7144493819718111, 0.345186227871036, -0.4923342757879569, -0.19566336816411614, 0.5383860212364863, -0.7262974683800657, 0.571457491646246, 0.40744053585215695, -1.4644367633999609, 0.37677590832931107, -0.7797553726140088, 1.4555215429359187, -0.634090861545719, -0.13503703689895868, 0.23922282946463885, -0.752849756995442, -1.6572083372518116, 0.2722374988280992, -0.9301269524343052, -1.3049134458185287, -1.0864556357953092, -0.5210398084393976, -1.2120174320242803, -0.49102338758956604, 1.009452815096525, 0.08791363844742746, 0.15825724922493187, 0.11577812035672147, 0.3715643270628371, 3.7543884240576624, -0.6052944478302311, -0.1057233191798161, -1.263792161830712, 0.40963011032787255, -0.31623110375908975, -0.906148230957082, -1.6795898265689735, -0.10452649558706589, 0.5546020797484007, 0.39996139495275207, 0.15442905373088403, 0.5537410323974221, 1.443482963625378, -0.9292607637673629, -0.7803850517054651, -0.516535132961495, 1.2224686540745042, -0.9943679282622373, -0.4107109809970364, 0.9893651661469751, -0.8308332484795458, 0.589243504362736, -1.8212040247636174, -0.48785692626022303, 0.6760235701657388, 0.3010632487040836, 1.2460996350652314, -0.3383975356262392, -1.03324678467663, 1.640118425811848, 1.8021100222559114, -0.35153889224171175, 1.3204298563274208, 0.34597601293931146, -1.032349830563655, -0.22306948548415415, -1.0613925110075237, -1.0934183840406753, 2.5025672360353175, 0.5642599570726079, 1.6406429875583208, -1.5621527245615558, -1.3018319428684324, 0.6720889294567994, -0.6912888885910656, 1.083359566279782, -0.33688496894435577, -0.4095731056501877, 0.014762255517497424, -1.1351676072998083, -0.41268142250245066], \"yaxis\": \"y15\"}, {\"histfunc\": \"count\", \"histnorm\": \"\", \"marker\": {\"color\": \"rgba(128, 0, 128, 1.0)\", \"line\": {\"color\": \"#4D5663\", \"width\": 1.3}}, \"name\": \"D\", \"nbinsx\": 10, \"opacity\": 0.8, \"orientation\": \"v\", \"type\": \"histogram\", \"x\": [1.0150673539653818, 0.7801797455914745, -0.4803927904649368, 0.6055979848455442, 1.008786758438709, 0.023964719652546877, -0.34249088232411906, -1.5757136841787667, -1.2595228196575285, 1.5479296266426186, -1.667891888212835, -2.9304707516585533, -1.2375725780575295, -0.08016118590083993, -0.908093799587176, 1.4262107854511754, 1.1348372431282665, 1.7525559804561646, -2.2104836006372466, -0.7144493819718111, 0.345186227871036, -0.4923342757879569, -0.19566336816411614, 0.5383860212364863, -0.7262974683800657, 0.571457491646246, 0.40744053585215695, -1.4644367633999609, 0.37677590832931107, -0.7797553726140088, 1.4555215429359187, -0.634090861545719, -0.13503703689895868, 0.23922282946463885, -0.752849756995442, -1.6572083372518116, 0.2722374988280992, -0.9301269524343052, -1.3049134458185287, -1.0864556357953092, -0.5210398084393976, -1.2120174320242803, -0.49102338758956604, 1.009452815096525, 0.08791363844742746, 0.15825724922493187, 0.11577812035672147, 0.3715643270628371, 3.7543884240576624, -0.6052944478302311, -0.1057233191798161, -1.263792161830712, 0.40963011032787255, -0.31623110375908975, -0.906148230957082, -1.6795898265689735, -0.10452649558706589, 0.5546020797484007, 0.39996139495275207, 0.15442905373088403, 0.5537410323974221, 1.443482963625378, -0.9292607637673629, -0.7803850517054651, -0.516535132961495, 1.2224686540745042, -0.9943679282622373, -0.4107109809970364, 0.9893651661469751, -0.8308332484795458, 0.589243504362736, -1.8212040247636174, -0.48785692626022303, 0.6760235701657388, 0.3010632487040836, 1.2460996350652314, -0.3383975356262392, -1.03324678467663, 1.640118425811848, 1.8021100222559114, -0.35153889224171175, 1.3204298563274208, 0.34597601293931146, -1.032349830563655, -0.22306948548415415, -1.0613925110075237, -1.0934183840406753, 2.5025672360353175, 0.5642599570726079, 1.6406429875583208, -1.5621527245615558, -1.3018319428684324, 0.6720889294567994, -0.6912888885910656, 1.083359566279782, -0.33688496894435577, -0.4095731056501877, 0.014762255517497424, -1.1351676072998083, -0.41268142250245066], \"xaxis\": \"x16\", \"yaxis\": \"y16\"}],\n",
       "                        {\"bargap\": 0.02, \"legend\": {\"bgcolor\": \"#F5F6F9\", \"font\": {\"color\": \"#4D5663\"}}, \"paper_bgcolor\": \"#F5F6F9\", \"plot_bgcolor\": \"#F5F6F9\", \"showlegend\": false, \"template\": {\"data\": {\"bar\": [{\"error_x\": {\"color\": \"#2a3f5f\"}, \"error_y\": {\"color\": \"#2a3f5f\"}, \"marker\": {\"line\": {\"color\": \"#E5ECF6\", \"width\": 0.5}}, \"type\": \"bar\"}], \"barpolar\": [{\"marker\": {\"line\": {\"color\": \"#E5ECF6\", \"width\": 0.5}}, \"type\": \"barpolar\"}], \"carpet\": [{\"aaxis\": {\"endlinecolor\": \"#2a3f5f\", \"gridcolor\": \"white\", \"linecolor\": \"white\", \"minorgridcolor\": \"white\", \"startlinecolor\": \"#2a3f5f\"}, \"baxis\": {\"endlinecolor\": \"#2a3f5f\", \"gridcolor\": \"white\", \"linecolor\": \"white\", \"minorgridcolor\": \"white\", \"startlinecolor\": \"#2a3f5f\"}, \"type\": \"carpet\"}], \"choropleth\": [{\"colorbar\": {\"outlinewidth\": 0, \"ticks\": \"\"}, \"type\": \"choropleth\"}], \"contour\": [{\"colorbar\": {\"outlinewidth\": 0, \"ticks\": \"\"}, \"colorscale\": [[0.0, \"#0d0887\"], [0.1111111111111111, \"#46039f\"], [0.2222222222222222, \"#7201a8\"], [0.3333333333333333, \"#9c179e\"], [0.4444444444444444, \"#bd3786\"], [0.5555555555555556, \"#d8576b\"], [0.6666666666666666, \"#ed7953\"], [0.7777777777777778, \"#fb9f3a\"], [0.8888888888888888, \"#fdca26\"], [1.0, \"#f0f921\"]], \"type\": \"contour\"}], \"contourcarpet\": [{\"colorbar\": {\"outlinewidth\": 0, \"ticks\": \"\"}, \"type\": \"contourcarpet\"}], \"heatmap\": [{\"colorbar\": {\"outlinewidth\": 0, \"ticks\": \"\"}, \"colorscale\": [[0.0, \"#0d0887\"], [0.1111111111111111, \"#46039f\"], [0.2222222222222222, \"#7201a8\"], [0.3333333333333333, \"#9c179e\"], [0.4444444444444444, \"#bd3786\"], [0.5555555555555556, \"#d8576b\"], [0.6666666666666666, \"#ed7953\"], [0.7777777777777778, \"#fb9f3a\"], [0.8888888888888888, \"#fdca26\"], [1.0, \"#f0f921\"]], \"type\": \"heatmap\"}], \"heatmapgl\": [{\"colorbar\": {\"outlinewidth\": 0, \"ticks\": \"\"}, \"colorscale\": [[0.0, \"#0d0887\"], [0.1111111111111111, \"#46039f\"], [0.2222222222222222, \"#7201a8\"], [0.3333333333333333, \"#9c179e\"], [0.4444444444444444, \"#bd3786\"], [0.5555555555555556, \"#d8576b\"], [0.6666666666666666, \"#ed7953\"], [0.7777777777777778, \"#fb9f3a\"], [0.8888888888888888, \"#fdca26\"], [1.0, \"#f0f921\"]], \"type\": \"heatmapgl\"}], \"histogram\": [{\"marker\": {\"colorbar\": {\"outlinewidth\": 0, \"ticks\": \"\"}}, \"type\": \"histogram\"}], \"histogram2d\": [{\"colorbar\": {\"outlinewidth\": 0, \"ticks\": \"\"}, \"colorscale\": [[0.0, \"#0d0887\"], [0.1111111111111111, \"#46039f\"], [0.2222222222222222, \"#7201a8\"], [0.3333333333333333, \"#9c179e\"], [0.4444444444444444, \"#bd3786\"], [0.5555555555555556, \"#d8576b\"], [0.6666666666666666, \"#ed7953\"], [0.7777777777777778, \"#fb9f3a\"], [0.8888888888888888, \"#fdca26\"], [1.0, \"#f0f921\"]], \"type\": \"histogram2d\"}], \"histogram2dcontour\": [{\"colorbar\": {\"outlinewidth\": 0, \"ticks\": \"\"}, \"colorscale\": [[0.0, \"#0d0887\"], [0.1111111111111111, \"#46039f\"], [0.2222222222222222, \"#7201a8\"], [0.3333333333333333, \"#9c179e\"], [0.4444444444444444, \"#bd3786\"], [0.5555555555555556, \"#d8576b\"], [0.6666666666666666, \"#ed7953\"], [0.7777777777777778, \"#fb9f3a\"], [0.8888888888888888, \"#fdca26\"], [1.0, \"#f0f921\"]], \"type\": \"histogram2dcontour\"}], \"mesh3d\": [{\"colorbar\": {\"outlinewidth\": 0, \"ticks\": \"\"}, \"type\": \"mesh3d\"}], \"parcoords\": [{\"line\": {\"colorbar\": {\"outlinewidth\": 0, \"ticks\": \"\"}}, \"type\": \"parcoords\"}], \"pie\": [{\"automargin\": true, \"type\": \"pie\"}], \"scatter\": [{\"marker\": {\"colorbar\": {\"outlinewidth\": 0, \"ticks\": \"\"}}, \"type\": \"scatter\"}], \"scatter3d\": [{\"line\": {\"colorbar\": {\"outlinewidth\": 0, \"ticks\": \"\"}}, \"marker\": {\"colorbar\": {\"outlinewidth\": 0, \"ticks\": \"\"}}, \"type\": \"scatter3d\"}], \"scattercarpet\": [{\"marker\": {\"colorbar\": {\"outlinewidth\": 0, \"ticks\": \"\"}}, \"type\": \"scattercarpet\"}], \"scattergeo\": [{\"marker\": {\"colorbar\": {\"outlinewidth\": 0, \"ticks\": \"\"}}, \"type\": \"scattergeo\"}], \"scattergl\": [{\"marker\": {\"colorbar\": {\"outlinewidth\": 0, \"ticks\": \"\"}}, \"type\": \"scattergl\"}], \"scattermapbox\": [{\"marker\": {\"colorbar\": {\"outlinewidth\": 0, \"ticks\": \"\"}}, \"type\": \"scattermapbox\"}], \"scatterpolar\": [{\"marker\": {\"colorbar\": {\"outlinewidth\": 0, \"ticks\": \"\"}}, \"type\": \"scatterpolar\"}], \"scatterpolargl\": [{\"marker\": {\"colorbar\": {\"outlinewidth\": 0, \"ticks\": \"\"}}, \"type\": \"scatterpolargl\"}], \"scatterternary\": [{\"marker\": {\"colorbar\": {\"outlinewidth\": 0, \"ticks\": \"\"}}, \"type\": \"scatterternary\"}], \"surface\": [{\"colorbar\": {\"outlinewidth\": 0, \"ticks\": \"\"}, \"colorscale\": [[0.0, \"#0d0887\"], [0.1111111111111111, \"#46039f\"], [0.2222222222222222, \"#7201a8\"], [0.3333333333333333, \"#9c179e\"], [0.4444444444444444, \"#bd3786\"], [0.5555555555555556, \"#d8576b\"], [0.6666666666666666, \"#ed7953\"], [0.7777777777777778, \"#fb9f3a\"], [0.8888888888888888, \"#fdca26\"], [1.0, \"#f0f921\"]], \"type\": \"surface\"}], \"table\": [{\"cells\": {\"fill\": {\"color\": \"#EBF0F8\"}, \"line\": {\"color\": \"white\"}}, \"header\": {\"fill\": {\"color\": \"#C8D4E3\"}, \"line\": {\"color\": \"white\"}}, \"type\": \"table\"}]}, \"layout\": {\"annotationdefaults\": {\"arrowcolor\": \"#2a3f5f\", \"arrowhead\": 0, \"arrowwidth\": 1}, \"coloraxis\": {\"colorbar\": {\"outlinewidth\": 0, \"ticks\": \"\"}}, \"colorscale\": {\"diverging\": [[0, \"#8e0152\"], [0.1, \"#c51b7d\"], [0.2, \"#de77ae\"], [0.3, \"#f1b6da\"], [0.4, \"#fde0ef\"], [0.5, \"#f7f7f7\"], [0.6, \"#e6f5d0\"], [0.7, \"#b8e186\"], [0.8, \"#7fbc41\"], [0.9, \"#4d9221\"], [1, \"#276419\"]], \"sequential\": [[0.0, \"#0d0887\"], [0.1111111111111111, \"#46039f\"], [0.2222222222222222, \"#7201a8\"], [0.3333333333333333, \"#9c179e\"], [0.4444444444444444, \"#bd3786\"], [0.5555555555555556, \"#d8576b\"], [0.6666666666666666, \"#ed7953\"], [0.7777777777777778, \"#fb9f3a\"], [0.8888888888888888, \"#fdca26\"], [1.0, \"#f0f921\"]], \"sequentialminus\": [[0.0, \"#0d0887\"], [0.1111111111111111, \"#46039f\"], [0.2222222222222222, \"#7201a8\"], [0.3333333333333333, \"#9c179e\"], [0.4444444444444444, \"#bd3786\"], [0.5555555555555556, \"#d8576b\"], [0.6666666666666666, \"#ed7953\"], [0.7777777777777778, \"#fb9f3a\"], [0.8888888888888888, \"#fdca26\"], [1.0, \"#f0f921\"]]}, \"colorway\": [\"#636efa\", \"#EF553B\", \"#00cc96\", \"#ab63fa\", \"#FFA15A\", \"#19d3f3\", \"#FF6692\", \"#B6E880\", \"#FF97FF\", \"#FECB52\"], \"font\": {\"color\": \"#2a3f5f\"}, \"geo\": {\"bgcolor\": \"white\", \"lakecolor\": \"white\", \"landcolor\": \"#E5ECF6\", \"showlakes\": true, \"showland\": true, \"subunitcolor\": \"white\"}, \"hoverlabel\": {\"align\": \"left\"}, \"hovermode\": \"closest\", \"mapbox\": {\"style\": \"light\"}, \"paper_bgcolor\": \"white\", \"plot_bgcolor\": \"#E5ECF6\", \"polar\": {\"angularaxis\": {\"gridcolor\": \"white\", \"linecolor\": \"white\", \"ticks\": \"\"}, \"bgcolor\": \"#E5ECF6\", \"radialaxis\": {\"gridcolor\": \"white\", \"linecolor\": \"white\", \"ticks\": \"\"}}, \"scene\": {\"xaxis\": {\"backgroundcolor\": \"#E5ECF6\", \"gridcolor\": \"white\", \"gridwidth\": 2, \"linecolor\": \"white\", \"showbackground\": true, \"ticks\": \"\", \"zerolinecolor\": \"white\"}, \"yaxis\": {\"backgroundcolor\": \"#E5ECF6\", \"gridcolor\": \"white\", \"gridwidth\": 2, \"linecolor\": \"white\", \"showbackground\": true, \"ticks\": \"\", \"zerolinecolor\": \"white\"}, \"zaxis\": {\"backgroundcolor\": \"#E5ECF6\", \"gridcolor\": \"white\", \"gridwidth\": 2, \"linecolor\": \"white\", \"showbackground\": true, \"ticks\": \"\", \"zerolinecolor\": \"white\"}}, \"shapedefaults\": {\"line\": {\"color\": \"#2a3f5f\"}}, \"ternary\": {\"aaxis\": {\"gridcolor\": \"white\", \"linecolor\": \"white\", \"ticks\": \"\"}, \"baxis\": {\"gridcolor\": \"white\", \"linecolor\": \"white\", \"ticks\": \"\"}, \"bgcolor\": \"#E5ECF6\", \"caxis\": {\"gridcolor\": \"white\", \"linecolor\": \"white\", \"ticks\": \"\"}}, \"title\": {\"x\": 0.05}, \"xaxis\": {\"automargin\": true, \"gridcolor\": \"white\", \"linecolor\": \"white\", \"ticks\": \"\", \"title\": {\"standoff\": 15}, \"zerolinecolor\": \"white\", \"zerolinewidth\": 2}, \"yaxis\": {\"automargin\": true, \"gridcolor\": \"white\", \"linecolor\": \"white\", \"ticks\": \"\", \"title\": {\"standoff\": 15}, \"zerolinecolor\": \"white\", \"zerolinewidth\": 2}}}, \"title\": {\"font\": {\"color\": \"#4D5663\"}}, \"xaxis\": {\"anchor\": \"y\", \"domain\": [0.0, 0.2125], \"gridcolor\": \"#E1E5ED\", \"showgrid\": false, \"tickfont\": {\"color\": \"#4D5663\"}, \"title\": {\"font\": {\"color\": \"#4D5663\"}, \"text\": \"\"}, \"zerolinecolor\": \"#E1E5ED\"}, \"xaxis10\": {\"anchor\": \"y10\", \"domain\": [0.2625, 0.475], \"gridcolor\": \"#E1E5ED\", \"showgrid\": false, \"tickfont\": {\"color\": \"#4D5663\"}, \"title\": {\"font\": {\"color\": \"#4D5663\"}, \"text\": \"\"}, \"zerolinecolor\": \"#E1E5ED\"}, \"xaxis11\": {\"anchor\": \"y11\", \"domain\": [0.525, 0.7375], \"gridcolor\": \"#E1E5ED\", \"showgrid\": false, \"tickfont\": {\"color\": \"#4D5663\"}, \"title\": {\"font\": {\"color\": \"#4D5663\"}, \"text\": \"\"}, \"zerolinecolor\": \"#E1E5ED\"}, \"xaxis12\": {\"anchor\": \"y12\", \"domain\": [0.7875, 1.0], \"gridcolor\": \"#E1E5ED\", \"showgrid\": false, \"tickfont\": {\"color\": \"#4D5663\"}, \"title\": {\"font\": {\"color\": \"#4D5663\"}, \"text\": \"\"}, \"zerolinecolor\": \"#E1E5ED\"}, \"xaxis13\": {\"anchor\": \"y13\", \"domain\": [0.0, 0.2125], \"gridcolor\": \"#E1E5ED\", \"showgrid\": false, \"tickfont\": {\"color\": \"#4D5663\"}, \"title\": {\"font\": {\"color\": \"#4D5663\"}, \"text\": \"\"}, \"zerolinecolor\": \"#E1E5ED\"}, \"xaxis14\": {\"anchor\": \"y14\", \"domain\": [0.2625, 0.475], \"gridcolor\": \"#E1E5ED\", \"showgrid\": false, \"tickfont\": {\"color\": \"#4D5663\"}, \"title\": {\"font\": {\"color\": \"#4D5663\"}, \"text\": \"\"}, \"zerolinecolor\": \"#E1E5ED\"}, \"xaxis15\": {\"anchor\": \"y15\", \"domain\": [0.525, 0.7375], \"gridcolor\": \"#E1E5ED\", \"showgrid\": false, \"tickfont\": {\"color\": \"#4D5663\"}, \"title\": {\"font\": {\"color\": \"#4D5663\"}, \"text\": \"\"}, \"zerolinecolor\": \"#E1E5ED\"}, \"xaxis16\": {\"anchor\": \"y16\", \"domain\": [0.7875, 1.0], \"gridcolor\": \"#E1E5ED\", \"showgrid\": false, \"tickfont\": {\"color\": \"#4D5663\"}, \"title\": {\"font\": {\"color\": \"#4D5663\"}, \"text\": \"\"}, \"zerolinecolor\": \"#E1E5ED\"}, \"xaxis2\": {\"anchor\": \"y2\", \"domain\": [0.2625, 0.475], \"gridcolor\": \"#E1E5ED\", \"showgrid\": false, \"tickfont\": {\"color\": \"#4D5663\"}, \"title\": {\"font\": {\"color\": \"#4D5663\"}, \"text\": \"\"}, \"zerolinecolor\": \"#E1E5ED\"}, \"xaxis3\": {\"anchor\": \"y3\", \"domain\": [0.525, 0.7375], \"gridcolor\": \"#E1E5ED\", \"showgrid\": false, \"tickfont\": {\"color\": \"#4D5663\"}, \"title\": {\"font\": {\"color\": \"#4D5663\"}, \"text\": \"\"}, \"zerolinecolor\": \"#E1E5ED\"}, \"xaxis4\": {\"anchor\": \"y4\", \"domain\": [0.7875, 1.0], \"gridcolor\": \"#E1E5ED\", \"showgrid\": false, \"tickfont\": {\"color\": \"#4D5663\"}, \"title\": {\"font\": {\"color\": \"#4D5663\"}, \"text\": \"\"}, \"zerolinecolor\": \"#E1E5ED\"}, \"xaxis5\": {\"anchor\": \"y5\", \"domain\": [0.0, 0.2125], \"gridcolor\": \"#E1E5ED\", \"showgrid\": false, \"tickfont\": {\"color\": \"#4D5663\"}, \"title\": {\"font\": {\"color\": \"#4D5663\"}, \"text\": \"\"}, \"zerolinecolor\": \"#E1E5ED\"}, \"xaxis6\": {\"anchor\": \"y6\", \"domain\": [0.2625, 0.475], \"gridcolor\": \"#E1E5ED\", \"showgrid\": false, \"tickfont\": {\"color\": \"#4D5663\"}, \"title\": {\"font\": {\"color\": \"#4D5663\"}, \"text\": \"\"}, \"zerolinecolor\": \"#E1E5ED\"}, \"xaxis7\": {\"anchor\": \"y7\", \"domain\": [0.525, 0.7375], \"gridcolor\": \"#E1E5ED\", \"showgrid\": false, \"tickfont\": {\"color\": \"#4D5663\"}, \"title\": {\"font\": {\"color\": \"#4D5663\"}, \"text\": \"\"}, \"zerolinecolor\": \"#E1E5ED\"}, \"xaxis8\": {\"anchor\": \"y8\", \"domain\": [0.7875, 1.0], \"gridcolor\": \"#E1E5ED\", \"showgrid\": false, \"tickfont\": {\"color\": \"#4D5663\"}, \"title\": {\"font\": {\"color\": \"#4D5663\"}, \"text\": \"\"}, \"zerolinecolor\": \"#E1E5ED\"}, \"xaxis9\": {\"anchor\": \"y9\", \"domain\": [0.0, 0.2125], \"gridcolor\": \"#E1E5ED\", \"showgrid\": false, \"tickfont\": {\"color\": \"#4D5663\"}, \"title\": {\"font\": {\"color\": \"#4D5663\"}, \"text\": \"\"}, \"zerolinecolor\": \"#E1E5ED\"}, \"yaxis\": {\"anchor\": \"x\", \"domain\": [0.8025, 1.0], \"gridcolor\": \"#E1E5ED\", \"showgrid\": false, \"tickfont\": {\"color\": \"#4D5663\"}, \"title\": {\"font\": {\"color\": \"#4D5663\"}, \"text\": \"\"}, \"zerolinecolor\": \"#E1E5ED\"}, \"yaxis10\": {\"anchor\": \"x10\", \"domain\": [0.2675, 0.465], \"gridcolor\": \"#E1E5ED\", \"showgrid\": false, \"tickfont\": {\"color\": \"#4D5663\"}, \"title\": {\"font\": {\"color\": \"#4D5663\"}, \"text\": \"\"}, \"zerolinecolor\": \"#E1E5ED\"}, \"yaxis11\": {\"anchor\": \"x11\", \"domain\": [0.2675, 0.465], \"gridcolor\": \"#E1E5ED\", \"showgrid\": false, \"tickfont\": {\"color\": \"#4D5663\"}, \"title\": {\"font\": {\"color\": \"#4D5663\"}, \"text\": \"\"}, \"zerolinecolor\": \"#E1E5ED\"}, \"yaxis12\": {\"anchor\": \"x12\", \"domain\": [0.2675, 0.465], \"gridcolor\": \"#E1E5ED\", \"showgrid\": false, \"tickfont\": {\"color\": \"#4D5663\"}, \"title\": {\"font\": {\"color\": \"#4D5663\"}, \"text\": \"\"}, \"zerolinecolor\": \"#E1E5ED\"}, \"yaxis13\": {\"anchor\": \"x13\", \"domain\": [0.0, 0.1975], \"gridcolor\": \"#E1E5ED\", \"showgrid\": false, \"tickfont\": {\"color\": \"#4D5663\"}, \"title\": {\"font\": {\"color\": \"#4D5663\"}, \"text\": \"\"}, \"zerolinecolor\": \"#E1E5ED\"}, \"yaxis14\": {\"anchor\": \"x14\", \"domain\": [0.0, 0.1975], \"gridcolor\": \"#E1E5ED\", \"showgrid\": false, \"tickfont\": {\"color\": \"#4D5663\"}, \"title\": {\"font\": {\"color\": \"#4D5663\"}, \"text\": \"\"}, \"zerolinecolor\": \"#E1E5ED\"}, \"yaxis15\": {\"anchor\": \"x15\", \"domain\": [0.0, 0.1975], \"gridcolor\": \"#E1E5ED\", \"showgrid\": false, \"tickfont\": {\"color\": \"#4D5663\"}, \"title\": {\"font\": {\"color\": \"#4D5663\"}, \"text\": \"\"}, \"zerolinecolor\": \"#E1E5ED\"}, \"yaxis16\": {\"anchor\": \"x16\", \"domain\": [0.0, 0.1975], \"gridcolor\": \"#E1E5ED\", \"showgrid\": false, \"tickfont\": {\"color\": \"#4D5663\"}, \"title\": {\"font\": {\"color\": \"#4D5663\"}, \"text\": \"\"}, \"zerolinecolor\": \"#E1E5ED\"}, \"yaxis2\": {\"anchor\": \"x2\", \"domain\": [0.8025, 1.0], \"gridcolor\": \"#E1E5ED\", \"showgrid\": false, \"tickfont\": {\"color\": \"#4D5663\"}, \"title\": {\"font\": {\"color\": \"#4D5663\"}, \"text\": \"\"}, \"zerolinecolor\": \"#E1E5ED\"}, \"yaxis3\": {\"anchor\": \"x3\", \"domain\": [0.8025, 1.0], \"gridcolor\": \"#E1E5ED\", \"showgrid\": false, \"tickfont\": {\"color\": \"#4D5663\"}, \"title\": {\"font\": {\"color\": \"#4D5663\"}, \"text\": \"\"}, \"zerolinecolor\": \"#E1E5ED\"}, \"yaxis4\": {\"anchor\": \"x4\", \"domain\": [0.8025, 1.0], \"gridcolor\": \"#E1E5ED\", \"showgrid\": false, \"tickfont\": {\"color\": \"#4D5663\"}, \"title\": {\"font\": {\"color\": \"#4D5663\"}, \"text\": \"\"}, \"zerolinecolor\": \"#E1E5ED\"}, \"yaxis5\": {\"anchor\": \"x5\", \"domain\": [0.535, 0.7325], \"gridcolor\": \"#E1E5ED\", \"showgrid\": false, \"tickfont\": {\"color\": \"#4D5663\"}, \"title\": {\"font\": {\"color\": \"#4D5663\"}, \"text\": \"\"}, \"zerolinecolor\": \"#E1E5ED\"}, \"yaxis6\": {\"anchor\": \"x6\", \"domain\": [0.535, 0.7325], \"gridcolor\": \"#E1E5ED\", \"showgrid\": false, \"tickfont\": {\"color\": \"#4D5663\"}, \"title\": {\"font\": {\"color\": \"#4D5663\"}, \"text\": \"\"}, \"zerolinecolor\": \"#E1E5ED\"}, \"yaxis7\": {\"anchor\": \"x7\", \"domain\": [0.535, 0.7325], \"gridcolor\": \"#E1E5ED\", \"showgrid\": false, \"tickfont\": {\"color\": \"#4D5663\"}, \"title\": {\"font\": {\"color\": \"#4D5663\"}, \"text\": \"\"}, \"zerolinecolor\": \"#E1E5ED\"}, \"yaxis8\": {\"anchor\": \"x8\", \"domain\": [0.535, 0.7325], \"gridcolor\": \"#E1E5ED\", \"showgrid\": false, \"tickfont\": {\"color\": \"#4D5663\"}, \"title\": {\"font\": {\"color\": \"#4D5663\"}, \"text\": \"\"}, \"zerolinecolor\": \"#E1E5ED\"}, \"yaxis9\": {\"anchor\": \"x9\", \"domain\": [0.2675, 0.465], \"gridcolor\": \"#E1E5ED\", \"showgrid\": false, \"tickfont\": {\"color\": \"#4D5663\"}, \"title\": {\"font\": {\"color\": \"#4D5663\"}, \"text\": \"\"}, \"zerolinecolor\": \"#E1E5ED\"}},\n",
       "                        {\"showLink\": true, \"linkText\": \"Export to plot.ly\", \"plotlyServerURL\": \"https://plot.ly\", \"responsive\": true}\n",
       "                    ).then(function(){\n",
       "                            \n",
       "var gd = document.getElementById('bc7a4c24-a8e0-434e-9d2a-21bb3cffd43f');\n",
       "var x = new MutationObserver(function (mutations, observer) {{\n",
       "        var display = window.getComputedStyle(gd).display;\n",
       "        if (!display || display === 'none') {{\n",
       "            console.log([gd, 'removed!']);\n",
       "            Plotly.purge(gd);\n",
       "            observer.disconnect();\n",
       "        }}\n",
       "}});\n",
       "\n",
       "// Listen for the removal of the full notebook cells\n",
       "var notebookContainer = gd.closest('#notebook-container');\n",
       "if (notebookContainer) {{\n",
       "    x.observe(notebookContainer, {childList: true});\n",
       "}}\n",
       "\n",
       "// Listen for the clearing of the current output cell\n",
       "var outputEl = gd.closest('.output');\n",
       "if (outputEl) {{\n",
       "    x.observe(outputEl, {childList: true});\n",
       "}}\n",
       "\n",
       "                        })\n",
       "                };\n",
       "                });\n",
       "            </script>\n",
       "        </div>"
      ]
     },
     "metadata": {},
     "output_type": "display_data"
    }
   ],
   "source": [
    "df.scatter_matrix()"
   ]
  },
  {
   "cell_type": "code",
   "execution_count": null,
   "metadata": {},
   "outputs": [],
   "source": []
  }
 ],
 "metadata": {
  "kernelspec": {
   "display_name": "Python 3",
   "language": "python",
   "name": "python3"
  },
  "language_info": {
   "codemirror_mode": {
    "name": "ipython",
    "version": 3
   },
   "file_extension": ".py",
   "mimetype": "text/x-python",
   "name": "python",
   "nbconvert_exporter": "python",
   "pygments_lexer": "ipython3",
   "version": "3.7.5"
  }
 },
 "nbformat": 4,
 "nbformat_minor": 1
}
